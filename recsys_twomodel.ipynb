{
 "cells": [
  {
   "metadata": {
    "_cell_guid": "b1076dfc-b9ad-4769-8c92-a6c4dae69d19",
    "_uuid": "8f2839f25d086af736a60e9eeb907d3b93b6e0e5",
    "execution": {
     "iopub.execute_input": "2024-09-24T04:13:37.529595Z",
     "iopub.status.busy": "2024-09-24T04:13:37.529067Z",
     "iopub.status.idle": "2024-09-24T04:14:04.871746Z",
     "shell.execute_reply": "2024-09-24T04:14:04.870440Z"
    },
    "papermill": {
     "duration": 27.361654,
     "end_time": "2024-09-24T04:14:04.874530",
     "exception": false,
     "start_time": "2024-09-24T04:13:37.512876",
     "status": "completed"
    },
    "tags": [],
    "trusted": false
   },
   "id": "517dd0cc",
   "cell_type": "code",
   "source": "!pip install implicit -qqq\n!pip install catboost -qqq",
   "execution_count": 1,
   "outputs": []
  },
  {
   "metadata": {
    "execution": {
     "iopub.execute_input": "2024-09-24T04:14:04.903518Z",
     "iopub.status.busy": "2024-09-24T04:14:04.903052Z",
     "iopub.status.idle": "2024-09-24T04:14:05.961278Z",
     "shell.execute_reply": "2024-09-24T04:14:05.959950Z"
    },
    "papermill": {
     "duration": 1.075598,
     "end_time": "2024-09-24T04:14:05.963900",
     "exception": false,
     "start_time": "2024-09-24T04:14:04.888302",
     "status": "completed"
    },
    "tags": [],
    "trusted": false
   },
   "id": "f1483ac4",
   "cell_type": "code",
   "source": "!ls /kaggle/input/kion-data/",
   "execution_count": 2,
   "outputs": [
    {
     "name": "stdout",
     "output_type": "stream",
     "text": "interactions_df.csv  items.csv\tusers.csv\r\n"
    }
   ]
  },
  {
   "metadata": {},
   "id": "7628b669",
   "cell_type": "markdown",
   "source": "# Двухэтапная модель\n\n## <div style=\"padding: 30px;color:white;margin:10;font-size:60%;text-align:left;display:fill;border-radius:10px;background-color:#FFFFFF;overflow:hidden;background-color:#232834\"><b><span style='color:#686dec'>1 |</span></b> <b>Введение</b></div>"
  },
  {
   "metadata": {
    "execution": {
     "iopub.execute_input": "2024-09-24T04:14:05.992559Z",
     "iopub.status.busy": "2024-09-24T04:14:05.992146Z",
     "iopub.status.idle": "2024-09-24T04:14:09.173015Z",
     "shell.execute_reply": "2024-09-24T04:14:09.171903Z"
    },
    "papermill": {
     "duration": 3.198405,
     "end_time": "2024-09-24T04:14:09.175752",
     "exception": false,
     "start_time": "2024-09-24T04:14:05.977347",
     "status": "completed"
    },
    "tags": [],
    "trusted": false
   },
   "id": "6ac7c203",
   "cell_type": "code",
   "source": "import datetime\nimport numpy as np\nimport pandas as pd\nfrom tqdm.auto import tqdm\nimport matplotlib.pyplot as plt\nimport seaborn as sns\nfrom sklearn.utils import shuffle\nfrom sklearn.model_selection import train_test_split\nfrom sklearn.metrics import roc_auc_score\nimport scipy.sparse as sparse\n\nfrom catboost import CatBoostClassifier\nimport implicit\n\nimport warnings\nwarnings.simplefilter('ignore')",
   "execution_count": 3,
   "outputs": []
  },
  {
   "metadata": {},
   "id": "1e6d07cd",
   "cell_type": "markdown",
   "source": "## <div style=\"padding: 30px;color:white;margin:10;font-size:60%;text-align:left;display:fill;border-radius:10px;background-color:#FFFFFF;overflow:hidden;background-color:#232834\"><b><span style='color:#686dec'>2 |</span></b> <b>Датасет КИОН</b></div>\n\n- просмотры фильмов и сериалов в приложении KION\n- данные о пользователях\n- данные об айтемах (фильмы, сериалы и т.д.)"
  },
  {
   "metadata": {
    "execution": {
     "iopub.execute_input": "2024-09-24T04:14:09.207883Z",
     "iopub.status.busy": "2024-09-24T04:14:09.206948Z",
     "iopub.status.idle": "2024-09-24T04:14:17.171487Z",
     "shell.execute_reply": "2024-09-24T04:14:17.170357Z"
    },
    "papermill": {
     "duration": 7.983309,
     "end_time": "2024-09-24T04:14:17.174092",
     "exception": false,
     "start_time": "2024-09-24T04:14:09.190783",
     "status": "completed"
    },
    "tags": [],
    "trusted": false
   },
   "id": "dd1afb36",
   "cell_type": "code",
   "source": "interactions = pd.read_csv(\"/kaggle/input/kion-data/interactions_df.csv\")\nitems = pd.read_csv(\"/kaggle/input/kion-data/items.csv\")\nusers = pd.read_csv(\"/kaggle/input/kion-data/users.csv\")",
   "execution_count": 4,
   "outputs": []
  },
  {
   "metadata": {},
   "id": "658c9e11",
   "cell_type": "markdown",
   "source": "### <b><span style='color:#686dec'>Данные о взаимодействий пользователях с фильмами </span></b>\n\nКак и ранше у нас стандартые фичи\n- `user_id` : пользователь\n- `item_id` : фильм \n\nУ нас есть фича времени последнего запуска фильма \n\n- `last_watch_dt` дата просмотра\n\nИ фичи взаимодействий:\n\n- `total_dur` длительность просмотра\n- `watched_pct` доля просмотра в %"
  },
  {
   "metadata": {
    "execution": {
     "iopub.execute_input": "2024-09-24T04:14:17.204942Z",
     "iopub.status.busy": "2024-09-24T04:14:17.204408Z",
     "iopub.status.idle": "2024-09-24T04:14:17.235224Z",
     "shell.execute_reply": "2024-09-24T04:14:17.234142Z"
    },
    "papermill": {
     "duration": 0.049221,
     "end_time": "2024-09-24T04:14:17.237818",
     "exception": false,
     "start_time": "2024-09-24T04:14:17.188597",
     "status": "completed"
    },
    "tags": [],
    "trusted": false
   },
   "id": "2bb717c5",
   "cell_type": "code",
   "source": "# деятельность пользователей \ninteractions.head()",
   "execution_count": 5,
   "outputs": [
    {
     "data": {
      "text/html": "<div>\n<style scoped>\n    .dataframe tbody tr th:only-of-type {\n        vertical-align: middle;\n    }\n\n    .dataframe tbody tr th {\n        vertical-align: top;\n    }\n\n    .dataframe thead th {\n        text-align: right;\n    }\n</style>\n<table border=\"1\" class=\"dataframe\">\n  <thead>\n    <tr style=\"text-align: right;\">\n      <th></th>\n      <th>user_id</th>\n      <th>item_id</th>\n      <th>last_watch_dt</th>\n      <th>total_dur</th>\n      <th>watched_pct</th>\n    </tr>\n  </thead>\n  <tbody>\n    <tr>\n      <th>0</th>\n      <td>176549</td>\n      <td>9506</td>\n      <td>2021-05-11</td>\n      <td>4250</td>\n      <td>72.0</td>\n    </tr>\n    <tr>\n      <th>1</th>\n      <td>699317</td>\n      <td>1659</td>\n      <td>2021-05-29</td>\n      <td>8317</td>\n      <td>100.0</td>\n    </tr>\n    <tr>\n      <th>2</th>\n      <td>656683</td>\n      <td>7107</td>\n      <td>2021-05-09</td>\n      <td>10</td>\n      <td>0.0</td>\n    </tr>\n    <tr>\n      <th>3</th>\n      <td>864613</td>\n      <td>7638</td>\n      <td>2021-07-05</td>\n      <td>14483</td>\n      <td>100.0</td>\n    </tr>\n    <tr>\n      <th>4</th>\n      <td>964868</td>\n      <td>9506</td>\n      <td>2021-04-30</td>\n      <td>6725</td>\n      <td>100.0</td>\n    </tr>\n  </tbody>\n</table>\n</div>",
      "text/plain": "   user_id  item_id last_watch_dt  total_dur  watched_pct\n0   176549     9506    2021-05-11       4250         72.0\n1   699317     1659    2021-05-29       8317        100.0\n2   656683     7107    2021-05-09         10          0.0\n3   864613     7638    2021-07-05      14483        100.0\n4   964868     9506    2021-04-30       6725        100.0"
     },
     "execution_count": 5,
     "metadata": {},
     "output_type": "execute_result"
    }
   ]
  },
  {
   "metadata": {
    "execution": {
     "iopub.execute_input": "2024-09-24T04:14:17.267531Z",
     "iopub.status.busy": "2024-09-24T04:14:17.267098Z",
     "iopub.status.idle": "2024-09-24T04:14:21.079867Z",
     "shell.execute_reply": "2024-09-24T04:14:21.078630Z"
    },
    "papermill": {
     "duration": 3.831078,
     "end_time": "2024-09-24T04:14:21.082491",
     "exception": false,
     "start_time": "2024-09-24T04:14:17.251413",
     "status": "completed"
    },
    "tags": [],
    "trusted": false
   },
   "id": "5ee90d71",
   "cell_type": "code",
   "source": "# change the string to date\ninteractions['last_watch_dt'] = interactions['last_watch_dt'].astype('datetime64[ns]').dt.date ",
   "execution_count": 6,
   "outputs": []
  },
  {
   "metadata": {
    "execution": {
     "iopub.execute_input": "2024-09-24T04:14:21.111822Z",
     "iopub.status.busy": "2024-09-24T04:14:21.111415Z",
     "iopub.status.idle": "2024-09-24T04:14:21.343945Z",
     "shell.execute_reply": "2024-09-24T04:14:21.342730Z"
    },
    "papermill": {
     "duration": 0.250324,
     "end_time": "2024-09-24T04:14:21.346398",
     "exception": false,
     "start_time": "2024-09-24T04:14:21.096074",
     "status": "completed"
    },
    "tags": [],
    "trusted": false
   },
   "id": "1e941b04",
   "cell_type": "code",
   "source": "# check the unique number of films and users\nprint(f\"Уникальных юзеров в interactions: {interactions['user_id'].nunique()}\")\nprint(f\"Уникальных айтемов в interactions: {interactions['item_id'].nunique()}\")",
   "execution_count": 7,
   "outputs": [
    {
     "name": "stdout",
     "output_type": "stream",
     "text": "Уникальных юзеров в interactions: 962179\nУникальных айтемов в interactions: 15706\n"
    }
   ]
  },
  {
   "metadata": {
    "execution": {
     "iopub.execute_input": "2024-09-24T04:14:21.376224Z",
     "iopub.status.busy": "2024-09-24T04:14:21.375780Z",
     "iopub.status.idle": "2024-09-24T04:14:22.077856Z",
     "shell.execute_reply": "2024-09-24T04:14:22.076492Z"
    },
    "papermill": {
     "duration": 0.71947,
     "end_time": "2024-09-24T04:14:22.080049",
     "exception": false,
     "start_time": "2024-09-24T04:14:21.360579",
     "status": "completed"
    },
    "tags": [],
    "trusted": false
   },
   "id": "280009d3",
   "cell_type": "code",
   "source": "# check the all user activity limits\nmax_date = interactions['last_watch_dt'].max()\nmin_date = interactions['last_watch_dt'].min()\n\nprint(f\"min дата в interactions: {min_date}\")\nprint(f\"max дата в interactions: {max_date}\")",
   "execution_count": 8,
   "outputs": [
    {
     "name": "stdout",
     "output_type": "stream",
     "text": "min дата в interactions: 2021-03-13\nmax дата в interactions: 2021-08-22\n"
    }
   ]
  },
  {
   "metadata": {},
   "id": "4c450f81",
   "cell_type": "markdown",
   "source": "\n### <b><span style='color:#686dec'>Данные о пользователях</span></b>\n\nВсе признаки - результат предсказания соцдем моделей\n\n- `age` : Возростная группа \n- `income` : Группа дохода пользователя \n- `sex` : Пол пользователя\n- `kids_flg` : флаг наличия детей\n"
  },
  {
   "metadata": {
    "execution": {
     "iopub.execute_input": "2024-09-24T04:14:22.110095Z",
     "iopub.status.busy": "2024-09-24T04:14:22.108935Z",
     "iopub.status.idle": "2024-09-24T04:14:22.121134Z",
     "shell.execute_reply": "2024-09-24T04:14:22.120032Z"
    },
    "papermill": {
     "duration": 0.029688,
     "end_time": "2024-09-24T04:14:22.123558",
     "exception": false,
     "start_time": "2024-09-24T04:14:22.093870",
     "status": "completed"
    },
    "tags": [],
    "trusted": false
   },
   "id": "6912849c",
   "cell_type": "code",
   "source": "users.head()",
   "execution_count": 9,
   "outputs": [
    {
     "data": {
      "text/html": "<div>\n<style scoped>\n    .dataframe tbody tr th:only-of-type {\n        vertical-align: middle;\n    }\n\n    .dataframe tbody tr th {\n        vertical-align: top;\n    }\n\n    .dataframe thead th {\n        text-align: right;\n    }\n</style>\n<table border=\"1\" class=\"dataframe\">\n  <thead>\n    <tr style=\"text-align: right;\">\n      <th></th>\n      <th>user_id</th>\n      <th>age</th>\n      <th>income</th>\n      <th>sex</th>\n      <th>kids_flg</th>\n    </tr>\n  </thead>\n  <tbody>\n    <tr>\n      <th>0</th>\n      <td>973171</td>\n      <td>age_25_34</td>\n      <td>income_60_90</td>\n      <td>М</td>\n      <td>1</td>\n    </tr>\n    <tr>\n      <th>1</th>\n      <td>962099</td>\n      <td>age_18_24</td>\n      <td>income_20_40</td>\n      <td>М</td>\n      <td>0</td>\n    </tr>\n    <tr>\n      <th>2</th>\n      <td>1047345</td>\n      <td>age_45_54</td>\n      <td>income_40_60</td>\n      <td>Ж</td>\n      <td>0</td>\n    </tr>\n    <tr>\n      <th>3</th>\n      <td>721985</td>\n      <td>age_45_54</td>\n      <td>income_20_40</td>\n      <td>Ж</td>\n      <td>0</td>\n    </tr>\n    <tr>\n      <th>4</th>\n      <td>704055</td>\n      <td>age_35_44</td>\n      <td>income_60_90</td>\n      <td>Ж</td>\n      <td>0</td>\n    </tr>\n  </tbody>\n</table>\n</div>",
      "text/plain": "   user_id        age        income sex  kids_flg\n0   973171  age_25_34  income_60_90   М         1\n1   962099  age_18_24  income_20_40   М         0\n2  1047345  age_45_54  income_40_60   Ж         0\n3   721985  age_45_54  income_20_40   Ж         0\n4   704055  age_35_44  income_60_90   Ж         0"
     },
     "execution_count": 9,
     "metadata": {},
     "output_type": "execute_result"
    }
   ]
  },
  {
   "metadata": {
    "execution": {
     "iopub.execute_input": "2024-09-24T04:14:22.153891Z",
     "iopub.status.busy": "2024-09-24T04:14:22.153002Z",
     "iopub.status.idle": "2024-09-24T04:14:22.160158Z",
     "shell.execute_reply": "2024-09-24T04:14:22.159094Z"
    },
    "papermill": {
     "duration": 0.025213,
     "end_time": "2024-09-24T04:14:22.162874",
     "exception": false,
     "start_time": "2024-09-24T04:14:22.137661",
     "status": "completed"
    },
    "tags": [],
    "trusted": false
   },
   "id": "dd1ce720",
   "cell_type": "code",
   "source": "# number of unique users in database\nf\"Уникальных юзеров в users: {users.shape[0]}\"",
   "execution_count": 10,
   "outputs": [
    {
     "data": {
      "text/plain": "'Уникальных юзеров в users: 840197'"
     },
     "execution_count": 10,
     "metadata": {},
     "output_type": "execute_result"
    }
   ]
  },
  {
   "metadata": {},
   "id": "c5f94752",
   "cell_type": "markdown",
   "source": "### <b><span style='color:#686dec'>Данные о товарах\n</span></b>\n\n- `content_type` - тип контента\n- `title` - название на русском\n- `title_orig` - название оригинальное\n- `release_year` - год выпуска\n- `countries` - страны\n- `for_kids` - флаг контент для детей\n- `age_rating`- Возрастной рейтинг\n- `studios` - студии\n- `directors` - режиссеры\n- `actors`- актеры\n- `keywords` - ключевые слова\n- `description` - описание"
  },
  {
   "metadata": {
    "execution": {
     "iopub.execute_input": "2024-09-24T04:14:22.194340Z",
     "iopub.status.busy": "2024-09-24T04:14:22.193552Z",
     "iopub.status.idle": "2024-09-24T04:14:22.211552Z",
     "shell.execute_reply": "2024-09-24T04:14:22.210479Z"
    },
    "papermill": {
     "duration": 0.036634,
     "end_time": "2024-09-24T04:14:22.213950",
     "exception": false,
     "start_time": "2024-09-24T04:14:22.177316",
     "status": "completed"
    },
    "tags": [],
    "trusted": false
   },
   "id": "a732897a",
   "cell_type": "code",
   "source": "items.head(3)",
   "execution_count": 11,
   "outputs": [
    {
     "data": {
      "text/html": "<div>\n<style scoped>\n    .dataframe tbody tr th:only-of-type {\n        vertical-align: middle;\n    }\n\n    .dataframe tbody tr th {\n        vertical-align: top;\n    }\n\n    .dataframe thead th {\n        text-align: right;\n    }\n</style>\n<table border=\"1\" class=\"dataframe\">\n  <thead>\n    <tr style=\"text-align: right;\">\n      <th></th>\n      <th>item_id</th>\n      <th>content_type</th>\n      <th>title</th>\n      <th>title_orig</th>\n      <th>release_year</th>\n      <th>genres</th>\n      <th>countries</th>\n      <th>for_kids</th>\n      <th>age_rating</th>\n      <th>studios</th>\n      <th>directors</th>\n      <th>actors</th>\n      <th>description</th>\n      <th>keywords</th>\n    </tr>\n  </thead>\n  <tbody>\n    <tr>\n      <th>0</th>\n      <td>10711</td>\n      <td>film</td>\n      <td>Поговори с ней</td>\n      <td>Hable con ella</td>\n      <td>2002.0</td>\n      <td>драмы, зарубежные, детективы, мелодрамы</td>\n      <td>Испания</td>\n      <td>NaN</td>\n      <td>16.0</td>\n      <td>NaN</td>\n      <td>Педро Альмодовар</td>\n      <td>Адольфо Фернандес, Ана Фернандес, Дарио Гранди...</td>\n      <td>Мелодрама легендарного Педро Альмодовара «Пого...</td>\n      <td>Поговори, ней, 2002, Испания, друзья, любовь, ...</td>\n    </tr>\n    <tr>\n      <th>1</th>\n      <td>2508</td>\n      <td>film</td>\n      <td>Голые перцы</td>\n      <td>Search Party</td>\n      <td>2014.0</td>\n      <td>зарубежные, приключения, комедии</td>\n      <td>США</td>\n      <td>NaN</td>\n      <td>16.0</td>\n      <td>NaN</td>\n      <td>Скот Армстронг</td>\n      <td>Адам Палли, Брайан Хаски, Дж.Б. Смув, Джейсон ...</td>\n      <td>Уморительная современная комедия на популярную...</td>\n      <td>Голые, перцы, 2014, США, друзья, свадьбы, прео...</td>\n    </tr>\n    <tr>\n      <th>2</th>\n      <td>10716</td>\n      <td>film</td>\n      <td>Тактическая сила</td>\n      <td>Tactical Force</td>\n      <td>2011.0</td>\n      <td>криминал, зарубежные, триллеры, боевики, комедии</td>\n      <td>Канада</td>\n      <td>NaN</td>\n      <td>16.0</td>\n      <td>NaN</td>\n      <td>Адам П. Калтраро</td>\n      <td>Адриан Холмс, Даррен Шалави, Джерри Вассерман,...</td>\n      <td>Профессиональный рестлер Стив Остин («Все или ...</td>\n      <td>Тактическая, сила, 2011, Канада, бандиты, ганг...</td>\n    </tr>\n  </tbody>\n</table>\n</div>",
      "text/plain": "   item_id content_type             title      title_orig  release_year  \\\n0    10711         film    Поговори с ней  Hable con ella        2002.0   \n1     2508         film       Голые перцы    Search Party        2014.0   \n2    10716         film  Тактическая сила  Tactical Force        2011.0   \n\n                                             genres countries  for_kids  \\\n0           драмы, зарубежные, детективы, мелодрамы   Испания       NaN   \n1                  зарубежные, приключения, комедии       США       NaN   \n2  криминал, зарубежные, триллеры, боевики, комедии    Канада       NaN   \n\n   age_rating studios         directors  \\\n0        16.0     NaN  Педро Альмодовар   \n1        16.0     NaN    Скот Армстронг   \n2        16.0     NaN  Адам П. Калтраро   \n\n                                              actors  \\\n0  Адольфо Фернандес, Ана Фернандес, Дарио Гранди...   \n1  Адам Палли, Брайан Хаски, Дж.Б. Смув, Джейсон ...   \n2  Адриан Холмс, Даррен Шалави, Джерри Вассерман,...   \n\n                                         description  \\\n0  Мелодрама легендарного Педро Альмодовара «Пого...   \n1  Уморительная современная комедия на популярную...   \n2  Профессиональный рестлер Стив Остин («Все или ...   \n\n                                            keywords  \n0  Поговори, ней, 2002, Испания, друзья, любовь, ...  \n1  Голые, перцы, 2014, США, друзья, свадьбы, прео...  \n2  Тактическая, сила, 2011, Канада, бандиты, ганг...  "
     },
     "execution_count": 11,
     "metadata": {},
     "output_type": "execute_result"
    }
   ]
  },
  {
   "metadata": {
    "execution": {
     "iopub.execute_input": "2024-09-24T04:14:22.246772Z",
     "iopub.status.busy": "2024-09-24T04:14:22.246371Z",
     "iopub.status.idle": "2024-09-24T04:14:22.253332Z",
     "shell.execute_reply": "2024-09-24T04:14:22.252262Z"
    },
    "papermill": {
     "duration": 0.026967,
     "end_time": "2024-09-24T04:14:22.255566",
     "exception": false,
     "start_time": "2024-09-24T04:14:22.228599",
     "status": "completed"
    },
    "tags": [],
    "trusted": false
   },
   "id": "db6bcd13",
   "cell_type": "code",
   "source": "f\"Уникальных айтемов в items {items.shape[0]}\"",
   "execution_count": 12,
   "outputs": [
    {
     "data": {
      "text/plain": "'Уникальных айтемов в items 15963'"
     },
     "execution_count": 12,
     "metadata": {},
     "output_type": "execute_result"
    }
   ]
  },
  {
   "metadata": {},
   "id": "7f6be6e6",
   "cell_type": "markdown",
   "source": "## <div style=\"padding: 30px;color:white;margin:10;font-size:60%;text-align:left;display:fill;border-radius:10px;background-color:#FFFFFF;overflow:hidden;background-color:#232834\"><b><span style='color:#686dec'>3 |</span></b> <b>Разбиение на Подвыборки</b></div>\n\n### <b><span style='color:#686dec'>Обучающая выборка</span></b>\n\nДля двухуровних моделях есть нюанс при разбиение на подвыборки \n- Модель первого уровня нужна для предварительного отбора кандидатов \n\n### <b><span style='color:#686dec'>Тестовая выборка</span></b>\n\nНа `test` будем проверять результат обоих моделей:\n-  отдельно модели первого уровня\n- отдельно двухуровненой модели\n\nНа test оставим 7 дней\n"
  },
  {
   "metadata": {
    "execution": {
     "iopub.execute_input": "2024-09-24T04:14:22.287507Z",
     "iopub.status.busy": "2024-09-24T04:14:22.287079Z",
     "iopub.status.idle": "2024-09-24T04:14:22.573758Z",
     "shell.execute_reply": "2024-09-24T04:14:22.572751Z"
    },
    "papermill": {
     "duration": 0.305785,
     "end_time": "2024-09-24T04:14:22.576342",
     "exception": false,
     "start_time": "2024-09-24T04:14:22.270557",
     "status": "completed"
    },
    "tags": [],
    "trusted": false
   },
   "id": "70643be4",
   "cell_type": "code",
   "source": "# фильтрация для исключения случайных просмотров\ninteractions = interactions[interactions['total_dur'] >= 300]",
   "execution_count": 13,
   "outputs": []
  },
  {
   "metadata": {
    "execution": {
     "iopub.execute_input": "2024-09-24T04:14:22.607974Z",
     "iopub.status.busy": "2024-09-24T04:14:22.607529Z",
     "iopub.status.idle": "2024-09-24T04:14:23.099719Z",
     "shell.execute_reply": "2024-09-24T04:14:23.098467Z"
    },
    "papermill": {
     "duration": 0.511379,
     "end_time": "2024-09-24T04:14:23.102421",
     "exception": false,
     "start_time": "2024-09-24T04:14:22.591042",
     "status": "completed"
    },
    "tags": [],
    "trusted": false
   },
   "id": "3cb7b137",
   "cell_type": "code",
   "source": "user_interactions_count = interactions.groupby('user_id')[['item_id']].count().reset_index()",
   "execution_count": 14,
   "outputs": []
  },
  {
   "metadata": {
    "execution": {
     "iopub.execute_input": "2024-09-24T04:14:23.133832Z",
     "iopub.status.busy": "2024-09-24T04:14:23.133400Z",
     "iopub.status.idle": "2024-09-24T04:14:23.494295Z",
     "shell.execute_reply": "2024-09-24T04:14:23.493002Z"
    },
    "papermill": {
     "duration": 0.379594,
     "end_time": "2024-09-24T04:14:23.496915",
     "exception": false,
     "start_time": "2024-09-24T04:14:23.117321",
     "status": "completed"
    },
    "tags": [],
    "trusted": false
   },
   "id": "b6b33c84",
   "cell_type": "code",
   "source": "user_interactions_count[user_interactions_count['item_id'] < 50]['item_id'].hist(bins=30)\nplt.show()",
   "execution_count": 15,
   "outputs": [
    {
     "data": {
      "image/png": "[encoded data removed]",
      "text/plain": "<Figure size 640x480 with 1 Axes>"
     },
     "metadata": {},
     "output_type": "display_data"
    }
   ]
  },
  {
   "metadata": {
    "execution": {
     "iopub.execute_input": "2024-09-24T04:14:23.530258Z",
     "iopub.status.busy": "2024-09-24T04:14:23.529829Z",
     "iopub.status.idle": "2024-09-24T04:14:23.611945Z",
     "shell.execute_reply": "2024-09-24T04:14:23.610444Z"
    },
    "papermill": {
     "duration": 0.101855,
     "end_time": "2024-09-24T04:14:23.614671",
     "exception": false,
     "start_time": "2024-09-24T04:14:23.512816",
     "status": "completed"
    },
    "tags": [],
    "trusted": false
   },
   "id": "c5ce0d80",
   "cell_type": "code",
   "source": "sum(user_interactions_count['item_id'] < 10) / user_interactions_count.shape[0]",
   "execution_count": 16,
   "outputs": [
    {
     "data": {
      "text/plain": "0.8652543241717588"
     },
     "execution_count": 16,
     "metadata": {},
     "output_type": "execute_result"
    }
   ]
  },
  {
   "metadata": {
    "execution": {
     "iopub.execute_input": "2024-09-24T04:14:23.649311Z",
     "iopub.status.busy": "2024-09-24T04:14:23.648322Z",
     "iopub.status.idle": "2024-09-24T04:14:25.081243Z",
     "shell.execute_reply": "2024-09-24T04:14:25.080003Z"
    },
    "papermill": {
     "duration": 1.453719,
     "end_time": "2024-09-24T04:14:25.083767",
     "exception": false,
     "start_time": "2024-09-24T04:14:23.630048",
     "status": "completed"
    },
    "tags": [],
    "trusted": false
   },
   "id": "5fc756d6",
   "cell_type": "code",
   "source": "filtered_users = user_interactions_count[user_interactions_count['item_id'] >= 10][['user_id']]\ninteractions = filtered_users.merge(interactions, how='left')",
   "execution_count": 17,
   "outputs": []
  },
  {
   "metadata": {
    "execution": {
     "iopub.execute_input": "2024-09-24T04:14:25.116066Z",
     "iopub.status.busy": "2024-09-24T04:14:25.115642Z",
     "iopub.status.idle": "2024-09-24T04:14:25.167519Z",
     "shell.execute_reply": "2024-09-24T04:14:25.166366Z"
    },
    "papermill": {
     "duration": 0.07104,
     "end_time": "2024-09-24T04:14:25.170093",
     "exception": false,
     "start_time": "2024-09-24T04:14:25.099053",
     "status": "completed"
    },
    "tags": [],
    "trusted": false
   },
   "id": "fc1115a5",
   "cell_type": "code",
   "source": "# Просмотров для каждого фильа\nitem_interactions_count = interactions.groupby('item_id')[['user_id']].count().reset_index()",
   "execution_count": 18,
   "outputs": []
  },
  {
   "metadata": {
    "execution": {
     "iopub.execute_input": "2024-09-24T04:14:25.202985Z",
     "iopub.status.busy": "2024-09-24T04:14:25.202590Z",
     "iopub.status.idle": "2024-09-24T04:14:25.449640Z",
     "shell.execute_reply": "2024-09-24T04:14:25.448407Z"
    },
    "papermill": {
     "duration": 0.266757,
     "end_time": "2024-09-24T04:14:25.452186",
     "exception": false,
     "start_time": "2024-09-24T04:14:25.185429",
     "status": "completed"
    },
    "tags": [],
    "trusted": false
   },
   "id": "de2dd44c",
   "cell_type": "code",
   "source": "item_interactions_count[item_interactions_count['user_id'] < 100]['user_id'].hist(bins=30)\nplt.show()",
   "execution_count": 19,
   "outputs": [
    {
     "data": {
      "image/png": "[encoded data removed]",
      "text/plain": "<Figure size 640x480 with 1 Axes>"
     },
     "metadata": {},
     "output_type": "display_data"
    }
   ]
  },
  {
   "metadata": {
    "execution": {
     "iopub.execute_input": "2024-09-24T04:14:25.485918Z",
     "iopub.status.busy": "2024-09-24T04:14:25.485526Z",
     "iopub.status.idle": "2024-09-24T04:14:25.494514Z",
     "shell.execute_reply": "2024-09-24T04:14:25.493390Z"
    },
    "papermill": {
     "duration": 0.028502,
     "end_time": "2024-09-24T04:14:25.496871",
     "exception": false,
     "start_time": "2024-09-24T04:14:25.468369",
     "status": "completed"
    },
    "tags": [],
    "trusted": false
   },
   "id": "f5abca4b",
   "cell_type": "code",
   "source": "# Пропорция фильмой у которых меньше 10 просмотров\nsum(item_interactions_count['user_id'] < 10) / item_interactions_count.shape[0]",
   "execution_count": 20,
   "outputs": [
    {
     "data": {
      "text/plain": "0.5165371809100999"
     },
     "execution_count": 20,
     "metadata": {},
     "output_type": "execute_result"
    }
   ]
  },
  {
   "metadata": {
    "execution": {
     "iopub.execute_input": "2024-09-24T04:14:25.529924Z",
     "iopub.status.busy": "2024-09-24T04:14:25.529516Z",
     "iopub.status.idle": "2024-09-24T04:14:26.536250Z",
     "shell.execute_reply": "2024-09-24T04:14:26.535148Z"
    },
    "papermill": {
     "duration": 1.026227,
     "end_time": "2024-09-24T04:14:26.538741",
     "exception": false,
     "start_time": "2024-09-24T04:14:25.512514",
     "status": "completed"
    },
    "tags": [],
    "trusted": false
   },
   "id": "575112a5",
   "cell_type": "code",
   "source": "# Фильтруем пользователей у которых \nfiltered_items = item_interactions_count[item_interactions_count['user_id'] >= 10][['item_id']]\ninteractions = filtered_items.merge(interactions, how='left')",
   "execution_count": 21,
   "outputs": []
  },
  {
   "metadata": {
    "execution": {
     "iopub.execute_input": "2024-09-24T04:14:26.572250Z",
     "iopub.status.busy": "2024-09-24T04:14:26.571819Z",
     "iopub.status.idle": "2024-09-24T04:14:26.578480Z",
     "shell.execute_reply": "2024-09-24T04:14:26.577414Z"
    },
    "papermill": {
     "duration": 0.026126,
     "end_time": "2024-09-24T04:14:26.580743",
     "exception": false,
     "start_time": "2024-09-24T04:14:26.554617",
     "status": "completed"
    },
    "tags": [],
    "trusted": false
   },
   "id": "65a1f898",
   "cell_type": "code",
   "source": "interactions.shape",
   "execution_count": 22,
   "outputs": [
    {
     "data": {
      "text/plain": "(2300516, 5)"
     },
     "execution_count": 22,
     "metadata": {},
     "output_type": "execute_result"
    }
   ]
  },
  {
   "metadata": {
    "execution": {
     "iopub.execute_input": "2024-09-24T04:14:26.614883Z",
     "iopub.status.busy": "2024-09-24T04:14:26.614177Z",
     "iopub.status.idle": "2024-09-24T04:14:28.475367Z",
     "shell.execute_reply": "2024-09-24T04:14:28.474089Z"
    },
    "papermill": {
     "duration": 1.880825,
     "end_time": "2024-09-24T04:14:28.477646",
     "exception": false,
     "start_time": "2024-09-24T04:14:26.596821",
     "status": "completed"
    },
    "tags": [],
    "trusted": false
   },
   "id": "3622875e",
   "cell_type": "code",
   "source": "test_threshold = max_date - pd.Timedelta(days=7)\nval_threshold = test_threshold - pd.Timedelta(days=60) \n\n# два месяца для обучения модели второго уровня\ntest = interactions[(interactions['last_watch_dt'] >= test_threshold)]\ntrain_val = interactions[(interactions['last_watch_dt'] < test_threshold)]\n\nval = train_val[(train_val['last_watch_dt'] >= val_threshold)]\ntrain = train_val[(train_val['last_watch_dt'] < val_threshold)]\n\nprint(f\"train: {train.shape}\")\nprint(f\"val: {val.shape}\")\nprint(f\"test: {test.shape}\")",
   "execution_count": 23,
   "outputs": [
    {
     "name": "stdout",
     "output_type": "stream",
     "text": "train: (881660, 5)\nval: (1246263, 5)\ntest: (172593, 5)\n"
    }
   ]
  },
  {
   "metadata": {},
   "id": "3e9f0fd2",
   "cell_type": "markdown",
   "source": "## <div style=\"padding: 30px;color:white;margin:10;font-size:60%;text-align:left;display:fill;border-radius:10px;background-color:#FFFFFF;overflow:hidden;background-color:#232834\"><b><span style='color:#686dec'>5 |</span></b> <b>1 ЭТАП: Модель Первого Уровня</b></div>\n\n- Обучаем `bpr` модель из библиотеки `implicit` на `train`\n- Делаем предикт c кандидатами на `val` (валидационная выборка)\n- Будем предсказывать кандидатов только на теплых пользователях - у которых есть просмотры в обучающей выборке"
  },
  {
   "metadata": {
    "execution": {
     "iopub.execute_input": "2024-09-24T04:14:28.511620Z",
     "iopub.status.busy": "2024-09-24T04:14:28.511205Z",
     "iopub.status.idle": "2024-09-24T04:14:28.649986Z",
     "shell.execute_reply": "2024-09-24T04:14:28.648940Z"
    },
    "papermill": {
     "duration": 0.158897,
     "end_time": "2024-09-24T04:14:28.652626",
     "exception": false,
     "start_time": "2024-09-24T04:14:28.493729",
     "status": "completed"
    },
    "tags": [],
    "trusted": false
   },
   "id": "7a265017",
   "cell_type": "code",
   "source": "val = val[val['user_id'].isin(train['user_id'].unique())]",
   "execution_count": 24,
   "outputs": []
  },
  {
   "metadata": {
    "execution": {
     "iopub.execute_input": "2024-09-24T04:14:28.686918Z",
     "iopub.status.busy": "2024-09-24T04:14:28.686505Z",
     "iopub.status.idle": "2024-09-24T04:14:28.698949Z",
     "shell.execute_reply": "2024-09-24T04:14:28.697912Z"
    },
    "papermill": {
     "duration": 0.032474,
     "end_time": "2024-09-24T04:14:28.701307",
     "exception": false,
     "start_time": "2024-09-24T04:14:28.668833",
     "status": "completed"
    },
    "tags": [],
    "trusted": false
   },
   "id": "f26eea78",
   "cell_type": "code",
   "source": "val.head()",
   "execution_count": 25,
   "outputs": [
    {
     "data": {
      "text/html": "<div>\n<style scoped>\n    .dataframe tbody tr th:only-of-type {\n        vertical-align: middle;\n    }\n\n    .dataframe tbody tr th {\n        vertical-align: top;\n    }\n\n    .dataframe thead th {\n        text-align: right;\n    }\n</style>\n<table border=\"1\" class=\"dataframe\">\n  <thead>\n    <tr style=\"text-align: right;\">\n      <th></th>\n      <th>item_id</th>\n      <th>user_id</th>\n      <th>last_watch_dt</th>\n      <th>total_dur</th>\n      <th>watched_pct</th>\n    </tr>\n  </thead>\n  <tbody>\n    <tr>\n      <th>1</th>\n      <td>0</td>\n      <td>184560</td>\n      <td>2021-07-18</td>\n      <td>13278</td>\n      <td>50.0</td>\n    </tr>\n    <tr>\n      <th>3</th>\n      <td>0</td>\n      <td>379871</td>\n      <td>2021-07-04</td>\n      <td>4279</td>\n      <td>3.0</td>\n    </tr>\n    <tr>\n      <th>5</th>\n      <td>0</td>\n      <td>427911</td>\n      <td>2021-08-11</td>\n      <td>5363</td>\n      <td>38.0</td>\n    </tr>\n    <tr>\n      <th>7</th>\n      <td>0</td>\n      <td>573405</td>\n      <td>2021-08-01</td>\n      <td>10164</td>\n      <td>9.0</td>\n    </tr>\n    <tr>\n      <th>15</th>\n      <td>0</td>\n      <td>968581</td>\n      <td>2021-08-04</td>\n      <td>7310</td>\n      <td>6.0</td>\n    </tr>\n  </tbody>\n</table>\n</div>",
      "text/plain": "    item_id  user_id last_watch_dt  total_dur  watched_pct\n1         0   184560    2021-07-18      13278         50.0\n3         0   379871    2021-07-04       4279          3.0\n5         0   427911    2021-08-11       5363         38.0\n7         0   573405    2021-08-01      10164          9.0\n15        0   968581    2021-08-04       7310          6.0"
     },
     "execution_count": 25,
     "metadata": {},
     "output_type": "execute_result"
    }
   ]
  },
  {
   "metadata": {
    "execution": {
     "iopub.execute_input": "2024-09-24T04:14:28.735828Z",
     "iopub.status.busy": "2024-09-24T04:14:28.735419Z",
     "iopub.status.idle": "2024-09-24T04:14:29.086336Z",
     "shell.execute_reply": "2024-09-24T04:14:29.085306Z"
    },
    "papermill": {
     "duration": 0.371204,
     "end_time": "2024-09-24T04:14:29.088912",
     "exception": false,
     "start_time": "2024-09-24T04:14:28.717708",
     "status": "completed"
    },
    "tags": [],
    "trusted": false
   },
   "id": "c35bd1f6",
   "cell_type": "code",
   "source": "users_id = list(np.sort(train.user_id.unique()))\nitems_train = list(train.item_id.unique())\nratings_train = list(train.watched_pct)\n\nrows_train = train.user_id.astype('category').cat.codes\ncols_train = train.item_id.astype('category').cat.codes\n\ntrain_sparse = sparse.csr_matrix((ratings_train, (rows_train, cols_train)), shape=(len(users_id), len(items_train)))",
   "execution_count": 26,
   "outputs": []
  },
  {
   "metadata": {
    "execution": {
     "iopub.execute_input": "2024-09-24T04:14:29.123313Z",
     "iopub.status.busy": "2024-09-24T04:14:29.122884Z",
     "iopub.status.idle": "2024-09-24T04:14:29.153485Z",
     "shell.execute_reply": "2024-09-24T04:14:29.152305Z"
    },
    "papermill": {
     "duration": 0.050591,
     "end_time": "2024-09-24T04:14:29.155941",
     "exception": false,
     "start_time": "2024-09-24T04:14:29.105350",
     "status": "completed"
    },
    "tags": [],
    "trusted": false
   },
   "id": "45577331",
   "cell_type": "code",
   "source": "matrix_size = train_sparse.shape[0] * train_sparse.shape[1] # Number of possible interactions in the matrix\nnum_interactions = len(train_sparse.nonzero()[0]) # Number of items interacted with\nsparsity = 100 * (1 - (num_interactions / matrix_size))\nsparsity",
   "execution_count": 27,
   "outputs": [
    {
     "data": {
      "text/plain": "99.79592704093007"
     },
     "execution_count": 27,
     "metadata": {},
     "output_type": "execute_result"
    }
   ]
  },
  {
   "metadata": {
    "execution": {
     "iopub.execute_input": "2024-09-24T04:14:29.190874Z",
     "iopub.status.busy": "2024-09-24T04:14:29.190464Z",
     "iopub.status.idle": "2024-09-24T04:14:29.197192Z",
     "shell.execute_reply": "2024-09-24T04:14:29.196154Z"
    },
    "papermill": {
     "duration": 0.026913,
     "end_time": "2024-09-24T04:14:29.199651",
     "exception": false,
     "start_time": "2024-09-24T04:14:29.172738",
     "status": "completed"
    },
    "tags": [],
    "trusted": false
   },
   "id": "88189e0d",
   "cell_type": "code",
   "source": "train_sparse",
   "execution_count": 28,
   "outputs": [
    {
     "data": {
      "text/plain": "<Compressed Sparse Row sparse matrix of dtype 'float64'\n\twith 881660 stored elements and shape (72354, 5860)>"
     },
     "execution_count": 28,
     "metadata": {},
     "output_type": "execute_result"
    }
   ]
  },
  {
   "metadata": {
    "execution": {
     "iopub.execute_input": "2024-09-24T04:14:29.235018Z",
     "iopub.status.busy": "2024-09-24T04:14:29.234604Z",
     "iopub.status.idle": "2024-09-24T04:14:38.421789Z",
     "shell.execute_reply": "2024-09-24T04:14:38.420437Z"
    },
    "papermill": {
     "duration": 9.207528,
     "end_time": "2024-09-24T04:14:38.424090",
     "exception": false,
     "start_time": "2024-09-24T04:14:29.216562",
     "status": "completed"
    },
    "tags": [],
    "trusted": false
   },
   "id": "ba9ba0ed",
   "cell_type": "code",
   "source": "algo = implicit.bpr.BayesianPersonalizedRanking(factors=50, regularization=0.01,\n    iterations=50, \n    use_gpu=False)\nalgo.fit((train_sparse).astype('double'))",
   "execution_count": 29,
   "outputs": [
    {
     "data": {
      "application/vnd.jupyter.widget-view+json": {
       "model_id": "11940b34946647b7823f76363d2c2241",
       "version_major": 2,
       "version_minor": 0
      },
      "text/plain": "  0%|          | 0/50 [00:00<?, ?it/s]"
     },
     "metadata": {},
     "output_type": "display_data"
    }
   ]
  },
  {
   "metadata": {
    "execution": {
     "iopub.execute_input": "2024-09-24T04:14:38.460619Z",
     "iopub.status.busy": "2024-09-24T04:14:38.460175Z",
     "iopub.status.idle": "2024-09-24T04:14:38.465388Z",
     "shell.execute_reply": "2024-09-24T04:14:38.464081Z"
    },
    "papermill": {
     "duration": 0.026202,
     "end_time": "2024-09-24T04:14:38.467858",
     "exception": false,
     "start_time": "2024-09-24T04:14:38.441656",
     "status": "completed"
    },
    "tags": [],
    "trusted": false
   },
   "id": "0283455e",
   "cell_type": "code",
   "source": "# матрицы для пользователей и предметов из матричной факторизации\nuser_vecs = algo.user_factors\nitem_vecs = algo.item_factors",
   "execution_count": 30,
   "outputs": []
  },
  {
   "metadata": {
    "execution": {
     "iopub.execute_input": "2024-09-24T04:14:38.504782Z",
     "iopub.status.busy": "2024-09-24T04:14:38.503793Z",
     "iopub.status.idle": "2024-09-24T04:14:38.508736Z",
     "shell.execute_reply": "2024-09-24T04:14:38.507690Z"
    },
    "papermill": {
     "duration": 0.026004,
     "end_time": "2024-09-24T04:14:38.511055",
     "exception": false,
     "start_time": "2024-09-24T04:14:38.485051",
     "status": "completed"
    },
    "tags": [],
    "trusted": false
   },
   "id": "17e5bcac",
   "cell_type": "code",
   "source": "# top N фильмов\nk = 30",
   "execution_count": 31,
   "outputs": []
  },
  {
   "metadata": {
    "execution": {
     "iopub.execute_input": "2024-09-24T04:14:38.547922Z",
     "iopub.status.busy": "2024-09-24T04:14:38.546923Z",
     "iopub.status.idle": "2024-09-24T04:14:38.555658Z",
     "shell.execute_reply": "2024-09-24T04:14:38.554488Z"
    },
    "papermill": {
     "duration": 0.029685,
     "end_time": "2024-09-24T04:14:38.557907",
     "exception": false,
     "start_time": "2024-09-24T04:14:38.528222",
     "status": "completed"
    },
    "tags": [],
    "trusted": false
   },
   "id": "c230d8b9",
   "cell_type": "code",
   "source": "# Делаем рекомендации [implicit]\ndef predict(user_vecs, item_vecs, k=10):\n    \n    id2user = dict(zip(rows_train, train.user_id))\n    id2item = dict(zip(cols_train, train.item_id))\n\n    scores = user_vecs.dot(item_vecs.T)\n\n    ind_part = np.argpartition(scores, -k + 1)[:, -k:].copy()\n    scores_not_sorted = np.take_along_axis(scores, ind_part, axis=1)\n    ind_sorted = np.argsort(scores_not_sorted, axis=1)\n    indices = np.take_along_axis(ind_part, ind_sorted, axis=1)\n    indices = np.flip(indices, 1)\n    preds = pd.DataFrame({\n        'user_id': range(user_vecs.shape[0]),\n        'preds': indices.tolist(),\n        })\n    preds['user_id'] = preds['user_id'].map(id2user)\n    preds['preds'] = preds['preds'].map(lambda inds: [id2item[i] for i in inds])\n    return preds",
   "execution_count": 32,
   "outputs": []
  },
  {
   "metadata": {
    "execution": {
     "iopub.execute_input": "2024-09-24T04:14:38.595031Z",
     "iopub.status.busy": "2024-09-24T04:14:38.593845Z",
     "iopub.status.idle": "2024-09-24T04:14:49.613384Z",
     "shell.execute_reply": "2024-09-24T04:14:49.612181Z"
    },
    "papermill": {
     "duration": 11.040716,
     "end_time": "2024-09-24T04:14:49.615930",
     "exception": false,
     "start_time": "2024-09-24T04:14:38.575214",
     "status": "completed"
    },
    "tags": [],
    "trusted": false
   },
   "id": "d468fec8",
   "cell_type": "code",
   "source": "val_user_history = val.groupby('user_id')[['item_id']].agg(lambda x: list(x))\npred_bpr = predict(user_vecs, item_vecs, k)\npred_bpr = val_user_history.merge(pred_bpr, how='left', on='user_id')",
   "execution_count": 33,
   "outputs": []
  },
  {
   "metadata": {
    "execution": {
     "iopub.execute_input": "2024-09-24T04:14:49.651991Z",
     "iopub.status.busy": "2024-09-24T04:14:49.651589Z",
     "iopub.status.idle": "2024-09-24T04:14:49.667370Z",
     "shell.execute_reply": "2024-09-24T04:14:49.666169Z"
    },
    "papermill": {
     "duration": 0.036459,
     "end_time": "2024-09-24T04:14:49.669616",
     "exception": false,
     "start_time": "2024-09-24T04:14:49.633157",
     "status": "completed"
    },
    "tags": [],
    "trusted": false
   },
   "id": "b5bfeb2c",
   "cell_type": "code",
   "source": "pred_bpr.head()",
   "execution_count": 34,
   "outputs": [
    {
     "data": {
      "text/html": "<div>\n<style scoped>\n    .dataframe tbody tr th:only-of-type {\n        vertical-align: middle;\n    }\n\n    .dataframe tbody tr th {\n        vertical-align: top;\n    }\n\n    .dataframe thead th {\n        text-align: right;\n    }\n</style>\n<table border=\"1\" class=\"dataframe\">\n  <thead>\n    <tr style=\"text-align: right;\">\n      <th></th>\n      <th>user_id</th>\n      <th>item_id</th>\n      <th>preds</th>\n    </tr>\n  </thead>\n  <tbody>\n    <tr>\n      <th>0</th>\n      <td>2</td>\n      <td>[242, 3628, 5819, 7106, 7921, 8482, 9164, 1077...</td>\n      <td>[3166, 8482, 12965, 4072, 11749, 1267, 16382, ...</td>\n    </tr>\n    <tr>\n      <th>1</th>\n      <td>21</td>\n      <td>[308, 3784, 4495, 5077, 6384, 7102, 7571, 8251...</td>\n      <td>[849, 11237, 24, 1053, 7713, 13936, 7417, 8524...</td>\n    </tr>\n    <tr>\n      <th>2</th>\n      <td>30</td>\n      <td>[1107, 2346, 2743, 3031, 7250, 9728, 9842, 112...</td>\n      <td>[13865, 4740, 10464, 142, 16201, 3017, 12396, ...</td>\n    </tr>\n    <tr>\n      <th>3</th>\n      <td>46</td>\n      <td>[10440]</td>\n      <td>[4880, 142, 4151, 9996, 8636, 13865, 1465, 474...</td>\n    </tr>\n    <tr>\n      <th>4</th>\n      <td>60</td>\n      <td>[1179, 1343, 1590, 3550, 6044, 6606, 8612, 972...</td>\n      <td>[4880, 13865, 4151, 2657, 1083, 1449, 7107, 29...</td>\n    </tr>\n  </tbody>\n</table>\n</div>",
      "text/plain": "   user_id                                            item_id  \\\n0        2  [242, 3628, 5819, 7106, 7921, 8482, 9164, 1077...   \n1       21  [308, 3784, 4495, 5077, 6384, 7102, 7571, 8251...   \n2       30  [1107, 2346, 2743, 3031, 7250, 9728, 9842, 112...   \n3       46                                            [10440]   \n4       60  [1179, 1343, 1590, 3550, 6044, 6606, 8612, 972...   \n\n                                               preds  \n0  [3166, 8482, 12965, 4072, 11749, 1267, 16382, ...  \n1  [849, 11237, 24, 1053, 7713, 13936, 7417, 8524...  \n2  [13865, 4740, 10464, 142, 16201, 3017, 12396, ...  \n3  [4880, 142, 4151, 9996, 8636, 13865, 1465, 474...  \n4  [4880, 13865, 4151, 2657, 1083, 1449, 7107, 29...  "
     },
     "execution_count": 34,
     "metadata": {},
     "output_type": "execute_result"
    }
   ]
  },
  {
   "metadata": {
    "execution": {
     "iopub.execute_input": "2024-09-24T04:14:49.758096Z",
     "iopub.status.busy": "2024-09-24T04:14:49.757700Z",
     "iopub.status.idle": "2024-09-24T04:14:49.764128Z",
     "shell.execute_reply": "2024-09-24T04:14:49.763091Z"
    },
    "papermill": {
     "duration": 0.079363,
     "end_time": "2024-09-24T04:14:49.766436",
     "exception": false,
     "start_time": "2024-09-24T04:14:49.687073",
     "status": "completed"
    },
    "tags": [],
    "trusted": false
   },
   "id": "4c65437c",
   "cell_type": "code",
   "source": "def recall(df: pd.DataFrame, \n           pred_col='preds', \n           true_col='item_id', \n           k=30) -> float:\n    \n    recall_values = []\n    for _, row in df.iterrows():\n      num_relevant = len(set(row[true_col]) & set(row[pred_col][:k]))\n      num_true = len(row[true_col])\n      recall_values.append(num_relevant / num_true)\n    return np.mean(recall_values)",
   "execution_count": 35,
   "outputs": []
  },
  {
   "metadata": {
    "execution": {
     "iopub.execute_input": "2024-09-24T04:14:49.803739Z",
     "iopub.status.busy": "2024-09-24T04:14:49.803336Z",
     "iopub.status.idle": "2024-09-24T04:14:49.809570Z",
     "shell.execute_reply": "2024-09-24T04:14:49.808513Z"
    },
    "papermill": {
     "duration": 0.027057,
     "end_time": "2024-09-24T04:14:49.811628",
     "exception": false,
     "start_time": "2024-09-24T04:14:49.784571",
     "status": "completed"
    },
    "tags": [],
    "trusted": false
   },
   "id": "24a6c55c",
   "cell_type": "code",
   "source": "def precision(df: pd.DataFrame, \n              pred_col='preds', \n              true_col='item_id',\n              k=30) -> float:\n    \n    precision_values = []\n    for _, row in df.iterrows():\n      num_relevant = len(set(row[true_col]) & set(row[pred_col][:k]))\n      num_true = min(k, len(row[true_col]))\n      precision_values.append(num_relevant / num_true)\n    return np.mean(precision_values)",
   "execution_count": 36,
   "outputs": []
  },
  {
   "metadata": {
    "execution": {
     "iopub.execute_input": "2024-09-24T04:14:49.848271Z",
     "iopub.status.busy": "2024-09-24T04:14:49.847857Z",
     "iopub.status.idle": "2024-09-24T04:14:49.854557Z",
     "shell.execute_reply": "2024-09-24T04:14:49.853512Z"
    },
    "papermill": {
     "duration": 0.027762,
     "end_time": "2024-09-24T04:14:49.856824",
     "exception": false,
     "start_time": "2024-09-24T04:14:49.829062",
     "status": "completed"
    },
    "tags": [],
    "trusted": false
   },
   "id": "0c325a2c",
   "cell_type": "code",
   "source": "def mrr(df: pd.DataFrame, \n        pred_col='preds', \n        true_col='item_id', \n        k=30) -> float:\n    \n    mrr_values = []\n    for _, row in df.iterrows():\n      intersection = set(row[true_col]) & set(row[pred_col][:k])\n      user_mrr = 0\n      if len(intersection) > 0:\n          for item in intersection:\n              user_mrr = max(user_mrr, 1 / (row[pred_col].index(item) + 1))\n      mrr_values.append(user_mrr)\n    return np.mean(mrr_values)",
   "execution_count": 37,
   "outputs": []
  },
  {
   "metadata": {
    "execution": {
     "iopub.execute_input": "2024-09-24T04:14:49.893699Z",
     "iopub.status.busy": "2024-09-24T04:14:49.893256Z",
     "iopub.status.idle": "2024-09-24T04:14:54.211648Z",
     "shell.execute_reply": "2024-09-24T04:14:54.210492Z"
    },
    "papermill": {
     "duration": 4.339793,
     "end_time": "2024-09-24T04:14:54.214129",
     "exception": false,
     "start_time": "2024-09-24T04:14:49.874336",
     "status": "completed"
    },
    "tags": [],
    "trusted": false
   },
   "id": "b79613c4",
   "cell_type": "code",
   "source": "recall(pred_bpr)",
   "execution_count": 38,
   "outputs": [
    {
     "data": {
      "text/plain": "0.10971724310666944"
     },
     "execution_count": 38,
     "metadata": {},
     "output_type": "execute_result"
    }
   ]
  },
  {
   "metadata": {
    "execution": {
     "iopub.execute_input": "2024-09-24T04:14:54.251868Z",
     "iopub.status.busy": "2024-09-24T04:14:54.251457Z",
     "iopub.status.idle": "2024-09-24T04:14:58.586675Z",
     "shell.execute_reply": "2024-09-24T04:14:58.585637Z"
    },
    "papermill": {
     "duration": 4.356773,
     "end_time": "2024-09-24T04:14:58.588973",
     "exception": false,
     "start_time": "2024-09-24T04:14:54.232200",
     "status": "completed"
    },
    "tags": [],
    "trusted": false
   },
   "id": "0b33e8fb",
   "cell_type": "code",
   "source": "precision(pred_bpr)",
   "execution_count": 39,
   "outputs": [
    {
     "data": {
      "text/plain": "0.1108938431397026"
     },
     "execution_count": 39,
     "metadata": {},
     "output_type": "execute_result"
    }
   ]
  },
  {
   "metadata": {
    "execution": {
     "iopub.execute_input": "2024-09-24T04:14:58.627485Z",
     "iopub.status.busy": "2024-09-24T04:14:58.626960Z",
     "iopub.status.idle": "2024-09-24T04:15:02.966567Z",
     "shell.execute_reply": "2024-09-24T04:15:02.965391Z"
    },
    "papermill": {
     "duration": 4.361519,
     "end_time": "2024-09-24T04:15:02.969014",
     "exception": false,
     "start_time": "2024-09-24T04:14:58.607495",
     "status": "completed"
    },
    "tags": [],
    "trusted": false
   },
   "id": "c7021767",
   "cell_type": "code",
   "source": "mrr(pred_bpr)",
   "execution_count": 40,
   "outputs": [
    {
     "data": {
      "text/plain": "0.12739334967701704"
     },
     "execution_count": 40,
     "metadata": {},
     "output_type": "execute_result"
    }
   ]
  },
  {
   "metadata": {
    "execution": {
     "iopub.execute_input": "2024-09-24T04:15:03.007292Z",
     "iopub.status.busy": "2024-09-24T04:15:03.006860Z",
     "iopub.status.idle": "2024-09-24T04:15:03.348062Z",
     "shell.execute_reply": "2024-09-24T04:15:03.346820Z"
    },
    "papermill": {
     "duration": 0.363152,
     "end_time": "2024-09-24T04:15:03.350461",
     "exception": false,
     "start_time": "2024-09-24T04:15:02.987309",
     "status": "completed"
    },
    "tags": [],
    "trusted": false
   },
   "id": "a901b0b1",
   "cell_type": "code",
   "source": "# генерируем предказания\ncandidates = pred_bpr[['user_id', 'preds']]\ncandidates = candidates.explode('preds').rename(columns={'preds': 'item_id'})\ncandidates['rank'] = candidates.groupby('user_id').cumcount() + 1\n\ncandidates.head()",
   "execution_count": 41,
   "outputs": [
    {
     "data": {
      "text/html": "<div>\n<style scoped>\n    .dataframe tbody tr th:only-of-type {\n        vertical-align: middle;\n    }\n\n    .dataframe tbody tr th {\n        vertical-align: top;\n    }\n\n    .dataframe thead th {\n        text-align: right;\n    }\n</style>\n<table border=\"1\" class=\"dataframe\">\n  <thead>\n    <tr style=\"text-align: right;\">\n      <th></th>\n      <th>user_id</th>\n      <th>item_id</th>\n      <th>rank</th>\n    </tr>\n  </thead>\n  <tbody>\n    <tr>\n      <th>0</th>\n      <td>2</td>\n      <td>3166</td>\n      <td>1</td>\n    </tr>\n    <tr>\n      <th>0</th>\n      <td>2</td>\n      <td>8482</td>\n      <td>2</td>\n    </tr>\n    <tr>\n      <th>0</th>\n      <td>2</td>\n      <td>12965</td>\n      <td>3</td>\n    </tr>\n    <tr>\n      <th>0</th>\n      <td>2</td>\n      <td>4072</td>\n      <td>4</td>\n    </tr>\n    <tr>\n      <th>0</th>\n      <td>2</td>\n      <td>11749</td>\n      <td>5</td>\n    </tr>\n  </tbody>\n</table>\n</div>",
      "text/plain": "   user_id item_id  rank\n0        2    3166     1\n0        2    8482     2\n0        2   12965     3\n0        2    4072     4\n0        2   11749     5"
     },
     "execution_count": 41,
     "metadata": {},
     "output_type": "execute_result"
    }
   ]
  },
  {
   "metadata": {},
   "id": "070cceff",
   "cell_type": "markdown",
   "source": "## <div style=\"padding: 30px;color:white;margin:10;font-size:60%;text-align:left;display:fill;border-radius:10px;background-color:#FFFFFF;overflow:hidden;background-color:#232834\"><b><span style='color:#686dec'>6 |</span></b> <b>2 ЭТАП: Обучаем Бустинг</b></div>\n\n- Ставим задачу как бинарную классификацию\n- Выбираем `CatBoostClassifier`, так как много категориальных признаков\n\n###  Собираем train + target\n\n`target = 1` Позитивные взаимодействия = все что пользователь посмотрел из кандидатов bpr"
  },
  {
   "metadata": {
    "execution": {
     "iopub.execute_input": "2024-09-24T04:15:03.389321Z",
     "iopub.status.busy": "2024-09-24T04:15:03.388882Z",
     "iopub.status.idle": "2024-09-24T04:15:04.446575Z",
     "shell.execute_reply": "2024-09-24T04:15:04.445369Z"
    },
    "papermill": {
     "duration": 1.079997,
     "end_time": "2024-09-24T04:15:04.449161",
     "exception": false,
     "start_time": "2024-09-24T04:15:03.369164",
     "status": "completed"
    },
    "tags": [],
    "trusted": false
   },
   "id": "10aa7e59",
   "cell_type": "code",
   "source": "pos = candidates.merge(val,\n                       on=['user_id', 'item_id'],\n                       how='inner')\n\npos['target'] = 1\nprint(pos.shape)\npos.head()",
   "execution_count": 42,
   "outputs": [
    {
     "name": "stdout",
     "output_type": "stream",
     "text": "(60919, 7)\n"
    },
    {
     "data": {
      "text/html": "<div>\n<style scoped>\n    .dataframe tbody tr th:only-of-type {\n        vertical-align: middle;\n    }\n\n    .dataframe tbody tr th {\n        vertical-align: top;\n    }\n\n    .dataframe thead th {\n        text-align: right;\n    }\n</style>\n<table border=\"1\" class=\"dataframe\">\n  <thead>\n    <tr style=\"text-align: right;\">\n      <th></th>\n      <th>user_id</th>\n      <th>item_id</th>\n      <th>rank</th>\n      <th>last_watch_dt</th>\n      <th>total_dur</th>\n      <th>watched_pct</th>\n      <th>target</th>\n    </tr>\n  </thead>\n  <tbody>\n    <tr>\n      <th>0</th>\n      <td>2</td>\n      <td>8482</td>\n      <td>2</td>\n      <td>2021-06-18</td>\n      <td>5886</td>\n      <td>100.0</td>\n      <td>1</td>\n    </tr>\n    <tr>\n      <th>1</th>\n      <td>2</td>\n      <td>9164</td>\n      <td>9</td>\n      <td>2021-06-23</td>\n      <td>6650</td>\n      <td>100.0</td>\n      <td>1</td>\n    </tr>\n    <tr>\n      <th>2</th>\n      <td>46</td>\n      <td>10440</td>\n      <td>13</td>\n      <td>2021-07-05</td>\n      <td>7449</td>\n      <td>20.0</td>\n      <td>1</td>\n    </tr>\n    <tr>\n      <th>3</th>\n      <td>60</td>\n      <td>15297</td>\n      <td>25</td>\n      <td>2021-07-24</td>\n      <td>14896</td>\n      <td>88.0</td>\n      <td>1</td>\n    </tr>\n    <tr>\n      <th>4</th>\n      <td>81</td>\n      <td>9996</td>\n      <td>7</td>\n      <td>2021-06-19</td>\n      <td>2939</td>\n      <td>10.0</td>\n      <td>1</td>\n    </tr>\n  </tbody>\n</table>\n</div>",
      "text/plain": "   user_id item_id  rank last_watch_dt  total_dur  watched_pct  target\n0        2    8482     2    2021-06-18       5886        100.0       1\n1        2    9164     9    2021-06-23       6650        100.0       1\n2       46   10440    13    2021-07-05       7449         20.0       1\n3       60   15297    25    2021-07-24      14896         88.0       1\n4       81    9996     7    2021-06-19       2939         10.0       1"
     },
     "execution_count": 42,
     "metadata": {},
     "output_type": "execute_result"
    }
   ]
  },
  {
   "metadata": {},
   "id": "ee042d7d",
   "cell_type": "markdown",
   "source": "`target = 0` Негативные взаимодействия = все что пользователь НЕ посмотрел из кандидатов bpr\n\n- добавим сэмплирование, чтобы соблюсти баланс классов"
  },
  {
   "metadata": {
    "execution": {
     "iopub.execute_input": "2024-09-24T04:15:04.490428Z",
     "iopub.status.busy": "2024-09-24T04:15:04.489198Z",
     "iopub.status.idle": "2024-09-24T04:15:05.492168Z",
     "shell.execute_reply": "2024-09-24T04:15:05.490746Z"
    },
    "papermill": {
     "duration": 1.026452,
     "end_time": "2024-09-24T04:15:05.494907",
     "exception": false,
     "start_time": "2024-09-24T04:15:04.468455",
     "status": "completed"
    },
    "tags": [],
    "trusted": false
   },
   "id": "bfa87a9b",
   "cell_type": "code",
   "source": "neg = candidates.set_index(['user_id', 'item_id'])\\\n        .join(val.set_index(['user_id', 'item_id']))\n\nneg = neg[neg['watched_pct'].isnull()].reset_index()",
   "execution_count": 43,
   "outputs": []
  },
  {
   "metadata": {},
   "id": "245cea3b",
   "cell_type": "markdown",
   "source": "## Формируем трейн и тест: ctb_train, ctb_test\n\n### Важно! Делим по пользователям, а не по дате.\n\n`Мотивация`:\n\n- Для негативных взаимодействий нет даты\n- Проверяем устойчивость бустинга относительно новых (холодных) пользователей"
  },
  {
   "metadata": {
    "execution": {
     "iopub.execute_input": "2024-09-24T04:15:05.534931Z",
     "iopub.status.busy": "2024-09-24T04:15:05.534519Z",
     "iopub.status.idle": "2024-09-24T04:15:05.541782Z",
     "shell.execute_reply": "2024-09-24T04:15:05.540659Z"
    },
    "papermill": {
     "duration": 0.030553,
     "end_time": "2024-09-24T04:15:05.544215",
     "exception": false,
     "start_time": "2024-09-24T04:15:05.513662",
     "status": "completed"
    },
    "tags": [],
    "trusted": false
   },
   "id": "31f2d3d4",
   "cell_type": "code",
   "source": "pos.shape[0] / neg.shape[0]",
   "execution_count": 44,
   "outputs": [
    {
     "data": {
      "text/plain": "0.03351468161905197"
     },
     "execution_count": 44,
     "metadata": {},
     "output_type": "execute_result"
    }
   ]
  },
  {
   "metadata": {
    "execution": {
     "iopub.execute_input": "2024-09-24T04:15:05.584839Z",
     "iopub.status.busy": "2024-09-24T04:15:05.584424Z",
     "iopub.status.idle": "2024-09-24T04:15:05.705030Z",
     "shell.execute_reply": "2024-09-24T04:15:05.703766Z"
    },
    "papermill": {
     "duration": 0.144453,
     "end_time": "2024-09-24T04:15:05.707813",
     "exception": false,
     "start_time": "2024-09-24T04:15:05.563360",
     "status": "completed"
    },
    "tags": [],
    "trusted": false
   },
   "id": "73b5f40d",
   "cell_type": "code",
   "source": "# пусть негативных семплов будет в два раза больше, чем позитивных\nneg = neg.sample(frac=0.07)\nneg['target'] = 0\n\nneg.shape",
   "execution_count": 45,
   "outputs": [
    {
     "data": {
      "text/plain": "(127238, 7)"
     },
     "execution_count": 45,
     "metadata": {},
     "output_type": "execute_result"
    }
   ]
  },
  {
   "metadata": {
    "execution": {
     "iopub.execute_input": "2024-09-24T04:15:05.748430Z",
     "iopub.status.busy": "2024-09-24T04:15:05.748007Z",
     "iopub.status.idle": "2024-09-24T04:15:05.768654Z",
     "shell.execute_reply": "2024-09-24T04:15:05.767471Z"
    },
    "papermill": {
     "duration": 0.044101,
     "end_time": "2024-09-24T04:15:05.771251",
     "exception": false,
     "start_time": "2024-09-24T04:15:05.727150",
     "status": "completed"
    },
    "tags": [],
    "trusted": false
   },
   "id": "4502d5cd",
   "cell_type": "code",
   "source": "ctb_train_users, ctb_test_users = train_test_split(val['user_id'].unique(),\n                                                  random_state=1,\n                                                  test_size=0.2)",
   "execution_count": 46,
   "outputs": []
  },
  {
   "metadata": {
    "execution": {
     "iopub.execute_input": "2024-09-24T04:15:05.811523Z",
     "iopub.status.busy": "2024-09-24T04:15:05.811092Z",
     "iopub.status.idle": "2024-09-24T04:15:05.819067Z",
     "shell.execute_reply": "2024-09-24T04:15:05.817981Z"
    },
    "papermill": {
     "duration": 0.031248,
     "end_time": "2024-09-24T04:15:05.821687",
     "exception": false,
     "start_time": "2024-09-24T04:15:05.790439",
     "status": "completed"
    },
    "tags": [],
    "trusted": false
   },
   "id": "3e5e0935",
   "cell_type": "code",
   "source": "# выделяем 10% под механизм early stopping\nctb_train_users, ctb_eval_users = train_test_split(ctb_train_users,\n                                                  random_state=1,\n                                                  test_size=0.1)",
   "execution_count": 47,
   "outputs": []
  },
  {
   "metadata": {
    "execution": {
     "iopub.execute_input": "2024-09-24T04:15:05.862207Z",
     "iopub.status.busy": "2024-09-24T04:15:05.861786Z",
     "iopub.status.idle": "2024-09-24T04:15:06.100591Z",
     "shell.execute_reply": "2024-09-24T04:15:06.099501Z"
    },
    "papermill": {
     "duration": 0.262472,
     "end_time": "2024-09-24T04:15:06.103285",
     "exception": false,
     "start_time": "2024-09-24T04:15:05.840813",
     "status": "completed"
    },
    "tags": [],
    "trusted": false
   },
   "id": "79cc7707",
   "cell_type": "code",
   "source": "select_col = ['user_id', 'item_id', 'rank', 'target']\n\n# Catboost train\nctb_train = shuffle(\n    pd.concat([\n        pos[pos['user_id'].isin(ctb_train_users)],\n        neg[neg['user_id'].isin(ctb_train_users)]\n])[select_col]\n)\n\n# Catboost test\nctb_test = shuffle(\n    pd.concat([\n        pos[pos['user_id'].isin(ctb_test_users)],\n        neg[neg['user_id'].isin(ctb_test_users)]\n])[select_col]\n)\n\n# for early stopping\nctb_eval = shuffle(\n    pd.concat([\n        pos[pos['user_id'].isin(ctb_eval_users)],\n        neg[neg['user_id'].isin(ctb_eval_users)]\n])[select_col]\n)",
   "execution_count": 48,
   "outputs": []
  },
  {
   "metadata": {},
   "id": "153591a5",
   "cell_type": "markdown",
   "source": "### Проверяем баланс классов"
  },
  {
   "metadata": {
    "execution": {
     "iopub.execute_input": "2024-09-24T04:15:06.144168Z",
     "iopub.status.busy": "2024-09-24T04:15:06.143188Z",
     "iopub.status.idle": "2024-09-24T04:15:06.153605Z",
     "shell.execute_reply": "2024-09-24T04:15:06.152579Z"
    },
    "papermill": {
     "duration": 0.033369,
     "end_time": "2024-09-24T04:15:06.155986",
     "exception": false,
     "start_time": "2024-09-24T04:15:06.122617",
     "status": "completed"
    },
    "tags": [],
    "trusted": false
   },
   "id": "e2d818b0",
   "cell_type": "code",
   "source": "ctb_train['target'].value_counts(normalize=True)",
   "execution_count": 49,
   "outputs": [
    {
     "data": {
      "text/plain": "target\n0    0.676539\n1    0.323461\nName: proportion, dtype: float64"
     },
     "execution_count": 49,
     "metadata": {},
     "output_type": "execute_result"
    }
   ]
  },
  {
   "metadata": {
    "execution": {
     "iopub.execute_input": "2024-09-24T04:15:06.197156Z",
     "iopub.status.busy": "2024-09-24T04:15:06.196723Z",
     "iopub.status.idle": "2024-09-24T04:15:06.206436Z",
     "shell.execute_reply": "2024-09-24T04:15:06.205027Z"
    },
    "papermill": {
     "duration": 0.032743,
     "end_time": "2024-09-24T04:15:06.208734",
     "exception": false,
     "start_time": "2024-09-24T04:15:06.175991",
     "status": "completed"
    },
    "tags": [],
    "trusted": false
   },
   "id": "4c509612",
   "cell_type": "code",
   "source": "ctb_test['target'].value_counts(normalize=True)",
   "execution_count": 50,
   "outputs": [
    {
     "data": {
      "text/plain": "target\n0    0.675174\n1    0.324826\nName: proportion, dtype: float64"
     },
     "execution_count": 50,
     "metadata": {},
     "output_type": "execute_result"
    }
   ]
  },
  {
   "metadata": {},
   "id": "a816b690",
   "cell_type": "markdown",
   "source": "## Формируем фичи\n\n- в этом ноутбуке рассмотрен бейзлайн с минимальной обработкой признаков - оставляем ее для Catboost\n- выбираем простые категориальные признаки, которые не нужно предобрабатывать\n- как признак также используем `rank` от модели 1 этапа\n- заполняем пропуски в данных"
  },
  {
   "metadata": {
    "execution": {
     "iopub.execute_input": "2024-09-24T04:15:06.249198Z",
     "iopub.status.busy": "2024-09-24T04:15:06.248767Z",
     "iopub.status.idle": "2024-09-24T04:15:06.253843Z",
     "shell.execute_reply": "2024-09-24T04:15:06.252802Z"
    },
    "papermill": {
     "duration": 0.028054,
     "end_time": "2024-09-24T04:15:06.256299",
     "exception": false,
     "start_time": "2024-09-24T04:15:06.228245",
     "status": "completed"
    },
    "tags": [],
    "trusted": false
   },
   "id": "2a8cb745",
   "cell_type": "code",
   "source": "user_col = ['user_id', 'age', 'income', 'sex', 'kids_flg']\nitem_col = ['item_id', 'content_type', 'countries', 'for_kids', 'age_rating', 'studios']",
   "execution_count": 51,
   "outputs": []
  },
  {
   "metadata": {
    "execution": {
     "iopub.execute_input": "2024-09-24T04:15:06.298055Z",
     "iopub.status.busy": "2024-09-24T04:15:06.296925Z",
     "iopub.status.idle": "2024-09-24T04:15:06.856746Z",
     "shell.execute_reply": "2024-09-24T04:15:06.855662Z"
    },
    "papermill": {
     "duration": 0.583468,
     "end_time": "2024-09-24T04:15:06.859224",
     "exception": false,
     "start_time": "2024-09-24T04:15:06.275756",
     "status": "completed"
    },
    "tags": [],
    "trusted": false
   },
   "id": "953c04f4",
   "cell_type": "code",
   "source": "train_feat = (ctb_train\n              .merge(users[user_col], on=['user_id'], how='left')\n              .merge(items[item_col], on=['item_id'], how='left'))\n\neval_feat = (ctb_eval\n             .merge(users[user_col], on=['user_id'], how='left')\n             .merge(items[item_col], on=['item_id'], how='left'))",
   "execution_count": 52,
   "outputs": []
  },
  {
   "metadata": {
    "execution": {
     "iopub.execute_input": "2024-09-24T04:15:06.899785Z",
     "iopub.status.busy": "2024-09-24T04:15:06.899349Z",
     "iopub.status.idle": "2024-09-24T04:15:06.917627Z",
     "shell.execute_reply": "2024-09-24T04:15:06.916481Z"
    },
    "papermill": {
     "duration": 0.041025,
     "end_time": "2024-09-24T04:15:06.919793",
     "exception": false,
     "start_time": "2024-09-24T04:15:06.878768",
     "status": "completed"
    },
    "tags": [],
    "trusted": false
   },
   "id": "9bbd41e8",
   "cell_type": "code",
   "source": "train_feat.head()",
   "execution_count": 53,
   "outputs": [
    {
     "data": {
      "text/html": "<div>\n<style scoped>\n    .dataframe tbody tr th:only-of-type {\n        vertical-align: middle;\n    }\n\n    .dataframe tbody tr th {\n        vertical-align: top;\n    }\n\n    .dataframe thead th {\n        text-align: right;\n    }\n</style>\n<table border=\"1\" class=\"dataframe\">\n  <thead>\n    <tr style=\"text-align: right;\">\n      <th></th>\n      <th>user_id</th>\n      <th>item_id</th>\n      <th>rank</th>\n      <th>target</th>\n      <th>age</th>\n      <th>income</th>\n      <th>sex</th>\n      <th>kids_flg</th>\n      <th>content_type</th>\n      <th>countries</th>\n      <th>for_kids</th>\n      <th>age_rating</th>\n      <th>studios</th>\n    </tr>\n  </thead>\n  <tbody>\n    <tr>\n      <th>0</th>\n      <td>458479</td>\n      <td>12485</td>\n      <td>23</td>\n      <td>0</td>\n      <td>age_55_64</td>\n      <td>income_20_40</td>\n      <td>М</td>\n      <td>0.0</td>\n      <td>film</td>\n      <td>США</td>\n      <td>NaN</td>\n      <td>18.0</td>\n      <td>NaN</td>\n    </tr>\n    <tr>\n      <th>1</th>\n      <td>4176</td>\n      <td>4880</td>\n      <td>1</td>\n      <td>0</td>\n      <td>age_35_44</td>\n      <td>income_0_20</td>\n      <td>Ж</td>\n      <td>0.0</td>\n      <td>series</td>\n      <td>Россия</td>\n      <td>NaN</td>\n      <td>18.0</td>\n      <td>NaN</td>\n    </tr>\n    <tr>\n      <th>2</th>\n      <td>1055166</td>\n      <td>5087</td>\n      <td>22</td>\n      <td>0</td>\n      <td>age_25_34</td>\n      <td>income_40_60</td>\n      <td>М</td>\n      <td>1.0</td>\n      <td>film</td>\n      <td>США</td>\n      <td>NaN</td>\n      <td>18.0</td>\n      <td>NaN</td>\n    </tr>\n    <tr>\n      <th>3</th>\n      <td>800395</td>\n      <td>2860</td>\n      <td>18</td>\n      <td>0</td>\n      <td>NaN</td>\n      <td>NaN</td>\n      <td>NaN</td>\n      <td>NaN</td>\n      <td>film</td>\n      <td>Канада</td>\n      <td>NaN</td>\n      <td>16.0</td>\n      <td>NaN</td>\n    </tr>\n    <tr>\n      <th>4</th>\n      <td>637341</td>\n      <td>509</td>\n      <td>30</td>\n      <td>0</td>\n      <td>age_25_34</td>\n      <td>income_0_20</td>\n      <td>Ж</td>\n      <td>1.0</td>\n      <td>film</td>\n      <td>Россия</td>\n      <td>0.0</td>\n      <td>18.0</td>\n      <td>NaN</td>\n    </tr>\n  </tbody>\n</table>\n</div>",
      "text/plain": "   user_id item_id  rank  target        age        income  sex  kids_flg  \\\n0   458479   12485    23       0  age_55_64  income_20_40    М       0.0   \n1     4176    4880     1       0  age_35_44   income_0_20    Ж       0.0   \n2  1055166    5087    22       0  age_25_34  income_40_60    М       1.0   \n3   800395    2860    18       0        NaN           NaN  NaN       NaN   \n4   637341     509    30       0  age_25_34   income_0_20    Ж       1.0   \n\n  content_type countries  for_kids  age_rating studios  \n0         film       США       NaN        18.0     NaN  \n1       series    Россия       NaN        18.0     NaN  \n2         film       США       NaN        18.0     NaN  \n3         film    Канада       NaN        16.0     NaN  \n4         film    Россия       0.0        18.0     NaN  "
     },
     "execution_count": 53,
     "metadata": {},
     "output_type": "execute_result"
    }
   ]
  },
  {
   "metadata": {},
   "id": "6b303842",
   "cell_type": "markdown",
   "source": "### X,y"
  },
  {
   "metadata": {
    "execution": {
     "iopub.execute_input": "2024-09-24T04:15:06.961651Z",
     "iopub.status.busy": "2024-09-24T04:15:06.961234Z",
     "iopub.status.idle": "2024-09-24T04:15:06.967767Z",
     "shell.execute_reply": "2024-09-24T04:15:06.966811Z"
    },
    "papermill": {
     "duration": 0.029951,
     "end_time": "2024-09-24T04:15:06.970130",
     "exception": false,
     "start_time": "2024-09-24T04:15:06.940179",
     "status": "completed"
    },
    "tags": [],
    "trusted": false
   },
   "id": "b078cf91",
   "cell_type": "code",
   "source": "drop_col = ['user_id', 'item_id']\ntarget_col = ['target']\ncat_col = ['age', 'income', 'sex', 'content_type', 'countries', 'studios']",
   "execution_count": 54,
   "outputs": []
  },
  {
   "metadata": {
    "execution": {
     "iopub.execute_input": "2024-09-24T04:15:07.011180Z",
     "iopub.status.busy": "2024-09-24T04:15:07.010759Z",
     "iopub.status.idle": "2024-09-24T04:15:07.028587Z",
     "shell.execute_reply": "2024-09-24T04:15:07.027438Z"
    },
    "papermill": {
     "duration": 0.041349,
     "end_time": "2024-09-24T04:15:07.031176",
     "exception": false,
     "start_time": "2024-09-24T04:15:06.989827",
     "status": "completed"
    },
    "tags": [],
    "trusted": false
   },
   "id": "73b6f7f2",
   "cell_type": "code",
   "source": "X_train, y_train = train_feat.drop(drop_col + target_col, axis=1), train_feat[target_col]\nX_val, y_val = eval_feat.drop(drop_col + target_col, axis=1), eval_feat[target_col]",
   "execution_count": 55,
   "outputs": []
  },
  {
   "metadata": {
    "execution": {
     "iopub.execute_input": "2024-09-24T04:15:07.072734Z",
     "iopub.status.busy": "2024-09-24T04:15:07.072310Z",
     "iopub.status.idle": "2024-09-24T04:15:07.079554Z",
     "shell.execute_reply": "2024-09-24T04:15:07.078571Z"
    },
    "papermill": {
     "duration": 0.030697,
     "end_time": "2024-09-24T04:15:07.081774",
     "exception": false,
     "start_time": "2024-09-24T04:15:07.051077",
     "status": "completed"
    },
    "tags": [],
    "trusted": false
   },
   "id": "453dcb82",
   "cell_type": "code",
   "source": "X_train.shape, y_train.shape, X_val.shape, y_val.shape",
   "execution_count": 56,
   "outputs": [
    {
     "data": {
      "text/plain": "((135296, 10), (135296, 1), (15090, 10), (15090, 1))"
     },
     "execution_count": 56,
     "metadata": {},
     "output_type": "execute_result"
    }
   ]
  },
  {
   "metadata": {
    "execution": {
     "iopub.execute_input": "2024-09-24T04:15:07.123988Z",
     "iopub.status.busy": "2024-09-24T04:15:07.123008Z",
     "iopub.status.idle": "2024-09-24T04:15:07.276476Z",
     "shell.execute_reply": "2024-09-24T04:15:07.275440Z"
    },
    "papermill": {
     "duration": 0.177527,
     "end_time": "2024-09-24T04:15:07.279383",
     "exception": false,
     "start_time": "2024-09-24T04:15:07.101856",
     "status": "completed"
    },
    "tags": [],
    "trusted": false
   },
   "id": "9adfb4da",
   "cell_type": "code",
   "source": "# fillna for catboost with the most frequent value\nX_train = X_train.fillna(X_train.mode().iloc[0])",
   "execution_count": 57,
   "outputs": []
  },
  {
   "metadata": {
    "execution": {
     "iopub.execute_input": "2024-09-24T04:15:07.322538Z",
     "iopub.status.busy": "2024-09-24T04:15:07.322093Z",
     "iopub.status.idle": "2024-09-24T04:15:07.405587Z",
     "shell.execute_reply": "2024-09-24T04:15:07.404621Z"
    },
    "papermill": {
     "duration": 0.107974,
     "end_time": "2024-09-24T04:15:07.408187",
     "exception": false,
     "start_time": "2024-09-24T04:15:07.300213",
     "status": "completed"
    },
    "tags": [],
    "trusted": false
   },
   "id": "851f3761",
   "cell_type": "code",
   "source": "# fillna for catboost with the most frequent value\nX_val = X_val.fillna(X_train.mode().iloc[0])",
   "execution_count": 58,
   "outputs": []
  },
  {
   "metadata": {
    "execution": {
     "iopub.execute_input": "2024-09-24T04:15:07.452507Z",
     "iopub.status.busy": "2024-09-24T04:15:07.452069Z",
     "iopub.status.idle": "2024-09-24T04:15:07.468922Z",
     "shell.execute_reply": "2024-09-24T04:15:07.467673Z"
    },
    "papermill": {
     "duration": 0.041223,
     "end_time": "2024-09-24T04:15:07.471432",
     "exception": false,
     "start_time": "2024-09-24T04:15:07.430209",
     "status": "completed"
    },
    "tags": [],
    "trusted": false
   },
   "id": "8006fb75",
   "cell_type": "code",
   "source": "X_train.head()",
   "execution_count": 59,
   "outputs": [
    {
     "data": {
      "text/html": "<div>\n<style scoped>\n    .dataframe tbody tr th:only-of-type {\n        vertical-align: middle;\n    }\n\n    .dataframe tbody tr th {\n        vertical-align: top;\n    }\n\n    .dataframe thead th {\n        text-align: right;\n    }\n</style>\n<table border=\"1\" class=\"dataframe\">\n  <thead>\n    <tr style=\"text-align: right;\">\n      <th></th>\n      <th>rank</th>\n      <th>age</th>\n      <th>income</th>\n      <th>sex</th>\n      <th>kids_flg</th>\n      <th>content_type</th>\n      <th>countries</th>\n      <th>for_kids</th>\n      <th>age_rating</th>\n      <th>studios</th>\n    </tr>\n  </thead>\n  <tbody>\n    <tr>\n      <th>0</th>\n      <td>23</td>\n      <td>age_55_64</td>\n      <td>income_20_40</td>\n      <td>М</td>\n      <td>0.0</td>\n      <td>film</td>\n      <td>США</td>\n      <td>0.0</td>\n      <td>18.0</td>\n      <td>CBS All Access</td>\n    </tr>\n    <tr>\n      <th>1</th>\n      <td>1</td>\n      <td>age_35_44</td>\n      <td>income_0_20</td>\n      <td>Ж</td>\n      <td>0.0</td>\n      <td>series</td>\n      <td>Россия</td>\n      <td>0.0</td>\n      <td>18.0</td>\n      <td>CBS All Access</td>\n    </tr>\n    <tr>\n      <th>2</th>\n      <td>22</td>\n      <td>age_25_34</td>\n      <td>income_40_60</td>\n      <td>М</td>\n      <td>1.0</td>\n      <td>film</td>\n      <td>США</td>\n      <td>0.0</td>\n      <td>18.0</td>\n      <td>CBS All Access</td>\n    </tr>\n    <tr>\n      <th>3</th>\n      <td>18</td>\n      <td>age_35_44</td>\n      <td>income_20_40</td>\n      <td>М</td>\n      <td>0.0</td>\n      <td>film</td>\n      <td>Канада</td>\n      <td>0.0</td>\n      <td>16.0</td>\n      <td>CBS All Access</td>\n    </tr>\n    <tr>\n      <th>4</th>\n      <td>30</td>\n      <td>age_25_34</td>\n      <td>income_0_20</td>\n      <td>Ж</td>\n      <td>1.0</td>\n      <td>film</td>\n      <td>Россия</td>\n      <td>0.0</td>\n      <td>18.0</td>\n      <td>CBS All Access</td>\n    </tr>\n  </tbody>\n</table>\n</div>",
      "text/plain": "   rank        age        income sex  kids_flg content_type countries  \\\n0    23  age_55_64  income_20_40   М       0.0         film       США   \n1     1  age_35_44   income_0_20   Ж       0.0       series    Россия   \n2    22  age_25_34  income_40_60   М       1.0         film       США   \n3    18  age_35_44  income_20_40   М       0.0         film    Канада   \n4    30  age_25_34   income_0_20   Ж       1.0         film    Россия   \n\n   for_kids  age_rating         studios  \n0       0.0        18.0  CBS All Access  \n1       0.0        18.0  CBS All Access  \n2       0.0        18.0  CBS All Access  \n3       0.0        16.0  CBS All Access  \n4       0.0        18.0  CBS All Access  "
     },
     "execution_count": 59,
     "metadata": {},
     "output_type": "execute_result"
    }
   ]
  },
  {
   "metadata": {},
   "id": "cca2142f",
   "cell_type": "markdown",
   "source": "## Обучаем `CatBoostClassifier`\n\n- аналогично 1 этапу, предполагаем что оптимальные гиперпараметры уже выбраны\n- используем только механизм early_stopping для выбора оптимального количества деревьев на небольшой валидационной выборке"
  },
  {
   "metadata": {
    "execution": {
     "iopub.execute_input": "2024-09-24T04:15:07.514933Z",
     "iopub.status.busy": "2024-09-24T04:15:07.514533Z",
     "iopub.status.idle": "2024-09-24T04:15:07.523985Z",
     "shell.execute_reply": "2024-09-24T04:15:07.522976Z"
    },
    "papermill": {
     "duration": 0.034432,
     "end_time": "2024-09-24T04:15:07.526447",
     "exception": false,
     "start_time": "2024-09-24T04:15:07.492015",
     "status": "completed"
    },
    "tags": [],
    "trusted": false
   },
   "id": "bb6a477f",
   "cell_type": "code",
   "source": "# параметры для обучения\nest_params = {\n  'subsample': 0.9,\n  'max_depth': 5,\n  'n_estimators': 2000,\n  'learning_rate': 0.01,\n  'thread_count': 20,\n  'random_state': 42,\n  'verbose': 200,\n}\n\nctb_model = CatBoostClassifier(**est_params)",
   "execution_count": 60,
   "outputs": []
  },
  {
   "metadata": {
    "execution": {
     "iopub.execute_input": "2024-09-24T04:15:07.570094Z",
     "iopub.status.busy": "2024-09-24T04:15:07.569678Z",
     "iopub.status.idle": "2024-09-24T04:18:03.568351Z",
     "shell.execute_reply": "2024-09-24T04:18:03.567261Z"
    },
    "papermill": {
     "duration": 176.023181,
     "end_time": "2024-09-24T04:18:03.570829",
     "exception": false,
     "start_time": "2024-09-24T04:15:07.547648",
     "status": "completed"
    },
    "tags": [],
    "trusted": false
   },
   "id": "5526d00d",
   "cell_type": "code",
   "source": "ctb_model.fit(X_train,\n              y_train,\n              eval_set=(X_val, y_val),\n              early_stopping_rounds=100,\n              cat_features=cat_col)",
   "execution_count": 61,
   "outputs": [
    {
     "data": {
      "application/vnd.jupyter.widget-view+json": {
       "model_id": "45355f3bb00048a299b309a4454e0ed7",
       "version_major": 2,
       "version_minor": 0
      },
      "text/plain": "MetricVisualizer(layout=Layout(align_self='stretch', height='500px'))"
     },
     "metadata": {},
     "output_type": "display_data"
    },
    {
     "name": "stderr",
     "output_type": "stream",
     "text": "TBB Warning: The number of workers is currently limited to 3. The request for 19 workers is ignored. Further requests for more workers will be silently ignored until the limit changes.\n\n"
    },
    {
     "name": "stdout",
     "output_type": "stream",
     "text": "0:\tlearn: 0.6900380\ttest: 0.6900920\tbest: 0.6900920 (0)\ttotal: 175ms\tremaining: 5m 50s\n200:\tlearn: 0.5295179\ttest: 0.5325592\tbest: 0.5325592 (200)\ttotal: 17.5s\tremaining: 2m 36s\n400:\tlearn: 0.5210290\ttest: 0.5236199\tbest: 0.5236199 (400)\ttotal: 34.4s\tremaining: 2m 17s\n600:\tlearn: 0.5187233\ttest: 0.5211758\tbest: 0.5211758 (600)\ttotal: 51.9s\tremaining: 2m\n800:\tlearn: 0.5173139\ttest: 0.5197243\tbest: 0.5197243 (800)\ttotal: 1m 8s\tremaining: 1m 43s\n1000:\tlearn: 0.5160030\ttest: 0.5183970\tbest: 0.5183970 (1000)\ttotal: 1m 26s\tremaining: 1m 26s\n1200:\tlearn: 0.5148874\ttest: 0.5173102\tbest: 0.5173096 (1198)\ttotal: 1m 43s\tremaining: 1m 9s\n1400:\tlearn: 0.5139265\ttest: 0.5164289\tbest: 0.5164289 (1400)\ttotal: 2m 1s\tremaining: 52s\n1600:\tlearn: 0.5133713\ttest: 0.5159957\tbest: 0.5159953 (1598)\ttotal: 2m 18s\tremaining: 34.6s\n1800:\tlearn: 0.5127885\ttest: 0.5155605\tbest: 0.5155605 (1800)\ttotal: 2m 36s\tremaining: 17.3s\n1999:\tlearn: 0.5123560\ttest: 0.5152680\tbest: 0.5152680 (1999)\ttotal: 2m 54s\tremaining: 0us\n\nbestTest = 0.515267964\nbestIteration = 1999\n\n"
    },
    {
     "data": {
      "text/plain": "<catboost.core.CatBoostClassifier at 0x7ca5a4b9e050>"
     },
     "execution_count": 61,
     "metadata": {},
     "output_type": "execute_result"
    }
   ]
  },
  {
   "metadata": {},
   "id": "df266c61",
   "cell_type": "markdown",
   "source": "## Посмотрим на feature importance"
  },
  {
   "metadata": {
    "execution": {
     "iopub.execute_input": "2024-09-24T04:18:03.616352Z",
     "iopub.status.busy": "2024-09-24T04:18:03.615454Z",
     "iopub.status.idle": "2024-09-24T04:18:03.622517Z",
     "shell.execute_reply": "2024-09-24T04:18:03.621209Z"
    },
    "papermill": {
     "duration": 0.032085,
     "end_time": "2024-09-24T04:18:03.624785",
     "exception": false,
     "start_time": "2024-09-24T04:18:03.592700",
     "status": "completed"
    },
    "tags": [],
    "trusted": false
   },
   "id": "ebb2c2ea",
   "cell_type": "code",
   "source": "imp_catboost = pd.DataFrame(X_train.columns, columns = ['feature'])\nimp_catboost['importance'] = ctb_model.feature_importances_",
   "execution_count": 62,
   "outputs": []
  },
  {
   "metadata": {
    "execution": {
     "iopub.execute_input": "2024-09-24T04:18:03.723511Z",
     "iopub.status.busy": "2024-09-24T04:18:03.723058Z",
     "iopub.status.idle": "2024-09-24T04:18:04.055866Z",
     "shell.execute_reply": "2024-09-24T04:18:04.054635Z"
    },
    "papermill": {
     "duration": 0.358304,
     "end_time": "2024-09-24T04:18:04.058389",
     "exception": false,
     "start_time": "2024-09-24T04:18:03.700085",
     "status": "completed"
    },
    "tags": [],
    "trusted": false
   },
   "id": "fd199d71",
   "cell_type": "code",
   "source": "sns.barplot(data=imp_catboost.sort_values(by='importance', ascending=False), x='importance', y='feature', palette=\"BuGn_r\")\nplt.title('Top feature importances');",
   "execution_count": 63,
   "outputs": [
    {
     "data": {
      "image/png": "[encoded data removed]",
      "text/plain": "<Figure size 640x480 with 1 Axes>"
     },
     "metadata": {},
     "output_type": "display_data"
    }
   ]
  },
  {
   "metadata": {},
   "id": "e7289390",
   "cell_type": "markdown",
   "source": "## Оценим метрики catboost модели"
  },
  {
   "metadata": {
    "execution": {
     "iopub.execute_input": "2024-09-24T04:18:04.107979Z",
     "iopub.status.busy": "2024-09-24T04:18:04.107181Z",
     "iopub.status.idle": "2024-09-24T04:18:04.340732Z",
     "shell.execute_reply": "2024-09-24T04:18:04.339360Z"
    },
    "papermill": {
     "duration": 0.261942,
     "end_time": "2024-09-24T04:18:04.343400",
     "exception": false,
     "start_time": "2024-09-24T04:18:04.081458",
     "status": "completed"
    },
    "tags": [],
    "trusted": false
   },
   "id": "80821f06",
   "cell_type": "code",
   "source": "test_feat = (ctb_test\n             .merge(users[user_col], on=['user_id'], how='left')\n             .merge(items[item_col], on=['item_id'], how='left'))",
   "execution_count": 64,
   "outputs": []
  },
  {
   "metadata": {
    "execution": {
     "iopub.execute_input": "2024-09-24T04:18:04.390046Z",
     "iopub.status.busy": "2024-09-24T04:18:04.389664Z",
     "iopub.status.idle": "2024-09-24T04:18:04.488795Z",
     "shell.execute_reply": "2024-09-24T04:18:04.487634Z"
    },
    "papermill": {
     "duration": 0.125391,
     "end_time": "2024-09-24T04:18:04.491303",
     "exception": false,
     "start_time": "2024-09-24T04:18:04.365912",
     "status": "completed"
    },
    "tags": [],
    "trusted": false
   },
   "id": "ff345dea",
   "cell_type": "code",
   "source": "# fillna for catboost with the most frequent value\ntest_feat = test_feat.fillna(X_train.mode().iloc[0])",
   "execution_count": 65,
   "outputs": []
  },
  {
   "metadata": {
    "execution": {
     "iopub.execute_input": "2024-09-24T04:18:04.539482Z",
     "iopub.status.busy": "2024-09-24T04:18:04.538695Z",
     "iopub.status.idle": "2024-09-24T04:18:04.548952Z",
     "shell.execute_reply": "2024-09-24T04:18:04.547865Z"
    },
    "papermill": {
     "duration": 0.036932,
     "end_time": "2024-09-24T04:18:04.551281",
     "exception": false,
     "start_time": "2024-09-24T04:18:04.514349",
     "status": "completed"
    },
    "tags": [],
    "trusted": false
   },
   "id": "afbb4443",
   "cell_type": "code",
   "source": "X_test, y_test = test_feat.drop(drop_col + target_col, axis=1), test_feat['target']",
   "execution_count": 66,
   "outputs": []
  },
  {
   "metadata": {
    "execution": {
     "iopub.execute_input": "2024-09-24T04:18:04.598450Z",
     "iopub.status.busy": "2024-09-24T04:18:04.597990Z",
     "iopub.status.idle": "2024-09-24T04:18:04.614160Z",
     "shell.execute_reply": "2024-09-24T04:18:04.613125Z"
    },
    "papermill": {
     "duration": 0.042309,
     "end_time": "2024-09-24T04:18:04.616159",
     "exception": false,
     "start_time": "2024-09-24T04:18:04.573850",
     "status": "completed"
    },
    "tags": [],
    "trusted": false
   },
   "id": "ac30617b",
   "cell_type": "code",
   "source": "X_test.head()",
   "execution_count": 67,
   "outputs": [
    {
     "data": {
      "text/html": "<div>\n<style scoped>\n    .dataframe tbody tr th:only-of-type {\n        vertical-align: middle;\n    }\n\n    .dataframe tbody tr th {\n        vertical-align: top;\n    }\n\n    .dataframe thead th {\n        text-align: right;\n    }\n</style>\n<table border=\"1\" class=\"dataframe\">\n  <thead>\n    <tr style=\"text-align: right;\">\n      <th></th>\n      <th>rank</th>\n      <th>age</th>\n      <th>income</th>\n      <th>sex</th>\n      <th>kids_flg</th>\n      <th>content_type</th>\n      <th>countries</th>\n      <th>for_kids</th>\n      <th>age_rating</th>\n      <th>studios</th>\n    </tr>\n  </thead>\n  <tbody>\n    <tr>\n      <th>0</th>\n      <td>2</td>\n      <td>age_35_44</td>\n      <td>income_20_40</td>\n      <td>М</td>\n      <td>1.0</td>\n      <td>film</td>\n      <td>Канада</td>\n      <td>0.0</td>\n      <td>18.0</td>\n      <td>CBS All Access</td>\n    </tr>\n    <tr>\n      <th>1</th>\n      <td>7</td>\n      <td>age_35_44</td>\n      <td>income_20_40</td>\n      <td>М</td>\n      <td>0.0</td>\n      <td>film</td>\n      <td>США, Великобритания, Франция</td>\n      <td>0.0</td>\n      <td>16.0</td>\n      <td>CBS All Access</td>\n    </tr>\n    <tr>\n      <th>2</th>\n      <td>29</td>\n      <td>age_45_54</td>\n      <td>income_40_60</td>\n      <td>М</td>\n      <td>1.0</td>\n      <td>film</td>\n      <td>Россия</td>\n      <td>0.0</td>\n      <td>18.0</td>\n      <td>CBS All Access</td>\n    </tr>\n    <tr>\n      <th>3</th>\n      <td>6</td>\n      <td>age_18_24</td>\n      <td>income_40_60</td>\n      <td>М</td>\n      <td>0.0</td>\n      <td>film</td>\n      <td>Россия</td>\n      <td>0.0</td>\n      <td>16.0</td>\n      <td>CBS All Access</td>\n    </tr>\n    <tr>\n      <th>4</th>\n      <td>7</td>\n      <td>age_18_24</td>\n      <td>income_20_40</td>\n      <td>Ж</td>\n      <td>0.0</td>\n      <td>film</td>\n      <td>США</td>\n      <td>0.0</td>\n      <td>12.0</td>\n      <td>CBS All Access</td>\n    </tr>\n  </tbody>\n</table>\n</div>",
      "text/plain": "   rank        age        income sex  kids_flg content_type  \\\n0     2  age_35_44  income_20_40   М       1.0         film   \n1     7  age_35_44  income_20_40   М       0.0         film   \n2    29  age_45_54  income_40_60   М       1.0         film   \n3     6  age_18_24  income_40_60   М       0.0         film   \n4     7  age_18_24  income_20_40   Ж       0.0         film   \n\n                      countries  for_kids  age_rating         studios  \n0                        Канада       0.0        18.0  CBS All Access  \n1  США, Великобритания, Франция       0.0        16.0  CBS All Access  \n2                        Россия       0.0        18.0  CBS All Access  \n3                        Россия       0.0        16.0  CBS All Access  \n4                           США       0.0        12.0  CBS All Access  "
     },
     "execution_count": 67,
     "metadata": {},
     "output_type": "execute_result"
    }
   ]
  },
  {
   "metadata": {
    "execution": {
     "iopub.execute_input": "2024-09-24T04:18:04.663880Z",
     "iopub.status.busy": "2024-09-24T04:18:04.662759Z",
     "iopub.status.idle": "2024-09-24T04:18:04.914231Z",
     "shell.execute_reply": "2024-09-24T04:18:04.913172Z"
    },
    "papermill": {
     "duration": 0.277955,
     "end_time": "2024-09-24T04:18:04.916707",
     "exception": false,
     "start_time": "2024-09-24T04:18:04.638752",
     "status": "completed"
    },
    "tags": [],
    "trusted": false
   },
   "id": "68bfc5a7",
   "cell_type": "code",
   "source": "y_pred = ctb_model.predict_proba(X_test)",
   "execution_count": 68,
   "outputs": []
  },
  {
   "metadata": {
    "execution": {
     "iopub.execute_input": "2024-09-24T04:18:04.963956Z",
     "iopub.status.busy": "2024-09-24T04:18:04.963530Z",
     "iopub.status.idle": "2024-09-24T04:18:04.985902Z",
     "shell.execute_reply": "2024-09-24T04:18:04.984920Z"
    },
    "papermill": {
     "duration": 0.04858,
     "end_time": "2024-09-24T04:18:04.988058",
     "exception": false,
     "start_time": "2024-09-24T04:18:04.939478",
     "status": "completed"
    },
    "tags": [],
    "trusted": false
   },
   "id": "a66444d4",
   "cell_type": "code",
   "source": "f\"ROC AUC score = {roc_auc_score(y_test, y_pred[:, 1]):.2f}\"",
   "execution_count": 69,
   "outputs": [
    {
     "data": {
      "text/plain": "'ROC AUC score = 0.77'"
     },
     "execution_count": 69,
     "metadata": {},
     "output_type": "execute_result"
    }
   ]
  },
  {
   "metadata": {},
   "id": "b0afa35a",
   "cell_type": "markdown",
   "source": "# Метрики качества на глобальном test\n\n- Формируем рекомендации отдельно моделью 1 этапа - bpr\n- Отдельно двухэтапной моделью bpr + Catboost\n- Сравниваем\n\n## 1) Метрики качества bpr"
  },
  {
   "metadata": {
    "execution": {
     "iopub.execute_input": "2024-09-24T04:18:05.035724Z",
     "iopub.status.busy": "2024-09-24T04:18:05.035284Z",
     "iopub.status.idle": "2024-09-24T04:18:05.072348Z",
     "shell.execute_reply": "2024-09-24T04:18:05.071185Z"
    },
    "papermill": {
     "duration": 0.064091,
     "end_time": "2024-09-24T04:18:05.075065",
     "exception": false,
     "start_time": "2024-09-24T04:18:05.010974",
     "status": "completed"
    },
    "tags": [],
    "trusted": false
   },
   "id": "8faf8d50",
   "cell_type": "code",
   "source": "# оставляем только теплых пользователей\ntest = test[test['user_id'].isin(val['user_id'].unique())]",
   "execution_count": 70,
   "outputs": []
  },
  {
   "metadata": {
    "execution": {
     "iopub.execute_input": "2024-09-24T04:18:05.125013Z",
     "iopub.status.busy": "2024-09-24T04:18:05.124583Z",
     "iopub.status.idle": "2024-09-24T04:18:16.241362Z",
     "shell.execute_reply": "2024-09-24T04:18:16.240252Z"
    },
    "papermill": {
     "duration": 11.145217,
     "end_time": "2024-09-24T04:18:16.244023",
     "exception": false,
     "start_time": "2024-09-24T04:18:05.098806",
     "status": "completed"
    },
    "tags": [],
    "trusted": false
   },
   "id": "2169388e",
   "cell_type": "code",
   "source": "test_user_history = test.groupby('user_id')[['item_id']].agg(lambda x: list(x))\npred_bpr = predict(user_vecs, item_vecs, k=100)\npred_bpr = test_user_history.merge(pred_bpr, how='left', on='user_id')",
   "execution_count": 71,
   "outputs": []
  },
  {
   "metadata": {
    "execution": {
     "iopub.execute_input": "2024-09-24T04:18:16.293528Z",
     "iopub.status.busy": "2024-09-24T04:18:16.293083Z",
     "iopub.status.idle": "2024-09-24T04:18:17.846614Z",
     "shell.execute_reply": "2024-09-24T04:18:17.845494Z"
    },
    "papermill": {
     "duration": 1.580705,
     "end_time": "2024-09-24T04:18:17.848920",
     "exception": false,
     "start_time": "2024-09-24T04:18:16.268215",
     "status": "completed"
    },
    "tags": [],
    "trusted": false
   },
   "id": "9ecfa56b",
   "cell_type": "code",
   "source": "recall(pred_bpr, k=20)",
   "execution_count": 72,
   "outputs": [
    {
     "data": {
      "text/plain": "0.042217550721510705"
     },
     "execution_count": 72,
     "metadata": {},
     "output_type": "execute_result"
    }
   ]
  },
  {
   "metadata": {
    "execution": {
     "iopub.execute_input": "2024-09-24T04:18:17.897182Z",
     "iopub.status.busy": "2024-09-24T04:18:17.896392Z",
     "iopub.status.idle": "2024-09-24T04:18:19.473340Z",
     "shell.execute_reply": "2024-09-24T04:18:19.472320Z"
    },
    "papermill": {
     "duration": 1.603479,
     "end_time": "2024-09-24T04:18:19.475553",
     "exception": false,
     "start_time": "2024-09-24T04:18:17.872074",
     "status": "completed"
    },
    "tags": [],
    "trusted": false
   },
   "id": "ff3f2705",
   "cell_type": "code",
   "source": "precision(pred_bpr, k=20)",
   "execution_count": 73,
   "outputs": [
    {
     "data": {
      "text/plain": "0.04225740023000195"
     },
     "execution_count": 73,
     "metadata": {},
     "output_type": "execute_result"
    }
   ]
  },
  {
   "metadata": {
    "execution": {
     "iopub.execute_input": "2024-09-24T04:18:19.524411Z",
     "iopub.status.busy": "2024-09-24T04:18:19.523980Z",
     "iopub.status.idle": "2024-09-24T04:18:20.989399Z",
     "shell.execute_reply": "2024-09-24T04:18:20.988242Z"
    },
    "papermill": {
     "duration": 1.492512,
     "end_time": "2024-09-24T04:18:20.991862",
     "exception": false,
     "start_time": "2024-09-24T04:18:19.499350",
     "status": "completed"
    },
    "tags": [],
    "trusted": false
   },
   "id": "9d748d99",
   "cell_type": "code",
   "source": "mrr(pred_bpr, k=20)",
   "execution_count": 74,
   "outputs": [
    {
     "data": {
      "text/plain": "0.021039760800473414"
     },
     "execution_count": 74,
     "metadata": {},
     "output_type": "execute_result"
    }
   ]
  },
  {
   "metadata": {},
   "id": "6e19799f",
   "cell_type": "markdown",
   "source": "## 2) Метрики качества двухэтапной модели: `bpr` + `Catboost`"
  },
  {
   "metadata": {
    "execution": {
     "iopub.execute_input": "2024-09-24T04:18:21.041142Z",
     "iopub.status.busy": "2024-09-24T04:18:21.040732Z",
     "iopub.status.idle": "2024-09-24T04:18:21.447134Z",
     "shell.execute_reply": "2024-09-24T04:18:21.445919Z"
    },
    "papermill": {
     "duration": 0.433981,
     "end_time": "2024-09-24T04:18:21.449551",
     "exception": false,
     "start_time": "2024-09-24T04:18:21.015570",
     "status": "completed"
    },
    "tags": [],
    "trusted": false
   },
   "id": "4bddfa7f",
   "cell_type": "code",
   "source": "# генерируем предказания\n\npred_bpr = pred_bpr[['user_id', 'preds']]\npred_bpr = pred_bpr.explode('preds').rename(columns={'preds': 'item_id'})\npred_bpr['rank'] = pred_bpr.groupby('user_id').cumcount() + 1\n\npred_bpr.head()",
   "execution_count": 75,
   "outputs": [
    {
     "data": {
      "text/html": "<div>\n<style scoped>\n    .dataframe tbody tr th:only-of-type {\n        vertical-align: middle;\n    }\n\n    .dataframe tbody tr th {\n        vertical-align: top;\n    }\n\n    .dataframe thead th {\n        text-align: right;\n    }\n</style>\n<table border=\"1\" class=\"dataframe\">\n  <thead>\n    <tr style=\"text-align: right;\">\n      <th></th>\n      <th>user_id</th>\n      <th>item_id</th>\n      <th>rank</th>\n    </tr>\n  </thead>\n  <tbody>\n    <tr>\n      <th>0</th>\n      <td>21</td>\n      <td>849</td>\n      <td>1</td>\n    </tr>\n    <tr>\n      <th>0</th>\n      <td>21</td>\n      <td>11237</td>\n      <td>2</td>\n    </tr>\n    <tr>\n      <th>0</th>\n      <td>21</td>\n      <td>24</td>\n      <td>3</td>\n    </tr>\n    <tr>\n      <th>0</th>\n      <td>21</td>\n      <td>1053</td>\n      <td>4</td>\n    </tr>\n    <tr>\n      <th>0</th>\n      <td>21</td>\n      <td>7713</td>\n      <td>5</td>\n    </tr>\n  </tbody>\n</table>\n</div>",
      "text/plain": "   user_id item_id  rank\n0       21     849     1\n0       21   11237     2\n0       21      24     3\n0       21    1053     4\n0       21    7713     5"
     },
     "execution_count": 75,
     "metadata": {},
     "output_type": "execute_result"
    }
   ]
  },
  {
   "metadata": {
    "execution": {
     "iopub.execute_input": "2024-09-24T04:18:21.499721Z",
     "iopub.status.busy": "2024-09-24T04:18:21.499219Z",
     "iopub.status.idle": "2024-09-24T04:18:25.273167Z",
     "shell.execute_reply": "2024-09-24T04:18:25.271997Z"
    },
    "papermill": {
     "duration": 3.802313,
     "end_time": "2024-09-24T04:18:25.275769",
     "exception": false,
     "start_time": "2024-09-24T04:18:21.473456",
     "status": "completed"
    },
    "tags": [],
    "trusted": false
   },
   "id": "1fedb067",
   "cell_type": "code",
   "source": "pred_bpr_ctb = pred_bpr.copy()\n\n# фичи для теста\nscore_feat = (pred_bpr_ctb\n              .merge(users[user_col], on=['user_id'], how='left')\n              .merge(items[item_col], on=['item_id'], how='left'))\n\n# fillna for catboost with the most frequent value\nscore_feat = score_feat.fillna(X_train.mode().iloc[0])",
   "execution_count": 76,
   "outputs": []
  },
  {
   "metadata": {
    "execution": {
     "iopub.execute_input": "2024-09-24T04:18:25.326028Z",
     "iopub.status.busy": "2024-09-24T04:18:25.325611Z",
     "iopub.status.idle": "2024-09-24T04:18:25.342957Z",
     "shell.execute_reply": "2024-09-24T04:18:25.341883Z"
    },
    "papermill": {
     "duration": 0.045409,
     "end_time": "2024-09-24T04:18:25.345202",
     "exception": false,
     "start_time": "2024-09-24T04:18:25.299793",
     "status": "completed"
    },
    "tags": [],
    "trusted": false
   },
   "id": "56e494d5",
   "cell_type": "code",
   "source": "score_feat.head()",
   "execution_count": 77,
   "outputs": [
    {
     "data": {
      "text/html": "<div>\n<style scoped>\n    .dataframe tbody tr th:only-of-type {\n        vertical-align: middle;\n    }\n\n    .dataframe tbody tr th {\n        vertical-align: top;\n    }\n\n    .dataframe thead th {\n        text-align: right;\n    }\n</style>\n<table border=\"1\" class=\"dataframe\">\n  <thead>\n    <tr style=\"text-align: right;\">\n      <th></th>\n      <th>user_id</th>\n      <th>item_id</th>\n      <th>rank</th>\n      <th>age</th>\n      <th>income</th>\n      <th>sex</th>\n      <th>kids_flg</th>\n      <th>content_type</th>\n      <th>countries</th>\n      <th>for_kids</th>\n      <th>age_rating</th>\n      <th>studios</th>\n    </tr>\n  </thead>\n  <tbody>\n    <tr>\n      <th>0</th>\n      <td>21</td>\n      <td>849</td>\n      <td>1</td>\n      <td>age_45_54</td>\n      <td>income_20_40</td>\n      <td>Ж</td>\n      <td>0.0</td>\n      <td>film</td>\n      <td>США</td>\n      <td>0.0</td>\n      <td>18.0</td>\n      <td>CBS All Access</td>\n    </tr>\n    <tr>\n      <th>1</th>\n      <td>21</td>\n      <td>11237</td>\n      <td>2</td>\n      <td>age_45_54</td>\n      <td>income_20_40</td>\n      <td>Ж</td>\n      <td>0.0</td>\n      <td>film</td>\n      <td>Россия</td>\n      <td>0.0</td>\n      <td>16.0</td>\n      <td>CBS All Access</td>\n    </tr>\n    <tr>\n      <th>2</th>\n      <td>21</td>\n      <td>24</td>\n      <td>3</td>\n      <td>age_45_54</td>\n      <td>income_20_40</td>\n      <td>Ж</td>\n      <td>0.0</td>\n      <td>series</td>\n      <td>Германия</td>\n      <td>0.0</td>\n      <td>16.0</td>\n      <td>CBS All Access</td>\n    </tr>\n    <tr>\n      <th>3</th>\n      <td>21</td>\n      <td>1053</td>\n      <td>4</td>\n      <td>age_45_54</td>\n      <td>income_20_40</td>\n      <td>Ж</td>\n      <td>0.0</td>\n      <td>film</td>\n      <td>США</td>\n      <td>0.0</td>\n      <td>18.0</td>\n      <td>CBS All Access</td>\n    </tr>\n    <tr>\n      <th>4</th>\n      <td>21</td>\n      <td>7713</td>\n      <td>5</td>\n      <td>age_45_54</td>\n      <td>income_20_40</td>\n      <td>Ж</td>\n      <td>0.0</td>\n      <td>film</td>\n      <td>Россия</td>\n      <td>0.0</td>\n      <td>16.0</td>\n      <td>CBS All Access</td>\n    </tr>\n  </tbody>\n</table>\n</div>",
      "text/plain": "   user_id item_id  rank        age        income sex  kids_flg content_type  \\\n0       21     849     1  age_45_54  income_20_40   Ж       0.0         film   \n1       21   11237     2  age_45_54  income_20_40   Ж       0.0         film   \n2       21      24     3  age_45_54  income_20_40   Ж       0.0       series   \n3       21    1053     4  age_45_54  income_20_40   Ж       0.0         film   \n4       21    7713     5  age_45_54  income_20_40   Ж       0.0         film   \n\n  countries  for_kids  age_rating         studios  \n0       США       0.0        18.0  CBS All Access  \n1    Россия       0.0        16.0  CBS All Access  \n2  Германия       0.0        16.0  CBS All Access  \n3       США       0.0        18.0  CBS All Access  \n4    Россия       0.0        16.0  CBS All Access  "
     },
     "execution_count": 77,
     "metadata": {},
     "output_type": "execute_result"
    }
   ]
  },
  {
   "metadata": {
    "execution": {
     "iopub.execute_input": "2024-09-24T04:18:25.395647Z",
     "iopub.status.busy": "2024-09-24T04:18:25.395238Z",
     "iopub.status.idle": "2024-09-24T04:18:40.796460Z",
     "shell.execute_reply": "2024-09-24T04:18:40.795358Z"
    },
    "papermill": {
     "duration": 15.429148,
     "end_time": "2024-09-24T04:18:40.798868",
     "exception": false,
     "start_time": "2024-09-24T04:18:25.369720",
     "status": "completed"
    },
    "tags": [],
    "trusted": false
   },
   "id": "18b8c416",
   "cell_type": "code",
   "source": "# catboost predict_proba\nctb_prediction = ctb_model.predict_proba(score_feat.drop(drop_col, axis=1, errors='ignore'))\n\npred_bpr_ctb['ctb_pred'] = ctb_prediction[:, 1]\npred_bpr_ctb.head(3)",
   "execution_count": 78,
   "outputs": [
    {
     "data": {
      "text/html": "<div>\n<style scoped>\n    .dataframe tbody tr th:only-of-type {\n        vertical-align: middle;\n    }\n\n    .dataframe tbody tr th {\n        vertical-align: top;\n    }\n\n    .dataframe thead th {\n        text-align: right;\n    }\n</style>\n<table border=\"1\" class=\"dataframe\">\n  <thead>\n    <tr style=\"text-align: right;\">\n      <th></th>\n      <th>user_id</th>\n      <th>item_id</th>\n      <th>rank</th>\n      <th>ctb_pred</th>\n    </tr>\n  </thead>\n  <tbody>\n    <tr>\n      <th>0</th>\n      <td>21</td>\n      <td>849</td>\n      <td>1</td>\n      <td>0.238199</td>\n    </tr>\n    <tr>\n      <th>0</th>\n      <td>21</td>\n      <td>11237</td>\n      <td>2</td>\n      <td>0.423691</td>\n    </tr>\n    <tr>\n      <th>0</th>\n      <td>21</td>\n      <td>24</td>\n      <td>3</td>\n      <td>0.182443</td>\n    </tr>\n  </tbody>\n</table>\n</div>",
      "text/plain": "   user_id item_id  rank  ctb_pred\n0       21     849     1  0.238199\n0       21   11237     2  0.423691\n0       21      24     3  0.182443"
     },
     "execution_count": 78,
     "metadata": {},
     "output_type": "execute_result"
    }
   ]
  },
  {
   "metadata": {},
   "id": "f10c12cc",
   "cell_type": "markdown",
   "source": "### Проставляем итоговый ранк двухэтапной модели"
  },
  {
   "metadata": {
    "execution": {
     "iopub.execute_input": "2024-09-24T04:18:40.849398Z",
     "iopub.status.busy": "2024-09-24T04:18:40.848956Z",
     "iopub.status.idle": "2024-09-24T04:18:41.713125Z",
     "shell.execute_reply": "2024-09-24T04:18:41.711954Z"
    },
    "papermill": {
     "duration": 0.892041,
     "end_time": "2024-09-24T04:18:41.715522",
     "exception": false,
     "start_time": "2024-09-24T04:18:40.823481",
     "status": "completed"
    },
    "tags": [],
    "trusted": false
   },
   "id": "4dfaf68a",
   "cell_type": "code",
   "source": "# сортируем по скору внутри одного пользователя и проставляем новый ранг\npred_bpr_ctb = pred_bpr_ctb.sort_values(\n    by=['user_id', 'ctb_pred'], ascending=[True, False])\npred_bpr_ctb['rank_ctb'] = pred_bpr_ctb.groupby('user_id').cumcount() + 1",
   "execution_count": 79,
   "outputs": []
  },
  {
   "metadata": {
    "execution": {
     "iopub.execute_input": "2024-09-24T04:18:41.767274Z",
     "iopub.status.busy": "2024-09-24T04:18:41.766379Z",
     "iopub.status.idle": "2024-09-24T04:18:41.778951Z",
     "shell.execute_reply": "2024-09-24T04:18:41.777872Z"
    },
    "papermill": {
     "duration": 0.041075,
     "end_time": "2024-09-24T04:18:41.781078",
     "exception": false,
     "start_time": "2024-09-24T04:18:41.740003",
     "status": "completed"
    },
    "tags": [],
    "trusted": false
   },
   "id": "fd31c3d6",
   "cell_type": "code",
   "source": "pred_bpr_ctb.head(10)",
   "execution_count": 80,
   "outputs": [
    {
     "data": {
      "text/html": "<div>\n<style scoped>\n    .dataframe tbody tr th:only-of-type {\n        vertical-align: middle;\n    }\n\n    .dataframe tbody tr th {\n        vertical-align: top;\n    }\n\n    .dataframe thead th {\n        text-align: right;\n    }\n</style>\n<table border=\"1\" class=\"dataframe\">\n  <thead>\n    <tr style=\"text-align: right;\">\n      <th></th>\n      <th>user_id</th>\n      <th>item_id</th>\n      <th>rank</th>\n      <th>ctb_pred</th>\n      <th>rank_ctb</th>\n    </tr>\n  </thead>\n  <tbody>\n    <tr>\n      <th>0</th>\n      <td>21</td>\n      <td>4880</td>\n      <td>38</td>\n      <td>0.739261</td>\n      <td>1</td>\n    </tr>\n    <tr>\n      <th>0</th>\n      <td>21</td>\n      <td>13936</td>\n      <td>6</td>\n      <td>0.515807</td>\n      <td>2</td>\n    </tr>\n    <tr>\n      <th>0</th>\n      <td>21</td>\n      <td>7713</td>\n      <td>5</td>\n      <td>0.442528</td>\n      <td>3</td>\n    </tr>\n    <tr>\n      <th>0</th>\n      <td>21</td>\n      <td>11237</td>\n      <td>2</td>\n      <td>0.423691</td>\n      <td>4</td>\n    </tr>\n    <tr>\n      <th>0</th>\n      <td>21</td>\n      <td>7417</td>\n      <td>7</td>\n      <td>0.380741</td>\n      <td>5</td>\n    </tr>\n    <tr>\n      <th>0</th>\n      <td>21</td>\n      <td>12058</td>\n      <td>9</td>\n      <td>0.307638</td>\n      <td>6</td>\n    </tr>\n    <tr>\n      <th>0</th>\n      <td>21</td>\n      <td>496</td>\n      <td>10</td>\n      <td>0.290765</td>\n      <td>7</td>\n    </tr>\n    <tr>\n      <th>0</th>\n      <td>21</td>\n      <td>12701</td>\n      <td>45</td>\n      <td>0.269757</td>\n      <td>8</td>\n    </tr>\n    <tr>\n      <th>0</th>\n      <td>21</td>\n      <td>8252</td>\n      <td>67</td>\n      <td>0.269757</td>\n      <td>9</td>\n    </tr>\n    <tr>\n      <th>0</th>\n      <td>21</td>\n      <td>8636</td>\n      <td>11</td>\n      <td>0.258652</td>\n      <td>10</td>\n    </tr>\n  </tbody>\n</table>\n</div>",
      "text/plain": "   user_id item_id  rank  ctb_pred  rank_ctb\n0       21    4880    38  0.739261         1\n0       21   13936     6  0.515807         2\n0       21    7713     5  0.442528         3\n0       21   11237     2  0.423691         4\n0       21    7417     7  0.380741         5\n0       21   12058     9  0.307638         6\n0       21     496    10  0.290765         7\n0       21   12701    45  0.269757         8\n0       21    8252    67  0.269757         9\n0       21    8636    11  0.258652        10"
     },
     "execution_count": 80,
     "metadata": {},
     "output_type": "execute_result"
    }
   ]
  },
  {
   "metadata": {},
   "id": "e43eb612",
   "cell_type": "markdown",
   "source": "### `1+2 этапы bpr + Сatboost`: Метрики"
  },
  {
   "metadata": {
    "execution": {
     "iopub.execute_input": "2024-09-24T04:18:41.833776Z",
     "iopub.status.busy": "2024-09-24T04:18:41.832631Z",
     "iopub.status.idle": "2024-09-24T04:18:47.348248Z",
     "shell.execute_reply": "2024-09-24T04:18:47.347166Z"
    },
    "papermill": {
     "duration": 5.544347,
     "end_time": "2024-09-24T04:18:47.350884",
     "exception": false,
     "start_time": "2024-09-24T04:18:41.806537",
     "status": "completed"
    },
    "tags": [],
    "trusted": false
   },
   "id": "2f631b6a",
   "cell_type": "code",
   "source": "true_items = test.groupby('user_id').agg(lambda x: list(x))[['item_id']].reset_index()\npred_items = pred_bpr_ctb.groupby('user_id').agg(lambda x: list(x))[['item_id']].reset_index().rename(columns={'item_id': 'preds'})\ntrue_pred_items = true_items.merge(pred_items, how='left')",
   "execution_count": 81,
   "outputs": []
  },
  {
   "metadata": {
    "execution": {
     "iopub.execute_input": "2024-09-24T04:18:47.402354Z",
     "iopub.status.busy": "2024-09-24T04:18:47.401908Z",
     "iopub.status.idle": "2024-09-24T04:18:48.931597Z",
     "shell.execute_reply": "2024-09-24T04:18:48.930556Z"
    },
    "papermill": {
     "duration": 1.558034,
     "end_time": "2024-09-24T04:18:48.933775",
     "exception": false,
     "start_time": "2024-09-24T04:18:47.375741",
     "status": "completed"
    },
    "tags": [],
    "trusted": false
   },
   "id": "ac521203",
   "cell_type": "code",
   "source": "recall(true_pred_items, k=20)",
   "execution_count": 82,
   "outputs": [
    {
     "data": {
      "text/plain": "0.05371511488902361"
     },
     "execution_count": 82,
     "metadata": {},
     "output_type": "execute_result"
    }
   ]
  },
  {
   "metadata": {
    "execution": {
     "iopub.execute_input": "2024-09-24T04:18:48.985053Z",
     "iopub.status.busy": "2024-09-24T04:18:48.984652Z",
     "iopub.status.idle": "2024-09-24T04:18:50.533743Z",
     "shell.execute_reply": "2024-09-24T04:18:50.532531Z"
    },
    "papermill": {
     "duration": 1.577296,
     "end_time": "2024-09-24T04:18:50.536052",
     "exception": false,
     "start_time": "2024-09-24T04:18:48.958756",
     "status": "completed"
    },
    "tags": [],
    "trusted": false
   },
   "id": "e2786856",
   "cell_type": "code",
   "source": "precision(true_pred_items, k=20)",
   "execution_count": 83,
   "outputs": [
    {
     "data": {
      "text/plain": "0.0537566192633558"
     },
     "execution_count": 83,
     "metadata": {},
     "output_type": "execute_result"
    }
   ]
  },
  {
   "metadata": {
    "execution": {
     "iopub.execute_input": "2024-09-24T04:18:50.588338Z",
     "iopub.status.busy": "2024-09-24T04:18:50.587916Z",
     "iopub.status.idle": "2024-09-24T04:18:52.062245Z",
     "shell.execute_reply": "2024-09-24T04:18:52.061165Z"
    },
    "papermill": {
     "duration": 1.503041,
     "end_time": "2024-09-24T04:18:52.064525",
     "exception": false,
     "start_time": "2024-09-24T04:18:50.561484",
     "status": "completed"
    },
    "tags": [],
    "trusted": false
   },
   "id": "28538d35",
   "cell_type": "code",
   "source": "mrr(true_pred_items, k=20)",
   "execution_count": 84,
   "outputs": [
    {
     "data": {
      "text/plain": "0.03348700850344106"
     },
     "execution_count": 84,
     "metadata": {},
     "output_type": "execute_result"
    }
   ]
  }
 ],
 "metadata": {
  "kaggle": {
   "accelerator": "none",
   "dataSources": [
    {
     "datasetId": 5755040,
     "sourceId": 9465066,
     "sourceType": "datasetVersion"
    }
   ],
   "dockerImageVersionId": 30761,
   "isGpuEnabled": false,
   "isInternetEnabled": true,
   "language": "python",
   "sourceType": "notebook"
  },
  "kernelspec": {
   "name": "python3",
   "display_name": "Python 3",
   "language": "python"
  },
  "language_info": {
   "name": "python",
   "version": "3.10.4",
   "mimetype": "text/x-python",
   "codemirror_mode": {
    "name": "ipython",
    "version": 3
   },
   "pygments_lexer": "ipython3",
   "nbconvert_exporter": "python",
   "file_extension": ".py"
  },
  "papermill": {
   "default_parameters": {},
   "duration": 318.682585,
   "end_time": "2024-09-24T04:18:53.427677",
   "environment_variables": {},
   "exception": null,
   "input_path": "__notebook__.ipynb",
   "output_path": "__notebook__.ipynb",
   "parameters": {},
   "start_time": "2024-09-24T04:13:34.745092",
   "version": "2.6.0"
  },
  "widgets": {
   "application/vnd.jupyter.widget-state+json": {
    "state": {
     "014bb2ef9c8f4a67ac0703a70e53067c": {
      "model_module": "@jupyter-widgets/controls",
      "model_module_version": "1.5.0",
      "model_name": "FloatProgressModel",
      "state": {
       "_dom_classes": [],
       "_model_module": "@jupyter-widgets/controls",
       "_model_module_version": "1.5.0",
       "_model_name": "FloatProgressModel",
       "_view_count": null,
       "_view_module": "@jupyter-widgets/controls",
       "_view_module_version": "1.5.0",
       "_view_name": "ProgressView",
       "bar_style": "success",
       "description": "",
       "description_tooltip": null,
       "layout": "IPY_MODEL_f0e4c9dd3c5f45fc9634edc1b0b94972",
       "max": 50,
       "min": 0,
       "orientation": "horizontal",
       "style": "IPY_MODEL_a32535a7b7c24aa2a9b5f44e6d0613be",
       "value": 50
      }
     },
     "11940b34946647b7823f76363d2c2241": {
      "model_module": "@jupyter-widgets/controls",
      "model_module_version": "1.5.0",
      "model_name": "HBoxModel",
      "state": {
       "_dom_classes": [],
       "_model_module": "@jupyter-widgets/controls",
       "_model_module_version": "1.5.0",
       "_model_name": "HBoxModel",
       "_view_count": null,
       "_view_module": "@jupyter-widgets/controls",
       "_view_module_version": "1.5.0",
       "_view_name": "HBoxView",
       "box_style": "",
       "children": [
        "IPY_MODEL_94f4910d077747e5969441400f54a651",
        "IPY_MODEL_014bb2ef9c8f4a67ac0703a70e53067c",
        "IPY_MODEL_252f488e7fcf44989ff3d192bf39c9db"
       ],
       "layout": "IPY_MODEL_a0423c4ec6d64030b850a761158348a6"
      }
     },
     "252f488e7fcf44989ff3d192bf39c9db": {
      "model_module": "@jupyter-widgets/controls",
      "model_module_version": "1.5.0",
      "model_name": "HTMLModel",
      "state": {
       "_dom_classes": [],
       "_model_module": "@jupyter-widgets/controls",
       "_model_module_version": "1.5.0",
       "_model_name": "HTMLModel",
       "_view_count": null,
       "_view_module": "@jupyter-widgets/controls",
       "_view_module_version": "1.5.0",
       "_view_name": "HTMLView",
       "description": "",
       "description_tooltip": null,
       "layout": "IPY_MODEL_bfaa89a2055a40ce930da0e7f38d6c4c",
       "placeholder": "​",
       "style": "IPY_MODEL_5c94634dccb14f50883625c012745bdb",
       "value": " 50/50 [00:09&lt;00:00,  5.51it/s, train_auc=85.41%, skipped=3.55%]"
      }
     },
     "45355f3bb00048a299b309a4454e0ed7": {
      "model_module": "catboost-widget",
      "model_module_version": "^1.0.0",
      "model_name": "CatboostWidgetModel",
      "state": {
       "_dom_classes": [],
       "_model_module": "catboost-widget",
       "_model_module_version": "^1.0.0",
       "_model_name": "CatboostWidgetModel",
       "_view_count": null,
       "_view_module": "catboost-widget",
       "_view_module_version": "^1.0.0",
       "_view_name": "CatboostWidgetView",
       "data": {
        "catboost_info": {
         "content": {
          "data": {
           "iterations": [
            {
             "iteration": 0,
             "learn": [
              0.6900379825
             ],
             "passed_time": 0.1753396338,
             "remaining_time": 350.503928,
             "test": [
              0.6900920026
             ]
            },
            {
             "iteration": 1,
             "learn": [
              0.6870188278
             ],
             "passed_time": 0.2878254574,
             "remaining_time": 287.5376319,
             "test": [
              0.6871318258
             ]
            },
            {
             "iteration": 2,
             "learn": [
              0.6841062104
             ],
             "passed_time": 0.3781293112,
             "remaining_time": 251.7080781,
             "test": [
              0.684284786
             ]
            },
            {
             "iteration": 3,
             "learn": [
              0.6813311219
             ],
             "passed_time": 0.4707825317,
             "remaining_time": 234.9204833,
             "test": [
              0.6815388592
             ]
            },
            {
             "iteration": 4,
             "learn": [
              0.6785888324
             ],
             "passed_time": 0.56144016,
             "remaining_time": 224.0146238,
             "test": [
              0.6788408031
             ]
            },
            {
             "iteration": 5,
             "learn": [
              0.6759177171
             ],
             "passed_time": 0.642537778,
             "remaining_time": 213.5367215,
             "test": [
              0.676201081
             ]
            },
            {
             "iteration": 6,
             "learn": [
              0.6731740639
             ],
             "passed_time": 0.7493036889,
             "remaining_time": 213.3374646,
             "test": [
              0.6735199978
             ]
            },
            {
             "iteration": 7,
             "learn": [
              0.6705193409
             ],
             "passed_time": 0.8331241444,
             "remaining_time": 207.4479119,
             "test": [
              0.6709256233
             ]
            },
            {
             "iteration": 8,
             "learn": [
              0.6680228336
             ],
             "passed_time": 0.9102822531,
             "remaining_time": 201.3746629,
             "test": [
              0.6684630228
             ]
            },
            {
             "iteration": 9,
             "learn": [
              0.6655370385
             ],
             "passed_time": 0.9917699086,
             "remaining_time": 197.3622118,
             "test": [
              0.6660196339
             ]
            },
            {
             "iteration": 10,
             "learn": [
              0.6630129621
             ],
             "passed_time": 1.073611328,
             "remaining_time": 194.1284482,
             "test": [
              0.6635565264
             ]
            },
            {
             "iteration": 11,
             "learn": [
              0.6606297196
             ],
             "passed_time": 1.155725336,
             "remaining_time": 191.465164,
             "test": [
              0.6612152819
             ]
            },
            {
             "iteration": 12,
             "learn": [
              0.6583594485
             ],
             "passed_time": 1.236770187,
             "remaining_time": 189.0355662,
             "test": [
              0.6589751299
             ]
            },
            {
             "iteration": 13,
             "learn": [
              0.6559978411
             ],
             "passed_time": 1.319356697,
             "remaining_time": 187.1601714,
             "test": [
              0.6566593983
             ]
            },
            {
             "iteration": 14,
             "learn": [
              0.6537068153
             ],
             "passed_time": 1.409997021,
             "remaining_time": 186.5896058,
             "test": [
              0.654417766
             ]
            },
            {
             "iteration": 15,
             "learn": [
              0.6514497292
             ],
             "passed_time": 1.48628585,
             "remaining_time": 184.2994454,
             "test": [
              0.6522045035
             ]
            },
            {
             "iteration": 16,
             "learn": [
              0.64929052
             ],
             "passed_time": 1.568295471,
             "remaining_time": 182.9370541,
             "test": [
              0.6500919096
             ]
            },
            {
             "iteration": 17,
             "learn": [
              0.6472256902
             ],
             "passed_time": 1.652345021,
             "remaining_time": 181.9415462,
             "test": [
              0.6480528994
             ]
            },
            {
             "iteration": 18,
             "learn": [
              0.6452182731
             ],
             "passed_time": 1.752588987,
             "remaining_time": 182.7304622,
             "test": [
              0.6460608256
             ]
            },
            {
             "iteration": 19,
             "learn": [
              0.6431473047
             ],
             "passed_time": 1.834956596,
             "remaining_time": 181.6607031,
             "test": [
              0.6440353678
             ]
            },
            {
             "iteration": 20,
             "learn": [
              0.6411201799
             ],
             "passed_time": 1.918866853,
             "remaining_time": 180.8303572,
             "test": [
              0.6420541381
             ]
            },
            {
             "iteration": 21,
             "learn": [
              0.6391212108
             ],
             "passed_time": 2.013466523,
             "remaining_time": 181.0289447,
             "test": [
              0.6401146225
             ]
            },
            {
             "iteration": 22,
             "learn": [
              0.6372353811
             ],
             "passed_time": 2.087915042,
             "remaining_time": 179.4699147,
             "test": [
              0.6382624191
             ]
            },
            {
             "iteration": 23,
             "learn": [
              0.6353936198
             ],
             "passed_time": 2.162071436,
             "remaining_time": 178.0105482,
             "test": [
              0.6364616592
             ]
            },
            {
             "iteration": 24,
             "learn": [
              0.6335146307
             ],
             "passed_time": 2.236533403,
             "remaining_time": 176.6861388,
             "test": [
              0.6346334722
             ]
            },
            {
             "iteration": 25,
             "learn": [
              0.6316735645
             ],
             "passed_time": 2.322021845,
             "remaining_time": 176.2950432,
             "test": [
              0.6328352559
             ]
            },
            {
             "iteration": 26,
             "learn": [
              0.62994931
             ],
             "passed_time": 2.415508779,
             "remaining_time": 176.5110674,
             "test": [
              0.6311483352
             ]
            },
            {
             "iteration": 27,
             "learn": [
              0.6282084004
             ],
             "passed_time": 2.510499318,
             "remaining_time": 176.8108806,
             "test": [
              0.6294486651
             ]
            },
            {
             "iteration": 28,
             "learn": [
              0.6264809253
             ],
             "passed_time": 2.585313975,
             "remaining_time": 175.7122016,
             "test": [
              0.6277623536
             ]
            },
            {
             "iteration": 29,
             "learn": [
              0.6247981633
             ],
             "passed_time": 2.669897448,
             "remaining_time": 175.3232658,
             "test": [
              0.6261194916
             ]
            },
            {
             "iteration": 30,
             "learn": [
              0.6232080528
             ],
             "passed_time": 2.748685178,
             "remaining_time": 174.5858424,
             "test": [
              0.6245624477
             ]
            },
            {
             "iteration": 31,
             "learn": [
              0.6216773833
             ],
             "passed_time": 2.842261091,
             "remaining_time": 174.7990571,
             "test": [
              0.6230520293
             ]
            },
            {
             "iteration": 32,
             "learn": [
              0.6201265021
             ],
             "passed_time": 2.928446295,
             "remaining_time": 174.5531473,
             "test": [
              0.6215484859
             ]
            },
            {
             "iteration": 33,
             "learn": [
              0.6185696354
             ],
             "passed_time": 3.010061218,
             "remaining_time": 174.0523634,
             "test": [
              0.6200386184
             ]
            },
            {
             "iteration": 34,
             "learn": [
              0.617133756
             ],
             "passed_time": 3.096975755,
             "remaining_time": 173.8730674,
             "test": [
              0.6186199675
             ]
            },
            {
             "iteration": 35,
             "learn": [
              0.6156477508
             ],
             "passed_time": 3.186039541,
             "remaining_time": 173.8161572,
             "test": [
              0.6171680662
             ]
            },
            {
             "iteration": 36,
             "learn": [
              0.614202195
             ],
             "passed_time": 3.262230081,
             "remaining_time": 173.0745311,
             "test": [
              0.615770827
             ]
            },
            {
             "iteration": 37,
             "learn": [
              0.6128676287
             ],
             "passed_time": 3.343824324,
             "remaining_time": 172.6469295,
             "test": [
              0.6144502649
             ]
            },
            {
             "iteration": 38,
             "learn": [
              0.6112655748
             ],
             "passed_time": 3.42164574,
             "remaining_time": 172.0473666,
             "test": [
              0.6128914428
             ]
            },
            {
             "iteration": 39,
             "learn": [
              0.6095231647
             ],
             "passed_time": 3.519977872,
             "remaining_time": 172.4789157,
             "test": [
              0.6111696569
             ]
            },
            {
             "iteration": 40,
             "learn": [
              0.6078209157
             ],
             "passed_time": 3.59570846,
             "remaining_time": 171.8047042,
             "test": [
              0.6094964351
             ]
            },
            {
             "iteration": 41,
             "learn": [
              0.6061823526
             ],
             "passed_time": 3.684648345,
             "remaining_time": 171.7747967,
             "test": [
              0.6078817125
             ]
            },
            {
             "iteration": 42,
             "learn": [
              0.6045677814
             ],
             "passed_time": 3.78689115,
             "remaining_time": 172.3475809,
             "test": [
              0.6062951643
             ]
            },
            {
             "iteration": 43,
             "learn": [
              0.6029701246
             ],
             "passed_time": 3.868535636,
             "remaining_time": 171.9739933,
             "test": [
              0.6047279274
             ]
            },
            {
             "iteration": 44,
             "learn": [
              0.601409728
             ],
             "passed_time": 3.941018278,
             "remaining_time": 171.2153496,
             "test": [
              0.6031989604
             ]
            },
            {
             "iteration": 45,
             "learn": [
              0.5998949194
             ],
             "passed_time": 4.017260126,
             "remaining_time": 170.6462236,
             "test": [
              0.6016889445
             ]
            },
            {
             "iteration": 46,
             "learn": [
              0.5985002242
             ],
             "passed_time": 4.109050826,
             "remaining_time": 170.7441758,
             "test": [
              0.6003305909
             ]
            },
            {
             "iteration": 47,
             "learn": [
              0.5970532878
             ],
             "passed_time": 4.198280113,
             "remaining_time": 170.7300579,
             "test": [
              0.598900397
             ]
            },
            {
             "iteration": 48,
             "learn": [
              0.5956231184
             ],
             "passed_time": 4.270261647,
             "remaining_time": 170.0261321,
             "test": [
              0.5974874974
             ]
            },
            {
             "iteration": 49,
             "learn": [
              0.594232553
             ],
             "passed_time": 4.345357749,
             "remaining_time": 169.4689522,
             "test": [
              0.5961280479
             ]
            },
            {
             "iteration": 50,
             "learn": [
              0.5928747334
             ],
             "passed_time": 4.418016052,
             "remaining_time": 168.8375154,
             "test": [
              0.594773488
             ]
            },
            {
             "iteration": 51,
             "learn": [
              0.5915421217
             ],
             "passed_time": 4.493260483,
             "remaining_time": 168.3244504,
             "test": [
              0.5934718926
             ]
            },
            {
             "iteration": 52,
             "learn": [
              0.5902487906
             ],
             "passed_time": 4.571598927,
             "remaining_time": 167.9415681,
             "test": [
              0.5921802284
             ]
            },
            {
             "iteration": 53,
             "learn": [
              0.588978607
             ],
             "passed_time": 4.645648747,
             "remaining_time": 167.415416,
             "test": [
              0.5909364285
             ]
            },
            {
             "iteration": 54,
             "learn": [
              0.5878368372
             ],
             "passed_time": 4.721292369,
             "remaining_time": 166.9620665,
             "test": [
              0.5898305945
             ]
            },
            {
             "iteration": 55,
             "learn": [
              0.5866149967
             ],
             "passed_time": 4.79275604,
             "remaining_time": 166.3771025,
             "test": [
              0.5886135362
             ]
            },
            {
             "iteration": 56,
             "learn": [
              0.5854151733
             ],
             "passed_time": 4.867285215,
             "remaining_time": 165.9146522,
             "test": [
              0.5874204844
             ]
            },
            {
             "iteration": 57,
             "learn": [
              0.5842388933
             ],
             "passed_time": 4.937458529,
             "remaining_time": 165.3197321,
             "test": [
              0.5862673775
             ]
            },
            {
             "iteration": 58,
             "learn": [
              0.5831296433
             ],
             "passed_time": 5.027833132,
             "remaining_time": 165.4071883,
             "test": [
              0.585201302
             ]
            },
            {
             "iteration": 59,
             "learn": [
              0.582007276
             ],
             "passed_time": 5.130312241,
             "remaining_time": 165.8800958,
             "test": [
              0.5840874003
             ]
            },
            {
             "iteration": 60,
             "learn": [
              0.5809475054
             ],
             "passed_time": 5.241259184,
             "remaining_time": 166.6033042,
             "test": [
              0.5830696638
             ]
            },
            {
             "iteration": 61,
             "learn": [
              0.5798661778
             ],
             "passed_time": 5.341036884,
             "remaining_time": 166.9504755,
             "test": [
              0.5820214419
             ]
            },
            {
             "iteration": 62,
             "learn": [
              0.5788136775
             ],
             "passed_time": 5.425704885,
             "remaining_time": 166.8188946,
             "test": [
              0.5809816795
             ]
            },
            {
             "iteration": 63,
             "learn": [
              0.5777761764
             ],
             "passed_time": 5.500050292,
             "remaining_time": 166.3765213,
             "test": [
              0.5799687913
             ]
            },
            {
             "iteration": 64,
             "learn": [
              0.5767619785
             ],
             "passed_time": 5.573743237,
             "remaining_time": 165.9260487,
             "test": [
              0.5789699364
             ]
            },
            {
             "iteration": 65,
             "learn": [
              0.5757877404
             ],
             "passed_time": 5.651251205,
             "remaining_time": 165.5987853,
             "test": [
              0.5780116312
             ]
            },
            {
             "iteration": 66,
             "learn": [
              0.5748376933
             ],
             "passed_time": 5.729481758,
             "remaining_time": 165.2998245,
             "test": [
              0.5770552346
             ]
            },
            {
             "iteration": 67,
             "learn": [
              0.5739454503
             ],
             "passed_time": 5.814550045,
             "remaining_time": 165.2016277,
             "test": [
              0.5762119134
             ]
            },
            {
             "iteration": 68,
             "learn": [
              0.5730504365
             ],
             "passed_time": 5.896499581,
             "remaining_time": 165.0165318,
             "test": [
              0.5753349012
             ]
            },
            {
             "iteration": 69,
             "learn": [
              0.5721966761
             ],
             "passed_time": 5.983491423,
             "remaining_time": 164.9734064,
             "test": [
              0.5745084679
             ]
            },
            {
             "iteration": 70,
             "learn": [
              0.5713018722
             ],
             "passed_time": 6.069093931,
             "remaining_time": 164.8912985,
             "test": [
              0.5736334614
             ]
            },
            {
             "iteration": 71,
             "learn": [
              0.570486303
             ],
             "passed_time": 6.141963453,
             "remaining_time": 164.4681325,
             "test": [
              0.5728200514
             ]
            },
            {
             "iteration": 72,
             "learn": [
              0.5696626508
             ],
             "passed_time": 6.225903688,
             "remaining_time": 164.3468001,
             "test": [
              0.5720349727
             ]
            },
            {
             "iteration": 73,
             "learn": [
              0.5688749257
             ],
             "passed_time": 6.301864426,
             "remaining_time": 164.0187957,
             "test": [
              0.5712804536
             ]
            },
            {
             "iteration": 74,
             "learn": [
              0.568048704
             ],
             "passed_time": 6.399624764,
             "remaining_time": 164.2570356,
             "test": [
              0.5704729556
             ]
            },
            {
             "iteration": 75,
             "learn": [
              0.5672524356
             ],
             "passed_time": 6.481297263,
             "remaining_time": 164.079157,
             "test": [
              0.569676954
             ]
            },
            {
             "iteration": 76,
             "learn": [
              0.5664754835
             ],
             "passed_time": 6.552026731,
             "remaining_time": 163.6304858,
             "test": [
              0.5689465667
             ]
            },
            {
             "iteration": 77,
             "learn": [
              0.5657530245
             ],
             "passed_time": 6.651681507,
             "remaining_time": 163.9042546,
             "test": [
              0.5682458013
             ]
            },
            {
             "iteration": 78,
             "learn": [
              0.5650798086
             ],
             "passed_time": 6.736713183,
             "remaining_time": 163.8129877,
             "test": [
              0.5675866675
             ]
            },
            {
             "iteration": 79,
             "learn": [
              0.5643983291
             ],
             "passed_time": 6.813365218,
             "remaining_time": 163.5207652,
             "test": [
              0.5669318022
             ]
            },
            {
             "iteration": 80,
             "learn": [
              0.5636661337
             ],
             "passed_time": 6.883753835,
             "remaining_time": 163.0854767,
             "test": [
              0.5662045898
             ]
            },
            {
             "iteration": 81,
             "learn": [
              0.5629564115
             ],
             "passed_time": 6.960857391,
             "remaining_time": 162.8161521,
             "test": [
              0.5654977537
             ]
            },
            {
             "iteration": 82,
             "learn": [
              0.5622930089
             ],
             "passed_time": 7.048921182,
             "remaining_time": 162.8046013,
             "test": [
              0.5648637907
             ]
            },
            {
             "iteration": 83,
             "learn": [
              0.5616073884
             ],
             "passed_time": 7.123221373,
             "remaining_time": 162.4772875,
             "test": [
              0.5641848974
             ]
            },
            {
             "iteration": 84,
             "learn": [
              0.5609397754
             ],
             "passed_time": 7.199346576,
             "remaining_time": 162.1970434,
             "test": [
              0.5635271607
             ]
            },
            {
             "iteration": 85,
             "learn": [
              0.5603269066
             ],
             "passed_time": 7.298787488,
             "remaining_time": 162.4404564,
             "test": [
              0.5629342041
             ]
            },
            {
             "iteration": 86,
             "learn": [
              0.5596816461
             ],
             "passed_time": 7.381929315,
             "remaining_time": 162.3175952,
             "test": [
              0.5622844952
             ]
            },
            {
             "iteration": 87,
             "learn": [
              0.5590896689
             ],
             "passed_time": 7.455050196,
             "remaining_time": 161.9779088,
             "test": [
              0.5616892403
             ]
            },
            {
             "iteration": 88,
             "learn": [
              0.5584742068
             ],
             "passed_time": 7.537253352,
             "remaining_time": 161.8392265,
             "test": [
              0.56109647
             ]
            },
            {
             "iteration": 89,
             "learn": [
              0.5578693756
             ],
             "passed_time": 7.617311312,
             "remaining_time": 161.6562734,
             "test": [
              0.5605133727
             ]
            },
            {
             "iteration": 90,
             "learn": [
              0.5572714695
             ],
             "passed_time": 7.696988939,
             "remaining_time": 161.4676031,
             "test": [
              0.559922766
             ]
            },
            {
             "iteration": 91,
             "learn": [
              0.5566995709
             ],
             "passed_time": 7.782334847,
             "remaining_time": 161.3988575,
             "test": [
              0.5593823938
             ]
            },
            {
             "iteration": 92,
             "learn": [
              0.5561631866
             ],
             "passed_time": 7.876050106,
             "remaining_time": 161.5013715,
             "test": [
              0.5588821968
             ]
            },
            {
             "iteration": 93,
             "learn": [
              0.555612056
             ],
             "passed_time": 7.954307238,
             "remaining_time": 161.2862723,
             "test": [
              0.5583360493
             ]
            },
            {
             "iteration": 94,
             "learn": [
              0.5551031489
             ],
             "passed_time": 8.028582884,
             "remaining_time": 160.9942147,
             "test": [
              0.5578122686
             ]
            },
            {
             "iteration": 95,
             "learn": [
              0.554608479
             ],
             "passed_time": 8.112636453,
             "remaining_time": 160.900623,
             "test": [
              0.5573508205
             ]
            },
            {
             "iteration": 96,
             "learn": [
              0.554098743
             ],
             "passed_time": 8.197297554,
             "remaining_time": 160.8191469,
             "test": [
              0.5568321297
             ]
            },
            {
             "iteration": 97,
             "learn": [
              0.5536192793
             ],
             "passed_time": 8.283235346,
             "remaining_time": 160.762384,
             "test": [
              0.5563829114
             ]
            },
            {
             "iteration": 98,
             "learn": [
              0.5531854815
             ],
             "passed_time": 8.374971223,
             "remaining_time": 160.8163666,
             "test": [
              0.5559788136
             ]
            },
            {
             "iteration": 99,
             "learn": [
              0.552683602
             ],
             "passed_time": 8.454978269,
             "remaining_time": 160.6445871,
             "test": [
              0.5554747358
             ]
            },
            {
             "iteration": 100,
             "learn": [
              0.5522020631
             ],
             "passed_time": 8.540553728,
             "remaining_time": 160.5793221,
             "test": [
              0.5550175801
             ]
            },
            {
             "iteration": 101,
             "learn": [
              0.5517476711
             ],
             "passed_time": 8.616387882,
             "remaining_time": 160.3323941,
             "test": [
              0.5545608056
             ]
            },
            {
             "iteration": 102,
             "learn": [
              0.551278262
             ],
             "passed_time": 8.685122864,
             "remaining_time": 159.9580395,
             "test": [
              0.5541049989
             ]
            },
            {
             "iteration": 103,
             "learn": [
              0.5508724258
             ],
             "passed_time": 8.771462093,
             "remaining_time": 159.9105012,
             "test": [
              0.5537256609
             ]
            },
            {
             "iteration": 104,
             "learn": [
              0.5504084777
             ],
             "passed_time": 8.854482685,
             "remaining_time": 159.8023304,
             "test": [
              0.5532906771
             ]
            },
            {
             "iteration": 105,
             "learn": [
              0.5499942345
             ],
             "passed_time": 8.955508079,
             "remaining_time": 160.0163425,
             "test": [
              0.5528956415
             ]
            },
            {
             "iteration": 106,
             "learn": [
              0.5495625061
             ],
             "passed_time": 9.029401649,
             "remaining_time": 159.744461,
             "test": [
              0.5524627032
             ]
            },
            {
             "iteration": 107,
             "learn": [
              0.5491580799
             ],
             "passed_time": 9.112957292,
             "remaining_time": 159.6455111,
             "test": [
              0.5520722246
             ]
            },
            {
             "iteration": 108,
             "learn": [
              0.5487565434
             ],
             "passed_time": 9.199657175,
             "remaining_time": 159.6013919,
             "test": [
              0.5516972169
             ]
            },
            {
             "iteration": 109,
             "learn": [
              0.5483423326
             ],
             "passed_time": 9.287381532,
             "remaining_time": 159.5741009,
             "test": [
              0.5513083774
             ]
            },
            {
             "iteration": 110,
             "learn": [
              0.5479552539
             ],
             "passed_time": 9.371421386,
             "remaining_time": 159.483018,
             "test": [
              0.550949486
             ]
            },
            {
             "iteration": 111,
             "learn": [
              0.5475830535
             ],
             "passed_time": 9.456155372,
             "remaining_time": 159.403762,
             "test": [
              0.5506112088
             ]
            },
            {
             "iteration": 112,
             "learn": [
              0.5472163933
             ],
             "passed_time": 9.531066169,
             "remaining_time": 159.1603705,
             "test": [
              0.5502487212
             ]
            },
            {
             "iteration": 113,
             "learn": [
              0.5468363088
             ],
             "passed_time": 9.611005944,
             "remaining_time": 159.0031334,
             "test": [
              0.5498661242
             ]
            },
            {
             "iteration": 114,
             "learn": [
              0.5464517083
             ],
             "passed_time": 9.694033781,
             "remaining_time": 158.8978581,
             "test": [
              0.5494887009
             ]
            },
            {
             "iteration": 115,
             "learn": [
              0.5461118255
             ],
             "passed_time": 9.780566145,
             "remaining_time": 158.8498846,
             "test": [
              0.5491616017
             ]
            },
            {
             "iteration": 116,
             "learn": [
              0.5457803212
             ],
             "passed_time": 9.874701932,
             "remaining_time": 158.9236217,
             "test": [
              0.5488359575
             ]
            },
            {
             "iteration": 117,
             "learn": [
              0.545392807
             ],
             "passed_time": 9.959653808,
             "remaining_time": 158.8480379,
             "test": [
              0.5484558307
             ]
            },
            {
             "iteration": 118,
             "learn": [
              0.5450232759
             ],
             "passed_time": 10.04790031,
             "remaining_time": 158.8243739,
             "test": [
              0.5480753881
             ]
            },
            {
             "iteration": 119,
             "learn": [
              0.5446728797
             ],
             "passed_time": 10.12250113,
             "remaining_time": 158.5858511,
             "test": [
              0.5477574041
             ]
            },
            {
             "iteration": 120,
             "learn": [
              0.544308901
             ],
             "passed_time": 10.20252246,
             "remaining_time": 158.4342125,
             "test": [
              0.5473852493
             ]
            },
            {
             "iteration": 121,
             "learn": [
              0.5439414702
             ],
             "passed_time": 10.30005394,
             "remaining_time": 158.5532893,
             "test": [
              0.5469989132
             ]
            },
            {
             "iteration": 122,
             "learn": [
              0.5435801373
             ],
             "passed_time": 10.38748654,
             "remaining_time": 158.5147336,
             "test": [
              0.5466318076
             ]
            },
            {
             "iteration": 123,
             "learn": [
              0.543236213
             ],
             "passed_time": 10.45995117,
             "remaining_time": 158.2489386,
             "test": [
              0.5462852816
             ]
            },
            {
             "iteration": 124,
             "learn": [
              0.5429066314
             ],
             "passed_time": 10.54406359,
             "remaining_time": 158.1609538,
             "test": [
              0.5459456497
             ]
            },
            {
             "iteration": 125,
             "learn": [
              0.5425884203
             ],
             "passed_time": 10.6243113,
             "remaining_time": 158.0155506,
             "test": [
              0.545623648
             ]
            },
            {
             "iteration": 126,
             "learn": [
              0.5422705331
             ],
             "passed_time": 10.70477469,
             "remaining_time": 157.8743542,
             "test": [
              0.5452966063
             ]
            },
            {
             "iteration": 127,
             "learn": [
              0.5419700232
             ],
             "passed_time": 10.78147848,
             "remaining_time": 157.6791228,
             "test": [
              0.5449926006
             ]
            },
            {
             "iteration": 128,
             "learn": [
              0.5416712059
             ],
             "passed_time": 10.85587613,
             "remaining_time": 157.452281,
             "test": [
              0.544692576
             ]
            },
            {
             "iteration": 129,
             "learn": [
              0.541369866
             ],
             "passed_time": 10.93942581,
             "remaining_time": 157.3594328,
             "test": [
              0.5443825392
             ]
            },
            {
             "iteration": 130,
             "learn": [
              0.5410633427
             ],
             "passed_time": 11.01612986,
             "remaining_time": 157.1690589,
             "test": [
              0.5440745925
             ]
            },
            {
             "iteration": 131,
             "learn": [
              0.5408036927
             ],
             "passed_time": 11.10039871,
             "remaining_time": 157.0874605,
             "test": [
              0.5438056308
             ]
            },
            {
             "iteration": 132,
             "learn": [
              0.5405072165
             ],
             "passed_time": 11.17953376,
             "remaining_time": 156.9337558,
             "test": [
              0.5435145036
             ]
            },
            {
             "iteration": 133,
             "learn": [
              0.5402171529
             ],
             "passed_time": 11.29319918,
             "remaining_time": 157.2620125,
             "test": [
              0.5432267619
             ]
            },
            {
             "iteration": 134,
             "learn": [
              0.5399478266
             ],
             "passed_time": 11.40350327,
             "remaining_time": 157.5372859,
             "test": [
              0.5429561988
             ]
            },
            {
             "iteration": 135,
             "learn": [
              0.5396932171
             ],
             "passed_time": 11.51511771,
             "remaining_time": 157.8248487,
             "test": [
              0.5427060714
             ]
            },
            {
             "iteration": 136,
             "learn": [
              0.5394663349
             ],
             "passed_time": 11.63528065,
             "remaining_time": 158.222831,
             "test": [
              0.5424877419
             ]
            },
            {
             "iteration": 137,
             "learn": [
              0.5392454033
             ],
             "passed_time": 11.74739635,
             "remaining_time": 158.5047246,
             "test": [
              0.5422815156
             ]
            },
            {
             "iteration": 138,
             "learn": [
              0.5389890997
             ],
             "passed_time": 11.88527739,
             "remaining_time": 159.1259081,
             "test": [
              0.5420355428
             ]
            },
            {
             "iteration": 139,
             "learn": [
              0.5387213727
             ],
             "passed_time": 11.99988174,
             "remaining_time": 159.4270003,
             "test": [
              0.5417591942
             ]
            },
            {
             "iteration": 140,
             "learn": [
              0.5384738845
             ],
             "passed_time": 12.10177632,
             "remaining_time": 159.5546254,
             "test": [
              0.5415149271
             ]
            },
            {
             "iteration": 141,
             "learn": [
              0.5382436891
             ],
             "passed_time": 12.20620265,
             "remaining_time": 159.7121446,
             "test": [
              0.5412758589
             ]
            },
            {
             "iteration": 142,
             "learn": [
              0.537997499
             ],
             "passed_time": 12.30873051,
             "remaining_time": 159.8413466,
             "test": [
              0.5410117576
             ]
            },
            {
             "iteration": 143,
             "learn": [
              0.5377493433
             ],
             "passed_time": 12.41841763,
             "remaining_time": 160.059605,
             "test": [
              0.5407533116
             ]
            },
            {
             "iteration": 144,
             "learn": [
              0.537510314
             ],
             "passed_time": 12.5350386,
             "remaining_time": 160.3620456,
             "test": [
              0.5405140722
             ]
            },
            {
             "iteration": 145,
             "learn": [
              0.5372930436
             ],
             "passed_time": 12.6608817,
             "remaining_time": 160.7758539,
             "test": [
              0.5402867572
             ]
            },
            {
             "iteration": 146,
             "learn": [
              0.5371010996
             ],
             "passed_time": 12.77958126,
             "remaining_time": 161.0922726,
             "test": [
              0.5401155462
             ]
            },
            {
             "iteration": 147,
             "learn": [
              0.5368784462
             ],
             "passed_time": 12.912843,
             "remaining_time": 161.5850354,
             "test": [
              0.5398851737
             ]
            },
            {
             "iteration": 148,
             "learn": [
              0.5366584059
             ],
             "passed_time": 13.02130806,
             "remaining_time": 161.7613505,
             "test": [
              0.5396738549
             ]
            },
            {
             "iteration": 149,
             "learn": [
              0.5364465395
             ],
             "passed_time": 13.1434777,
             "remaining_time": 162.1028917,
             "test": [
              0.5394848106
             ]
            },
            {
             "iteration": 150,
             "learn": [
              0.5362587547
             ],
             "passed_time": 13.26241004,
             "remaining_time": 162.3986501,
             "test": [
              0.539288576
             ]
            },
            {
             "iteration": 151,
             "learn": [
              0.5360477701
             ],
             "passed_time": 13.36833528,
             "remaining_time": 162.5308132,
             "test": [
              0.5390587363
             ]
            },
            {
             "iteration": 152,
             "learn": [
              0.5358298524
             ],
             "passed_time": 13.44149702,
             "remaining_time": 162.2643464,
             "test": [
              0.5388365456
             ]
            },
            {
             "iteration": 153,
             "learn": [
              0.5356242593
             ],
             "passed_time": 13.52275502,
             "remaining_time": 162.0974401,
             "test": [
              0.5386194226
             ]
            },
            {
             "iteration": 154,
             "learn": [
              0.5354681646
             ],
             "passed_time": 13.60449319,
             "remaining_time": 161.9373545,
             "test": [
              0.5384533328
             ]
            },
            {
             "iteration": 155,
             "learn": [
              0.5352790468
             ],
             "passed_time": 13.6806695,
             "remaining_time": 161.7125292,
             "test": [
              0.5382615992
             ]
            },
            {
             "iteration": 156,
             "learn": [
              0.5351441087
             ],
             "passed_time": 13.74207693,
             "remaining_time": 161.316228,
             "test": [
              0.5381377773
             ]
            },
            {
             "iteration": 157,
             "learn": [
              0.5349501296
             ],
             "passed_time": 13.82590465,
             "remaining_time": 161.1855466,
             "test": [
              0.5379272518
             ]
            },
            {
             "iteration": 158,
             "learn": [
              0.5347615836
             ],
             "passed_time": 13.91195529,
             "remaining_time": 161.0811931,
             "test": [
              0.5377284293
             ]
            },
            {
             "iteration": 159,
             "learn": [
              0.5346081386
             ],
             "passed_time": 13.99502264,
             "remaining_time": 160.9427603,
             "test": [
              0.5375689003
             ]
            },
            {
             "iteration": 160,
             "learn": [
              0.5344370939
             ],
             "passed_time": 14.08390998,
             "remaining_time": 160.8714935,
             "test": [
              0.5373982715
             ]
            },
            {
             "iteration": 161,
             "learn": [
              0.5342689368
             ],
             "passed_time": 14.17109202,
             "remaining_time": 160.7806613,
             "test": [
              0.5372295952
             ]
            },
            {
             "iteration": 162,
             "learn": [
              0.5341036016
             ],
             "passed_time": 14.25957654,
             "remaining_time": 160.7045528,
             "test": [
              0.5370760634
             ]
            },
            {
             "iteration": 163,
             "learn": [
              0.5339338161
             ],
             "passed_time": 14.33673847,
             "remaining_time": 160.5015356,
             "test": [
              0.5369142895
             ]
            },
            {
             "iteration": 164,
             "learn": [
              0.5337570309
             ],
             "passed_time": 14.41663961,
             "remaining_time": 160.3305071,
             "test": [
              0.5367479891
             ]
            },
            {
             "iteration": 165,
             "learn": [
              0.5336139749
             ],
             "passed_time": 14.50585585,
             "remaining_time": 160.2634917,
             "test": [
              0.5366006283
             ]
            },
            {
             "iteration": 166,
             "learn": [
              0.5334829607
             ],
             "passed_time": 14.58233568,
             "remaining_time": 160.056415,
             "test": [
              0.5364829864
             ]
            },
            {
             "iteration": 167,
             "learn": [
              0.5333756483
             ],
             "passed_time": 14.66646553,
             "remaining_time": 159.9343146,
             "test": [
              0.5363895069
             ]
            },
            {
             "iteration": 168,
             "learn": [
              0.5332265028
             ],
             "passed_time": 14.75076389,
             "remaining_time": 159.8144893,
             "test": [
              0.5362392048
             ]
            },
            {
             "iteration": 169,
             "learn": [
              0.533102488
             ],
             "passed_time": 14.81485671,
             "remaining_time": 159.4775751,
             "test": [
              0.536116094
             ]
            },
            {
             "iteration": 170,
             "learn": [
              0.5329717876
             ],
             "passed_time": 14.91587639,
             "remaining_time": 159.5388182,
             "test": [
              0.5359908247
             ]
            },
            {
             "iteration": 171,
             "learn": [
              0.5328337003
             ],
             "passed_time": 14.99840378,
             "remaining_time": 159.4016401,
             "test": [
              0.5358541342
             ]
            },
            {
             "iteration": 172,
             "learn": [
              0.5327028764
             ],
             "passed_time": 15.09221147,
             "remaining_time": 159.3842217,
             "test": [
              0.5357321835
             ]
            },
            {
             "iteration": 173,
             "learn": [
              0.5325603063
             ],
             "passed_time": 15.1927964,
             "remaining_time": 159.4370473,
             "test": [
              0.535595722
             ]
            },
            {
             "iteration": 174,
             "learn": [
              0.5324193426
             ],
             "passed_time": 15.29691051,
             "remaining_time": 159.5249238,
             "test": [
              0.5354587105
             ]
            },
            {
             "iteration": 175,
             "learn": [
              0.5323130721
             ],
             "passed_time": 15.3774841,
             "remaining_time": 159.3666534,
             "test": [
              0.5353542791
             ]
            },
            {
             "iteration": 176,
             "learn": [
              0.5321794311
             ],
             "passed_time": 15.45704427,
             "remaining_time": 159.1988232,
             "test": [
              0.5352167599
             ]
            },
            {
             "iteration": 177,
             "learn": [
              0.5320732004
             ],
             "passed_time": 15.54883581,
             "remaining_time": 159.1571846,
             "test": [
              0.5351243917
             ]
            },
            {
             "iteration": 178,
             "learn": [
              0.5319301654
             ],
             "passed_time": 15.6458385,
             "remaining_time": 159.1679995,
             "test": [
              0.5349928272
             ]
            },
            {
             "iteration": 179,
             "learn": [
              0.5317973265
             ],
             "passed_time": 15.74343351,
             "remaining_time": 159.1836055,
             "test": [
              0.5348665047
             ]
            },
            {
             "iteration": 180,
             "learn": [
              0.5316970387
             ],
             "passed_time": 15.82568851,
             "remaining_time": 159.0437978,
             "test": [
              0.5347679323
             ]
            },
            {
             "iteration": 181,
             "learn": [
              0.5315732476
             ],
             "passed_time": 15.91191056,
             "remaining_time": 158.9442495,
             "test": [
              0.5346412282
             ]
            },
            {
             "iteration": 182,
             "learn": [
              0.5314504659
             ],
             "passed_time": 15.98526622,
             "remaining_time": 158.7170968,
             "test": [
              0.5345124853
             ]
            },
            {
             "iteration": 183,
             "learn": [
              0.5313138528
             ],
             "passed_time": 16.07261054,
             "remaining_time": 158.6296779,
             "test": [
              0.5343845503
             ]
            },
            {
             "iteration": 184,
             "learn": [
              0.5311898113
             ],
             "passed_time": 16.17329343,
             "remaining_time": 158.673122,
             "test": [
              0.5342657458
             ]
            },
            {
             "iteration": 185,
             "learn": [
              0.5310869757
             ],
             "passed_time": 16.25461858,
             "remaining_time": 158.5262264,
             "test": [
              0.5341598993
             ]
            },
            {
             "iteration": 186,
             "learn": [
              0.5309625289
             ],
             "passed_time": 16.33463788,
             "remaining_time": 158.3673715,
             "test": [
              0.5340388152
             ]
            },
            {
             "iteration": 187,
             "learn": [
              0.5308535517
             ],
             "passed_time": 16.41087575,
             "remaining_time": 158.1729089,
             "test": [
              0.5339362888
             ]
            },
            {
             "iteration": 188,
             "learn": [
              0.5307802629
             ],
             "passed_time": 16.48930891,
             "remaining_time": 158.0007325,
             "test": [
              0.5338675549
             ]
            },
            {
             "iteration": 189,
             "learn": [
              0.530651704
             ],
             "passed_time": 16.58555534,
             "remaining_time": 157.9992377,
             "test": [
              0.5337498712
             ]
            },
            {
             "iteration": 190,
             "learn": [
              0.5305580254
             ],
             "passed_time": 16.6704587,
             "remaining_time": 157.8893183,
             "test": [
              0.5336600253
             ]
            },
            {
             "iteration": 191,
             "learn": [
              0.5304413005
             ],
             "passed_time": 16.73986542,
             "remaining_time": 157.6337327,
             "test": [
              0.5335303623
             ]
            },
            {
             "iteration": 192,
             "learn": [
              0.5303174517
             ],
             "passed_time": 16.81817942,
             "remaining_time": 157.4634726,
             "test": [
              0.5334097855
             ]
            },
            {
             "iteration": 193,
             "learn": [
              0.5302139816
             ],
             "passed_time": 16.89152258,
             "remaining_time": 157.2478855,
             "test": [
              0.5333022523
             ]
            },
            {
             "iteration": 194,
             "learn": [
              0.5301215839
             ],
             "passed_time": 16.9723606,
             "remaining_time": 157.1031327,
             "test": [
              0.5332041136
             ]
            },
            {
             "iteration": 195,
             "learn": [
              0.5300378986
             ],
             "passed_time": 17.05463748,
             "remaining_time": 156.9722756,
             "test": [
              0.5331119829
             ]
            },
            {
             "iteration": 196,
             "learn": [
              0.5299114575
             ],
             "passed_time": 17.14375275,
             "remaining_time": 156.9044985,
             "test": [
              0.5329669242
             ]
            },
            {
             "iteration": 197,
             "learn": [
              0.529819631
             ],
             "passed_time": 17.23436496,
             "remaining_time": 156.8501296,
             "test": [
              0.5328738048
             ]
            },
            {
             "iteration": 198,
             "learn": [
              0.5297171701
             ],
             "passed_time": 17.32346375,
             "remaining_time": 156.7816995,
             "test": [
              0.5327616791
             ]
            },
            {
             "iteration": 199,
             "learn": [
              0.529592989
             ],
             "passed_time": 17.4205914,
             "remaining_time": 156.7853226,
             "test": [
              0.5326382378
             ]
            },
            {
             "iteration": 200,
             "learn": [
              0.5295179295
             ],
             "passed_time": 17.51205017,
             "remaining_time": 156.7372053,
             "test": [
              0.5325592168
             ]
            },
            {
             "iteration": 201,
             "learn": [
              0.5294427521
             ],
             "passed_time": 17.58423366,
             "remaining_time": 156.5170897,
             "test": [
              0.5324790099
             ]
            },
            {
             "iteration": 202,
             "learn": [
              0.5293668513
             ],
             "passed_time": 17.67509147,
             "remaining_time": 156.4637407,
             "test": [
              0.5323973906
             ]
            },
            {
             "iteration": 203,
             "learn": [
              0.5292498443
             ],
             "passed_time": 17.75032591,
             "remaining_time": 156.2724771,
             "test": [
              0.5322815017
             ]
            },
            {
             "iteration": 204,
             "learn": [
              0.5291316359
             ],
             "passed_time": 17.82287482,
             "remaining_time": 156.0588307,
             "test": [
              0.5321676298
             ]
            },
            {
             "iteration": 205,
             "learn": [
              0.5290657121
             ],
             "passed_time": 17.90492973,
             "remaining_time": 155.9293395,
             "test": [
              0.5321029483
             ]
            },
            {
             "iteration": 206,
             "learn": [
              0.5289858903
             ],
             "passed_time": 17.9860273,
             "remaining_time": 155.7920142,
             "test": [
              0.5320150993
             ]
            },
            {
             "iteration": 207,
             "learn": [
              0.5289185045
             ],
             "passed_time": 18.05981755,
             "remaining_time": 155.5922742,
             "test": [
              0.5319505037
             ]
            },
            {
             "iteration": 208,
             "learn": [
              0.5288390648
             ],
             "passed_time": 18.15464858,
             "remaining_time": 155.574046,
             "test": [
              0.5318596463
             ]
            },
            {
             "iteration": 209,
             "learn": [
              0.5287612558
             ],
             "passed_time": 18.24108762,
             "remaining_time": 155.4835564,
             "test": [
              0.5317865229
             ]
            },
            {
             "iteration": 210,
             "learn": [
              0.5286876834
             ],
             "passed_time": 18.31842158,
             "remaining_time": 155.3159062,
             "test": [
              0.5317139297
             ]
            },
            {
             "iteration": 211,
             "learn": [
              0.5285796344
             ],
             "passed_time": 18.3937187,
             "remaining_time": 155.1319294,
             "test": [
              0.5315945838
             ]
            },
            {
             "iteration": 212,
             "learn": [
              0.5284853907
             ],
             "passed_time": 18.47316376,
             "remaining_time": 154.9837729,
             "test": [
              0.5315003048
             ]
            },
            {
             "iteration": 213,
             "learn": [
              0.5284088308
             ],
             "passed_time": 18.54771281,
             "remaining_time": 154.7953976,
             "test": [
              0.5314219114
             ]
            },
            {
             "iteration": 214,
             "learn": [
              0.5283168715
             ],
             "passed_time": 18.63531619,
             "remaining_time": 154.7164623,
             "test": [
              0.5313361796
             ]
            },
            {
             "iteration": 215,
             "learn": [
              0.5282291201
             ],
             "passed_time": 18.70692312,
             "remaining_time": 154.505328,
             "test": [
              0.5312387988
             ]
            },
            {
             "iteration": 216,
             "learn": [
              0.5281580226
             ],
             "passed_time": 18.80217333,
             "remaining_time": 154.4897468,
             "test": [
              0.531167239
             ]
            },
            {
             "iteration": 217,
             "learn": [
              0.5280914368
             ],
             "passed_time": 18.88070572,
             "remaining_time": 154.3367779,
             "test": [
              0.5311076157
             ]
            },
            {
             "iteration": 218,
             "learn": [
              0.5279820054
             ],
             "passed_time": 18.96870412,
             "remaining_time": 154.2614705,
             "test": [
              0.5310035427
             ]
            },
            {
             "iteration": 219,
             "learn": [
              0.5279012403
             ],
             "passed_time": 19.0511517,
             "remaining_time": 154.1411365,
             "test": [
              0.5309116804
             ]
            },
            {
             "iteration": 220,
             "learn": [
              0.5277805302
             ],
             "passed_time": 19.12625179,
             "remaining_time": 153.9619997,
             "test": [
              0.5307973871
             ]
            },
            {
             "iteration": 221,
             "learn": [
              0.5276640857
             ],
             "passed_time": 19.21242018,
             "remaining_time": 153.8724463,
             "test": [
              0.5306757651
             ]
            },
            {
             "iteration": 222,
             "learn": [
              0.527558743
             ],
             "passed_time": 19.29517449,
             "remaining_time": 153.7557178,
             "test": [
              0.5305660568
             ]
            },
            {
             "iteration": 223,
             "learn": [
              0.5274924977
             ],
             "passed_time": 19.36669261,
             "remaining_time": 153.5502057,
             "test": [
              0.5304966018
             ]
            },
            {
             "iteration": 224,
             "learn": [
              0.5274118661
             ],
             "passed_time": 19.43801536,
             "remaining_time": 153.3443434,
             "test": [
              0.5304180476
             ]
            },
            {
             "iteration": 225,
             "learn": [
              0.5273233868
             ],
             "passed_time": 19.51192529,
             "remaining_time": 153.1599799,
             "test": [
              0.5303295732
             ]
            },
            {
             "iteration": 226,
             "learn": [
              0.5272665679
             ],
             "passed_time": 19.60243345,
             "remaining_time": 153.1062313,
             "test": [
              0.5302719939
             ]
            },
            {
             "iteration": 227,
             "learn": [
              0.5271994257
             ],
             "passed_time": 19.67846372,
             "remaining_time": 152.9396391,
             "test": [
              0.5301962261
             ]
            },
            {
             "iteration": 228,
             "learn": [
              0.5271366636
             ],
             "passed_time": 19.75912598,
             "remaining_time": 152.8096598,
             "test": [
              0.5301296822
             ]
            },
            {
             "iteration": 229,
             "learn": [
              0.5270793295
             ],
             "passed_time": 19.85402512,
             "remaining_time": 152.7896715,
             "test": [
              0.5300611261
             ]
            },
            {
             "iteration": 230,
             "learn": [
              0.527052013
             ],
             "passed_time": 19.91569776,
             "remaining_time": 152.5145859,
             "test": [
              0.530030146
             ]
            },
            {
             "iteration": 231,
             "learn": [
              0.5269295474
             ],
             "passed_time": 20.00336052,
             "remaining_time": 152.4394026,
             "test": [
              0.5299002746
             ]
            },
            {
             "iteration": 232,
             "learn": [
              0.5268715273
             ],
             "passed_time": 20.08453508,
             "remaining_time": 152.3149077,
             "test": [
              0.5298421556
             ]
            },
            {
             "iteration": 233,
             "learn": [
              0.5268027065
             ],
             "passed_time": 20.17067607,
             "remaining_time": 152.2282647,
             "test": [
              0.5297650979
             ]
            },
            {
             "iteration": 234,
             "learn": [
              0.5267594629
             ],
             "passed_time": 20.24357506,
             "remaining_time": 152.0421701,
             "test": [
              0.5297237199
             ]
            },
            {
             "iteration": 235,
             "learn": [
              0.5266897741
             ],
             "passed_time": 20.31985251,
             "remaining_time": 151.8822874,
             "test": [
              0.5296442397
             ]
            },
            {
             "iteration": 236,
             "learn": [
              0.5266401498
             ],
             "passed_time": 20.41304805,
             "remaining_time": 151.8489608,
             "test": [
              0.5295873163
             ]
            },
            {
             "iteration": 237,
             "learn": [
              0.5265373569
             ],
             "passed_time": 20.49464885,
             "remaining_time": 151.729291,
             "test": [
              0.5294772026
             ]
            },
            {
             "iteration": 238,
             "learn": [
              0.5264647869
             ],
             "passed_time": 20.57408917,
             "remaining_time": 151.5940211,
             "test": [
              0.5293947581
             ]
            },
            {
             "iteration": 239,
             "learn": [
              0.5263810905
             ],
             "passed_time": 20.66256321,
             "remaining_time": 151.5254635,
             "test": [
              0.5293176125
             ]
            },
            {
             "iteration": 240,
             "learn": [
              0.5263022907
             ],
             "passed_time": 20.7630869,
             "remaining_time": 151.5446882,
             "test": [
              0.5292249871
             ]
            },
            {
             "iteration": 241,
             "learn": [
              0.5262273756
             ],
             "passed_time": 20.8556362,
             "remaining_time": 151.5049936,
             "test": [
              0.529157363
             ]
            },
            {
             "iteration": 242,
             "learn": [
              0.5261322802
             ],
             "passed_time": 20.93506484,
             "remaining_time": 151.3699956,
             "test": [
              0.52905821
             ]
            },
            {
             "iteration": 243,
             "learn": [
              0.5260806846
             ],
             "passed_time": 21.02519687,
             "remaining_time": 151.3124824,
             "test": [
              0.5289936836
             ]
            },
            {
             "iteration": 244,
             "learn": [
              0.5260002805
             ],
             "passed_time": 21.13101262,
             "remaining_time": 151.3670496,
             "test": [
              0.5289049692
             ]
            },
            {
             "iteration": 245,
             "learn": [
              0.5259567068
             ],
             "passed_time": 21.19888854,
             "remaining_time": 151.1497988,
             "test": [
              0.528860752
             ]
            },
            {
             "iteration": 246,
             "learn": [
              0.5258853506
             ],
             "passed_time": 21.27097779,
             "remaining_time": 150.9636602,
             "test": [
              0.5287892075
             ]
            },
            {
             "iteration": 247,
             "learn": [
              0.5257993021
             ],
             "passed_time": 21.36083651,
             "remaining_time": 150.9039741,
             "test": [
              0.5287076475
             ]
            },
            {
             "iteration": 248,
             "learn": [
              0.5257344421
             ],
             "passed_time": 21.45416529,
             "remaining_time": 150.8684475,
             "test": [
              0.5286344652
             ]
            },
            {
             "iteration": 249,
             "learn": [
              0.5256652336
             ],
             "passed_time": 21.53028351,
             "remaining_time": 150.7119846,
             "test": [
              0.5285751279
             ]
            },
            {
             "iteration": 250,
             "learn": [
              0.5255759484
             ],
             "passed_time": 21.63429036,
             "remaining_time": 150.7504934,
             "test": [
              0.5284739051
             ]
            },
            {
             "iteration": 251,
             "learn": [
              0.5255178519
             ],
             "passed_time": 21.71023284,
             "remaining_time": 150.5932024,
             "test": [
              0.5284088326
             ]
            },
            {
             "iteration": 252,
             "learn": [
              0.5254640583
             ],
             "passed_time": 21.79176838,
             "remaining_time": 150.4751753,
             "test": [
              0.5283582225
             ]
            },
            {
             "iteration": 253,
             "learn": [
              0.525419777
             ],
             "passed_time": 21.89027821,
             "remaining_time": 150.4741171,
             "test": [
              0.5283107931
             ]
            },
            {
             "iteration": 254,
             "learn": [
              0.5253726738
             ],
             "passed_time": 21.98498328,
             "remaining_time": 150.4462582,
             "test": [
              0.5282713113
             ]
            },
            {
             "iteration": 255,
             "learn": [
              0.5253300927
             ],
             "passed_time": 22.07376317,
             "remaining_time": 150.3775116,
             "test": [
              0.5282172324
             ]
            },
            {
             "iteration": 256,
             "learn": [
              0.5252932004
             ],
             "passed_time": 22.15299301,
             "remaining_time": 150.2438398,
             "test": [
              0.5281844532
             ]
            },
            {
             "iteration": 257,
             "learn": [
              0.5252067863
             ],
             "passed_time": 22.24196545,
             "remaining_time": 150.1763713,
             "test": [
              0.5280948655
             ]
            },
            {
             "iteration": 258,
             "learn": [
              0.5251515783
             ],
             "passed_time": 22.33211167,
             "remaining_time": 150.1166271,
             "test": [
              0.5280392458
             ]
            },
            {
             "iteration": 259,
             "learn": [
              0.5251231567
             ],
             "passed_time": 22.40418798,
             "remaining_time": 149.9357196,
             "test": [
              0.5280046579
             ]
            },
            {
             "iteration": 260,
             "learn": [
              0.5250750591
             ],
             "passed_time": 22.48223715,
             "remaining_time": 149.7954421,
             "test": [
              0.5279492419
             ]
            },
            {
             "iteration": 261,
             "learn": [
              0.525031649
             ],
             "passed_time": 22.56337292,
             "remaining_time": 149.676115,
             "test": [
              0.5279030069
             ]
            },
            {
             "iteration": 262,
             "learn": [
              0.5249683692
             ],
             "passed_time": 22.65192857,
             "remaining_time": 149.6060834,
             "test": [
              0.5278481723
             ]
            },
            {
             "iteration": 263,
             "learn": [
              0.5249470412
             ],
             "passed_time": 22.72956412,
             "remaining_time": 149.4641034,
             "test": [
              0.5278248348
             ]
            },
            {
             "iteration": 264,
             "learn": [
              0.5249256557
             ],
             "passed_time": 22.77833864,
             "remaining_time": 149.1336511,
             "test": [
              0.5278026325
             ]
            },
            {
             "iteration": 265,
             "learn": [
              0.5248674364
             ],
             "passed_time": 22.85051358,
             "remaining_time": 148.9578592,
             "test": [
              0.527738654
             ]
            },
            {
             "iteration": 266,
             "learn": [
              0.5247740934
             ],
             "passed_time": 22.94359737,
             "remaining_time": 148.9185552,
             "test": [
              0.5276377122
             ]
            },
            {
             "iteration": 267,
             "learn": [
              0.5246934305
             ],
             "passed_time": 23.03727681,
             "remaining_time": 148.8826994,
             "test": [
              0.5275565057
             ]
            },
            {
             "iteration": 268,
             "learn": [
              0.5246617098
             ],
             "passed_time": 23.12296397,
             "remaining_time": 148.7949838,
             "test": [
              0.5275185452
             ]
            },
            {
             "iteration": 269,
             "learn": [
              0.5246323995
             ],
             "passed_time": 23.19742358,
             "remaining_time": 148.6353437,
             "test": [
              0.5274870392
             ]
            },
            {
             "iteration": 270,
             "learn": [
              0.5245979852
             ],
             "passed_time": 23.29220714,
             "remaining_time": 148.6060005,
             "test": [
              0.5274555362
             ]
            },
            {
             "iteration": 271,
             "learn": [
              0.5245684687
             ],
             "passed_time": 23.37536409,
             "remaining_time": 148.502313,
             "test": [
              0.5274272434
             ]
            },
            {
             "iteration": 272,
             "learn": [
              0.5245269772
             ],
             "passed_time": 23.47072489,
             "remaining_time": 148.4759776,
             "test": [
              0.5273787157
             ]
            },
            {
             "iteration": 273,
             "learn": [
              0.5244867996
             ],
             "passed_time": 23.55323572,
             "remaining_time": 148.3681929,
             "test": [
              0.527333514
             ]
            },
            {
             "iteration": 274,
             "learn": [
              0.5244605364
             ],
             "passed_time": 23.62786079,
             "remaining_time": 148.2111268,
             "test": [
              0.5273060096
             ]
            },
            {
             "iteration": 275,
             "learn": [
              0.5243791168
             ],
             "passed_time": 23.72533725,
             "remaining_time": 148.1973964,
             "test": [
              0.5272254228
             ]
            },
            {
             "iteration": 276,
             "learn": [
              0.524303531
             ],
             "passed_time": 23.82608503,
             "remaining_time": 148.2034098,
             "test": [
              0.5271444244
             ]
            },
            {
             "iteration": 277,
             "learn": [
              0.524223618
             ],
             "passed_time": 23.91170895,
             "remaining_time": 148.1149741,
             "test": [
              0.5270663036
             ]
            },
            {
             "iteration": 278,
             "learn": [
              0.5241798132
             ],
             "passed_time": 24.00276953,
             "remaining_time": 148.0600945,
             "test": [
              0.527016723
             ]
            },
            {
             "iteration": 279,
             "learn": [
              0.5241379928
             ],
             "passed_time": 24.08419694,
             "remaining_time": 147.9457812,
             "test": [
              0.5269665819
             ]
            },
            {
             "iteration": 280,
             "learn": [
              0.5240906119
             ],
             "passed_time": 24.16747617,
             "remaining_time": 147.8430304,
             "test": [
              0.5269275046
             ]
            },
            {
             "iteration": 281,
             "learn": [
              0.5240537061
             ],
             "passed_time": 24.24592861,
             "remaining_time": 147.7110119,
             "test": [
              0.5268832835
             ]
            },
            {
             "iteration": 282,
             "learn": [
              0.5240066545
             ],
             "passed_time": 24.31684578,
             "remaining_time": 147.5336544,
             "test": [
              0.5268274857
             ]
            },
            {
             "iteration": 283,
             "learn": [
              0.5239294253
             ],
             "passed_time": 24.41679058,
             "remaining_time": 147.5324389,
             "test": [
              0.5267433706
             ]
            },
            {
             "iteration": 284,
             "learn": [
              0.5238949388
             ],
             "passed_time": 24.49677204,
             "remaining_time": 147.4104002,
             "test": [
              0.5267025336
             ]
            },
            {
             "iteration": 285,
             "learn": [
              0.523861822
             ],
             "passed_time": 24.5842276,
             "remaining_time": 147.3334479,
             "test": [
              0.5266701647
             ]
            },
            {
             "iteration": 286,
             "learn": [
              0.5238244023
             ],
             "passed_time": 24.67245913,
             "remaining_time": 147.261054,
             "test": [
              0.5266271956
             ]
            },
            {
             "iteration": 287,
             "learn": [
              0.5237846396
             ],
             "passed_time": 24.76040223,
             "remaining_time": 147.1868355,
             "test": [
              0.5265844747
             ]
            },
            {
             "iteration": 288,
             "learn": [
              0.5237632809
             ],
             "passed_time": 24.83435803,
             "remaining_time": 147.0297114,
             "test": [
              0.5265655401
             ]
            },
            {
             "iteration": 289,
             "learn": [
              0.5237328299
             ],
             "passed_time": 24.9111095,
             "remaining_time": 146.8896457,
             "test": [
              0.5265277946
             ]
            },
            {
             "iteration": 290,
             "learn": [
              0.5236870982
             ],
             "passed_time": 24.99450709,
             "remaining_time": 146.7890468,
             "test": [
              0.5264861168
             ]
            },
            {
             "iteration": 291,
             "learn": [
              0.5236648035
             ],
             "passed_time": 25.07691022,
             "remaining_time": 146.6827488,
             "test": [
              0.5264628624
             ]
            },
            {
             "iteration": 292,
             "learn": [
              0.5236326577
             ],
             "passed_time": 25.15792703,
             "remaining_time": 146.5685374,
             "test": [
              0.5264222631
             ]
            },
            {
             "iteration": 293,
             "learn": [
              0.5235518207
             ],
             "passed_time": 25.27645558,
             "remaining_time": 146.6722218,
             "test": [
              0.5263305071
             ]
            },
            {
             "iteration": 294,
             "learn": [
              0.5235224499
             ],
             "passed_time": 25.36795049,
             "remaining_time": 146.6181545,
             "test": [
              0.5262960839
             ]
            },
            {
             "iteration": 295,
             "learn": [
              0.5234897597
             ],
             "passed_time": 25.45423195,
             "remaining_time": 146.5338217,
             "test": [
              0.5262570107
             ]
            },
            {
             "iteration": 296,
             "learn": [
              0.5234370525
             ],
             "passed_time": 25.54589162,
             "remaining_time": 146.4803146,
             "test": [
              0.5262052811
             ]
            },
            {
             "iteration": 297,
             "learn": [
              0.5234176164
             ],
             "passed_time": 25.63359325,
             "remaining_time": 146.4039453,
             "test": [
              0.5261869862
             ]
            },
            {
             "iteration": 298,
             "learn": [
              0.5233751326
             ],
             "passed_time": 25.72329328,
             "remaining_time": 146.3388691,
             "test": [
              0.5261453376
             ]
            },
            {
             "iteration": 299,
             "learn": [
              0.5233035491
             ],
             "passed_time": 25.81916158,
             "remaining_time": 146.3085823,
             "test": [
              0.5260744327
             ]
            },
            {
             "iteration": 300,
             "learn": [
              0.5232796411
             ],
             "passed_time": 25.89707764,
             "remaining_time": 146.1765279,
             "test": [
              0.526049606
             ]
            },
            {
             "iteration": 301,
             "learn": [
              0.5232587072
             ],
             "passed_time": 25.97692694,
             "remaining_time": 146.0557018,
             "test": [
              0.5260290312
             ]
            },
            {
             "iteration": 302,
             "learn": [
              0.5232336137
             ],
             "passed_time": 26.05424121,
             "remaining_time": 145.9209483,
             "test": [
              0.5260058321
             ]
            },
            {
             "iteration": 303,
             "learn": [
              0.5232201546
             ],
             "passed_time": 26.10757575,
             "remaining_time": 145.652791,
             "test": [
              0.5259900643
             ]
            },
            {
             "iteration": 304,
             "learn": [
              0.5231941865
             ],
             "passed_time": 26.18806922,
             "remaining_time": 145.5369748,
             "test": [
              0.525963007
             ]
            },
            {
             "iteration": 305,
             "learn": [
              0.5231454469
             ],
             "passed_time": 26.28247718,
             "remaining_time": 145.4984194,
             "test": [
              0.5259258875
             ]
            },
            {
             "iteration": 306,
             "learn": [
              0.5230940579
             ],
             "passed_time": 26.3607004,
             "remaining_time": 145.3702468,
             "test": [
              0.525881052
             ]
            },
            {
             "iteration": 307,
             "learn": [
              0.5230728904
             ],
             "passed_time": 26.43565223,
             "remaining_time": 145.2244272,
             "test": [
              0.5258577238
             ]
            },
            {
             "iteration": 308,
             "learn": [
              0.5230499642
             ],
             "passed_time": 26.50915905,
             "remaining_time": 145.0711584,
             "test": [
              0.5258350699
             ]
            },
            {
             "iteration": 309,
             "learn": [
              0.523022477
             ],
             "passed_time": 26.60105534,
             "remaining_time": 145.0186565,
             "test": [
              0.5258042548
             ]
            },
            {
             "iteration": 310,
             "learn": [
              0.5229905717
             ],
             "passed_time": 26.69057954,
             "remaining_time": 144.9530188,
             "test": [
              0.5257654138
             ]
            },
            {
             "iteration": 311,
             "learn": [
              0.5229682067
             ],
             "passed_time": 26.7649872,
             "remaining_time": 144.8054436,
             "test": [
              0.5257424738
             ]
            },
            {
             "iteration": 312,
             "learn": [
              0.5229374225
             ],
             "passed_time": 26.84152814,
             "remaining_time": 144.6698338,
             "test": [
              0.5257057247
             ]
            },
            {
             "iteration": 313,
             "learn": [
              0.5229141324
             ],
             "passed_time": 26.92211709,
             "remaining_time": 144.5563357,
             "test": [
              0.5256821081
             ]
            },
            {
             "iteration": 314,
             "learn": [
              0.5228765831
             ],
             "passed_time": 27.03837307,
             "remaining_time": 144.6338369,
             "test": [
              0.5256426057
             ]
            },
            {
             "iteration": 315,
             "learn": [
              0.5228587348
             ],
             "passed_time": 27.10693298,
             "remaining_time": 144.455934,
             "test": [
              0.5256225767
             ]
            },
            {
             "iteration": 316,
             "learn": [
              0.5228302047
             ],
             "passed_time": 27.19795687,
             "remaining_time": 144.3979855,
             "test": [
              0.5255866931
             ]
            },
            {
             "iteration": 317,
             "learn": [
              0.5228149272
             ],
             "passed_time": 27.28697455,
             "remaining_time": 144.3292176,
             "test": [
              0.5255705122
             ]
            },
            {
             "iteration": 318,
             "learn": [
              0.5227810688
             ],
             "passed_time": 27.36085314,
             "remaining_time": 144.1805458,
             "test": [
              0.5255387415
             ]
            },
            {
             "iteration": 319,
             "learn": [
              0.5227669813
             ],
             "passed_time": 27.43617056,
             "remaining_time": 144.0398954,
             "test": [
              0.5255215467
             ]
            },
            {
             "iteration": 320,
             "learn": [
              0.5227554139
             ],
             "passed_time": 27.51289388,
             "remaining_time": 143.9070057,
             "test": [
              0.5255091195
             ]
            },
            {
             "iteration": 321,
             "learn": [
              0.5227338165
             ],
             "passed_time": 27.60265956,
             "remaining_time": 143.8424309,
             "test": [
              0.5254936361
             ]
            },
            {
             "iteration": 322,
             "learn": [
              0.5226969702
             ],
             "passed_time": 27.68956288,
             "remaining_time": 143.7628389,
             "test": [
              0.525455754
             ]
            },
            {
             "iteration": 323,
             "learn": [
              0.5226727981
             ],
             "passed_time": 27.77823513,
             "remaining_time": 143.6923521,
             "test": [
              0.5254245315
             ]
            },
            {
             "iteration": 324,
             "learn": [
              0.5226247372
             ],
             "passed_time": 27.88263821,
             "remaining_time": 143.7028277,
             "test": [
              0.5253750802
             ]
            },
            {
             "iteration": 325,
             "learn": [
              0.5225993521
             ],
             "passed_time": 27.97715765,
             "remaining_time": 143.6618463,
             "test": [
              0.5253385385
             ]
            },
            {
             "iteration": 326,
             "learn": [
              0.5225477162
             ],
             "passed_time": 28.06175053,
             "remaining_time": 143.5697512,
             "test": [
              0.5252723714
             ]
            },
            {
             "iteration": 327,
             "learn": [
              0.5225148689
             ],
             "passed_time": 28.15144245,
             "remaining_time": 143.5036945,
             "test": [
              0.5252373686
             ]
            },
            {
             "iteration": 328,
             "learn": [
              0.5225048026
             ],
             "passed_time": 28.2242045,
             "remaining_time": 143.3515067,
             "test": [
              0.525222041
             ]
            },
            {
             "iteration": 329,
             "learn": [
              0.5224847211
             ],
             "passed_time": 28.30646447,
             "remaining_time": 143.2478657,
             "test": [
              0.5251976979
             ]
            },
            {
             "iteration": 330,
             "learn": [
              0.5224712172
             ],
             "passed_time": 28.39577821,
             "remaining_time": 143.179921,
             "test": [
              0.525188461
             ]
            },
            {
             "iteration": 331,
             "learn": [
              0.522458349
             ],
             "passed_time": 28.48558478,
             "remaining_time": 143.1143235,
             "test": [
              0.5251737567
             ]
            },
            {
             "iteration": 332,
             "learn": [
              0.5224410055
             ],
             "passed_time": 28.57393943,
             "remaining_time": 143.0413124,
             "test": [
              0.5251567491
             ]
            },
            {
             "iteration": 333,
             "learn": [
              0.5224268751
             ],
             "passed_time": 28.64815019,
             "remaining_time": 142.8976593,
             "test": [
              0.5251393397
             ]
            },
            {
             "iteration": 334,
             "learn": [
              0.522412188
             ],
             "passed_time": 28.73467987,
             "remaining_time": 142.8156477,
             "test": [
              0.5251219124
             ]
            },
            {
             "iteration": 335,
             "learn": [
              0.5223765427
             ],
             "passed_time": 28.82398599,
             "remaining_time": 142.7473592,
             "test": [
              0.5250855909
             ]
            },
            {
             "iteration": 336,
             "learn": [
              0.52235864
             ],
             "passed_time": 28.90310529,
             "remaining_time": 142.6286769,
             "test": [
              0.5250664598
             ]
            },
            {
             "iteration": 337,
             "learn": [
              0.5223472868
             ],
             "passed_time": 28.99602563,
             "remaining_time": 142.5780905,
             "test": [
              0.5250591549
             ]
            },
            {
             "iteration": 338,
             "learn": [
              0.5223259693
             ],
             "passed_time": 29.06954678,
             "remaining_time": 142.4322041,
             "test": [
              0.5250360456
             ]
            },
            {
             "iteration": 339,
             "learn": [
              0.5222626699
             ],
             "passed_time": 29.16031179,
             "remaining_time": 142.3709341,
             "test": [
              0.5249667957
             ]
            },
            {
             "iteration": 340,
             "learn": [
              0.5222481307
             ],
             "passed_time": 29.25766337,
             "remaining_time": 142.3415353,
             "test": [
              0.5249501504
             ]
            },
            {
             "iteration": 341,
             "learn": [
              0.5222346889
             ],
             "passed_time": 29.35052044,
             "remaining_time": 142.28995,
             "test": [
              0.5249348359
             ]
            },
            {
             "iteration": 342,
             "learn": [
              0.5221777512
             ],
             "passed_time": 29.43540332,
             "remaining_time": 142.1996015,
             "test": [
              0.5248703114
             ]
            },
            {
             "iteration": 343,
             "learn": [
              0.5221228599
             ],
             "passed_time": 29.53140623,
             "remaining_time": 142.162816,
             "test": [
              0.5248116743
             ]
            },
            {
             "iteration": 344,
             "learn": [
              0.5221062797
             ],
             "passed_time": 29.61235642,
             "remaining_time": 142.0534779,
             "test": [
              0.5247893325
             ]
            },
            {
             "iteration": 345,
             "learn": [
              0.5220942133
             ],
             "passed_time": 29.70274839,
             "remaining_time": 141.9894388,
             "test": [
              0.5247767985
             ]
            },
            {
             "iteration": 346,
             "learn": [
              0.5220742335
             ],
             "passed_time": 29.77733372,
             "remaining_time": 141.84995,
             "test": [
              0.5247547283
             ]
            },
            {
             "iteration": 347,
             "learn": [
              0.5220525552
             ],
             "passed_time": 29.85836906,
             "remaining_time": 141.7414531,
             "test": [
              0.5247290211
             ]
            },
            {
             "iteration": 348,
             "learn": [
              0.5220322012
             ],
             "passed_time": 29.9423079,
             "remaining_time": 141.6468491,
             "test": [
              0.5247023597
             ]
            },
            {
             "iteration": 349,
             "learn": [
              0.5220043176
             ],
             "passed_time": 30.06174684,
             "remaining_time": 141.7196637,
             "test": [
              0.5246688925
             ]
            },
            {
             "iteration": 350,
             "learn": [
              0.521947101
             ],
             "passed_time": 30.14717974,
             "remaining_time": 141.6316222,
             "test": [
              0.5246111738
             ]
            },
            {
             "iteration": 351,
             "learn": [
              0.5219038218
             ],
             "passed_time": 30.24593166,
             "remaining_time": 141.6059528,
             "test": [
              0.5245610361
             ]
            },
            {
             "iteration": 352,
             "learn": [
              0.5218892393
             ],
             "passed_time": 30.32806859,
             "remaining_time": 141.5023484,
             "test": [
              0.5245492479
             ]
            },
            {
             "iteration": 353,
             "learn": [
              0.5218758071
             ],
             "passed_time": 30.41728414,
             "remaining_time": 141.4317788,
             "test": [
              0.5245367679
             ]
            },
            {
             "iteration": 354,
             "learn": [
              0.5218156946
             ],
             "passed_time": 30.50927098,
             "remaining_time": 141.3739458,
             "test": [
              0.5244718804
             ]
            },
            {
             "iteration": 355,
             "learn": [
              0.5217973139
             ],
             "passed_time": 30.59644118,
             "remaining_time": 141.2936778,
             "test": [
              0.5244484055
             ]
            },
            {
             "iteration": 356,
             "learn": [
              0.5217738052
             ],
             "passed_time": 30.685504,
             "remaining_time": 141.2220814,
             "test": [
              0.5244218653
             ]
            },
            {
             "iteration": 357,
             "learn": [
              0.5217616665
             ],
             "passed_time": 30.77175486,
             "remaining_time": 141.1374902,
             "test": [
              0.5244099664
             ]
            },
            {
             "iteration": 358,
             "learn": [
              0.521730081
             ],
             "passed_time": 30.84581178,
             "remaining_time": 140.9971508,
             "test": [
              0.5243775222
             ]
            },
            {
             "iteration": 359,
             "learn": [
              0.5217161751
             ],
             "passed_time": 30.93657369,
             "remaining_time": 140.9332801,
             "test": [
              0.5243593386
             ]
            },
            {
             "iteration": 360,
             "learn": [
              0.5216893344
             ],
             "passed_time": 31.05039502,
             "remaining_time": 140.9739541,
             "test": [
              0.5243407925
             ]
            },
            {
             "iteration": 361,
             "learn": [
              0.5216765663
             ],
             "passed_time": 31.1258899,
             "remaining_time": 140.8403527,
             "test": [
              0.5243269532
             ]
            },
            {
             "iteration": 362,
             "learn": [
              0.5216681201
             ],
             "passed_time": 31.20427975,
             "remaining_time": 140.7201266,
             "test": [
              0.5243168569
             ]
            },
            {
             "iteration": 363,
             "learn": [
              0.5216608085
             ],
             "passed_time": 31.28863587,
             "remaining_time": 140.6269458,
             "test": [
              0.5243069329
             ]
            },
            {
             "iteration": 364,
             "learn": [
              0.5216522155
             ],
             "passed_time": 31.37453975,
             "remaining_time": 140.5407465,
             "test": [
              0.5242970327
             ]
            },
            {
             "iteration": 365,
             "learn": [
              0.5216261543
             ],
             "passed_time": 31.45692457,
             "remaining_time": 140.4388381,
             "test": [
              0.5242631029
             ]
            },
            {
             "iteration": 366,
             "learn": [
              0.5215793587
             ],
             "passed_time": 31.55056795,
             "remaining_time": 140.387132,
             "test": [
              0.5242200073
             ]
            },
            {
             "iteration": 367,
             "learn": [
              0.5215395144
             ],
             "passed_time": 31.63142677,
             "remaining_time": 140.2785013,
             "test": [
              0.5241732467
             ]
            },
            {
             "iteration": 368,
             "learn": [
              0.521507683
             ],
             "passed_time": 31.72046775,
             "remaining_time": 140.2061867,
             "test": [
              0.5241361178
             ]
            },
            {
             "iteration": 369,
             "learn": [
              0.521491646
             ],
             "passed_time": 31.82154814,
             "remaining_time": 140.1868202,
             "test": [
              0.5241157182
             ]
            },
            {
             "iteration": 370,
             "learn": [
              0.5214784761
             ],
             "passed_time": 31.92120666,
             "remaining_time": 140.1607699,
             "test": [
              0.5241031801
             ]
            },
            {
             "iteration": 371,
             "learn": [
              0.5214718511
             ],
             "passed_time": 32.00372102,
             "remaining_time": 140.0592952,
             "test": [
              0.5240990026
             ]
            },
            {
             "iteration": 372,
             "learn": [
              0.5214301337
             ],
             "passed_time": 32.11156757,
             "remaining_time": 140.0684194,
             "test": [
              0.5240662111
             ]
            },
            {
             "iteration": 373,
             "learn": [
              0.5214184032
             ],
             "passed_time": 32.196674,
             "remaining_time": 139.9780533,
             "test": [
              0.5240533794
             ]
            },
            {
             "iteration": 374,
             "learn": [
              0.5214031287
             ],
             "passed_time": 32.28738128,
             "remaining_time": 139.9119856,
             "test": [
              0.5240418185
             ]
            },
            {
             "iteration": 375,
             "learn": [
              0.5213948442
             ],
             "passed_time": 32.38706899,
             "remaining_time": 139.8845746,
             "test": [
              0.5240305688
             ]
            },
            {
             "iteration": 376,
             "learn": [
              0.5213739008
             ],
             "passed_time": 32.47394338,
             "remaining_time": 139.8016183,
             "test": [
              0.5240101797
             ]
            },
            {
             "iteration": 377,
             "learn": [
              0.521351968
             ],
             "passed_time": 32.56908799,
             "remaining_time": 139.7541289,
             "test": [
              0.5239866245
             ]
            },
            {
             "iteration": 378,
             "learn": [
              0.5213297334
             ],
             "passed_time": 32.6469055,
             "remaining_time": 139.6322792,
             "test": [
              0.5239634025
             ]
            },
            {
             "iteration": 379,
             "learn": [
              0.5213102194
             ],
             "passed_time": 32.73086589,
             "remaining_time": 139.5368493,
             "test": [
              0.5239494997
             ]
            },
            {
             "iteration": 380,
             "learn": [
              0.5213016793
             ],
             "passed_time": 32.7940573,
             "remaining_time": 139.3532251,
             "test": [
              0.5239394275
             ]
            },
            {
             "iteration": 381,
             "learn": [
              0.5212891887
             ],
             "passed_time": 32.86642197,
             "remaining_time": 139.2090857,
             "test": [
              0.5239279497
             ]
            },
            {
             "iteration": 382,
             "learn": [
              0.5212688967
             ],
             "passed_time": 32.95591405,
             "remaining_time": 139.1376319,
             "test": [
              0.5238970529
             ]
            },
            {
             "iteration": 383,
             "learn": [
              0.5212625404
             ],
             "passed_time": 33.05321718,
             "remaining_time": 139.0989556,
             "test": [
              0.523890314
             ]
            },
            {
             "iteration": 384,
             "learn": [
              0.5212501091
             ],
             "passed_time": 33.13282988,
             "remaining_time": 138.9857669,
             "test": [
              0.5238789822
             ]
            },
            {
             "iteration": 385,
             "learn": [
              0.5212236909
             ],
             "passed_time": 33.22286739,
             "remaining_time": 138.9163419,
             "test": [
              0.5238488752
             ]
            },
            {
             "iteration": 386,
             "learn": [
              0.5211782673
             ],
             "passed_time": 33.31602476,
             "remaining_time": 138.8598138,
             "test": [
              0.5237953776
             ]
            },
            {
             "iteration": 387,
             "learn": [
              0.5211557427
             ],
             "passed_time": 33.41665071,
             "remaining_time": 138.8341261,
             "test": [
              0.523771101
             ]
            },
            {
             "iteration": 388,
             "learn": [
              0.5211468155
             ],
             "passed_time": 33.48332818,
             "remaining_time": 138.6674594,
             "test": [
              0.5237628038
             ]
            },
            {
             "iteration": 389,
             "learn": [
              0.5211389725
             ],
             "passed_time": 33.55989901,
             "remaining_time": 138.5421472,
             "test": [
              0.5237541424
             ]
            },
            {
             "iteration": 390,
             "learn": [
              0.5211306403
             ],
             "passed_time": 33.63705405,
             "remaining_time": 138.4194884,
             "test": [
              0.5237429823
             ]
            },
            {
             "iteration": 391,
             "learn": [
              0.521128122
             ],
             "passed_time": 33.70808648,
             "remaining_time": 138.2719466,
             "test": [
              0.5237403012
             ]
            },
            {
             "iteration": 392,
             "learn": [
              0.521112344
             ],
             "passed_time": 33.78833314,
             "remaining_time": 138.1624716,
             "test": [
              0.5237198149
             ]
            },
            {
             "iteration": 393,
             "learn": [
              0.5210959932
             ],
             "passed_time": 33.87589223,
             "remaining_time": 138.0829516,
             "test": [
              0.5236982928
             ]
            },
            {
             "iteration": 394,
             "learn": [
              0.5210842305
             ],
             "passed_time": 33.94617817,
             "remaining_time": 137.933205,
             "test": [
              0.5236858293
             ]
            },
            {
             "iteration": 395,
             "learn": [
              0.5210727251
             ],
             "passed_time": 34.01092604,
             "remaining_time": 137.7614277,
             "test": [
              0.523672171
             ]
            },
            {
             "iteration": 396,
             "learn": [
              0.5210636914
             ],
             "passed_time": 34.09402666,
             "remaining_time": 137.6642941,
             "test": [
              0.5236610292
             ]
            },
            {
             "iteration": 397,
             "learn": [
              0.5210572285
             ],
             "passed_time": 34.18917986,
             "remaining_time": 137.6157441,
             "test": [
              0.5236544491
             ]
            },
            {
             "iteration": 398,
             "learn": [
              0.5210456998
             ],
             "passed_time": 34.25647637,
             "remaining_time": 137.4551846,
             "test": [
              0.5236410468
             ]
            },
            {
             "iteration": 399,
             "learn": [
              0.5210368327
             ],
             "passed_time": 34.32101654,
             "remaining_time": 137.2840662,
             "test": [
              0.5236308552
             ]
            },
            {
             "iteration": 400,
             "learn": [
              0.5210290168
             ],
             "passed_time": 34.39554646,
             "remaining_time": 137.1533137,
             "test": [
              0.5236199071
             ]
            },
            {
             "iteration": 401,
             "learn": [
              0.5210230394
             ],
             "passed_time": 34.46617293,
             "remaining_time": 137.0073242,
             "test": [
              0.5236117133
             ]
            },
            {
             "iteration": 402,
             "learn": [
              0.5209780863
             ],
             "passed_time": 34.57315839,
             "remaining_time": 137.0057914,
             "test": [
              0.523565664
             ]
            },
            {
             "iteration": 403,
             "learn": [
              0.5209626749
             ],
             "passed_time": 34.65953331,
             "remaining_time": 136.9223148,
             "test": [
              0.5235455798
             ]
            },
            {
             "iteration": 404,
             "learn": [
              0.5209509118
             ],
             "passed_time": 34.74705564,
             "remaining_time": 136.8433426,
             "test": [
              0.5235319127
             ]
            },
            {
             "iteration": 405,
             "learn": [
              0.520931334
             ],
             "passed_time": 34.83421916,
             "remaining_time": 136.7629196,
             "test": [
              0.5235043903
             ]
            },
            {
             "iteration": 406,
             "learn": [
              0.5209226208
             ],
             "passed_time": 34.93188217,
             "remaining_time": 136.7235585,
             "test": [
              0.5234924371
             ]
            },
            {
             "iteration": 407,
             "learn": [
              0.5209041103
             ],
             "passed_time": 35.02006229,
             "remaining_time": 136.6469097,
             "test": [
              0.523466916
             ]
            },
            {
             "iteration": 408,
             "learn": [
              0.5208910909
             ],
             "passed_time": 35.0984068,
             "remaining_time": 136.5319443,
             "test": [
              0.523450228
             ]
            },
            {
             "iteration": 409,
             "learn": [
              0.5208401159
             ],
             "passed_time": 35.2262723,
             "remaining_time": 136.6092023,
             "test": [
              0.523399034
             ]
            },
            {
             "iteration": 410,
             "learn": [
              0.5208317363
             ],
             "passed_time": 35.29663373,
             "remaining_time": 136.4631411,
             "test": [
              0.5233909314
             ]
            },
            {
             "iteration": 411,
             "learn": [
              0.5208052391
             ],
             "passed_time": 35.3873303,
             "remaining_time": 136.3958265,
             "test": [
              0.5233765685
             ]
            },
            {
             "iteration": 412,
             "learn": [
              0.5207889115
             ],
             "passed_time": 35.47131685,
             "remaining_time": 136.3026146,
             "test": [
              0.5233518373
             ]
            },
            {
             "iteration": 413,
             "learn": [
              0.5207395728
             ],
             "passed_time": 35.56042156,
             "remaining_time": 136.2290546,
             "test": [
              0.5233009847
             ]
            },
            {
             "iteration": 414,
             "learn": [
              0.5207320334
             ],
             "passed_time": 35.63814209,
             "remaining_time": 136.1119403,
             "test": [
              0.5232902138
             ]
            },
            {
             "iteration": 415,
             "learn": [
              0.5207236963
             ],
             "passed_time": 35.72442034,
             "remaining_time": 136.0276005,
             "test": [
              0.5232819772
             ]
            },
            {
             "iteration": 416,
             "learn": [
              0.5206973442
             ],
             "passed_time": 35.81887223,
             "remaining_time": 135.97428,
             "test": [
              0.523246024
             ]
            },
            {
             "iteration": 417,
             "learn": [
              0.5206721147
             ],
             "passed_time": 35.91008285,
             "remaining_time": 135.9084954,
             "test": [
              0.5232278014
             ]
            },
            {
             "iteration": 418,
             "learn": [
              0.5206335916
             ],
             "passed_time": 36.00819568,
             "remaining_time": 135.8686334,
             "test": [
              0.5231818605
             ]
            },
            {
             "iteration": 419,
             "learn": [
              0.5206285005
             ],
             "passed_time": 36.0945257,
             "remaining_time": 135.7841681,
             "test": [
              0.5231739675
             ]
            },
            {
             "iteration": 420,
             "learn": [
              0.5206070655
             ],
             "passed_time": 36.19253356,
             "remaining_time": 135.7434928,
             "test": [
              0.5231438305
             ]
            },
            {
             "iteration": 421,
             "learn": [
              0.520602304
             ],
             "passed_time": 36.26537,
             "remaining_time": 135.6084215,
             "test": [
              0.5231390559
             ]
            },
            {
             "iteration": 422,
             "learn": [
              0.5205901251
             ],
             "passed_time": 36.36823092,
             "remaining_time": 135.5855796,
             "test": [
              0.5231214152
             ]
            },
            {
             "iteration": 423,
             "learn": [
              0.5205787844
             ],
             "passed_time": 36.441712,
             "remaining_time": 135.4531559,
             "test": [
              0.5231068545
             ]
            },
            {
             "iteration": 424,
             "learn": [
              0.5205536799
             ],
             "passed_time": 36.53223905,
             "remaining_time": 135.38418,
             "test": [
              0.5230795274
             ]
            },
            {
             "iteration": 425,
             "learn": [
              0.5205501971
             ],
             "passed_time": 36.60097849,
             "remaining_time": 135.2346013,
             "test": [
              0.5230749059
             ]
            },
            {
             "iteration": 426,
             "learn": [
              0.5205424738
             ],
             "passed_time": 36.66757683,
             "remaining_time": 135.0775137,
             "test": [
              0.5230660897
             ]
            },
            {
             "iteration": 427,
             "learn": [
              0.5205293134
             ],
             "passed_time": 36.75787577,
             "remaining_time": 135.0078989,
             "test": [
              0.5230535802
             ]
            },
            {
             "iteration": 428,
             "learn": [
              0.5205195404
             ],
             "passed_time": 36.84580538,
             "remaining_time": 134.9295111,
             "test": [
              0.5230420008
             ]
            },
            {
             "iteration": 429,
             "learn": [
              0.520514282
             ],
             "passed_time": 36.90944976,
             "remaining_time": 134.7624096,
             "test": [
              0.5230351209
             ]
            },
            {
             "iteration": 430,
             "learn": [
              0.5204842918
             ],
             "passed_time": 36.99582043,
             "remaining_time": 134.6785203,
             "test": [
              0.5230052455
             ]
            },
            {
             "iteration": 431,
             "learn": [
              0.5204749885
             ],
             "passed_time": 37.07435235,
             "remaining_time": 134.5661678,
             "test": [
              0.5229962665
             ]
            },
            {
             "iteration": 432,
             "learn": [
              0.5204498018
             ],
             "passed_time": 37.16909528,
             "remaining_time": 134.5126381,
             "test": [
              0.5229703203
             ]
            },
            {
             "iteration": 433,
             "learn": [
              0.5204394473
             ],
             "passed_time": 37.25431382,
             "remaining_time": 134.4245517,
             "test": [
              0.5229589236
             ]
            },
            {
             "iteration": 434,
             "learn": [
              0.5204306473
             ],
             "passed_time": 37.34812867,
             "remaining_time": 134.3674054,
             "test": [
              0.522948101
             ]
            },
            {
             "iteration": 435,
             "learn": [
              0.5204289053
             ],
             "passed_time": 37.38871901,
             "remaining_time": 134.1191663,
             "test": [
              0.5229462083
             ]
            },
            {
             "iteration": 436,
             "learn": [
              0.5204178358
             ],
             "passed_time": 37.46012738,
             "remaining_time": 133.9821032,
             "test": [
              0.5229316262
             ]
            },
            {
             "iteration": 437,
             "learn": [
              0.5204127927
             ],
             "passed_time": 37.53135151,
             "remaining_time": 133.8446828,
             "test": [
              0.5229280995
             ]
            },
            {
             "iteration": 438,
             "learn": [
              0.5204048326
             ],
             "passed_time": 37.60946377,
             "remaining_time": 133.7320568,
             "test": [
              0.5229185675
             ]
            },
            {
             "iteration": 439,
             "learn": [
              0.5203979271
             ],
             "passed_time": 37.71799043,
             "remaining_time": 133.7274206,
             "test": [
              0.5229095746
             ]
            },
            {
             "iteration": 440,
             "learn": [
              0.5203652288
             ],
             "passed_time": 37.81559897,
             "remaining_time": 133.6837161,
             "test": [
              0.5228741856
             ]
            },
            {
             "iteration": 441,
             "learn": [
              0.5203583263
             ],
             "passed_time": 37.89983983,
             "remaining_time": 133.5926481,
             "test": [
              0.5228703896
             ]
            },
            {
             "iteration": 442,
             "learn": [
              0.5203498759
             ],
             "passed_time": 37.9885425,
             "remaining_time": 133.5172927,
             "test": [
              0.5228633406
             ]
            },
            {
             "iteration": 443,
             "learn": [
              0.5203408738
             ],
             "passed_time": 38.05446351,
             "remaining_time": 133.3620388,
             "test": [
              0.52285477
             ]
            },
            {
             "iteration": 444,
             "learn": [
              0.5203304325
             ],
             "passed_time": 38.14091591,
             "remaining_time": 133.2789309,
             "test": [
              0.5228419451
             ]
            },
            {
             "iteration": 445,
             "learn": [
              0.5203270134
             ],
             "passed_time": 38.22628144,
             "remaining_time": 133.192021,
             "test": [
              0.5228401963
             ]
            },
            {
             "iteration": 446,
             "learn": [
              0.5203048225
             ],
             "passed_time": 38.31508159,
             "remaining_time": 133.1170508,
             "test": [
              0.5228145028
             ]
            },
            {
             "iteration": 447,
             "learn": [
              0.5202980528
             ],
             "passed_time": 38.38877428,
             "remaining_time": 132.9896823,
             "test": [
              0.5228069366
             ]
            },
            {
             "iteration": 448,
             "learn": [
              0.5202933347
             ],
             "passed_time": 38.47689197,
             "remaining_time": 132.9123819,
             "test": [
              0.522800886
             ]
            },
            {
             "iteration": 449,
             "learn": [
              0.5202869694
             ],
             "passed_time": 38.55791443,
             "remaining_time": 132.8105941,
             "test": [
              0.5227920872
             ]
            },
            {
             "iteration": 450,
             "learn": [
              0.5202803366
             ],
             "passed_time": 38.63555728,
             "remaining_time": 132.697291,
             "test": [
              0.5227831255
             ]
            },
            {
             "iteration": 451,
             "learn": [
              0.5202610909
             ],
             "passed_time": 38.72633452,
             "remaining_time": 132.629128,
             "test": [
              0.5227682053
             ]
            },
            {
             "iteration": 452,
             "learn": [
              0.5202558361
             ],
             "passed_time": 38.79769801,
             "remaining_time": 132.4945669,
             "test": [
              0.5227622484
             ]
            },
            {
             "iteration": 453,
             "learn": [
              0.5202122647
             ],
             "passed_time": 38.89203481,
             "remaining_time": 132.438515,
             "test": [
              0.5227149156
             ]
            },
            {
             "iteration": 454,
             "learn": [
              0.5201973519
             ],
             "passed_time": 38.97643276,
             "remaining_time": 132.3485464,
             "test": [
              0.5227006196
             ]
            },
            {
             "iteration": 455,
             "learn": [
              0.5201650484
             ],
             "passed_time": 39.06759947,
             "remaining_time": 132.281521,
             "test": [
              0.5226683578
             ]
            },
            {
             "iteration": 456,
             "learn": [
              0.5201543611
             ],
             "passed_time": 39.15073021,
             "remaining_time": 132.1872576,
             "test": [
              0.5226598474
             ]
            },
            {
             "iteration": 457,
             "learn": [
              0.5201500447
             ],
             "passed_time": 39.22332257,
             "remaining_time": 132.057562,
             "test": [
              0.5226565919
             ]
            },
            {
             "iteration": 458,
             "learn": [
              0.5201258544
             ],
             "passed_time": 39.32407913,
             "remaining_time": 132.0226709,
             "test": [
              0.5226219228
             ]
            },
            {
             "iteration": 459,
             "learn": [
              0.5201203054
             ],
             "passed_time": 39.41747904,
             "remaining_time": 131.9628646,
             "test": [
              0.52261827
             ]
            },
            {
             "iteration": 460,
             "learn": [
              0.5201139542
             ],
             "passed_time": 39.51517268,
             "remaining_time": 131.9172468,
             "test": [
              0.5226130753
             ]
            },
            {
             "iteration": 461,
             "learn": [
              0.5201043227
             ],
             "passed_time": 39.60474949,
             "remaining_time": 131.8443825,
             "test": [
              0.5225996724
             ]
            },
            {
             "iteration": 462,
             "learn": [
              0.5200683738
             ],
             "passed_time": 39.70292416,
             "remaining_time": 131.799988,
             "test": [
              0.5225582695
             ]
            },
            {
             "iteration": 463,
             "learn": [
              0.5200347411
             ],
             "passed_time": 39.78244373,
             "remaining_time": 131.6936068,
             "test": [
              0.5225214537
             ]
            },
            {
             "iteration": 464,
             "learn": [
              0.5200002296
             ],
             "passed_time": 39.88313921,
             "remaining_time": 131.6572445,
             "test": [
              0.52249079
             ]
            },
            {
             "iteration": 465,
             "learn": [
              0.5199897743
             ],
             "passed_time": 39.95503338,
             "remaining_time": 131.5257966,
             "test": [
              0.5224801547
             ]
            },
            {
             "iteration": 466,
             "learn": [
              0.519987514
             ],
             "passed_time": 40.02814716,
             "remaining_time": 131.3986073,
             "test": [
              0.5224780706
             ]
            },
            {
             "iteration": 467,
             "learn": [
              0.5199634261
             ],
             "passed_time": 40.14197947,
             "remaining_time": 131.4049413,
             "test": [
              0.522443015
             ]
            },
            {
             "iteration": 468,
             "learn": [
              0.5199579949
             ],
             "passed_time": 40.23128353,
             "remaining_time": 131.3306931,
             "test": [
              0.5224358295
             ]
            },
            {
             "iteration": 469,
             "learn": [
              0.5199545235
             ],
             "passed_time": 40.31136067,
             "remaining_time": 131.2263443,
             "test": [
              0.5224318031
             ]
            },
            {
             "iteration": 470,
             "learn": [
              0.5199514251
             ],
             "passed_time": 40.39239309,
             "remaining_time": 131.1251996,
             "test": [
              0.5224274399
             ]
            },
            {
             "iteration": 471,
             "learn": [
              0.519937418
             ],
             "passed_time": 40.47319729,
             "remaining_time": 131.0234014,
             "test": [
              0.5224175076
             ]
            },
            {
             "iteration": 472,
             "learn": [
              0.5199294908
             ],
             "passed_time": 40.55318206,
             "remaining_time": 130.9190465,
             "test": [
              0.5224104543
             ]
            },
            {
             "iteration": 473,
             "learn": [
              0.5199245512
             ],
             "passed_time": 40.63553459,
             "remaining_time": 130.8224173,
             "test": [
              0.5224054208
             ]
            },
            {
             "iteration": 474,
             "learn": [
              0.5199211549
             ],
             "passed_time": 40.70526464,
             "remaining_time": 130.6853233,
             "test": [
              0.522401448
             ]
            },
            {
             "iteration": 475,
             "learn": [
              0.5199158349
             ],
             "passed_time": 40.77961383,
             "remaining_time": 130.5633014,
             "test": [
              0.5223963303
             ]
            },
            {
             "iteration": 476,
             "learn": [
              0.5199120374
             ],
             "passed_time": 40.86879213,
             "remaining_time": 130.4888269,
             "test": [
              0.5223918047
             ]
            },
            {
             "iteration": 477,
             "learn": [
              0.5199059582
             ],
             "passed_time": 40.96906069,
             "remaining_time": 130.4496033,
             "test": [
              0.5223860303
             ]
            },
            {
             "iteration": 478,
             "learn": [
              0.5198980019
             ],
             "passed_time": 41.04076959,
             "remaining_time": 130.3194375,
             "test": [
              0.5223793886
             ]
            },
            {
             "iteration": 479,
             "learn": [
              0.5198913463
             ],
             "passed_time": 41.12928006,
             "remaining_time": 130.2427202,
             "test": [
              0.5223748268
             ]
            },
            {
             "iteration": 480,
             "learn": [
              0.5198890833
             ],
             "passed_time": 41.20473727,
             "remaining_time": 130.1247316,
             "test": [
              0.5223706307
             ]
            },
            {
             "iteration": 481,
             "learn": [
              0.5198657284
             ],
             "passed_time": 41.29348483,
             "remaining_time": 130.0487759,
             "test": [
              0.522346741
             ]
            },
            {
             "iteration": 482,
             "learn": [
              0.5198522938
             ],
             "passed_time": 41.38509896,
             "remaining_time": 129.9817704,
             "test": [
              0.5223280439
             ]
            },
            {
             "iteration": 483,
             "learn": [
              0.5198471153
             ],
             "passed_time": 41.46095064,
             "remaining_time": 129.8652917,
             "test": [
              0.5223203809
             ]
            },
            {
             "iteration": 484,
             "learn": [
              0.5198407073
             ],
             "passed_time": 41.54371094,
             "remaining_time": 129.770561,
             "test": [
              0.5223161513
             ]
            },
            {
             "iteration": 485,
             "learn": [
              0.5198333422
             ],
             "passed_time": 41.61794072,
             "remaining_time": 129.6493051,
             "test": [
              0.522312288
             ]
            },
            {
             "iteration": 486,
             "learn": [
              0.5198220412
             ],
             "passed_time": 41.70536994,
             "remaining_time": 129.5692499,
             "test": [
              0.5222968397
             ]
            },
            {
             "iteration": 487,
             "learn": [
              0.519794332
             ],
             "passed_time": 41.79016607,
             "remaining_time": 129.4810063,
             "test": [
              0.5222716956
             ]
            },
            {
             "iteration": 488,
             "learn": [
              0.5197854225
             ],
             "passed_time": 41.87904453,
             "remaining_time": 129.4053912,
             "test": [
              0.5222636419
             ]
            },
            {
             "iteration": 489,
             "learn": [
              0.5197778063
             ],
             "passed_time": 41.9630413,
             "remaining_time": 129.3146783,
             "test": [
              0.522257244
             ]
            },
            {
             "iteration": 490,
             "learn": [
              0.5197733289
             ],
             "passed_time": 42.03098156,
             "remaining_time": 129.174646,
             "test": [
              0.5222522665
             ]
            },
            {
             "iteration": 491,
             "learn": [
              0.5197682277
             ],
             "passed_time": 42.13730382,
             "remaining_time": 129.1525491,
             "test": [
              0.5222465114
             ]
            },
            {
             "iteration": 492,
             "learn": [
              0.519745271
             ],
             "passed_time": 42.24289867,
             "remaining_time": 129.127887,
             "test": [
              0.5222248046
             ]
            },
            {
             "iteration": 493,
             "learn": [
              0.5197355653
             ],
             "passed_time": 42.32589031,
             "remaining_time": 129.0339895,
             "test": [
              0.5222103977
             ]
            },
            {
             "iteration": 494,
             "learn": [
              0.5197256992
             ],
             "passed_time": 42.3998034,
             "remaining_time": 128.9125336,
             "test": [
              0.5222000716
             ]
            },
            {
             "iteration": 495,
             "learn": [
              0.519712437
             ],
             "passed_time": 42.50613663,
             "remaining_time": 128.8895756,
             "test": [
              0.5221785076
             ]
            },
            {
             "iteration": 496,
             "learn": [
              0.5197032626
             ],
             "passed_time": 42.59826,
             "remaining_time": 128.8233094,
             "test": [
              0.5221591731
             ]
            },
            {
             "iteration": 497,
             "learn": [
              0.5196917261
             ],
             "passed_time": 42.67545686,
             "remaining_time": 128.7119201,
             "test": [
              0.5221536003
             ]
            },
            {
             "iteration": 498,
             "learn": [
              0.5196910692
             ],
             "passed_time": 42.71688049,
             "remaining_time": 128.4930613,
             "test": [
              0.5221536787
             ]
            },
            {
             "iteration": 499,
             "learn": [
              0.5196562056
             ],
             "passed_time": 42.81064904,
             "remaining_time": 128.4319471,
             "test": [
              0.5221260407
             ]
            },
            {
             "iteration": 500,
             "learn": [
              0.5196500899
             ],
             "passed_time": 42.9033602,
             "remaining_time": 128.3675388,
             "test": [
              0.5221196397
             ]
            },
            {
             "iteration": 501,
             "learn": [
              0.5196271679
             ],
             "passed_time": 42.98553528,
             "remaining_time": 128.2715774,
             "test": [
              0.5220969192
             ]
            },
            {
             "iteration": 502,
             "learn": [
              0.5196211418
             ],
             "passed_time": 43.09173161,
             "remaining_time": 128.2471615,
             "test": [
              0.5220912857
             ]
            },
            {
             "iteration": 503,
             "learn": [
              0.5196153294
             ],
             "passed_time": 43.19266808,
             "remaining_time": 128.2068084,
             "test": [
              0.5220855933
             ]
            },
            {
             "iteration": 504,
             "learn": [
              0.5196119725
             ],
             "passed_time": 43.26290429,
             "remaining_time": 128.0753305,
             "test": [
              0.5220824858
             ]
            },
            {
             "iteration": 505,
             "learn": [
              0.5195733943
             ],
             "passed_time": 43.35205032,
             "remaining_time": 127.9999272,
             "test": [
              0.5220413244
             ]
            },
            {
             "iteration": 506,
             "learn": [
              0.5195435116
             ],
             "passed_time": 43.45159003,
             "remaining_time": 127.9550767,
             "test": [
              0.5220151998
             ]
            },
            {
             "iteration": 507,
             "learn": [
              0.5195394014
             ],
             "passed_time": 43.51836817,
             "remaining_time": 127.81379,
             "test": [
              0.5220108383
             ]
            },
            {
             "iteration": 508,
             "learn": [
              0.5195352919
             ],
             "passed_time": 43.61501618,
             "remaining_time": 127.760293,
             "test": [
              0.522005667
             ]
            },
            {
             "iteration": 509,
             "learn": [
              0.5195293073
             ],
             "passed_time": 43.72095071,
             "remaining_time": 127.733758,
             "test": [
              0.521998412
             ]
            },
            {
             "iteration": 510,
             "learn": [
              0.5195255263
             ],
             "passed_time": 43.82797638,
             "remaining_time": 127.7100916,
             "test": [
              0.5219944208
             ]
            },
            {
             "iteration": 511,
             "learn": [
              0.5194919135
             ],
             "passed_time": 43.96039326,
             "remaining_time": 127.7598929,
             "test": [
              0.5219568841
             ]
            },
            {
             "iteration": 512,
             "learn": [
              0.5194728391
             ],
             "passed_time": 44.08664551,
             "remaining_time": 127.7911148,
             "test": [
              0.5219414632
             ]
            },
            {
             "iteration": 513,
             "learn": [
              0.5194557683
             ],
             "passed_time": 44.21349811,
             "remaining_time": 127.8234595,
             "test": [
              0.5219248991
             ]
            },
            {
             "iteration": 514,
             "learn": [
              0.5194519209
             ],
             "passed_time": 44.3193655,
             "remaining_time": 127.7946753,
             "test": [
              0.5219199542
             ]
            },
            {
             "iteration": 515,
             "learn": [
              0.5194492987
             ],
             "passed_time": 44.41218609,
             "remaining_time": 127.7280701,
             "test": [
              0.5219185924
             ]
            },
            {
             "iteration": 516,
             "learn": [
              0.5194403931
             ],
             "passed_time": 44.53904769,
             "remaining_time": 127.7590091,
             "test": [
              0.5219129769
             ]
            },
            {
             "iteration": 517,
             "learn": [
              0.5194374749
             ],
             "passed_time": 44.63298939,
             "remaining_time": 127.695155,
             "test": [
              0.5219110457
             ]
            },
            {
             "iteration": 518,
             "learn": [
              0.5194324874
             ],
             "passed_time": 44.74660884,
             "remaining_time": 127.6873366,
             "test": [
              0.5219076475
             ]
            },
            {
             "iteration": 519,
             "learn": [
              0.5194269109
             ],
             "passed_time": 44.84309106,
             "remaining_time": 127.6303361,
             "test": [
              0.5219008782
             ]
            },
            {
             "iteration": 520,
             "learn": [
              0.5194225441
             ],
             "passed_time": 44.9365932,
             "remaining_time": 127.5647243,
             "test": [
              0.5218965986
             ]
            },
            {
             "iteration": 521,
             "learn": [
              0.5194177413
             ],
             "passed_time": 45.05467747,
             "remaining_time": 127.5686079,
             "test": [
              0.5218910711
             ]
            },
            {
             "iteration": 522,
             "learn": [
              0.5194134839
             ],
             "passed_time": 45.19309042,
             "remaining_time": 127.6294351,
             "test": [
              0.5218861819
             ]
            },
            {
             "iteration": 523,
             "learn": [
              0.519382927
             ],
             "passed_time": 45.30764923,
             "remaining_time": 127.6223097,
             "test": [
              0.5218491152
             ]
            },
            {
             "iteration": 524,
             "learn": [
              0.5193828033
             ],
             "passed_time": 45.37051569,
             "remaining_time": 127.4695441,
             "test": [
              0.5218491313
             ]
            },
            {
             "iteration": 525,
             "learn": [
              0.5193783684
             ],
             "passed_time": 45.48791964,
             "remaining_time": 127.4699497,
             "test": [
              0.5218459737
             ]
            },
            {
             "iteration": 526,
             "learn": [
              0.5193676472
             ],
             "passed_time": 45.60416405,
             "remaining_time": 127.4666673,
             "test": [
              0.5218349895
             ]
            },
            {
             "iteration": 527,
             "learn": [
              0.5193640696
             ],
             "passed_time": 45.71515263,
             "remaining_time": 127.4483043,
             "test": [
              0.5218315079
             ]
            },
            {
             "iteration": 528,
             "learn": [
              0.5193445972
             ],
             "passed_time": 45.81808108,
             "remaining_time": 127.4071782,
             "test": [
              0.5218142418
             ]
            },
            {
             "iteration": 529,
             "learn": [
              0.51934218
             ],
             "passed_time": 45.88390915,
             "remaining_time": 127.2629178,
             "test": [
              0.521811644
             ]
            },
            {
             "iteration": 530,
             "learn": [
              0.5193386552
             ],
             "passed_time": 45.9866634,
             "remaining_time": 127.2211084,
             "test": [
              0.5218084279
             ]
            },
            {
             "iteration": 531,
             "learn": [
              0.5193341098
             ],
             "passed_time": 46.05758538,
             "remaining_time": 127.0912318,
             "test": [
              0.5218058545
             ]
            },
            {
             "iteration": 532,
             "learn": [
              0.5193077701
             ],
             "passed_time": 46.1560514,
             "remaining_time": 127.0373872,
             "test": [
              0.5217833062
             ]
            },
            {
             "iteration": 533,
             "learn": [
              0.5192960643
             ],
             "passed_time": 46.262078,
             "remaining_time": 127.0041317,
             "test": [
              0.5217674781
             ]
            },
            {
             "iteration": 534,
             "learn": [
              0.5192944773
             ],
             "passed_time": 46.32838685,
             "remaining_time": 126.8618444,
             "test": [
              0.5217655049
             ]
            },
            {
             "iteration": 535,
             "learn": [
              0.5192890452
             ],
             "passed_time": 46.39969067,
             "remaining_time": 126.7334835,
             "test": [
              0.5217582793
             ]
            },
            {
             "iteration": 536,
             "learn": [
              0.5192857463
             ],
             "passed_time": 46.50184283,
             "remaining_time": 126.6893781,
             "test": [
              0.5217547818
             ]
            },
            {
             "iteration": 537,
             "learn": [
              0.5192456342
             ],
             "passed_time": 46.58830486,
             "remaining_time": 126.6024195,
             "test": [
              0.5217087464
             ]
            },
            {
             "iteration": 538,
             "learn": [
              0.5192400893
             ],
             "passed_time": 46.68437681,
             "remaining_time": 126.5415112,
             "test": [
              0.5217003123
             ]
            },
            {
             "iteration": 539,
             "learn": [
              0.5192364346
             ],
             "passed_time": 46.7758719,
             "remaining_time": 126.4680981,
             "test": [
              0.5216979261
             ]
            },
            {
             "iteration": 540,
             "learn": [
              0.5192281553
             ],
             "passed_time": 46.86320931,
             "remaining_time": 126.3834055,
             "test": [
              0.5216933983
             ]
            },
            {
             "iteration": 541,
             "learn": [
              0.5192117355
             ],
             "passed_time": 46.93896014,
             "remaining_time": 126.2675348,
             "test": [
              0.5216743841
             ]
            },
            {
             "iteration": 542,
             "learn": [
              0.5192063553
             ],
             "passed_time": 47.03099441,
             "remaining_time": 126.1955043,
             "test": [
              0.5216678152
             ]
            },
            {
             "iteration": 543,
             "learn": [
              0.5192022057
             ],
             "passed_time": 47.10779028,
             "remaining_time": 126.0826152,
             "test": [
              0.5216656025
             ]
            },
            {
             "iteration": 544,
             "learn": [
              0.5191940233
             ],
             "passed_time": 47.18468354,
             "remaining_time": 125.9701184,
             "test": [
              0.5216549888
             ]
            },
            {
             "iteration": 545,
             "learn": [
              0.5191894422
             ],
             "passed_time": 47.30577319,
             "remaining_time": 125.9754473,
             "test": [
              0.5216524934
             ]
            },
            {
             "iteration": 546,
             "learn": [
              0.519177041
             ],
             "passed_time": 47.3980033,
             "remaining_time": 125.9036541,
             "test": [
              0.5216387927
             ]
            },
            {
             "iteration": 547,
             "learn": [
              0.5191471787
             ],
             "passed_time": 47.4932964,
             "remaining_time": 125.8399021,
             "test": [
              0.5216012151
             ]
            },
            {
             "iteration": 548,
             "learn": [
              0.519132902
             ],
             "passed_time": 47.59660055,
             "remaining_time": 125.7972084,
             "test": [
              0.5215882014
             ]
            },
            {
             "iteration": 549,
             "learn": [
              0.5191302502
             ],
             "passed_time": 47.67301209,
             "remaining_time": 125.6833955,
             "test": [
              0.5215871631
             ]
            },
            {
             "iteration": 550,
             "learn": [
              0.5191103445
             ],
             "passed_time": 47.76428473,
             "remaining_time": 125.6087996,
             "test": [
              0.5215614178
             ]
            },
            {
             "iteration": 551,
             "learn": [
              0.5191013714
             ],
             "passed_time": 47.84288073,
             "remaining_time": 125.50089,
             "test": [
              0.5215527578
             ]
            },
            {
             "iteration": 552,
             "learn": [
              0.5190841477
             ],
             "passed_time": 47.9253951,
             "remaining_time": 125.4033394,
             "test": [
              0.521539219
             ]
            },
            {
             "iteration": 553,
             "learn": [
              0.5190693322
             ],
             "passed_time": 48.01843538,
             "remaining_time": 125.3333169,
             "test": [
              0.5215266018
             ]
            },
            {
             "iteration": 554,
             "learn": [
              0.5190660001
             ],
             "passed_time": 48.09101018,
             "remaining_time": 125.2099274,
             "test": [
              0.5215230375
             ]
            },
            {
             "iteration": 555,
             "learn": [
              0.5190642893
             ],
             "passed_time": 48.16591008,
             "remaining_time": 125.0927593,
             "test": [
              0.5215212247
             ]
            },
            {
             "iteration": 556,
             "learn": [
              0.5190614028
             ],
             "passed_time": 48.2780452,
             "remaining_time": 125.0722069,
             "test": [
              0.521520717
             ]
            },
            {
             "iteration": 557,
             "learn": [
              0.5190569148
             ],
             "passed_time": 48.35244534,
             "remaining_time": 124.9538103,
             "test": [
              0.5215174251
             ]
            },
            {
             "iteration": 558,
             "learn": [
              0.5190567412
             ],
             "passed_time": 48.39791104,
             "remaining_time": 124.7609836,
             "test": [
              0.5215174365
             ]
            },
            {
             "iteration": 559,
             "learn": [
              0.5190526916
             ],
             "passed_time": 48.46713627,
             "remaining_time": 124.629779,
             "test": [
              0.5215127639
             ]
            },
            {
             "iteration": 560,
             "learn": [
              0.5190439617
             ],
             "passed_time": 48.56162708,
             "remaining_time": 124.5636031,
             "test": [
              0.5215025914
             ]
            },
            {
             "iteration": 561,
             "learn": [
              0.5190317371
             ],
             "passed_time": 48.66221966,
             "remaining_time": 124.5129393,
             "test": [
              0.5214870848
             ]
            },
            {
             "iteration": 562,
             "learn": [
              0.5189985754
             ],
             "passed_time": 48.76076842,
             "remaining_time": 124.4568814,
             "test": [
              0.5214504822
             ]
            },
            {
             "iteration": 563,
             "learn": [
              0.5189960311
             ],
             "passed_time": 48.84778257,
             "remaining_time": 124.3713046,
             "test": [
              0.5214492813
             ]
            },
            {
             "iteration": 564,
             "learn": [
              0.5189911834
             ],
             "passed_time": 48.94159716,
             "remaining_time": 124.3029946,
             "test": [
              0.52144542
             ]
            },
            {
             "iteration": 565,
             "learn": [
              0.5189881379
             ],
             "passed_time": 49.02174914,
             "remaining_time": 124.1999793,
             "test": [
              0.5214432474
             ]
            },
            {
             "iteration": 566,
             "learn": [
              0.5189805538
             ],
             "passed_time": 49.10400267,
             "remaining_time": 124.102356,
             "test": [
              0.5214399141
             ]
            },
            {
             "iteration": 567,
             "learn": [
              0.5189681362
             ],
             "passed_time": 49.20732236,
             "remaining_time": 124.0578972,
             "test": [
              0.5214117518
             ]
            },
            {
             "iteration": 568,
             "learn": [
              0.5189345213
             ],
             "passed_time": 49.29834748,
             "remaining_time": 123.9823115,
             "test": [
              0.5213751192
             ]
            },
            {
             "iteration": 569,
             "learn": [
              0.5189331277
             ],
             "passed_time": 49.35432239,
             "remaining_time": 123.8187386,
             "test": [
              0.5213737354
             ]
            },
            {
             "iteration": 570,
             "learn": [
              0.5189298469
             ],
             "passed_time": 49.43865012,
             "remaining_time": 123.7264992,
             "test": [
              0.5213722627
             ]
            },
            {
             "iteration": 571,
             "learn": [
              0.5189034578
             ],
             "passed_time": 49.53196408,
             "remaining_time": 123.6567215,
             "test": [
              0.521350348
             ]
            },
            {
             "iteration": 572,
             "learn": [
              0.5189007916
             ],
             "passed_time": 49.60776264,
             "remaining_time": 123.5432413,
             "test": [
              0.5213482998
             ]
            },
            {
             "iteration": 573,
             "learn": [
              0.5188974978
             ],
             "passed_time": 49.67631883,
             "remaining_time": 123.4119001,
             "test": [
              0.5213429091
             ]
            },
            {
             "iteration": 574,
             "learn": [
              0.5188944274
             ],
             "passed_time": 49.74768342,
             "remaining_time": 123.2877372,
             "test": [
              0.5213389986
             ]
            },
            {
             "iteration": 575,
             "learn": [
              0.518889456
             ],
             "passed_time": 49.82023433,
             "remaining_time": 123.1666904,
             "test": [
              0.5213341418
             ]
            },
            {
             "iteration": 576,
             "learn": [
              0.5188813568
             ],
             "passed_time": 49.89764914,
             "remaining_time": 123.0578071,
             "test": [
              0.5213282823
             ]
            },
            {
             "iteration": 577,
             "learn": [
              0.5188773946
             ],
             "passed_time": 49.96507194,
             "remaining_time": 122.9244504,
             "test": [
              0.5213260952
             ]
            },
            {
             "iteration": 578,
             "learn": [
              0.5188749779
             ],
             "passed_time": 50.03426626,
             "remaining_time": 122.795669,
             "test": [
              0.5213252495
             ]
            },
            {
             "iteration": 579,
             "learn": [
              0.5188658028
             ],
             "passed_time": 50.13894732,
             "remaining_time": 122.7539745,
             "test": [
              0.5213165072
             ]
            },
            {
             "iteration": 580,
             "learn": [
              0.5188618116
             ],
             "passed_time": 50.22779658,
             "remaining_time": 122.6733965,
             "test": [
              0.5213132229
             ]
            },
            {
             "iteration": 581,
             "learn": [
              0.5188576316
             ],
             "passed_time": 50.34031817,
             "remaining_time": 122.6504659,
             "test": [
              0.5213080446
             ]
            },
            {
             "iteration": 582,
             "learn": [
              0.5188529085
             ],
             "passed_time": 50.41087156,
             "remaining_time": 122.525223,
             "test": [
              0.5213056733
             ]
            },
            {
             "iteration": 583,
             "learn": [
              0.5188476108
             ],
             "passed_time": 50.49226683,
             "remaining_time": 122.4264552,
             "test": [
              0.5213026316
             ]
            },
            {
             "iteration": 584,
             "learn": [
              0.5188453289
             ],
             "passed_time": 50.5468741,
             "remaining_time": 122.2629519,
             "test": [
              0.5213004807
             ]
            },
            {
             "iteration": 585,
             "learn": [
              0.5188390088
             ],
             "passed_time": 50.64220747,
             "remaining_time": 122.1980911,
             "test": [
              0.5212936043
             ]
            },
            {
             "iteration": 586,
             "learn": [
              0.518832844
             ],
             "passed_time": 50.71635841,
             "remaining_time": 122.082137,
             "test": [
              0.5212876725
             ]
            },
            {
             "iteration": 587,
             "learn": [
              0.5188283396
             ],
             "passed_time": 50.78753383,
             "remaining_time": 121.9591799,
             "test": [
              0.5212817524
             ]
            },
            {
             "iteration": 588,
             "learn": [
              0.5188245202
             ],
             "passed_time": 50.87551454,
             "remaining_time": 121.8766571,
             "test": [
              0.5212781908
             ]
            },
            {
             "iteration": 589,
             "learn": [
              0.5188219574
             ],
             "passed_time": 50.94448746,
             "remaining_time": 121.7486904,
             "test": [
              0.5212760655
             ]
            },
            {
             "iteration": 590,
             "learn": [
              0.5187883414
             ],
             "passed_time": 51.03828111,
             "remaining_time": 121.6800983,
             "test": [
              0.5212432123
             ]
            },
            {
             "iteration": 591,
             "learn": [
              0.5187561617
             ],
             "passed_time": 51.13687088,
             "remaining_time": 121.622828,
             "test": [
              0.5212109831
             ]
            },
            {
             "iteration": 592,
             "learn": [
              0.5187515813
             ],
             "passed_time": 51.22112104,
             "remaining_time": 121.5313951,
             "test": [
              0.521204685
             ]
            },
            {
             "iteration": 593,
             "learn": [
              0.5187497283
             ],
             "passed_time": 51.33169369,
             "remaining_time": 121.5022918,
             "test": [
              0.5212003112
             ]
            },
            {
             "iteration": 594,
             "learn": [
              0.5187485405
             ],
             "passed_time": 51.40164409,
             "remaining_time": 121.3769915,
             "test": [
              0.5211983132
             ]
            },
            {
             "iteration": 595,
             "learn": [
              0.5187456947
             ],
             "passed_time": 51.47219351,
             "remaining_time": 121.2532881,
             "test": [
              0.5211934427
             ]
            },
            {
             "iteration": 596,
             "learn": [
              0.5187427289
             ],
             "passed_time": 51.55414006,
             "remaining_time": 121.1565469,
             "test": [
              0.5211906479
             ]
            },
            {
             "iteration": 597,
             "learn": [
              0.5187392607
             ],
             "passed_time": 51.65786781,
             "remaining_time": 121.1109209,
             "test": [
              0.5211882375
             ]
            },
            {
             "iteration": 598,
             "learn": [
              0.518732987
             ],
             "passed_time": 51.73101608,
             "remaining_time": 120.9935785,
             "test": [
              0.5211802639
             ]
            },
            {
             "iteration": 599,
             "learn": [
              0.518728197
             ],
             "passed_time": 51.81058961,
             "remaining_time": 120.8913758,
             "test": [
              0.5211797813
             ]
            },
            {
             "iteration": 600,
             "learn": [
              0.5187232613
             ],
             "passed_time": 51.8845233,
             "remaining_time": 120.77612,
             "test": [
              0.5211757794
             ]
            },
            {
             "iteration": 601,
             "learn": [
              0.5187063041
             ],
             "passed_time": 51.96708461,
             "remaining_time": 120.681037,
             "test": [
              0.5211589998
             ]
            },
            {
             "iteration": 602,
             "learn": [
              0.5187028812
             ],
             "passed_time": 52.03661004,
             "remaining_time": 120.5557947,
             "test": [
              0.5211550243
             ]
            },
            {
             "iteration": 603,
             "learn": [
              0.518696966
             ],
             "passed_time": 52.12770525,
             "remaining_time": 120.4805903,
             "test": [
              0.5211554263
             ]
            },
            {
             "iteration": 604,
             "learn": [
              0.5186957385
             ],
             "passed_time": 52.20251505,
             "remaining_time": 120.3677826,
             "test": [
              0.5211549188
             ]
            },
            {
             "iteration": 605,
             "learn": [
              0.5186781417
             ],
             "passed_time": 52.29787562,
             "remaining_time": 120.302374,
             "test": [
              0.5211378445
             ]
            },
            {
             "iteration": 606,
             "learn": [
              0.5186770291
             ],
             "passed_time": 52.34662437,
             "remaining_time": 120.1298974,
             "test": [
              0.52113698
             ]
            },
            {
             "iteration": 607,
             "learn": [
              0.5186737775
             ],
             "passed_time": 52.43005542,
             "remaining_time": 120.0372321,
             "test": [
              0.5211334673
             ]
            },
            {
             "iteration": 608,
             "learn": [
              0.5186692572
             ],
             "passed_time": 52.51171066,
             "remaining_time": 119.9405411,
             "test": [
              0.5211284182
             ]
            },
            {
             "iteration": 609,
             "learn": [
              0.5186532063
             ],
             "passed_time": 52.60382109,
             "remaining_time": 119.8677235,
             "test": [
              0.521103981
             ]
            },
            {
             "iteration": 610,
             "learn": [
              0.5186251089
             ],
             "passed_time": 52.69203663,
             "remaining_time": 119.7859883,
             "test": [
              0.5210722602
             ]
            },
            {
             "iteration": 611,
             "learn": [
              0.5186219549
             ],
             "passed_time": 52.75870838,
             "remaining_time": 119.6553713,
             "test": [
              0.5210711546
             ]
            },
            {
             "iteration": 612,
             "learn": [
              0.518620667
             ],
             "passed_time": 52.83149748,
             "remaining_time": 119.5388042,
             "test": [
              0.5210696726
             ]
            },
            {
             "iteration": 613,
             "learn": [
              0.5186108461
             ],
             "passed_time": 52.90964659,
             "remaining_time": 119.4344791,
             "test": [
              0.5210630906
             ]
            },
            {
             "iteration": 614,
             "learn": [
              0.5186039136
             ],
             "passed_time": 52.99257191,
             "remaining_time": 119.3409953,
             "test": [
              0.5210530318
             ]
            },
            {
             "iteration": 615,
             "learn": [
              0.5185962165
             ],
             "passed_time": 53.07197086,
             "remaining_time": 119.2396228,
             "test": [
              0.5210458373
             ]
            },
            {
             "iteration": 616,
             "learn": [
              0.5185913448
             ],
             "passed_time": 53.14213618,
             "remaining_time": 119.1176245,
             "test": [
              0.5210356861
             ]
            },
            {
             "iteration": 617,
             "learn": [
              0.5185895775
             ],
             "passed_time": 53.20680608,
             "remaining_time": 118.9835049,
             "test": [
              0.521034664
             ]
            },
            {
             "iteration": 618,
             "learn": [
              0.5185864361
             ],
             "passed_time": 53.27494979,
             "remaining_time": 118.8573597,
             "test": [
              0.5210320905
             ]
            },
            {
             "iteration": 619,
             "learn": [
              0.5185610362
             ],
             "passed_time": 53.3792271,
             "remaining_time": 118.8118281,
             "test": [
              0.5210073786
             ]
            },
            {
             "iteration": 620,
             "learn": [
              0.5185591111
             ],
             "passed_time": 53.46360907,
             "remaining_time": 118.7219274,
             "test": [
              0.5210053618
             ]
            },
            {
             "iteration": 621,
             "learn": [
              0.5185548096
             ],
             "passed_time": 53.5478756,
             "remaining_time": 118.6317887,
             "test": [
              0.5210035672
             ]
            },
            {
             "iteration": 622,
             "learn": [
              0.5185245336
             ],
             "passed_time": 53.6257642,
             "remaining_time": 118.5275719,
             "test": [
              0.5209700191
             ]
            },
            {
             "iteration": 623,
             "learn": [
              0.5185230535
             ],
             "passed_time": 53.69333081,
             "remaining_time": 118.4006782,
             "test": [
              0.5209690344
             ]
            },
            {
             "iteration": 624,
             "learn": [
              0.5185199284
             ],
             "passed_time": 53.78900806,
             "remaining_time": 118.3358177,
             "test": [
              0.520966554
             ]
            },
            {
             "iteration": 625,
             "learn": [
              0.5185067813
             ],
             "passed_time": 53.88817906,
             "remaining_time": 118.2785272,
             "test": [
              0.5209571389
             ]
            },
            {
             "iteration": 626,
             "learn": [
              0.5185062523
             ],
             "passed_time": 53.93313422,
             "remaining_time": 118.1023816,
             "test": [
              0.5209569179
             ]
            },
            {
             "iteration": 627,
             "learn": [
              0.5185049256
             ],
             "passed_time": 53.9990025,
             "remaining_time": 117.972343,
             "test": [
              0.5209568084
             ]
            },
            {
             "iteration": 628,
             "learn": [
              0.5185027468
             ],
             "passed_time": 54.06811161,
             "remaining_time": 117.8495724,
             "test": [
              0.5209562537
             ]
            },
            {
             "iteration": 629,
             "learn": [
              0.5185001809
             ],
             "passed_time": 54.14739251,
             "remaining_time": 117.7490916,
             "test": [
              0.5209525446
             ]
            },
            {
             "iteration": 630,
             "learn": [
              0.5184809212
             ],
             "passed_time": 54.23043093,
             "remaining_time": 117.6568303,
             "test": [
              0.520933322
             ]
            },
            {
             "iteration": 631,
             "learn": [
              0.5184792082
             ],
             "passed_time": 54.3040699,
             "remaining_time": 117.5442526,
             "test": [
              0.5209312917
             ]
            },
            {
             "iteration": 632,
             "learn": [
              0.5184765797
             ],
             "passed_time": 54.39345119,
             "remaining_time": 117.4657943,
             "test": [
              0.5209307901
             ]
            },
            {
             "iteration": 633,
             "learn": [
              0.5184746792
             ],
             "passed_time": 54.46278532,
             "remaining_time": 117.3441084,
             "test": [
              0.5209289806
             ]
            },
            {
             "iteration": 634,
             "learn": [
              0.51847166
             ],
             "passed_time": 54.56680372,
             "remaining_time": 117.297145,
             "test": [
              0.5209255697
             ]
            },
            {
             "iteration": 635,
             "learn": [
              0.5184700007
             ],
             "passed_time": 54.66115075,
             "remaining_time": 117.2292604,
             "test": [
              0.520923858
             ]
            },
            {
             "iteration": 636,
             "learn": [
              0.5184447968
             ],
             "passed_time": 54.76007429,
             "remaining_time": 117.1710852,
             "test": [
              0.5208975301
             ]
            },
            {
             "iteration": 637,
             "learn": [
              0.5184185816
             ],
             "passed_time": 54.85581973,
             "remaining_time": 117.1059976,
             "test": [
              0.5208624995
             ]
            },
            {
             "iteration": 638,
             "learn": [
              0.5184166741
             ],
             "passed_time": 54.95203614,
             "remaining_time": 117.0418172,
             "test": [
              0.5208602601
             ]
            },
            {
             "iteration": 639,
             "learn": [
              0.5184149164
             ],
             "passed_time": 55.02942213,
             "remaining_time": 116.937522,
             "test": [
              0.5208592731
             ]
            },
            {
             "iteration": 640,
             "learn": [
              0.5184093856
             ],
             "passed_time": 55.11620718,
             "remaining_time": 116.853238,
             "test": [
              0.5208568121
             ]
            },
            {
             "iteration": 641,
             "learn": [
              0.5183791642
             ],
             "passed_time": 55.25468444,
             "remaining_time": 116.8782889,
             "test": [
              0.5208268099
             ]
            },
            {
             "iteration": 642,
             "learn": [
              0.5183751836
             ],
             "passed_time": 55.33659112,
             "remaining_time": 116.7834435,
             "test": [
              0.5208251288
             ]
            },
            {
             "iteration": 643,
             "learn": [
              0.5183453582
             ],
             "passed_time": 55.42064041,
             "remaining_time": 116.6931497,
             "test": [
              0.5207957609
             ]
            },
            {
             "iteration": 644,
             "learn": [
              0.5183312202
             ],
             "passed_time": 55.50545858,
             "remaining_time": 116.6044905,
             "test": [
              0.5207889658
             ]
            },
            {
             "iteration": 645,
             "learn": [
              0.518322646
             ],
             "passed_time": 55.59846129,
             "remaining_time": 116.5329978,
             "test": [
              0.520775531
             ]
            },
            {
             "iteration": 646,
             "learn": [
              0.5183199561
             ],
             "passed_time": 55.67537508,
             "remaining_time": 116.4277936,
             "test": [
              0.5207719397
             ]
            },
            {
             "iteration": 647,
             "learn": [
              0.5183151884
             ],
             "passed_time": 55.77605276,
             "remaining_time": 116.3722582,
             "test": [
              0.5207685603
             ]
            },
            {
             "iteration": 648,
             "learn": [
              0.5183122083
             ],
             "passed_time": 55.84127224,
             "remaining_time": 116.2427716,
             "test": [
              0.520765698
             ]
            },
            {
             "iteration": 649,
             "learn": [
              0.5183083473
             ],
             "passed_time": 55.92828869,
             "remaining_time": 116.1587534,
             "test": [
              0.5207631768
             ]
            },
            {
             "iteration": 650,
             "learn": [
              0.5183039307
             ],
             "passed_time": 56.00039307,
             "remaining_time": 116.0438253,
             "test": [
              0.5207562731
             ]
            },
            {
             "iteration": 651,
             "learn": [
              0.518302298
             ],
             "passed_time": 56.09523092,
             "remaining_time": 115.9760296,
             "test": [
              0.5207553309
             ]
            },
            {
             "iteration": 652,
             "learn": [
              0.5182944603
             ],
             "passed_time": 56.19159595,
             "remaining_time": 115.9113013,
             "test": [
              0.5207458492
             ]
            },
            {
             "iteration": 653,
             "learn": [
              0.5182935951
             ],
             "passed_time": 56.25815981,
             "remaining_time": 115.7851424,
             "test": [
              0.5207441041
             ]
            },
            {
             "iteration": 654,
             "learn": [
              0.5182923687
             ],
             "passed_time": 56.34128471,
             "remaining_time": 115.6931724,
             "test": [
              0.5207438265
             ]
            },
            {
             "iteration": 655,
             "learn": [
              0.5182643462
             ],
             "passed_time": 56.44181316,
             "remaining_time": 115.6368855,
             "test": [
              0.5207140281
             ]
            },
            {
             "iteration": 656,
             "learn": [
              0.5182605888
             ],
             "passed_time": 56.5317071,
             "remaining_time": 115.5587255,
             "test": [
              0.5207102323
             ]
            },
            {
             "iteration": 657,
             "learn": [
              0.5182588418
             ],
             "passed_time": 56.60078462,
             "remaining_time": 115.4380744,
             "test": [
              0.5207076834
             ]
            },
            {
             "iteration": 658,
             "learn": [
              0.5182436985
             ],
             "passed_time": 56.68526581,
             "remaining_time": 115.3489248,
             "test": [
              0.5206931446
             ]
            },
            {
             "iteration": 659,
             "learn": [
              0.5182332243
             ],
             "passed_time": 56.77552636,
             "remaining_time": 115.2715232,
             "test": [
              0.5206834522
             ]
            },
            {
             "iteration": 660,
             "learn": [
              0.5182308586
             ],
             "passed_time": 56.84475377,
             "remaining_time": 115.1514755,
             "test": [
              0.5206811068
             ]
            },
            {
             "iteration": 661,
             "learn": [
              0.5182187787
             ],
             "passed_time": 56.94251203,
             "remaining_time": 115.0892464,
             "test": [
              0.5206660195
             ]
            },
            {
             "iteration": 662,
             "learn": [
              0.51821776
             ],
             "passed_time": 57.01703917,
             "remaining_time": 114.9800624,
             "test": [
              0.5206637779
             ]
            },
            {
             "iteration": 663,
             "learn": [
              0.5182117065
             ],
             "passed_time": 57.10942531,
             "remaining_time": 114.906916,
             "test": [
              0.5206554021
             ]
            },
            {
             "iteration": 664,
             "learn": [
              0.5182028684
             ],
             "passed_time": 57.18472016,
             "remaining_time": 114.7994006,
             "test": [
              0.5206395798
             ]
            },
            {
             "iteration": 665,
             "learn": [
              0.5181851736
             ],
             "passed_time": 57.27226407,
             "remaining_time": 114.7165169,
             "test": [
              0.5206231998
             ]
            },
            {
             "iteration": 666,
             "learn": [
              0.5181829572
             ],
             "passed_time": 57.33846534,
             "remaining_time": 114.590966,
             "test": [
              0.5206215644
             ]
            },
            {
             "iteration": 667,
             "learn": [
              0.5181677341
             ],
             "passed_time": 57.44320089,
             "remaining_time": 114.5424305,
             "test": [
              0.5206040721
             ]
            },
            {
             "iteration": 668,
             "learn": [
              0.5181557815
             ],
             "passed_time": 57.54655959,
             "remaining_time": 114.4909878,
             "test": [
              0.5205926856
             ]
            },
            {
             "iteration": 669,
             "learn": [
              0.5181548565
             ],
             "passed_time": 57.61749432,
             "remaining_time": 114.375026,
             "test": [
              0.5205908032
             ]
            },
            {
             "iteration": 670,
             "learn": [
              0.5181541169
             ],
             "passed_time": 57.69647738,
             "remaining_time": 114.2751393,
             "test": [
              0.5205905167
             ]
            },
            {
             "iteration": 671,
             "learn": [
              0.5181474133
             ],
             "passed_time": 57.78171291,
             "remaining_time": 114.1876707,
             "test": [
              0.5205877304
             ]
            },
            {
             "iteration": 672,
             "learn": [
              0.5181473599
             ],
             "passed_time": 57.82198512,
             "remaining_time": 114.0115516,
             "test": [
              0.5205877285
             ]
            },
            {
             "iteration": 673,
             "learn": [
              0.5181451722
             ],
             "passed_time": 57.91496641,
             "remaining_time": 113.9395333,
             "test": [
              0.5205858226
             ]
            },
            {
             "iteration": 674,
             "learn": [
              0.5181423738
             ],
             "passed_time": 57.99361661,
             "remaining_time": 113.8393215,
             "test": [
              0.5205851331
             ]
            },
            {
             "iteration": 675,
             "learn": [
              0.5181244736
             ],
             "passed_time": 58.09190048,
             "remaining_time": 113.7776276,
             "test": [
              0.5205619185
             ]
            },
            {
             "iteration": 676,
             "learn": [
              0.5181222916
             ],
             "passed_time": 58.16692255,
             "remaining_time": 113.6703671,
             "test": [
              0.5205581346
             ]
            },
            {
             "iteration": 677,
             "learn": [
              0.518119597
             ],
             "passed_time": 58.24623083,
             "remaining_time": 113.5715592,
             "test": [
              0.5205559417
             ]
            },
            {
             "iteration": 678,
             "learn": [
              0.5181033013
             ],
             "passed_time": 58.33832806,
             "remaining_time": 113.4976898,
             "test": [
              0.5205428027
             ]
            },
            {
             "iteration": 679,
             "learn": [
              0.5180946076
             ],
             "passed_time": 58.59116149,
             "remaining_time": 113.7357841,
             "test": [
              0.5205386436
             ]
            },
            {
             "iteration": 680,
             "learn": [
              0.5180747553
             ],
             "passed_time": 58.68275816,
             "remaining_time": 113.6601439,
             "test": [
              0.5205110851
             ]
            },
            {
             "iteration": 681,
             "learn": [
              0.5180694051
             ],
             "passed_time": 58.76263869,
             "remaining_time": 113.5618149,
             "test": [
              0.5205030044
             ]
            },
            {
             "iteration": 682,
             "learn": [
              0.5180455973
             ],
             "passed_time": 58.85716107,
             "remaining_time": 113.4917732,
             "test": [
              0.520475752
             ]
            },
            {
             "iteration": 683,
             "learn": [
              0.5180372525
             ],
             "passed_time": 58.95100898,
             "remaining_time": 113.4203623,
             "test": [
              0.5204631252
             ]
            },
            {
             "iteration": 684,
             "learn": [
              0.5180356538
             ],
             "passed_time": 59.03324866,
             "remaining_time": 113.3266014,
             "test": [
              0.5204616808
             ]
            },
            {
             "iteration": 685,
             "learn": [
              0.518034845
             ],
             "passed_time": 59.08378518,
             "remaining_time": 113.1721483,
             "test": [
              0.5204610433
             ]
            },
            {
             "iteration": 686,
             "learn": [
              0.5180280235
             ],
             "passed_time": 59.16971098,
             "remaining_time": 113.0856339,
             "test": [
              0.5204536086
             ]
            },
            {
             "iteration": 687,
             "learn": [
              0.5180218184
             ],
             "passed_time": 59.26254471,
             "remaining_time": 113.0122946,
             "test": [
              0.5204518309
             ]
            },
            {
             "iteration": 688,
             "learn": [
              0.5180184994
             ],
             "passed_time": 59.33971794,
             "remaining_time": 112.9091005,
             "test": [
              0.5204489311
             ]
            },
            {
             "iteration": 689,
             "learn": [
              0.5180173887
             ],
             "passed_time": 59.42828569,
             "remaining_time": 112.8276149,
             "test": [
              0.5204484138
             ]
            },
            {
             "iteration": 690,
             "learn": [
              0.518014267
             ],
             "passed_time": 59.49467494,
             "remaining_time": 112.7040948,
             "test": [
              0.5204454689
             ]
            },
            {
             "iteration": 691,
             "learn": [
              0.5180133043
             ],
             "passed_time": 59.57061071,
             "remaining_time": 112.5987844,
             "test": [
              0.5204437053
             ]
            },
            {
             "iteration": 692,
             "learn": [
              0.5180072028
             ],
             "passed_time": 59.6497753,
             "remaining_time": 112.4996484,
             "test": [
              0.5204347823
             ]
            },
            {
             "iteration": 693,
             "learn": [
              0.5180065815
             ],
             "passed_time": 59.71505292,
             "remaining_time": 112.3744368,
             "test": [
              0.520434785
             ]
            },
            {
             "iteration": 694,
             "learn": [
              0.5180049509
             ],
             "passed_time": 59.78367617,
             "remaining_time": 112.2556797,
             "test": [
              0.5204334891
             ]
            },
            {
             "iteration": 695,
             "learn": [
              0.5179859111
             ],
             "passed_time": 59.88130082,
             "remaining_time": 112.1914027,
             "test": [
              0.5204189657
             ]
            },
            {
             "iteration": 696,
             "learn": [
              0.5179837645
             ],
             "passed_time": 59.9511125,
             "remaining_time": 112.0750353,
             "test": [
              0.5204160888
             ]
            },
            {
             "iteration": 697,
             "learn": [
              0.517982805
             ],
             "passed_time": 60.00853819,
             "remaining_time": 111.9356973,
             "test": [
              0.5204155806
             ]
            },
            {
             "iteration": 698,
             "learn": [
              0.5179675985
             ],
             "passed_time": 60.12143949,
             "remaining_time": 111.8998466,
             "test": [
              0.5203977449
             ]
            },
            {
             "iteration": 699,
             "learn": [
              0.5179663455
             ],
             "passed_time": 60.21304694,
             "remaining_time": 111.82423,
             "test": [
              0.5203965394
             ]
            },
            {
             "iteration": 700,
             "learn": [
              0.5179578412
             ],
             "passed_time": 60.3043747,
             "remaining_time": 111.7480495,
             "test": [
              0.5203861916
             ]
            },
            {
             "iteration": 701,
             "learn": [
              0.5179565627
             ],
             "passed_time": 60.37744483,
             "remaining_time": 111.6380675,
             "test": [
              0.5203849944
             ]
            },
            {
             "iteration": 702,
             "learn": [
              0.5179445022
             ],
             "passed_time": 60.47612419,
             "remaining_time": 111.5754382,
             "test": [
              0.5203693314
             ]
            },
            {
             "iteration": 703,
             "learn": [
              0.517942272
             ],
             "passed_time": 60.58265861,
             "remaining_time": 111.527167,
             "test": [
              0.5203670563
             ]
            },
            {
             "iteration": 704,
             "learn": [
              0.517940465
             ],
             "passed_time": 60.69308454,
             "remaining_time": 111.4858787,
             "test": [
              0.5203642636
             ]
            },
            {
             "iteration": 705,
             "learn": [
              0.5179341559
             ],
             "passed_time": 60.78425683,
             "remaining_time": 111.4091053,
             "test": [
              0.5203596276
             ]
            },
            {
             "iteration": 706,
             "learn": [
              0.5179247754
             ],
             "passed_time": 60.87248395,
             "remaining_time": 111.3269049,
             "test": [
              0.5203455283
             ]
            },
            {
             "iteration": 707,
             "learn": [
              0.5179230463
             ],
             "passed_time": 60.93896325,
             "remaining_time": 111.2050007,
             "test": [
              0.5203456466
             ]
            },
            {
             "iteration": 708,
             "learn": [
              0.5179218287
             ],
             "passed_time": 61.00732111,
             "remaining_time": 111.0866736,
             "test": [
              0.5203435741
             ]
            },
            {
             "iteration": 709,
             "learn": [
              0.5179126664
             ],
             "passed_time": 61.09134418,
             "remaining_time": 110.9969493,
             "test": [
              0.5203385486
             ]
            },
            {
             "iteration": 710,
             "learn": [
              0.517907987
             ],
             "passed_time": 61.1856955,
             "remaining_time": 110.9259655,
             "test": [
              0.5203367998
             ]
            },
            {
             "iteration": 711,
             "learn": [
              0.5179047006
             ],
             "passed_time": 61.25132062,
             "remaining_time": 110.8029508,
             "test": [
              0.5203335781
             ]
            },
            {
             "iteration": 712,
             "learn": [
              0.5178834171
             ],
             "passed_time": 61.34286041,
             "remaining_time": 110.7268743,
             "test": [
              0.5203068932
             ]
            },
            {
             "iteration": 713,
             "learn": [
              0.5178800405
             ],
             "passed_time": 61.43800146,
             "remaining_time": 110.6572407,
             "test": [
              0.5203052381
             ]
            },
            {
             "iteration": 714,
             "learn": [
              0.5178782401
             ],
             "passed_time": 61.530723,
             "remaining_time": 110.5831875,
             "test": [
              0.5203015617
             ]
            },
            {
             "iteration": 715,
             "learn": [
              0.5178775443
             ],
             "passed_time": 61.62348293,
             "remaining_time": 110.509151,
             "test": [
              0.5203016634
             ]
            },
            {
             "iteration": 716,
             "learn": [
              0.5178754455
             ],
             "passed_time": 61.70495065,
             "remaining_time": 110.4148559,
             "test": [
              0.5203017235
             ]
            },
            {
             "iteration": 717,
             "learn": [
              0.517874274
             ],
             "passed_time": 61.76944012,
             "remaining_time": 110.2902817,
             "test": [
              0.5203011741
             ]
            },
            {
             "iteration": 718,
             "learn": [
              0.5178640903
             ],
             "passed_time": 61.8489811,
             "remaining_time": 110.1926909,
             "test": [
              0.5202910064
             ]
            },
            {
             "iteration": 719,
             "learn": [
              0.5178634684
             ],
             "passed_time": 61.91000559,
             "remaining_time": 110.0622322,
             "test": [
              0.5202906468
             ]
            },
            {
             "iteration": 720,
             "learn": [
              0.5178615865
             ],
             "passed_time": 61.97758889,
             "remaining_time": 109.9436008,
             "test": [
              0.5202896152
             ]
            },
            {
             "iteration": 721,
             "learn": [
              0.5178572513
             ],
             "passed_time": 62.06953969,
             "remaining_time": 109.8682434,
             "test": [
              0.5202872282
             ]
            },
            {
             "iteration": 722,
             "learn": [
              0.517834722
             ],
             "passed_time": 62.16673633,
             "remaining_time": 109.8021055,
             "test": [
              0.5202699209
             ]
            },
            {
             "iteration": 723,
             "learn": [
              0.5178334888
             ],
             "passed_time": 62.24305629,
             "remaining_time": 109.6990882,
             "test": [
              0.5202689225
             ]
            },
            {
             "iteration": 724,
             "learn": [
              0.517812258
             ],
             "passed_time": 62.3456946,
             "remaining_time": 109.6424284,
             "test": [
              0.5202426377
             ]
            },
            {
             "iteration": 725,
             "learn": [
              0.5178041569
             ],
             "passed_time": 62.42650142,
             "remaining_time": 109.5473317,
             "test": [
              0.5202368637
             ]
            },
            {
             "iteration": 726,
             "learn": [
              0.5177973716
             ],
             "passed_time": 62.5093409,
             "remaining_time": 109.4558335,
             "test": [
              0.520225527
             ]
            },
            {
             "iteration": 727,
             "learn": [
              0.5177805869
             ],
             "passed_time": 62.59819307,
             "remaining_time": 109.3748648,
             "test": [
              0.5202149552
             ]
            },
            {
             "iteration": 728,
             "learn": [
              0.5177791207
             ],
             "passed_time": 62.67905078,
             "remaining_time": 109.2799363,
             "test": [
              0.5202138475
             ]
            },
            {
             "iteration": 729,
             "learn": [
              0.5177655136
             ],
             "passed_time": 62.75103746,
             "remaining_time": 109.1696131,
             "test": [
              0.5201924614
             ]
            },
            {
             "iteration": 730,
             "learn": [
              0.5177548796
             ],
             "passed_time": 62.84671271,
             "remaining_time": 109.1005177,
             "test": [
              0.520180762
             ]
            },
            {
             "iteration": 731,
             "learn": [
              0.5177501272
             ],
             "passed_time": 62.92669559,
             "remaining_time": 109.0041667,
             "test": [
              0.5201767329
             ]
            },
            {
             "iteration": 732,
             "learn": [
              0.5177489325
             ],
             "passed_time": 62.99243963,
             "remaining_time": 108.8832483,
             "test": [
              0.520175315
             ]
            },
            {
             "iteration": 733,
             "learn": [
              0.5177468343
             ],
             "passed_time": 63.05982862,
             "remaining_time": 108.7653175,
             "test": [
              0.5201746303
             ]
            },
            {
             "iteration": 734,
             "learn": [
              0.5177408446
             ],
             "passed_time": 63.14166115,
             "remaining_time": 108.6723828,
             "test": [
              0.5201658342
             ]
            },
            {
             "iteration": 735,
             "learn": [
              0.5177392748
             ],
             "passed_time": 63.23199633,
             "remaining_time": 108.5940807,
             "test": [
              0.5201650354
             ]
            },
            {
             "iteration": 736,
             "learn": [
              0.5177370638
             ],
             "passed_time": 63.30483858,
             "remaining_time": 108.4857682,
             "test": [
              0.5201627734
             ]
            },
            {
             "iteration": 737,
             "learn": [
              0.5177333265
             ],
             "passed_time": 63.38337297,
             "remaining_time": 108.3872855,
             "test": [
              0.5201636412
             ]
            },
            {
             "iteration": 738,
             "learn": [
              0.5177194889
             ],
             "passed_time": 63.47651234,
             "remaining_time": 108.3137782,
             "test": [
              0.5201470802
             ]
            },
            {
             "iteration": 739,
             "learn": [
              0.5177128188
             ],
             "passed_time": 63.55138914,
             "remaining_time": 108.2091221,
             "test": [
              0.5201367162
             ]
            },
            {
             "iteration": 740,
             "learn": [
              0.5177119637
             ],
             "passed_time": 63.60212059,
             "remaining_time": 108.063522,
             "test": [
              0.5201356741
             ]
            },
            {
             "iteration": 741,
             "learn": [
              0.5177100125
             ],
             "passed_time": 63.72033988,
             "remaining_time": 108.0325978,
             "test": [
              0.5201334699
             ]
            },
            {
             "iteration": 742,
             "learn": [
              0.5177008127
             ],
             "passed_time": 63.80330383,
             "remaining_time": 107.941794,
             "test": [
              0.5201299662
             ]
            },
            {
             "iteration": 743,
             "learn": [
              0.5176981811
             ],
             "passed_time": 63.89761421,
             "remaining_time": 107.8701659,
             "test": [
              0.5201287645
             ]
            },
            {
             "iteration": 744,
             "learn": [
              0.5176813594
             ],
             "passed_time": 63.99641403,
             "remaining_time": 107.8060397,
             "test": [
              0.5201110675
             ]
            },
            {
             "iteration": 745,
             "learn": [
              0.5176775785
             ],
             "passed_time": 64.07755957,
             "remaining_time": 107.7121444,
             "test": [
              0.5201088485
             ]
            },
            {
             "iteration": 746,
             "learn": [
              0.5176769824
             ],
             "passed_time": 64.14434042,
             "remaining_time": 107.5941881,
             "test": [
              0.5201082018
             ]
            },
            {
             "iteration": 747,
             "learn": [
              0.5176748605
             ],
             "passed_time": 64.22645306,
             "remaining_time": 107.5020311,
             "test": [
              0.5201078298
             ]
            },
            {
             "iteration": 748,
             "learn": [
              0.5176477619
             ],
             "passed_time": 64.31686368,
             "remaining_time": 107.4237603,
             "test": [
              0.520077849
             ]
            },
            {
             "iteration": 749,
             "learn": [
              0.5176316396
             ],
             "passed_time": 64.40773175,
             "remaining_time": 107.3462196,
             "test": [
              0.5200597949
             ]
            },
            {
             "iteration": 750,
             "learn": [
              0.5176294496
             ],
             "passed_time": 64.50347182,
             "remaining_time": 107.2767461,
             "test": [
              0.5200570005
             ]
            },
            {
             "iteration": 751,
             "learn": [
              0.5176153745
             ],
             "passed_time": 64.57959943,
             "remaining_time": 107.1746544,
             "test": [
              0.5200396948
             ]
            },
            {
             "iteration": 752,
             "learn": [
              0.5176127723
             ],
             "passed_time": 64.68321432,
             "remaining_time": 107.1181517,
             "test": [
              0.5200378014
             ]
            },
            {
             "iteration": 753,
             "learn": [
              0.5175993838
             ],
             "passed_time": 64.77214044,
             "remaining_time": 107.0372507,
             "test": [
              0.5200245365
             ]
            },
            {
             "iteration": 754,
             "learn": [
              0.517597808
             ],
             "passed_time": 64.86718838,
             "remaining_time": 106.9664232,
             "test": [
              0.5200222268
             ]
            },
            {
             "iteration": 755,
             "learn": [
              0.5175943632
             ],
             "passed_time": 64.9483162,
             "remaining_time": 106.8726261,
             "test": [
              0.5200197021
             ]
            },
            {
             "iteration": 756,
             "learn": [
              0.5175874365
             ],
             "passed_time": 65.05972963,
             "remaining_time": 106.8285917,
             "test": [
              0.5200062997
             ]
            },
            {
             "iteration": 757,
             "learn": [
              0.5175785859
             ],
             "passed_time": 65.17194864,
             "remaining_time": 106.7856995,
             "test": [
              0.519994603
             ]
            },
            {
             "iteration": 758,
             "learn": [
              0.5175752508
             ],
             "passed_time": 65.25207602,
             "remaining_time": 106.6901533,
             "test": [
              0.5199925681
             ]
            },
            {
             "iteration": 759,
             "learn": [
              0.517570489
             ],
             "passed_time": 65.33337351,
             "remaining_time": 106.5965568,
             "test": [
              0.5199855543
             ]
            },
            {
             "iteration": 760,
             "learn": [
              0.5175616402
             ],
             "passed_time": 65.4156374,
             "remaining_time": 106.504566,
             "test": [
              0.5199733503
             ]
            },
            {
             "iteration": 761,
             "learn": [
              0.5175520973
             ],
             "passed_time": 65.49763165,
             "remaining_time": 106.4121627,
             "test": [
              0.5199600565
             ]
            },
            {
             "iteration": 762,
             "learn": [
              0.5175489054
             ],
             "passed_time": 65.58344051,
             "remaining_time": 106.325971,
             "test": [
              0.5199571417
             ]
            },
            {
             "iteration": 763,
             "learn": [
              0.5175475937
             ],
             "passed_time": 65.66163807,
             "remaining_time": 106.2274668,
             "test": [
              0.5199548864
             ]
            },
            {
             "iteration": 764,
             "learn": [
              0.5175459134
             ],
             "passed_time": 65.75247927,
             "remaining_time": 106.1494273,
             "test": [
              0.519954094
             ]
            },
            {
             "iteration": 765,
             "learn": [
              0.5175416391
             ],
             "passed_time": 65.82776889,
             "remaining_time": 106.0463013,
             "test": [
              0.5199499058
             ]
            },
            {
             "iteration": 766,
             "learn": [
              0.5175384174
             ],
             "passed_time": 65.89700979,
             "remaining_time": 105.9335242,
             "test": [
              0.5199459939
             ]
            },
            {
             "iteration": 767,
             "learn": [
              0.5175336296
             ],
             "passed_time": 65.98446839,
             "remaining_time": 105.8500847,
             "test": [
              0.5199390542
             ]
            },
            {
             "iteration": 768,
             "learn": [
              0.5175322108
             ],
             "passed_time": 66.05616146,
             "remaining_time": 105.7413976,
             "test": [
              0.5199390761
             ]
            },
            {
             "iteration": 769,
             "learn": [
              0.5175268947
             ],
             "passed_time": 66.13674858,
             "remaining_time": 105.647014,
             "test": [
              0.5199359201
             ]
            },
            {
             "iteration": 770,
             "learn": [
              0.517524905
             ],
             "passed_time": 66.20708515,
             "remaining_time": 105.5363264,
             "test": [
              0.519932169
             ]
            },
            {
             "iteration": 771,
             "learn": [
              0.5174949976
             ],
             "passed_time": 66.30481778,
             "remaining_time": 105.4693215,
             "test": [
              0.519901777
             ]
            },
            {
             "iteration": 772,
             "learn": [
              0.5174915722
             ],
             "passed_time": 66.37520412,
             "remaining_time": 105.3588298,
             "test": [
              0.5198998421
             ]
            },
            {
             "iteration": 773,
             "learn": [
              0.517488845
             ],
             "passed_time": 66.46691127,
             "remaining_time": 105.2822135,
             "test": [
              0.5198968049
             ]
            },
            {
             "iteration": 774,
             "learn": [
              0.5174697107
             ],
             "passed_time": 66.56036847,
             "remaining_time": 105.2083244,
             "test": [
              0.5198789716
             ]
            },
            {
             "iteration": 775,
             "learn": [
              0.5174655862
             ],
             "passed_time": 66.66660343,
             "remaining_time": 105.1545394,
             "test": [
              0.5198775041
             ]
            },
            {
             "iteration": 776,
             "learn": [
              0.5174540177
             ],
             "passed_time": 66.7708886,
             "remaining_time": 105.0975505,
             "test": [
              0.5198719498
             ]
            },
            {
             "iteration": 777,
             "learn": [
              0.5174521305
             ],
             "passed_time": 66.86122846,
             "remaining_time": 105.0185362,
             "test": [
              0.5198706109
             ]
            },
            {
             "iteration": 778,
             "learn": [
              0.5174502019
             ],
             "passed_time": 66.95075981,
             "remaining_time": 104.9382256,
             "test": [
              0.5198694535
             ]
            },
            {
             "iteration": 779,
             "learn": [
              0.5174429447
             ],
             "passed_time": 67.04757634,
             "remaining_time": 104.8692861,
             "test": [
              0.5198554557
             ]
            },
            {
             "iteration": 780,
             "learn": [
              0.517441071
             ],
             "passed_time": 67.14120651,
             "remaining_time": 104.7953018,
             "test": [
              0.5198554326
             ]
            },
            {
             "iteration": 781,
             "learn": [
              0.5174399687
             ],
             "passed_time": 67.21778565,
             "remaining_time": 104.6947096,
             "test": [
              0.5198548693
             ]
            },
            {
             "iteration": 782,
             "learn": [
              0.5174386893
             ],
             "passed_time": 67.29904002,
             "remaining_time": 104.6014453,
             "test": [
              0.5198543546
             ]
            },
            {
             "iteration": 783,
             "learn": [
              0.5174376706
             ],
             "passed_time": 67.36542821,
             "remaining_time": 104.485154,
             "test": [
              0.5198539914
             ]
            },
            {
             "iteration": 784,
             "learn": [
              0.5174264897
             ],
             "passed_time": 67.45754049,
             "remaining_time": 104.4088047,
             "test": [
              0.519842354
             ]
            },
            {
             "iteration": 785,
             "learn": [
              0.5174221934
             ],
             "passed_time": 67.5341505,
             "remaining_time": 104.3084716,
             "test": [
              0.5198381857
             ]
            },
            {
             "iteration": 786,
             "learn": [
              0.5174181324
             ],
             "passed_time": 67.61511395,
             "remaining_time": 104.2149088,
             "test": [
              0.5198376008
             ]
            },
            {
             "iteration": 787,
             "learn": [
              0.5174008801
             ],
             "passed_time": 67.70397274,
             "remaining_time": 104.1335215,
             "test": [
              0.5198251723
             ]
            },
            {
             "iteration": 788,
             "learn": [
              0.5173991757
             ],
             "passed_time": 67.80228052,
             "remaining_time": 104.0666181,
             "test": [
              0.5198240452
             ]
            },
            {
             "iteration": 789,
             "learn": [
              0.5173961152
             ],
             "passed_time": 67.87306894,
             "remaining_time": 103.9574853,
             "test": [
              0.5198229182
             ]
            },
            {
             "iteration": 790,
             "learn": [
              0.5173917176
             ],
             "passed_time": 67.95198375,
             "remaining_time": 103.8608702,
             "test": [
              0.5198146269
             ]
            },
            {
             "iteration": 791,
             "learn": [
              0.5173893254
             ],
             "passed_time": 68.05162018,
             "remaining_time": 103.7959055,
             "test": [
              0.5198122898
             ]
            },
            {
             "iteration": 792,
             "learn": [
              0.5173780424
             ],
             "passed_time": 68.15979022,
             "remaining_time": 103.7438421,
             "test": [
              0.5197956337
             ]
            },
            {
             "iteration": 793,
             "learn": [
              0.5173602947
             ],
             "passed_time": 68.24334626,
             "remaining_time": 103.6542514,
             "test": [
              0.5197763438
             ]
            },
            {
             "iteration": 794,
             "learn": [
              0.5173453179
             ],
             "passed_time": 68.34286388,
             "remaining_time": 103.5888692,
             "test": [
              0.5197541953
             ]
            },
            {
             "iteration": 795,
             "learn": [
              0.5173427491
             ],
             "passed_time": 68.41557844,
             "remaining_time": 103.4828599,
             "test": [
              0.519751124
             ]
            },
            {
             "iteration": 796,
             "learn": [
              0.5173254701
             ],
             "passed_time": 68.51649531,
             "remaining_time": 103.419503,
             "test": [
              0.5197363973
             ]
            },
            {
             "iteration": 797,
             "learn": [
              0.5173248963
             ],
             "passed_time": 68.61611311,
             "remaining_time": 103.3540952,
             "test": [
              0.5197360228
             ]
            },
            {
             "iteration": 798,
             "learn": [
              0.5173225092
             ],
             "passed_time": 68.72269505,
             "remaining_time": 103.2990698,
             "test": [
              0.5197360175
             ]
            },
            {
             "iteration": 799,
             "learn": [
              0.5173145784
             ],
             "passed_time": 68.84070462,
             "remaining_time": 103.2610569,
             "test": [
              0.5197247123
             ]
            },
            {
             "iteration": 800,
             "learn": [
              0.5173139217
             ],
             "passed_time": 68.91781698,
             "remaining_time": 103.1616262,
             "test": [
              0.5197242638
             ]
            },
            {
             "iteration": 801,
             "learn": [
              0.5172948874
             ],
             "passed_time": 69.0055527,
             "remaining_time": 103.0781199,
             "test": [
              0.5197065724
             ]
            },
            {
             "iteration": 802,
             "learn": [
              0.5172940356
             ],
             "passed_time": 69.07575848,
             "remaining_time": 102.9684719,
             "test": [
              0.5197053857
             ]
            },
            {
             "iteration": 803,
             "learn": [
              0.5172940131
             ],
             "passed_time": 69.12083055,
             "remaining_time": 102.821534,
             "test": [
              0.5197053771
             ]
            },
            {
             "iteration": 804,
             "learn": [
              0.5172925177
             ],
             "passed_time": 69.19013932,
             "remaining_time": 102.7108279,
             "test": [
              0.5197041455
             ]
            },
            {
             "iteration": 805,
             "learn": [
              0.5172902663
             ],
             "passed_time": 69.26297306,
             "remaining_time": 102.6054464,
             "test": [
              0.5197018776
             ]
            },
            {
             "iteration": 806,
             "learn": [
              0.5172599296
             ],
             "passed_time": 69.3596209,
             "remaining_time": 102.5353504,
             "test": [
              0.5196688667
             ]
            },
            {
             "iteration": 807,
             "learn": [
              0.5172582229
             ],
             "passed_time": 69.43239458,
             "remaining_time": 102.4299682,
             "test": [
              0.5196678522
             ]
            },
            {
             "iteration": 808,
             "learn": [
              0.5172540928
             ],
             "passed_time": 69.51137204,
             "remaining_time": 102.3337999,
             "test": [
              0.519663157
             ]
            },
            {
             "iteration": 809,
             "learn": [
              0.5172527728
             ],
             "passed_time": 69.5885878,
             "remaining_time": 102.2350858,
             "test": [
              0.5196619166
             ]
            },
            {
             "iteration": 810,
             "learn": [
              0.5172360037
             ],
             "passed_time": 69.68680934,
             "remaining_time": 102.1672211,
             "test": [
              0.5196420681
             ]
            },
            {
             "iteration": 811,
             "learn": [
              0.5172288542
             ],
             "passed_time": 69.80045759,
             "remaining_time": 102.1218518,
             "test": [
              0.5196351388
             ]
            },
            {
             "iteration": 812,
             "learn": [
              0.5172026745
             ],
             "passed_time": 69.89084032,
             "remaining_time": 102.0423462,
             "test": [
              0.5196041774
             ]
            },
            {
             "iteration": 813,
             "learn": [
              0.5171794223
             ],
             "passed_time": 69.98433191,
             "remaining_time": 101.9673435,
             "test": [
              0.5195805145
             ]
            },
            {
             "iteration": 814,
             "learn": [
              0.5171747789
             ],
             "passed_time": 70.07771186,
             "remaining_time": 101.8921332,
             "test": [
              0.5195782646
             ]
            },
            {
             "iteration": 815,
             "learn": [
              0.5171735683
             ],
             "passed_time": 70.15141871,
             "remaining_time": 101.788333,
             "test": [
              0.5195775932
             ]
            },
            {
             "iteration": 816,
             "learn": [
              0.5171682616
             ],
             "passed_time": 70.229793,
             "remaining_time": 101.6913649,
             "test": [
              0.5195728466
             ]
            },
            {
             "iteration": 817,
             "learn": [
              0.5171653674
             ],
             "passed_time": 70.30847064,
             "remaining_time": 101.5948806,
             "test": [
              0.5195730536
             ]
            },
            {
             "iteration": 818,
             "learn": [
              0.5171623423
             ],
             "passed_time": 70.38519475,
             "remaining_time": 101.4956227,
             "test": [
              0.519571335
             ]
            },
            {
             "iteration": 819,
             "learn": [
              0.5171617303
             ],
             "passed_time": 70.43232599,
             "remaining_time": 101.353835,
             "test": [
              0.5195713108
             ]
            },
            {
             "iteration": 820,
             "learn": [
              0.5171380261
             ],
             "passed_time": 70.52591647,
             "remaining_time": 101.2789958,
             "test": [
              0.5195440748
             ]
            },
            {
             "iteration": 821,
             "learn": [
              0.5171207692
             ],
             "passed_time": 70.6372153,
             "remaining_time": 101.2294886,
             "test": [
              0.5195308395
             ]
            },
            {
             "iteration": 822,
             "learn": [
              0.517120769
             ],
             "passed_time": 70.66768841,
             "remaining_time": 101.0642397,
             "test": [
              0.5195308368
             ]
            },
            {
             "iteration": 823,
             "learn": [
              0.5171150382
             ],
             "passed_time": 70.75131766,
             "remaining_time": 100.9751815,
             "test": [
              0.5195230223
             ]
            },
            {
             "iteration": 824,
             "learn": [
              0.5171135599
             ],
             "passed_time": 70.85118779,
             "remaining_time": 100.9092675,
             "test": [
              0.5195207475
             ]
            },
            {
             "iteration": 825,
             "learn": [
              0.5171105085
             ],
             "passed_time": 70.92269289,
             "remaining_time": 100.8029557,
             "test": [
              0.5195165914
             ]
            },
            {
             "iteration": 826,
             "learn": [
              0.5171042174
             ],
             "passed_time": 71.0205492,
             "remaining_time": 100.7341043,
             "test": [
              0.5195058514
             ]
            },
            {
             "iteration": 827,
             "learn": [
              0.5171024638
             ],
             "passed_time": 71.10580544,
             "remaining_time": 100.6473478,
             "test": [
              0.5195043672
             ]
            },
            {
             "iteration": 828,
             "learn": [
              0.5171006329
             ],
             "passed_time": 71.17675931,
             "remaining_time": 100.5403922,
             "test": [
              0.5195043452
             ]
            },
            {
             "iteration": 829,
             "learn": [
              0.5170851782
             ],
             "passed_time": 71.28152144,
             "remaining_time": 100.4811808,
             "test": [
              0.5194865199
             ]
            },
            {
             "iteration": 830,
             "learn": [
              0.5170744775
             ],
             "passed_time": 71.3749062,
             "remaining_time": 100.4058548,
             "test": [
              0.5194774738
             ]
            },
            {
             "iteration": 831,
             "learn": [
              0.5170722232
             ],
             "passed_time": 71.45799401,
             "remaining_time": 100.31603,
             "test": [
              0.5194757043
             ]
            },
            {
             "iteration": 832,
             "learn": [
              0.517070632
             ],
             "passed_time": 71.55980305,
             "remaining_time": 100.2524492,
             "test": [
              0.5194762301
             ]
            },
            {
             "iteration": 833,
             "learn": [
              0.5170584539
             ],
             "passed_time": 71.65088661,
             "remaining_time": 100.1737815,
             "test": [
              0.519462418
             ]
            },
            {
             "iteration": 834,
             "learn": [
              0.517056932
             ],
             "passed_time": 71.73755289,
             "remaining_time": 100.0889211,
             "test": [
              0.5194625116
             ]
            },
            {
             "iteration": 835,
             "learn": [
              0.5170554926
             ],
             "passed_time": 71.83288936,
             "remaining_time": 100.0161282,
             "test": [
              0.5194609976
             ]
            },
            {
             "iteration": 836,
             "learn": [
              0.5170375045
             ],
             "passed_time": 71.93669381,
             "remaining_time": 99.95504767,
             "test": [
              0.5194449497
             ]
            },
            {
             "iteration": 837,
             "learn": [
              0.5170260515
             ],
             "passed_time": 72.03049357,
             "remaining_time": 99.87999228,
             "test": [
              0.5194326084
             ]
            },
            {
             "iteration": 838,
             "learn": [
              0.517009085
             ],
             "passed_time": 72.11855244,
             "remaining_time": 99.79694801,
             "test": [
              0.5194156485
             ]
            },
            {
             "iteration": 839,
             "learn": [
              0.5169843508
             ],
             "passed_time": 72.21323806,
             "remaining_time": 99.72304304,
             "test": [
              0.5193858499
             ]
            },
            {
             "iteration": 840,
             "learn": [
              0.5169693389
             ],
             "passed_time": 72.30623069,
             "remaining_time": 99.64675549,
             "test": [
              0.5193662296
             ]
            },
            {
             "iteration": 841,
             "learn": [
              0.5169572529
             ],
             "passed_time": 72.39757631,
             "remaining_time": 99.56816314,
             "test": [
              0.5193579701
             ]
            },
            {
             "iteration": 842,
             "learn": [
              0.5169523813
             ],
             "passed_time": 72.47972109,
             "remaining_time": 99.47691257,
             "test": [
              0.5193539087
             ]
            },
            {
             "iteration": 843,
             "learn": [
              0.5169506989
             ],
             "passed_time": 72.55816043,
             "remaining_time": 99.38060837,
             "test": [
              0.5193501364
             ]
            },
            {
             "iteration": 844,
             "learn": [
              0.5169392336
             ],
             "passed_time": 72.64524997,
             "remaining_time": 99.29617008,
             "test": [
              0.519342695
             ]
            },
            {
             "iteration": 845,
             "learn": [
              0.5169354221
             ],
             "passed_time": 72.72313117,
             "remaining_time": 99.19916474,
             "test": [
              0.5193410085
             ]
            },
            {
             "iteration": 846,
             "learn": [
              0.5169348048
             ],
             "passed_time": 72.79138603,
             "remaining_time": 99.08910047,
             "test": [
              0.5193410983
             ]
            },
            {
             "iteration": 847,
             "learn": [
              0.5169246666
             ],
             "passed_time": 72.90878808,
             "remaining_time": 99.04590078,
             "test": [
              0.5193253709
             ]
            },
            {
             "iteration": 848,
             "learn": [
              0.5169215199
             ],
             "passed_time": 72.99538657,
             "remaining_time": 98.96076554,
             "test": [
              0.5193218876
             ]
            },
            {
             "iteration": 849,
             "learn": [
              0.5169066928
             ],
             "passed_time": 73.07789496,
             "remaining_time": 98.87009318,
             "test": [
              0.5193014866
             ]
            },
            {
             "iteration": 850,
             "learn": [
              0.5169051988
             ],
             "passed_time": 73.1721149,
             "remaining_time": 98.79525267,
             "test": [
              0.5193007311
             ]
            },
            {
             "iteration": 851,
             "learn": [
              0.5169025267
             ],
             "passed_time": 73.24465757,
             "remaining_time": 98.69115832,
             "test": [
              0.5192975676
             ]
            },
            {
             "iteration": 852,
             "learn": [
              0.5169014684
             ],
             "passed_time": 73.32283593,
             "remaining_time": 98.59471608,
             "test": [
              0.5192955693
             ]
            },
            {
             "iteration": 853,
             "learn": [
              0.5168808368
             ],
             "passed_time": 73.42128425,
             "remaining_time": 98.52551728,
             "test": [
              0.5192747684
             ]
            },
            {
             "iteration": 854,
             "learn": [
              0.5168771111
             ],
             "passed_time": 73.50650212,
             "remaining_time": 98.43853207,
             "test": [
              0.5192723478
             ]
            },
            {
             "iteration": 855,
             "learn": [
              0.516877111
             ],
             "passed_time": 73.53690029,
             "remaining_time": 98.27828731,
             "test": [
              0.5192723471
             ]
            },
            {
             "iteration": 856,
             "learn": [
              0.516855554
             ],
             "passed_time": 73.63185281,
             "remaining_time": 98.20444313,
             "test": [
              0.5192457378
             ]
            },
            {
             "iteration": 857,
             "learn": [
              0.5168519804
             ],
             "passed_time": 73.70881542,
             "remaining_time": 98.10660514,
             "test": [
              0.519243495
             ]
            },
            {
             "iteration": 858,
             "learn": [
              0.5168361303
             ],
             "passed_time": 73.80672299,
             "remaining_time": 98.0366367,
             "test": [
              0.5192319148
             ]
            },
            {
             "iteration": 859,
             "learn": [
              0.5168350947
             ],
             "passed_time": 73.89103898,
             "remaining_time": 97.94858656,
             "test": [
              0.5192317045
             ]
            },
            {
             "iteration": 860,
             "learn": [
              0.5168269069
             ],
             "passed_time": 73.97692013,
             "remaining_time": 97.86261559,
             "test": [
              0.5192274833
             ]
            },
            {
             "iteration": 861,
             "learn": [
              0.5168251923
             ],
             "passed_time": 74.0555016,
             "remaining_time": 97.76700792,
             "test": [
              0.5192261321
             ]
            },
            {
             "iteration": 862,
             "learn": [
              0.5168240385
             ],
             "passed_time": 74.10450777,
             "remaining_time": 97.63247431,
             "test": [
              0.5192262182
             ]
            },
            {
             "iteration": 863,
             "learn": [
              0.5168218553
             ],
             "passed_time": 74.17997754,
             "remaining_time": 97.53293343,
             "test": [
              0.5192265006
             ]
            },
            {
             "iteration": 864,
             "learn": [
              0.5168167727
             ],
             "passed_time": 74.24995145,
             "remaining_time": 97.42623687,
             "test": [
              0.5192233196
             ]
            },
            {
             "iteration": 865,
             "learn": [
              0.5167982772
             ],
             "passed_time": 74.32430408,
             "remaining_time": 97.32535893,
             "test": [
              0.5192046011
             ]
            },
            {
             "iteration": 866,
             "learn": [
              0.5167963086
             ],
             "passed_time": 74.39544946,
             "remaining_time": 97.22035091,
             "test": [
              0.5192018414
             ]
            },
            {
             "iteration": 867,
             "learn": [
              0.5167793052
             ],
             "passed_time": 74.4780656,
             "remaining_time": 97.13038049,
             "test": [
              0.5191805065
             ]
            },
            {
             "iteration": 868,
             "learn": [
              0.5167768264
             ],
             "passed_time": 74.54847498,
             "remaining_time": 97.02453994,
             "test": [
              0.5191797593
             ]
            },
            {
             "iteration": 869,
             "learn": [
              0.516772468
             ],
             "passed_time": 74.62852746,
             "remaining_time": 96.93130578,
             "test": [
              0.5191714549
             ]
            },
            {
             "iteration": 870,
             "learn": [
              0.5167609812
             ],
             "passed_time": 74.71652666,
             "remaining_time": 96.84840253,
             "test": [
              0.5191566703
             ]
            },
            {
             "iteration": 871,
             "learn": [
              0.5167570887
             ],
             "passed_time": 74.81190316,
             "remaining_time": 96.77503069,
             "test": [
              0.5191538136
             ]
            },
            {
             "iteration": 872,
             "learn": [
              0.5167257737
             ],
             "passed_time": 74.94288908,
             "remaining_time": 96.74757846,
             "test": [
              0.5191148899
             ]
            },
            {
             "iteration": 873,
             "learn": [
              0.5167252861
             ],
             "passed_time": 75.01099604,
             "remaining_time": 96.63888048,
             "test": [
              0.5191145781
             ]
            },
            {
             "iteration": 874,
             "learn": [
              0.5167230011
             ],
             "passed_time": 75.1226098,
             "remaining_time": 96.5862126,
             "test": [
              0.5191125832
             ]
            },
            {
             "iteration": 875,
             "learn": [
              0.5167126083
             ],
             "passed_time": 75.22467552,
             "remaining_time": 96.521159,
             "test": [
              0.5191003755
             ]
            },
            {
             "iteration": 876,
             "learn": [
              0.5166945055
             ],
             "passed_time": 75.30750593,
             "remaining_time": 96.43139014,
             "test": [
              0.5190791256
             ]
            },
            {
             "iteration": 877,
             "learn": [
              0.5166943636
             ],
             "passed_time": 75.37452843,
             "remaining_time": 96.3214361,
             "test": [
              0.5190790207
             ]
            },
            {
             "iteration": 878,
             "learn": [
              0.5166927337
             ],
             "passed_time": 75.45314977,
             "remaining_time": 96.22637189,
             "test": [
              0.5190766892
             ]
            },
            {
             "iteration": 879,
             "learn": [
              0.5166905115
             ],
             "passed_time": 75.55162416,
             "remaining_time": 96.15661257,
             "test": [
              0.5190751327
             ]
            },
            {
             "iteration": 880,
             "learn": [
              0.5166892445
             ],
             "passed_time": 75.62356192,
             "remaining_time": 96.05308262,
             "test": [
              0.5190737298
             ]
            },
            {
             "iteration": 881,
             "learn": [
              0.5166687348
             ],
             "passed_time": 75.71265671,
             "remaining_time": 95.97137211,
             "test": [
              0.5190494878
             ]
            },
            {
             "iteration": 882,
             "learn": [
              0.5166660959
             ],
             "passed_time": 75.78493971,
             "remaining_time": 95.86837787,
             "test": [
              0.5190476652
             ]
            },
            {
             "iteration": 883,
             "learn": [
              0.516662593
             ],
             "passed_time": 75.86244511,
             "remaining_time": 95.77204609,
             "test": [
              0.519044009
             ]
            },
            {
             "iteration": 884,
             "learn": [
              0.5166600826
             ],
             "passed_time": 75.94779646,
             "remaining_time": 95.68564187,
             "test": [
              0.5190434538
             ]
            },
            {
             "iteration": 885,
             "learn": [
              0.5166581848
             ],
             "passed_time": 76.09186976,
             "remaining_time": 95.67307326,
             "test": [
              0.5190416761
             ]
            },
            {
             "iteration": 886,
             "learn": [
              0.5166442896
             ],
             "passed_time": 76.24456151,
             "remaining_time": 95.67102251,
             "test": [
              0.5190326866
             ]
            },
            {
             "iteration": 887,
             "learn": [
              0.5166368175
             ],
             "passed_time": 76.3456182,
             "remaining_time": 95.60397234,
             "test": [
              0.5190273054
             ]
            },
            {
             "iteration": 888,
             "learn": [
              0.5166357782
             ],
             "passed_time": 76.44191285,
             "remaining_time": 95.53089446,
             "test": [
              0.5190264604
             ]
            },
            {
             "iteration": 889,
             "learn": [
              0.5166323393
             ],
             "passed_time": 76.57953813,
             "remaining_time": 95.5093116,
             "test": [
              0.5190237299
             ]
            },
            {
             "iteration": 890,
             "learn": [
              0.5166304143
             ],
             "passed_time": 76.71597509,
             "remaining_time": 95.4859892,
             "test": [
              0.5190221363
             ]
            },
            {
             "iteration": 891,
             "learn": [
              0.5166270988
             ],
             "passed_time": 76.82604984,
             "remaining_time": 95.42966729,
             "test": [
              0.5190207065
             ]
            },
            {
             "iteration": 892,
             "learn": [
              0.5166034205
             ],
             "passed_time": 76.96877383,
             "remaining_time": 95.41369836,
             "test": [
              0.5189943302
             ]
            },
            {
             "iteration": 893,
             "learn": [
              0.516601089
             ],
             "passed_time": 77.07895981,
             "remaining_time": 95.3571919,
             "test": [
              0.5189920985
             ]
            },
            {
             "iteration": 894,
             "learn": [
              0.5165920793
             ],
             "passed_time": 77.19273123,
             "remaining_time": 95.30499219,
             "test": [
              0.5189848691
             ]
            },
            {
             "iteration": 895,
             "learn": [
              0.5165866971
             ],
             "passed_time": 77.29544256,
             "remaining_time": 95.23902744,
             "test": [
              0.5189786287
             ]
            },
            {
             "iteration": 896,
             "learn": [
              0.5165767933
             ],
             "passed_time": 77.40326925,
             "remaining_time": 95.17927088,
             "test": [
              0.5189683653
             ]
            },
            {
             "iteration": 897,
             "learn": [
              0.5165696471
             ],
             "passed_time": 77.53698059,
             "remaining_time": 95.15117218,
             "test": [
              0.5189545052
             ]
            },
            {
             "iteration": 898,
             "learn": [
              0.5165671935
             ],
             "passed_time": 77.64095898,
             "remaining_time": 95.08642474,
             "test": [
              0.5189537732
             ]
            },
            {
             "iteration": 899,
             "learn": [
              0.5165586399
             ],
             "passed_time": 77.75266062,
             "remaining_time": 95.03102965,
             "test": [
              0.5189368178
             ]
            },
            {
             "iteration": 900,
             "learn": [
              0.5165583803
             ],
             "passed_time": 77.85244294,
             "remaining_time": 94.96097091,
             "test": [
              0.5189376449
             ]
            },
            {
             "iteration": 901,
             "learn": [
              0.5165570942
             ],
             "passed_time": 77.97863825,
             "remaining_time": 94.92299867,
             "test": [
              0.5189371284
             ]
            },
            {
             "iteration": 902,
             "learn": [
              0.516538295
             ],
             "passed_time": 78.11242405,
             "remaining_time": 94.89405225,
             "test": [
              0.5189195178
             ]
            },
            {
             "iteration": 903,
             "learn": [
              0.5165278145
             ],
             "passed_time": 78.2501738,
             "remaining_time": 94.86967974,
             "test": [
              0.5189145194
             ]
            },
            {
             "iteration": 904,
             "learn": [
              0.5165253902
             ],
             "passed_time": 78.32834597,
             "remaining_time": 94.77297109,
             "test": [
              0.5189121859
             ]
            },
            {
             "iteration": 905,
             "learn": [
              0.516515136
             ],
             "passed_time": 78.42674029,
             "remaining_time": 94.70072172,
             "test": [
              0.5189003291
             ]
            },
            {
             "iteration": 906,
             "learn": [
              0.5165138333
             ],
             "passed_time": 78.52164476,
             "remaining_time": 94.62420917,
             "test": [
              0.5189006193
             ]
            },
            {
             "iteration": 907,
             "learn": [
              0.5165087904
             ],
             "passed_time": 78.59727402,
             "remaining_time": 94.52447492,
             "test": [
              0.5188956555
             ]
            },
            {
             "iteration": 908,
             "learn": [
              0.5165070073
             ],
             "passed_time": 78.66899406,
             "remaining_time": 94.42010179,
             "test": [
              0.5188943683
             ]
            },
            {
             "iteration": 909,
             "learn": [
              0.5165022082
             ],
             "passed_time": 78.76555764,
             "remaining_time": 94.34555806,
             "test": [
              0.518881065
             ]
            },
            {
             "iteration": 910,
             "learn": [
              0.5165010962
             ],
             "passed_time": 78.833841,
             "remaining_time": 94.2371601,
             "test": [
              0.5188804636
             ]
            },
            {
             "iteration": 911,
             "learn": [
              0.5165006776
             ],
             "passed_time": 78.88537533,
             "remaining_time": 94.10886882,
             "test": [
              0.5188802016
             ]
            },
            {
             "iteration": 912,
             "learn": [
              0.5165002662
             ],
             "passed_time": 78.96039058,
             "remaining_time": 94.0087016,
             "test": [
              0.5188802184
             ]
            },
            {
             "iteration": 913,
             "learn": [
              0.5164863229
             ],
             "passed_time": 79.07044965,
             "remaining_time": 93.95022792,
             "test": [
              0.5188599143
             ]
            },
            {
             "iteration": 914,
             "learn": [
              0.516485413
             ],
             "passed_time": 79.14664119,
             "remaining_time": 93.85148163,
             "test": [
              0.5188576965
             ]
            },
            {
             "iteration": 915,
             "learn": [
              0.5164692952
             ],
             "passed_time": 79.22603168,
             "remaining_time": 93.75657024,
             "test": [
              0.518841092
             ]
            },
            {
             "iteration": 916,
             "learn": [
              0.5164659562
             ],
             "passed_time": 79.3053053,
             "remaining_time": 93.66155468,
             "test": [
              0.518840704
             ]
            },
            {
             "iteration": 917,
             "learn": [
              0.5164630527
             ],
             "passed_time": 79.39003398,
             "remaining_time": 93.57300301,
             "test": [
              0.5188385524
             ]
            },
            {
             "iteration": 918,
             "learn": [
              0.5164618414
             ],
             "passed_time": 79.47221803,
             "remaining_time": 93.48146648,
             "test": [
              0.518837488
             ]
            },
            {
             "iteration": 919,
             "learn": [
              0.5164487604
             ],
             "passed_time": 79.56210154,
             "remaining_time": 93.39898876,
             "test": [
              0.5188264526
             ]
            },
            {
             "iteration": 920,
             "learn": [
              0.5164474215
             ],
             "passed_time": 79.63014768,
             "remaining_time": 93.29091135,
             "test": [
              0.518826757
             ]
            },
            {
             "iteration": 921,
             "learn": [
              0.5164432568
             ],
             "passed_time": 79.69673301,
             "remaining_time": 93.18121279,
             "test": [
              0.518823758
             ]
            },
            {
             "iteration": 922,
             "learn": [
              0.5164396196
             ],
             "passed_time": 79.76528686,
             "remaining_time": 93.0739046,
             "test": [
              0.5188200901
             ]
            },
            {
             "iteration": 923,
             "learn": [
              0.5164391979
             ],
             "passed_time": 79.82275734,
             "remaining_time": 92.9537737,
             "test": [
              0.5188197547
             ]
            },
            {
             "iteration": 924,
             "learn": [
              0.5164239787
             ],
             "passed_time": 79.91654143,
             "remaining_time": 92.87598058,
             "test": [
              0.518805796
             ]
            },
            {
             "iteration": 925,
             "learn": [
              0.5164206158
             ],
             "passed_time": 80.00008513,
             "remaining_time": 92.78627585,
             "test": [
              0.5188060648
             ]
            },
            {
             "iteration": 926,
             "learn": [
              0.5164192275
             ],
             "passed_time": 80.10220329,
             "remaining_time": 92.71808428,
             "test": [
              0.5188049065
             ]
            },
            {
             "iteration": 927,
             "learn": [
              0.5164179989
             ],
             "passed_time": 80.19427719,
             "remaining_time": 92.63821675,
             "test": [
              0.518803483
             ]
            },
            {
             "iteration": 928,
             "learn": [
              0.5164138013
             ],
             "passed_time": 80.2775989,
             "remaining_time": 92.54823296,
             "test": [
              0.5188008777
             ]
            },
            {
             "iteration": 929,
             "learn": [
              0.5164125743
             ],
             "passed_time": 80.36339279,
             "remaining_time": 92.46110783,
             "test": [
              0.5188004731
             ]
            },
            {
             "iteration": 930,
             "learn": [
              0.5163959577
             ],
             "passed_time": 80.46067912,
             "remaining_time": 92.3871815,
             "test": [
              0.5187816535
             ]
            },
            {
             "iteration": 931,
             "learn": [
              0.5163859431
             ],
             "passed_time": 80.54951741,
             "remaining_time": 92.30352424,
             "test": [
              0.5187743868
             ]
            },
            {
             "iteration": 932,
             "learn": [
              0.5163687278
             ],
             "passed_time": 80.6446412,
             "remaining_time": 92.22704412,
             "test": [
              0.5187505325
             ]
            },
            {
             "iteration": 933,
             "learn": [
              0.516367824
             ],
             "passed_time": 80.71798005,
             "remaining_time": 92.12566031,
             "test": [
              0.5187506285
             ]
            },
            {
             "iteration": 934,
             "learn": [
              0.5163654745
             ],
             "passed_time": 80.79369539,
             "remaining_time": 92.02704342,
             "test": [
              0.5187481028
             ]
            },
            {
             "iteration": 935,
             "learn": [
              0.5163648124
             ],
             "passed_time": 80.86437889,
             "remaining_time": 91.92275549,
             "test": [
              0.5187474512
             ]
            },
            {
             "iteration": 936,
             "learn": [
              0.516358036
             ],
             "passed_time": 80.96199934,
             "remaining_time": 91.8490985,
             "test": [
              0.5187456978
             ]
            },
            {
             "iteration": 937,
             "learn": [
              0.5163532922
             ],
             "passed_time": 81.04668353,
             "remaining_time": 91.76074404,
             "test": [
              0.5187428913
             ]
            },
            {
             "iteration": 938,
             "learn": [
              0.5163528477
             ],
             "passed_time": 81.14748123,
             "remaining_time": 91.69060446,
             "test": [
              0.518742457
             ]
            },
            {
             "iteration": 939,
             "learn": [
              0.5163455973
             ],
             "passed_time": 81.23181769,
             "remaining_time": 91.60183697,
             "test": [
              0.5187351199
             ]
            },
            {
             "iteration": 940,
             "learn": [
              0.5163441859
             ],
             "passed_time": 81.3134186,
             "remaining_time": 91.51000032,
             "test": [
              0.5187346732
             ]
            },
            {
             "iteration": 941,
             "learn": [
              0.5163323662
             ],
             "passed_time": 81.40852886,
             "remaining_time": 91.43335832,
             "test": [
              0.5187260526
             ]
            },
            {
             "iteration": 942,
             "learn": [
              0.5163316373
             ],
             "passed_time": 81.48458145,
             "remaining_time": 91.33531558,
             "test": [
              0.5187259563
             ]
            },
            {
             "iteration": 943,
             "learn": [
              0.5163298386
             ],
             "passed_time": 81.56200331,
             "remaining_time": 91.23885116,
             "test": [
              0.5187252724
             ]
            },
            {
             "iteration": 944,
             "learn": [
              0.5163286749
             ],
             "passed_time": 81.63926455,
             "remaining_time": 91.14224773,
             "test": [
              0.5187247531
             ]
            },
            {
             "iteration": 945,
             "learn": [
              0.5163263329
             ],
             "passed_time": 81.71576639,
             "remaining_time": 91.04483909,
             "test": [
              0.5187236226
             ]
            },
            {
             "iteration": 946,
             "learn": [
              0.5163230266
             ],
             "passed_time": 81.79461643,
             "remaining_time": 90.95008564,
             "test": [
              0.5187229483
             ]
            },
            {
             "iteration": 947,
             "learn": [
              0.5163107775
             ],
             "passed_time": 81.893096,
             "remaining_time": 90.87714872,
             "test": [
              0.5187077065
             ]
            },
            {
             "iteration": 948,
             "learn": [
              0.5163082407
             ],
             "passed_time": 81.98295002,
             "remaining_time": 90.79460534,
             "test": [
              0.5187039657
             ]
            },
            {
             "iteration": 949,
             "learn": [
              0.5162820453
             ],
             "passed_time": 82.07449232,
             "remaining_time": 90.71391256,
             "test": [
              0.5186746272
             ]
            },
            {
             "iteration": 950,
             "learn": [
              0.5162776617
             ],
             "passed_time": 82.16727526,
             "remaining_time": 90.63456546,
             "test": [
              0.5186708285
             ]
            },
            {
             "iteration": 951,
             "learn": [
              0.5162762463
             ],
             "passed_time": 82.23479809,
             "remaining_time": 90.52738278,
             "test": [
              0.5186709957
             ]
            },
            {
             "iteration": 952,
             "learn": [
              0.5162754757
             ],
             "passed_time": 82.32004879,
             "remaining_time": 90.43975979,
             "test": [
              0.5186705638
             ]
            },
            {
             "iteration": 953,
             "learn": [
              0.5162726384
             ],
             "passed_time": 82.39523779,
             "remaining_time": 90.34110977,
             "test": [
              0.5186663116
             ]
            },
            {
             "iteration": 954,
             "learn": [
              0.5162547307
             ],
             "passed_time": 82.49361158,
             "remaining_time": 90.26787864,
             "test": [
              0.5186444353
             ]
            },
            {
             "iteration": 955,
             "learn": [
              0.5162532471
             ],
             "passed_time": 82.56308183,
             "remaining_time": 90.16303078,
             "test": [
              0.5186446263
             ]
            },
            {
             "iteration": 956,
             "learn": [
              0.5162525609
             ],
             "passed_time": 82.63215969,
             "remaining_time": 90.05782921,
             "test": [
              0.5186441427
             ]
            },
            {
             "iteration": 957,
             "learn": [
              0.5162364618
             ],
             "passed_time": 82.74112433,
             "remaining_time": 89.99608722,
             "test": [
              0.5186295331
             ]
            },
            {
             "iteration": 958,
             "learn": [
              0.5162309932
             ],
             "passed_time": 82.82402667,
             "remaining_time": 89.90595596,
             "test": [
              0.5186225698
             ]
            },
            {
             "iteration": 959,
             "learn": [
              0.5162203343
             ],
             "passed_time": 82.91443914,
             "remaining_time": 89.82397574,
             "test": [
              0.5186164062
             ]
            },
            {
             "iteration": 960,
             "learn": [
              0.5162178737
             ],
             "passed_time": 82.99643357,
             "remaining_time": 89.73287667,
             "test": [
              0.5186122722
             ]
            },
            {
             "iteration": 961,
             "learn": [
              0.5162151233
             ],
             "passed_time": 83.07624346,
             "remaining_time": 89.63943941,
             "test": [
              0.518609979
             ]
            },
            {
             "iteration": 962,
             "learn": [
              0.516212425
             ],
             "passed_time": 83.18986348,
             "remaining_time": 89.58243866,
             "test": [
              0.5186092532
             ]
            },
            {
             "iteration": 963,
             "learn": [
              0.5161953191
             ],
             "passed_time": 83.29803002,
             "remaining_time": 89.51945965,
             "test": [
              0.518590966
             ]
            },
            {
             "iteration": 964,
             "learn": [
              0.5161945348
             ],
             "passed_time": 83.35479748,
             "remaining_time": 89.40125947,
             "test": [
              0.5185915078
             ]
            },
            {
             "iteration": 965,
             "learn": [
              0.516194177
             ],
             "passed_time": 83.4079102,
             "remaining_time": 89.27927448,
             "test": [
              0.5185905288
             ]
            },
            {
             "iteration": 966,
             "learn": [
              0.5161905776
             ],
             "passed_time": 83.48170421,
             "remaining_time": 89.17952476,
             "test": [
              0.5185887599
             ]
            },
            {
             "iteration": 967,
             "learn": [
              0.5161875624
             ],
             "passed_time": 83.55709152,
             "remaining_time": 89.08152733,
             "test": [
              0.5185877004
             ]
            },
            {
             "iteration": 968,
             "learn": [
              0.5161868422
             ],
             "passed_time": 83.6437795,
             "remaining_time": 88.99560027,
             "test": [
              0.5185876675
             ]
            },
            {
             "iteration": 969,
             "learn": [
              0.5161822734
             ],
             "passed_time": 83.74176505,
             "remaining_time": 88.92166804,
             "test": [
              0.5185839142
             ]
            },
            {
             "iteration": 970,
             "learn": [
              0.5161800964
             ],
             "passed_time": 83.82255989,
             "remaining_time": 88.82946872,
             "test": [
              0.5185818058
             ]
            },
            {
             "iteration": 971,
             "learn": [
              0.5161659261
             ],
             "passed_time": 83.90488146,
             "remaining_time": 88.73890756,
             "test": [
              0.5185660893
             ]
            },
            {
             "iteration": 972,
             "learn": [
              0.5161648215
             ],
             "passed_time": 83.98107286,
             "remaining_time": 88.64189294,
             "test": [
              0.5185657365
             ]
            },
            {
             "iteration": 973,
             "learn": [
              0.5161637876
             ],
             "passed_time": 84.04772153,
             "remaining_time": 88.53486889,
             "test": [
              0.5185648204
             ]
            },
            {
             "iteration": 974,
             "learn": [
              0.5161499673
             ],
             "passed_time": 84.13018037,
             "remaining_time": 88.44454859,
             "test": [
              0.518551388
             ]
            },
            {
             "iteration": 975,
             "learn": [
              0.5161496203
             ],
             "passed_time": 84.22777097,
             "remaining_time": 88.37012036,
             "test": [
              0.5185513255
             ]
            },
            {
             "iteration": 976,
             "learn": [
              0.5161478385
             ],
             "passed_time": 84.30584013,
             "remaining_time": 88.27520414,
             "test": [
              0.5185505352
             ]
            },
            {
             "iteration": 977,
             "learn": [
              0.516143673
             ],
             "passed_time": 84.39296157,
             "remaining_time": 88.18978193,
             "test": [
              0.5185471561
             ]
            },
            {
             "iteration": 978,
             "learn": [
              0.5161427342
             ],
             "passed_time": 84.49445235,
             "remaining_time": 88.11934203,
             "test": [
              0.5185466037
             ]
            },
            {
             "iteration": 979,
             "learn": [
              0.5161398892
             ],
             "passed_time": 84.57134341,
             "remaining_time": 88.02323498,
             "test": [
              0.5185467173
             ]
            },
            {
             "iteration": 980,
             "learn": [
              0.5161387495
             ],
             "passed_time": 84.66960227,
             "remaining_time": 87.9493626,
             "test": [
              0.5185452219
             ]
            },
            {
             "iteration": 981,
             "learn": [
              0.5161188665
             ],
             "passed_time": 84.7637205,
             "remaining_time": 87.87114814,
             "test": [
              0.5185259063
             ]
            },
            {
             "iteration": 982,
             "learn": [
              0.5161101955
             ],
             "passed_time": 84.853459,
             "remaining_time": 87.7883701,
             "test": [
              0.518516993
             ]
            },
            {
             "iteration": 983,
             "learn": [
              0.5160914042
             ],
             "passed_time": 84.94526747,
             "remaining_time": 87.70771519,
             "test": [
              0.5184938078
             ]
            },
            {
             "iteration": 984,
             "learn": [
              0.5160641105
             ],
             "passed_time": 85.04546327,
             "remaining_time": 87.63568042,
             "test": [
              0.5184585144
             ]
            },
            {
             "iteration": 985,
             "learn": [
              0.5160591244
             ],
             "passed_time": 85.15423466,
             "remaining_time": 87.57240766,
             "test": [
              0.5184537195
             ]
            },
            {
             "iteration": 986,
             "learn": [
              0.5160533581
             ],
             "passed_time": 85.26355433,
             "remaining_time": 87.50960541,
             "test": [
              0.5184475372
             ]
            },
            {
             "iteration": 987,
             "learn": [
              0.5160516696
             ],
             "passed_time": 85.33110617,
             "remaining_time": 87.40392657,
             "test": [
              0.5184476129
             ]
            },
            {
             "iteration": 988,
             "learn": [
              0.5160388355
             ],
             "passed_time": 85.43905923,
             "remaining_time": 87.33962476,
             "test": [
              0.5184282978
             ]
            },
            {
             "iteration": 989,
             "learn": [
              0.5160371669
             ],
             "passed_time": 85.50698767,
             "remaining_time": 87.23440156,
             "test": [
              0.5184275756
             ]
            },
            {
             "iteration": 990,
             "learn": [
              0.5160346089
             ],
             "passed_time": 85.58734225,
             "remaining_time": 87.14190548,
             "test": [
              0.5184280642
             ]
            },
            {
             "iteration": 991,
             "learn": [
              0.5160300368
             ],
             "passed_time": 85.67531711,
             "remaining_time": 87.05717706,
             "test": [
              0.518424895
             ]
            },
            {
             "iteration": 992,
             "learn": [
              0.5160287755
             ],
             "passed_time": 85.73989136,
             "remaining_time": 86.94871158,
             "test": [
              0.5184242556
             ]
            },
            {
             "iteration": 993,
             "learn": [
              0.5160273485
             ],
             "passed_time": 85.80479662,
             "remaining_time": 86.84066942,
             "test": [
              0.5184230495
             ]
            },
            {
             "iteration": 994,
             "learn": [
              0.5160177899
             ],
             "passed_time": 85.89660011,
             "remaining_time": 86.75988253,
             "test": [
              0.5184085193
             ]
            },
            {
             "iteration": 995,
             "learn": [
              0.5160121432
             ],
             "passed_time": 86.00631721,
             "remaining_time": 86.69713101,
             "test": [
              0.5184044783
             ]
            },
            {
             "iteration": 996,
             "learn": [
              0.5160115024
             ],
             "passed_time": 86.07464443,
             "remaining_time": 86.5926463,
             "test": [
              0.5184040547
             ]
            },
            {
             "iteration": 997,
             "learn": [
              0.5160098069
             ],
             "passed_time": 86.14448046,
             "remaining_time": 86.48974891,
             "test": [
              0.5184037938
             ]
            },
            {
             "iteration": 998,
             "learn": [
              0.5160085984
             ],
             "passed_time": 86.21729219,
             "remaining_time": 86.38989938,
             "test": [
              0.5184020694
             ]
            },
            {
             "iteration": 999,
             "learn": [
              0.5160070947
             ],
             "passed_time": 86.32601686,
             "remaining_time": 86.32601686,
             "test": [
              0.5184007025
             ]
            },
            {
             "iteration": 1000,
             "learn": [
              0.5160030428
             ],
             "passed_time": 86.40704371,
             "remaining_time": 86.23440226,
             "test": [
              0.5183969731
             ]
            },
            {
             "iteration": 1001,
             "learn": [
              0.5159995045
             ],
             "passed_time": 86.47674648,
             "remaining_time": 86.13152993,
             "test": [
              0.5183931067
             ]
            },
            {
             "iteration": 1002,
             "learn": [
              0.5159982989
             ],
             "passed_time": 86.56755989,
             "remaining_time": 86.04970808,
             "test": [
              0.5183921502
             ]
            },
            {
             "iteration": 1003,
             "learn": [
              0.5159814397
             ],
             "passed_time": 86.65833876,
             "remaining_time": 85.96783407,
             "test": [
              0.5183777105
             ]
            },
            {
             "iteration": 1004,
             "learn": [
              0.5159791609
             ],
             "passed_time": 86.73729845,
             "remaining_time": 85.87424076,
             "test": [
              0.5183787925
             ]
            },
            {
             "iteration": 1005,
             "learn": [
              0.5159733208
             ],
             "passed_time": 86.82610633,
             "remaining_time": 85.79040725,
             "test": [
              0.5183726149
             ]
            },
            {
             "iteration": 1006,
             "learn": [
              0.5159700177
             ],
             "passed_time": 86.90595257,
             "remaining_time": 85.69772682,
             "test": [
              0.518371368
             ]
            },
            {
             "iteration": 1007,
             "learn": [
              0.5159675341
             ],
             "passed_time": 86.97669623,
             "remaining_time": 85.59611375,
             "test": [
              0.5183698273
             ]
            },
            {
             "iteration": 1008,
             "learn": [
              0.5159658751
             ],
             "passed_time": 87.0541867,
             "remaining_time": 85.50118833,
             "test": [
              0.5183694313
             ]
            },
            {
             "iteration": 1009,
             "learn": [
              0.5159647378
             ],
             "passed_time": 87.12700367,
             "remaining_time": 85.40171647,
             "test": [
              0.5183684135
             ]
            },
            {
             "iteration": 1010,
             "learn": [
              0.5159636422
             ],
             "passed_time": 87.19782664,
             "remaining_time": 85.30034673,
             "test": [
              0.5183672134
             ]
            },
            {
             "iteration": 1011,
             "learn": [
              0.5159579336
             ],
             "passed_time": 87.30974581,
             "remaining_time": 85.23915895,
             "test": [
              0.5183646815
             ]
            },
            {
             "iteration": 1012,
             "learn": [
              0.5159563778
             ],
             "passed_time": 87.38038906,
             "remaining_time": 85.1376545,
             "test": [
              0.5183639211
             ]
            },
            {
             "iteration": 1013,
             "learn": [
              0.5159547732
             ],
             "passed_time": 87.44921904,
             "remaining_time": 85.03444771,
             "test": [
              0.5183644526
             ]
            },
            {
             "iteration": 1014,
             "learn": [
              0.5159372859
             ],
             "passed_time": 87.54623665,
             "remaining_time": 84.95866315,
             "test": [
              0.5183470817
             ]
            },
            {
             "iteration": 1015,
             "learn": [
              0.5159287241
             ],
             "passed_time": 87.6323901,
             "remaining_time": 84.87231483,
             "test": [
              0.5183325375
             ]
            },
            {
             "iteration": 1016,
             "learn": [
              0.5159274763
             ],
             "passed_time": 87.70048109,
             "remaining_time": 84.76850827,
             "test": [
              0.51833251
             ]
            },
            {
             "iteration": 1017,
             "learn": [
              0.5159206776
             ],
             "passed_time": 87.78618933,
             "remaining_time": 84.68176613,
             "test": [
              0.5183301941
             ]
            },
            {
             "iteration": 1018,
             "learn": [
              0.515920024
             ],
             "passed_time": 87.86024709,
             "remaining_time": 84.58381001,
             "test": [
              0.518328885
             ]
            },
            {
             "iteration": 1019,
             "learn": [
              0.515920009
             ],
             "passed_time": 87.90243098,
             "remaining_time": 84.45527683,
             "test": [
              0.5183288738
             ]
            },
            {
             "iteration": 1020,
             "learn": [
              0.5159019053
             ],
             "passed_time": 87.99540713,
             "remaining_time": 84.37561565,
             "test": [
              0.5183078697
             ]
            },
            {
             "iteration": 1021,
             "learn": [
              0.515898329
             ],
             "passed_time": 88.08368325,
             "remaining_time": 84.29143075,
             "test": [
              0.5183069284
             ]
            },
            {
             "iteration": 1022,
             "learn": [
              0.515874081
             ],
             "passed_time": 88.18801765,
             "remaining_time": 84.22257404,
             "test": [
              0.5182839922
             ]
            },
            {
             "iteration": 1023,
             "learn": [
              0.5158701602
             ],
             "passed_time": 88.2811666,
             "remaining_time": 84.14298691,
             "test": [
              0.5182835364
             ]
            },
            {
             "iteration": 1024,
             "learn": [
              0.5158684713
             ],
             "passed_time": 88.37310516,
             "remaining_time": 84.06222198,
             "test": [
              0.5182846589
             ]
            },
            {
             "iteration": 1025,
             "learn": [
              0.5158518997
             ],
             "passed_time": 88.47609554,
             "remaining_time": 83.99192695,
             "test": [
              0.5182634319
             ]
            },
            {
             "iteration": 1026,
             "learn": [
              0.5158503727
             ],
             "passed_time": 88.54934581,
             "remaining_time": 83.8933919,
             "test": [
              0.5182621997
             ]
            },
            {
             "iteration": 1027,
             "learn": [
              0.5158471583
             ],
             "passed_time": 88.65154972,
             "remaining_time": 83.82228242,
             "test": [
              0.5182606672
             ]
            },
            {
             "iteration": 1028,
             "learn": [
              0.5158361648
             ],
             "passed_time": 88.73281201,
             "remaining_time": 83.73135128,
             "test": [
              0.5182487536
             ]
            },
            {
             "iteration": 1029,
             "learn": [
              0.5158329623
             ],
             "passed_time": 88.83993323,
             "remaining_time": 83.66479149,
             "test": [
              0.5182469765
             ]
            },
            {
             "iteration": 1030,
             "learn": [
              0.5158309091
             ],
             "passed_time": 88.91807554,
             "remaining_time": 83.57091678,
             "test": [
              0.5182438259
             ]
            },
            {
             "iteration": 1031,
             "learn": [
              0.5158227626
             ],
             "passed_time": 89.02544145,
             "remaining_time": 83.50448384,
             "test": [
              0.5182294309
             ]
            },
            {
             "iteration": 1032,
             "learn": [
              0.515821334
             ],
             "passed_time": 89.09521248,
             "remaining_time": 83.40277877,
             "test": [
              0.5182291623
             ]
            },
            {
             "iteration": 1033,
             "learn": [
              0.5158193024
             ],
             "passed_time": 89.17194736,
             "remaining_time": 83.30764135,
             "test": [
              0.5182280807
             ]
            },
            {
             "iteration": 1034,
             "learn": [
              0.5158170447
             ],
             "passed_time": 89.25860954,
             "remaining_time": 83.22179537,
             "test": [
              0.5182253869
             ]
            },
            {
             "iteration": 1035,
             "learn": [
              0.5157978547
             ],
             "passed_time": 89.3718268,
             "remaining_time": 83.16065737,
             "test": [
              0.5182035436
             ]
            },
            {
             "iteration": 1036,
             "learn": [
              0.5157969557
             ],
             "passed_time": 89.44171077,
             "remaining_time": 83.05917789,
             "test": [
              0.51820254
             ]
            },
            {
             "iteration": 1037,
             "learn": [
              0.5157963192
             ],
             "passed_time": 89.52380639,
             "remaining_time": 82.96907683,
             "test": [
              0.5182017145
             ]
            },
            {
             "iteration": 1038,
             "learn": [
              0.515795363
             ],
             "passed_time": 89.59505354,
             "remaining_time": 82.86895712,
             "test": [
              0.5182015211
             ]
            },
            {
             "iteration": 1039,
             "learn": [
              0.5157950263
             ],
             "passed_time": 89.67481854,
             "remaining_time": 82.77675558,
             "test": [
              0.518201411
             ]
            },
            {
             "iteration": 1040,
             "learn": [
              0.515793383
             ],
             "passed_time": 89.74888742,
             "remaining_time": 82.67933049,
             "test": [
              0.5182001219
             ]
            },
            {
             "iteration": 1041,
             "learn": [
              0.5157913737
             ],
             "passed_time": 89.82550724,
             "remaining_time": 82.58429552,
             "test": [
              0.5181961765
             ]
            },
            {
             "iteration": 1042,
             "learn": [
              0.5157901343
             ],
             "passed_time": 89.92853299,
             "remaining_time": 82.51352452,
             "test": [
              0.5181962132
             ]
            },
            {
             "iteration": 1043,
             "learn": [
              0.5157888774
             ],
             "passed_time": 89.99323307,
             "remaining_time": 82.40759656,
             "test": [
              0.5181943518
             ]
            },
            {
             "iteration": 1044,
             "learn": [
              0.5157781744
             ],
             "passed_time": 90.08909274,
             "remaining_time": 82.33022351,
             "test": [
              0.5181798172
             ]
            },
            {
             "iteration": 1045,
             "learn": [
              0.5157757262
             ],
             "passed_time": 90.16238861,
             "remaining_time": 82.23223588,
             "test": [
              0.51817812
             ]
            },
            {
             "iteration": 1046,
             "learn": [
              0.5157687283
             ],
             "passed_time": 90.25118568,
             "remaining_time": 82.14840492,
             "test": [
              0.5181713248
             ]
            },
            {
             "iteration": 1047,
             "learn": [
              0.5157671062
             ],
             "passed_time": 90.33178506,
             "remaining_time": 82.05711773,
             "test": [
              0.518169141
             ]
            },
            {
             "iteration": 1048,
             "learn": [
              0.5157652748
             ],
             "passed_time": 90.55979234,
             "remaining_time": 82.09948762,
             "test": [
              0.5181694191
             ]
            },
            {
             "iteration": 1049,
             "learn": [
              0.5157586094
             ],
             "passed_time": 90.675124,
             "remaining_time": 82.03939791,
             "test": [
              0.5181600641
             ]
            },
            {
             "iteration": 1050,
             "learn": [
              0.5157426564
             ],
             "passed_time": 90.7825623,
             "remaining_time": 81.97207576,
             "test": [
              0.518142796
             ]
            },
            {
             "iteration": 1051,
             "learn": [
              0.5157252104
             ],
             "passed_time": 90.87379891,
             "remaining_time": 81.89007734,
             "test": [
              0.5181226621
             ]
            },
            {
             "iteration": 1052,
             "learn": [
              0.5157162647
             ],
             "passed_time": 90.9635679,
             "remaining_time": 81.8067415,
             "test": [
              0.5181143462
             ]
            },
            {
             "iteration": 1053,
             "learn": [
              0.5157153035
             ],
             "passed_time": 91.03358239,
             "remaining_time": 81.70566313,
             "test": [
              0.5181132943
             ]
            },
            {
             "iteration": 1054,
             "learn": [
              0.5157048045
             ],
             "passed_time": 91.12098543,
             "remaining_time": 81.62021918,
             "test": [
              0.5180948055
             ]
            },
            {
             "iteration": 1055,
             "learn": [
              0.5156964364
             ],
             "passed_time": 91.22775712,
             "remaining_time": 81.55208591,
             "test": [
              0.5180823655
             ]
            },
            {
             "iteration": 1056,
             "learn": [
              0.5156955912
             ],
             "passed_time": 91.3072022,
             "remaining_time": 81.45950016,
             "test": [
              0.5180820539
             ]
            },
            {
             "iteration": 1057,
             "learn": [
              0.5156840784
             ],
             "passed_time": 91.39106418,
             "remaining_time": 81.37087189,
             "test": [
              0.5180721603
             ]
            },
            {
             "iteration": 1058,
             "learn": [
              0.5156829837
             ],
             "passed_time": 91.45880074,
             "remaining_time": 81.26792398,
             "test": [
              0.5180716325
             ]
            },
            {
             "iteration": 1059,
             "learn": [
              0.5156810839
             ],
             "passed_time": 91.52655858,
             "remaining_time": 81.16506138,
             "test": [
              0.5180702373
             ]
            },
            {
             "iteration": 1060,
             "learn": [
              0.5156795578
             ],
             "passed_time": 91.61736595,
             "remaining_time": 81.08266412,
             "test": [
              0.5180689739
             ]
            },
            {
             "iteration": 1061,
             "learn": [
              0.5156777273
             ],
             "passed_time": 91.68701965,
             "remaining_time": 80.98156726,
             "test": [
              0.5180681044
             ]
            },
            {
             "iteration": 1062,
             "learn": [
              0.5156770133
             ],
             "passed_time": 91.75597936,
             "remaining_time": 80.87991783,
             "test": [
              0.5180681445
             ]
            },
            {
             "iteration": 1063,
             "learn": [
              0.515674005
             ],
             "passed_time": 91.82641754,
             "remaining_time": 80.77963047,
             "test": [
              0.5180669476
             ]
            },
            {
             "iteration": 1064,
             "learn": [
              0.5156629951
             ],
             "passed_time": 91.93560336,
             "remaining_time": 80.71341704,
             "test": [
              0.5180580041
             ]
            },
            {
             "iteration": 1065,
             "learn": [
              0.5156559578
             ],
             "passed_time": 92.03602371,
             "remaining_time": 80.63944292,
             "test": [
              0.5180464142
             ]
            },
            {
             "iteration": 1066,
             "learn": [
              0.515648663
             ],
             "passed_time": 92.12000989,
             "remaining_time": 80.55104894,
             "test": [
              0.5180369439
             ]
            },
            {
             "iteration": 1067,
             "learn": [
              0.5156462032
             ],
             "passed_time": 92.2033209,
             "remaining_time": 80.46207405,
             "test": [
              0.5180362672
             ]
            },
            {
             "iteration": 1068,
             "learn": [
              0.51562982
             ],
             "passed_time": 92.29204694,
             "remaining_time": 80.37782572,
             "test": [
              0.5180167622
             ]
            },
            {
             "iteration": 1069,
             "learn": [
              0.5156163723
             ],
             "passed_time": 92.39664738,
             "remaining_time": 80.30736641,
             "test": [
              0.5180033043
             ]
            },
            {
             "iteration": 1070,
             "learn": [
              0.5156145123
             ],
             "passed_time": 92.48395901,
             "remaining_time": 80.22184679,
             "test": [
              0.5180034325
             ]
            },
            {
             "iteration": 1071,
             "learn": [
              0.5156130248
             ],
             "passed_time": 92.56898025,
             "remaining_time": 80.13434111,
             "test": [
              0.5180021791
             ]
            },
            {
             "iteration": 1072,
             "learn": [
              0.5155995711
             ],
             "passed_time": 92.69347121,
             "remaining_time": 80.08093924,
             "test": [
              0.5179858508
             ]
            },
            {
             "iteration": 1073,
             "learn": [
              0.5155988917
             ],
             "passed_time": 92.77004029,
             "remaining_time": 79.98608688,
             "test": [
              0.5179842796
             ]
            },
            {
             "iteration": 1074,
             "learn": [
              0.5155974393
             ],
             "passed_time": 92.84224231,
             "remaining_time": 79.88751082,
             "test": [
              0.5179836747
             ]
            },
            {
             "iteration": 1075,
             "learn": [
              0.5155946437
             ],
             "passed_time": 92.91608235,
             "remaining_time": 79.79039042,
             "test": [
              0.5179802105
             ]
            },
            {
             "iteration": 1076,
             "learn": [
              0.5155917158
             ],
             "passed_time": 92.99624538,
             "remaining_time": 79.69873211,
             "test": [
              0.5179783241
             ]
            },
            {
             "iteration": 1077,
             "learn": [
              0.5155678571
             ],
             "passed_time": 93.10080755,
             "remaining_time": 79.62796341,
             "test": [
              0.5179517556
             ]
            },
            {
             "iteration": 1078,
             "learn": [
              0.5155591562
             ],
             "passed_time": 93.20239822,
             "remaining_time": 79.5545957,
             "test": [
              0.5179374935
             ]
            },
            {
             "iteration": 1079,
             "learn": [
              0.5155576064
             ],
             "passed_time": 93.2735048,
             "remaining_time": 79.45520779,
             "test": [
              0.5179365227
             ]
            },
            {
             "iteration": 1080,
             "learn": [
              0.515533649
             ],
             "passed_time": 93.35614746,
             "remaining_time": 79.36567947,
             "test": [
              0.5179057591
             ]
            },
            {
             "iteration": 1081,
             "learn": [
              0.515514364
             ],
             "passed_time": 93.44911169,
             "remaining_time": 79.28492101,
             "test": [
              0.5178829627
             ]
            },
            {
             "iteration": 1082,
             "learn": [
              0.5154917945
             ],
             "passed_time": 93.54332371,
             "remaining_time": 79.20519653,
             "test": [
              0.5178578835
             ]
            },
            {
             "iteration": 1083,
             "learn": [
              0.515490976
             ],
             "passed_time": 93.61508435,
             "remaining_time": 79.10647349,
             "test": [
              0.5178563279
             ]
            },
            {
             "iteration": 1084,
             "learn": [
              0.5154897446
             ],
             "passed_time": 93.71929362,
             "remaining_time": 79.03516467,
             "test": [
              0.5178557509
             ]
            },
            {
             "iteration": 1085,
             "learn": [
              0.5154741859
             ],
             "passed_time": 93.79820974,
             "remaining_time": 78.94250801,
             "test": [
              0.5178396519
             ]
            },
            {
             "iteration": 1086,
             "learn": [
              0.5154714722
             ],
             "passed_time": 93.87116767,
             "remaining_time": 78.8448722,
             "test": [
              0.5178399135
             ]
            },
            {
             "iteration": 1087,
             "learn": [
              0.5154706698
             ],
             "passed_time": 93.93530712,
             "remaining_time": 78.73988979,
             "test": [
              0.5178380727
             ]
            },
            {
             "iteration": 1088,
             "learn": [
              0.5154653802
             ],
             "passed_time": 94.02241361,
             "remaining_time": 78.65419541,
             "test": [
              0.5178341231
             ]
            },
            {
             "iteration": 1089,
             "learn": [
              0.5154565244
             ],
             "passed_time": 94.1195249,
             "remaining_time": 78.57685106,
             "test": [
              0.5178245165
             ]
            },
            {
             "iteration": 1090,
             "learn": [
              0.5154400083
             ],
             "passed_time": 94.20083106,
             "remaining_time": 78.48630196,
             "test": [
              0.5178092925
             ]
            },
            {
             "iteration": 1091,
             "learn": [
              0.5154279856
             ],
             "passed_time": 94.29752386,
             "remaining_time": 78.40856379,
             "test": [
              0.5177959583
             ]
            },
            {
             "iteration": 1092,
             "learn": [
              0.5154272356
             ],
             "passed_time": 94.40208408,
             "remaining_time": 78.33731955,
             "test": [
              0.5177959826
             ]
            },
            {
             "iteration": 1093,
             "learn": [
              0.5154246967
             ],
             "passed_time": 94.47337427,
             "remaining_time": 78.23846169,
             "test": [
              0.5177962558
             ]
            },
            {
             "iteration": 1094,
             "learn": [
              0.5154143327
             ],
             "passed_time": 94.57381157,
             "remaining_time": 78.16374381,
             "test": [
              0.5177848978
             ]
            },
            {
             "iteration": 1095,
             "learn": [
              0.5154119777
             ],
             "passed_time": 94.68556847,
             "remaining_time": 78.0983156,
             "test": [
              0.5177808452
             ]
            },
            {
             "iteration": 1096,
             "learn": [
              0.5154115025
             ],
             "passed_time": 94.77678767,
             "remaining_time": 78.01589723,
             "test": [
              0.5177810846
             ]
            },
            {
             "iteration": 1097,
             "learn": [
              0.5153959984
             ],
             "passed_time": 94.87386608,
             "remaining_time": 77.93827614,
             "test": [
              0.5177608023
             ]
            },
            {
             "iteration": 1098,
             "learn": [
              0.5153840069
             ],
             "passed_time": 94.97036743,
             "remaining_time": 77.86014654,
             "test": [
              0.5177510482
             ]
            },
            {
             "iteration": 1099,
             "learn": [
              0.5153828222
             ],
             "passed_time": 95.05137012,
             "remaining_time": 77.76930283,
             "test": [
              0.5177502972
             ]
            },
            {
             "iteration": 1100,
             "learn": [
              0.5153814491
             ],
             "passed_time": 95.18075003,
             "remaining_time": 77.71797846,
             "test": [
              0.5177482
             ]
            },
            {
             "iteration": 1101,
             "learn": [
              0.5153804604
             ],
             "passed_time": 95.26436467,
             "remaining_time": 77.62921912,
             "test": [
              0.5177478177
             ]
            },
            {
             "iteration": 1102,
             "learn": [
              0.5153799008
             ],
             "passed_time": 95.34288702,
             "remaining_time": 77.53632788,
             "test": [
              0.5177480481
             ]
            },
            {
             "iteration": 1103,
             "learn": [
              0.5153794393
             ],
             "passed_time": 95.41971937,
             "remaining_time": 77.44209108,
             "test": [
              0.517747898
             ]
            },
            {
             "iteration": 1104,
             "learn": [
              0.5153772473
             ],
             "passed_time": 95.49982271,
             "remaining_time": 77.35053514,
             "test": [
              0.5177476067
             ]
            },
            {
             "iteration": 1105,
             "learn": [
              0.5153767248
             ],
             "passed_time": 95.57248027,
             "remaining_time": 77.25298134,
             "test": [
              0.517747264
             ]
            },
            {
             "iteration": 1106,
             "learn": [
              0.5153704601
             ],
             "passed_time": 95.66321077,
             "remaining_time": 77.17005168,
             "test": [
              0.5177398935
             ]
            },
            {
             "iteration": 1107,
             "learn": [
              0.5153587779
             ],
             "passed_time": 95.77524333,
             "remaining_time": 77.10425727,
             "test": [
              0.5177244934
             ]
            },
            {
             "iteration": 1108,
             "learn": [
              0.5153539899
             ],
             "passed_time": 95.88086962,
             "remaining_time": 77.03323249,
             "test": [
              0.5177238648
             ]
            },
            {
             "iteration": 1109,
             "learn": [
              0.5153514324
             ],
             "passed_time": 95.95988191,
             "remaining_time": 76.94080621,
             "test": [
              0.517723446
             ]
            },
            {
             "iteration": 1110,
             "learn": [
              0.5153504252
             ],
             "passed_time": 96.02349663,
             "remaining_time": 76.83608326,
             "test": [
              0.5177227621
             ]
            },
            {
             "iteration": 1111,
             "learn": [
              0.5153504238
             ],
             "passed_time": 96.06241309,
             "remaining_time": 76.71171117,
             "test": [
              0.5177227517
             ]
            },
            {
             "iteration": 1112,
             "learn": [
              0.5153490732
             ],
             "passed_time": 96.13068567,
             "remaining_time": 76.61088786,
             "test": [
              0.5177224441
             ]
            },
            {
             "iteration": 1113,
             "learn": [
              0.5153478708
             ],
             "passed_time": 96.19880549,
             "remaining_time": 76.51000149,
             "test": [
              0.517722965
             ]
            },
            {
             "iteration": 1114,
             "learn": [
              0.5153411081
             ],
             "passed_time": 96.28545688,
             "remaining_time": 76.42388282,
             "test": [
              0.5177166685
             ]
            },
            {
             "iteration": 1115,
             "learn": [
              0.5153257973
             ],
             "passed_time": 96.38460845,
             "remaining_time": 76.34766476,
             "test": [
              0.5176986902
             ]
            },
            {
             "iteration": 1116,
             "learn": [
              0.5153240136
             ],
             "passed_time": 96.48625482,
             "remaining_time": 76.27337781,
             "test": [
              0.5176978101
             ]
            },
            {
             "iteration": 1117,
             "learn": [
              0.5153101378
             ],
             "passed_time": 96.58854705,
             "remaining_time": 76.19955143,
             "test": [
              0.5176855591
             ]
            },
            {
             "iteration": 1118,
             "learn": [
              0.5153090965
             ],
             "passed_time": 96.68307664,
             "remaining_time": 76.11956257,
             "test": [
              0.5176852239
             ]
            },
            {
             "iteration": 1119,
             "learn": [
              0.5152915338
             ],
             "passed_time": 96.8004125,
             "remaining_time": 76.05746696,
             "test": [
              0.5176694135
             ]
            },
            {
             "iteration": 1120,
             "learn": [
              0.5152907001
             ],
             "passed_time": 96.87714885,
             "remaining_time": 75.96343786,
             "test": [
              0.5176691316
             ]
            },
            {
             "iteration": 1121,
             "learn": [
              0.5152870187
             ],
             "passed_time": 96.96865649,
             "remaining_time": 75.88099857,
             "test": [
              0.5176672802
             ]
            },
            {
             "iteration": 1122,
             "learn": [
              0.5152852908
             ],
             "passed_time": 97.04547915,
             "remaining_time": 75.78707499,
             "test": [
              0.5176657635
             ]
            },
            {
             "iteration": 1123,
             "learn": [
              0.5152811086
             ],
             "passed_time": 97.12389024,
             "remaining_time": 75.6944198,
             "test": [
              0.5176628433
             ]
            },
            {
             "iteration": 1124,
             "learn": [
              0.5152798859
             ],
             "passed_time": 97.18921197,
             "remaining_time": 75.59160931,
             "test": [
              0.5176628909
             ]
            },
            {
             "iteration": 1125,
             "learn": [
              0.5152791244
             ],
             "passed_time": 97.25382165,
             "remaining_time": 75.48831272,
             "test": [
              0.5176622981
             ]
            },
            {
             "iteration": 1126,
             "learn": [
              0.5152783468
             ],
             "passed_time": 97.34726733,
             "remaining_time": 75.40742181,
             "test": [
              0.5176623078
             ]
            },
            {
             "iteration": 1127,
             "learn": [
              0.515262997
             ],
             "passed_time": 97.44226376,
             "remaining_time": 75.32770745,
             "test": [
              0.5176467565
             ]
            },
            {
             "iteration": 1128,
             "learn": [
              0.5152626908
             ],
             "passed_time": 97.53131932,
             "remaining_time": 75.24338275,
             "test": [
              0.517646521
             ]
            },
            {
             "iteration": 1129,
             "learn": [
              0.5152613569
             ],
             "passed_time": 97.59997997,
             "remaining_time": 75.14334741,
             "test": [
              0.5176462899
             ]
            },
            {
             "iteration": 1130,
             "learn": [
              0.515258752
             ],
             "passed_time": 97.68560642,
             "remaining_time": 75.05640317,
             "test": [
              0.5176447368
             ]
            },
            {
             "iteration": 1131,
             "learn": [
              0.5152574957
             ],
             "passed_time": 97.76332384,
             "remaining_time": 74.96339673,
             "test": [
              0.5176447005
             ]
            },
            {
             "iteration": 1132,
             "learn": [
              0.515245339
             ],
             "passed_time": 97.88335583,
             "remaining_time": 74.90279744,
             "test": [
              0.5176290154
             ]
            },
            {
             "iteration": 1133,
             "learn": [
              0.5152396019
             ],
             "passed_time": 97.96973169,
             "remaining_time": 74.81639122,
             "test": [
              0.5176290104
             ]
            },
            {
             "iteration": 1134,
             "learn": [
              0.5152249551
             ],
             "passed_time": 98.07050648,
             "remaining_time": 74.74095869,
             "test": [
              0.5176160098
             ]
            },
            {
             "iteration": 1135,
             "learn": [
              0.5152231827
             ],
             "passed_time": 98.15874978,
             "remaining_time": 74.65595054,
             "test": [
              0.5176144837
             ]
            },
            {
             "iteration": 1136,
             "learn": [
              0.5152209235
             ],
             "passed_time": 98.24878512,
             "remaining_time": 74.57229688,
             "test": [
              0.5176128189
             ]
            },
            {
             "iteration": 1137,
             "learn": [
              0.51521812
             ],
             "passed_time": 98.32964284,
             "remaining_time": 74.48168025,
             "test": [
              0.5176134661
             ]
            },
            {
             "iteration": 1138,
             "learn": [
              0.5152175222
             ],
             "passed_time": 98.40254881,
             "remaining_time": 74.38506982,
             "test": [
              0.517613565
             ]
            },
            {
             "iteration": 1139,
             "learn": [
              0.515210152
             ],
             "passed_time": 98.49900333,
             "remaining_time": 74.30626567,
             "test": [
              0.5176060442
             ]
            },
            {
             "iteration": 1140,
             "learn": [
              0.515202293
             ],
             "passed_time": 98.5853,
             "remaining_time": 74.21978326,
             "test": [
              0.5176006593
             ]
            },
            {
             "iteration": 1141,
             "learn": [
              0.5152011277
             ],
             "passed_time": 98.65336998,
             "remaining_time": 74.11960722,
             "test": [
              0.5176001511
             ]
            },
            {
             "iteration": 1142,
             "learn": [
              0.5151976711
             ],
             "passed_time": 98.73461306,
             "remaining_time": 74.02936429,
             "test": [
              0.5175963387
             ]
            },
            {
             "iteration": 1143,
             "learn": [
              0.5151960968
             ],
             "passed_time": 98.8008229,
             "remaining_time": 73.92788847,
             "test": [
              0.5175960173
             ]
            },
            {
             "iteration": 1144,
             "learn": [
              0.5151939381
             ],
             "passed_time": 98.89825086,
             "remaining_time": 73.84978557,
             "test": [
              0.5175935285
             ]
            },
            {
             "iteration": 1145,
             "learn": [
              0.515193102
             ],
             "passed_time": 98.96554084,
             "remaining_time": 73.74919012,
             "test": [
              0.5175927033
             ]
            },
            {
             "iteration": 1146,
             "learn": [
              0.515192228
             ],
             "passed_time": 99.0378044,
             "remaining_time": 73.65235149,
             "test": [
              0.5175917849
             ]
            },
            {
             "iteration": 1147,
             "learn": [
              0.5151910013
             ],
             "passed_time": 99.11570472,
             "remaining_time": 73.55973904,
             "test": [
              0.5175909744
             ]
            },
            {
             "iteration": 1148,
             "learn": [
              0.515189704
             ],
             "passed_time": 99.1868878,
             "remaining_time": 73.46217712,
             "test": [
              0.5175897276
             ]
            },
            {
             "iteration": 1149,
             "learn": [
              0.5151858007
             ],
             "passed_time": 99.27292459,
             "remaining_time": 73.37563991,
             "test": [
              0.5175882783
             ]
            },
            {
             "iteration": 1150,
             "learn": [
              0.5151835882
             ],
             "passed_time": 99.33963442,
             "remaining_time": 73.27484763,
             "test": [
              0.5175874977
             ]
            },
            {
             "iteration": 1151,
             "learn": [
              0.5151787878
             ],
             "passed_time": 99.41982973,
             "remaining_time": 73.18404133,
             "test": [
              0.5175794133
             ]
            },
            {
             "iteration": 1152,
             "learn": [
              0.5151772473
             ],
             "passed_time": 99.4841931,
             "remaining_time": 73.08162321,
             "test": [
              0.5175782958
             ]
            },
            {
             "iteration": 1153,
             "learn": [
              0.5151617813
             ],
             "passed_time": 99.57265156,
             "remaining_time": 72.9969352,
             "test": [
              0.517562865
             ]
            },
            {
             "iteration": 1154,
             "learn": [
              0.5151595178
             ],
             "passed_time": 99.64018129,
             "remaining_time": 72.89692917,
             "test": [
              0.5175618165
             ]
            },
            {
             "iteration": 1155,
             "learn": [
              0.5151344649
             ],
             "passed_time": 99.74396625,
             "remaining_time": 72.82344941,
             "test": [
              0.5175353088
             ]
            },
            {
             "iteration": 1156,
             "learn": [
              0.5151317638
             ],
             "passed_time": 99.82083781,
             "remaining_time": 72.73030793,
             "test": [
              0.517533254
             ]
            },
            {
             "iteration": 1157,
             "learn": [
              0.515131079
             ],
             "passed_time": 99.92997685,
             "remaining_time": 72.66065674,
             "test": [
              0.5175331442
             ]
            },
            {
             "iteration": 1158,
             "learn": [
              0.515127629
             ],
             "passed_time": 100.0398314,
             "remaining_time": 72.59145661,
             "test": [
              0.5175317339
             ]
            },
            {
             "iteration": 1159,
             "learn": [
              0.5151267771
             ],
             "passed_time": 100.1077348,
             "remaining_time": 72.49180798,
             "test": [
              0.5175313377
             ]
            },
            {
             "iteration": 1160,
             "learn": [
              0.5151243213
             ],
             "passed_time": 100.1732713,
             "remaining_time": 72.39050354,
             "test": [
              0.5175279788
             ]
            },
            {
             "iteration": 1161,
             "learn": [
              0.5151217546
             ],
             "passed_time": 100.2601698,
             "remaining_time": 72.30466633,
             "test": [
              0.5175267927
             ]
            },
            {
             "iteration": 1162,
             "learn": [
              0.5151203272
             ],
             "passed_time": 100.3613754,
             "remaining_time": 72.22912403,
             "test": [
              0.5175265423
             ]
            },
            {
             "iteration": 1163,
             "learn": [
              0.5151187691
             ],
             "passed_time": 100.4333234,
             "remaining_time": 72.1325244,
             "test": [
              0.5175263867
             ]
            },
            {
             "iteration": 1164,
             "learn": [
              0.5151115406
             ],
             "passed_time": 100.5278885,
             "remaining_time": 72.05217761,
             "test": [
              0.5175199511
             ]
            },
            {
             "iteration": 1165,
             "learn": [
              0.5150994793
             ],
             "passed_time": 100.6201907,
             "remaining_time": 71.97018784,
             "test": [
              0.517507796
             ]
            },
            {
             "iteration": 1166,
             "learn": [
              0.5150916229
             ],
             "passed_time": 100.7160666,
             "remaining_time": 71.89073134,
             "test": [
              0.5175011778
             ]
            },
            {
             "iteration": 1167,
             "learn": [
              0.5150907122
             ],
             "passed_time": 100.7829294,
             "remaining_time": 71.79057987,
             "test": [
              0.5175010995
             ]
            },
            {
             "iteration": 1168,
             "learn": [
              0.5150890586
             ],
             "passed_time": 100.8510261,
             "remaining_time": 71.69136246,
             "test": [
              0.5175013192
             ]
            },
            {
             "iteration": 1169,
             "learn": [
              0.5150876531
             ],
             "passed_time": 100.9623858,
             "remaining_time": 71.62288908,
             "test": [
              0.5174997185
             ]
            },
            {
             "iteration": 1170,
             "learn": [
              0.5150841132
             ],
             "passed_time": 101.0435576,
             "remaining_time": 71.53297115,
             "test": [
              0.5174957338
             ]
            },
            {
             "iteration": 1171,
             "learn": [
              0.5150676194
             ],
             "passed_time": 101.1391544,
             "remaining_time": 71.45325927,
             "test": [
              0.5174757928
             ]
            },
            {
             "iteration": 1172,
             "learn": [
              0.5150658392
             ],
             "passed_time": 101.2229926,
             "remaining_time": 71.36523008,
             "test": [
              0.5174764892
             ]
            },
            {
             "iteration": 1173,
             "learn": [
              0.5150630865
             ],
             "passed_time": 101.3227652,
             "remaining_time": 71.28841915,
             "test": [
              0.5174733503
             ]
            },
            {
             "iteration": 1174,
             "learn": [
              0.5150494149
             ],
             "passed_time": 101.4204719,
             "remaining_time": 71.21011859,
             "test": [
              0.5174616659
             ]
            },
            {
             "iteration": 1175,
             "learn": [
              0.5150452794
             ],
             "passed_time": 101.5124987,
             "remaining_time": 71.12780519,
             "test": [
              0.5174570796
             ]
            },
            {
             "iteration": 1176,
             "learn": [
              0.5150375057
             ],
             "passed_time": 101.5978778,
             "remaining_time": 71.04082703,
             "test": [
              0.5174482701
             ]
            },
            {
             "iteration": 1177,
             "learn": [
              0.5150361051
             ],
             "passed_time": 101.6668274,
             "remaining_time": 70.94238717,
             "test": [
              0.5174482182
             ]
            },
            {
             "iteration": 1178,
             "learn": [
              0.5150349103
             ],
             "passed_time": 101.7410572,
             "remaining_time": 70.84767429,
             "test": [
              0.5174469743
             ]
            },
            {
             "iteration": 1179,
             "learn": [
              0.5150297211
             ],
             "passed_time": 101.8455807,
             "remaining_time": 70.77404762,
             "test": [
              0.5174384422
             ]
            },
            {
             "iteration": 1180,
             "learn": [
              0.5150228564
             ],
             "passed_time": 101.95614,
             "remaining_time": 70.7045543,
             "test": [
              0.5174302409
             ]
            },
            {
             "iteration": 1181,
             "learn": [
              0.5150181091
             ],
             "passed_time": 102.0459404,
             "remaining_time": 70.62062539,
             "test": [
              0.5174276019
             ]
            },
            {
             "iteration": 1182,
             "learn": [
              0.5150178322
             ],
             "passed_time": 102.1142629,
             "remaining_time": 70.5218536,
             "test": [
              0.5174269645
             ]
            },
            {
             "iteration": 1183,
             "learn": [
              0.5150173247
             ],
             "passed_time": 102.1963106,
             "remaining_time": 70.43259246,
             "test": [
              0.5174267072
             ]
            },
            {
             "iteration": 1184,
             "learn": [
              0.5149977214
             ],
             "passed_time": 102.2998577,
             "remaining_time": 70.35812998,
             "test": [
              0.5174096275
             ]
            },
            {
             "iteration": 1185,
             "learn": [
              0.5149972679
             ],
             "passed_time": 102.3737957,
             "remaining_time": 70.26329656,
             "test": [
              0.5174093963
             ]
            },
            {
             "iteration": 1186,
             "learn": [
              0.5149855266
             ],
             "passed_time": 102.4702765,
             "remaining_time": 70.18393835,
             "test": [
              0.5173952667
             ]
            },
            {
             "iteration": 1187,
             "learn": [
              0.5149849376
             ],
             "passed_time": 102.5686257,
             "remaining_time": 70.10582836,
             "test": [
              0.5173951038
             ]
            },
            {
             "iteration": 1188,
             "learn": [
              0.5149729472
             ],
             "passed_time": 102.665589,
             "remaining_time": 70.02673898,
             "test": [
              0.5173828991
             ]
            },
            {
             "iteration": 1189,
             "learn": [
              0.514964657
             ],
             "passed_time": 102.748805,
             "remaining_time": 69.93826226,
             "test": [
              0.5173745784
             ]
            },
            {
             "iteration": 1190,
             "learn": [
              0.5149513741
             ],
             "passed_time": 102.8440886,
             "remaining_time": 69.85799131,
             "test": [
              0.5173608808
             ]
            },
            {
             "iteration": 1191,
             "learn": [
              0.5149471215
             ],
             "passed_time": 102.9393469,
             "remaining_time": 69.7776781,
             "test": [
              0.5173573159
             ]
            },
            {
             "iteration": 1192,
             "learn": [
              0.5149345672
             ],
             "passed_time": 103.070451,
             "remaining_time": 69.72158757,
             "test": [
              0.5173495047
             ]
            },
            {
             "iteration": 1193,
             "learn": [
              0.5149228026
             ],
             "passed_time": 103.1471101,
             "remaining_time": 69.62861874,
             "test": [
              0.5173369
             ]
            },
            {
             "iteration": 1194,
             "learn": [
              0.5149065477
             ],
             "passed_time": 103.2387188,
             "remaining_time": 69.5457478,
             "test": [
              0.5173204801
             ]
            },
            {
             "iteration": 1195,
             "learn": [
              0.5149061447
             ],
             "passed_time": 103.3185337,
             "remaining_time": 69.45493401,
             "test": [
              0.5173202172
             ]
            },
            {
             "iteration": 1196,
             "learn": [
              0.5149035924
             ],
             "passed_time": 103.3950945,
             "remaining_time": 69.36195564,
             "test": [
              0.5173184518
             ]
            },
            {
             "iteration": 1197,
             "learn": [
              0.5149003321
             ],
             "passed_time": 103.4784408,
             "remaining_time": 69.27354721,
             "test": [
              0.5173171984
             ]
            },
            {
             "iteration": 1198,
             "learn": [
              0.5148913325
             ],
             "passed_time": 103.5658975,
             "remaining_time": 69.18789317,
             "test": [
              0.5173095514
             ]
            },
            {
             "iteration": 1199,
             "learn": [
              0.5148891006
             ],
             "passed_time": 103.6431914,
             "remaining_time": 69.09546095,
             "test": [
              0.5173104052
             ]
            },
            {
             "iteration": 1200,
             "learn": [
              0.5148874186
             ],
             "passed_time": 103.7424399,
             "remaining_time": 69.01765988,
             "test": [
              0.517310168
             ]
            },
            {
             "iteration": 1201,
             "learn": [
              0.5148866933
             ],
             "passed_time": 103.8175109,
             "remaining_time": 68.92377182,
             "test": [
              0.5173104237
             ]
            },
            {
             "iteration": 1202,
             "learn": [
              0.5148842664
             ],
             "passed_time": 103.8854255,
             "remaining_time": 68.82517387,
             "test": [
              0.5173083468
             ]
            },
            {
             "iteration": 1203,
             "learn": [
              0.5148729693
             ],
             "passed_time": 103.9820839,
             "remaining_time": 68.7456302,
             "test": [
              0.5172923792
             ]
            },
            {
             "iteration": 1204,
             "learn": [
              0.5148613172
             ],
             "passed_time": 104.0940518,
             "remaining_time": 68.67615866,
             "test": [
              0.5172795906
             ]
            },
            {
             "iteration": 1205,
             "learn": [
              0.514858669
             ],
             "passed_time": 104.1797904,
             "remaining_time": 68.58934792,
             "test": [
              0.5172780126
             ]
            },
            {
             "iteration": 1206,
             "learn": [
              0.5148507345
             ],
             "passed_time": 104.2671875,
             "remaining_time": 68.50362856,
             "test": [
              0.5172669056
             ]
            },
            {
             "iteration": 1207,
             "learn": [
              0.5148493128
             ],
             "passed_time": 104.3467775,
             "remaining_time": 68.41278791,
             "test": [
              0.5172673281
             ]
            },
            {
             "iteration": 1208,
             "learn": [
              0.5148421253
             ],
             "passed_time": 104.4298295,
             "remaining_time": 68.32423088,
             "test": [
              0.5172684741
             ]
            },
            {
             "iteration": 1209,
             "learn": [
              0.5148390899
             ],
             "passed_time": 104.5063563,
             "remaining_time": 68.23142272,
             "test": [
              0.5172663253
             ]
            },
            {
             "iteration": 1210,
             "learn": [
              0.5148368581
             ],
             "passed_time": 104.5814306,
             "remaining_time": 68.13769508,
             "test": [
              0.5172645536
             ]
            },
            {
             "iteration": 1211,
             "learn": [
              0.5148355558
             ],
             "passed_time": 104.6518534,
             "remaining_time": 68.04097398,
             "test": [
              0.5172640713
             ]
            },
            {
             "iteration": 1212,
             "learn": [
              0.5148236995
             ],
             "passed_time": 104.7463457,
             "remaining_time": 67.95991265,
             "test": [
              0.5172514934
             ]
            },
            {
             "iteration": 1213,
             "learn": [
              0.5148099559
             ],
             "passed_time": 104.8449312,
             "remaining_time": 67.88147935,
             "test": [
              0.5172366925
             ]
            },
            {
             "iteration": 1214,
             "learn": [
              0.5148087
             ],
             "passed_time": 104.9295011,
             "remaining_time": 67.79395753,
             "test": [
              0.517234345
             ]
            },
            {
             "iteration": 1215,
             "learn": [
              0.5148070146
             ],
             "passed_time": 105.0117326,
             "remaining_time": 67.70493287,
             "test": [
              0.5172335353
             ]
            },
            {
             "iteration": 1216,
             "learn": [
              0.5148052071
             ],
             "passed_time": 105.1373092,
             "remaining_time": 67.64380701,
             "test": [
              0.5172341613
             ]
            },
            {
             "iteration": 1217,
             "learn": [
              0.5147969583
             ],
             "passed_time": 105.2228292,
             "remaining_time": 67.55685752,
             "test": [
              0.5172285317
             ]
            },
            {
             "iteration": 1218,
             "learn": [
              0.5147955355
             ],
             "passed_time": 105.2972303,
             "remaining_time": 67.46278659,
             "test": [
              0.5172272169
             ]
            },
            {
             "iteration": 1219,
             "learn": [
              0.5147954016
             ],
             "passed_time": 105.3601051,
             "remaining_time": 67.36137867,
             "test": [
              0.5172271819
             ]
            },
            {
             "iteration": 1220,
             "learn": [
              0.5147941682
             ],
             "passed_time": 105.4385571,
             "remaining_time": 67.26997212,
             "test": [
              0.5172269953
             ]
            },
            {
             "iteration": 1221,
             "learn": [
              0.5147932459
             ],
             "passed_time": 105.511291,
             "remaining_time": 67.17494634,
             "test": [
              0.5172269819
             ]
            },
            {
             "iteration": 1222,
             "learn": [
              0.51478316
             ],
             "passed_time": 105.5901801,
             "remaining_time": 67.08386746,
             "test": [
              0.5172156739
             ]
            },
            {
             "iteration": 1223,
             "learn": [
              0.5147820309
             ],
             "passed_time": 105.6642377,
             "remaining_time": 66.98974549,
             "test": [
              0.5172149664
             ]
            },
            {
             "iteration": 1224,
             "learn": [
              0.5147638412
             ],
             "passed_time": 105.7673136,
             "remaining_time": 66.9140147,
             "test": [
              0.5171998808
             ]
            },
            {
             "iteration": 1225,
             "learn": [
              0.5147555627
             ],
             "passed_time": 105.8649498,
             "remaining_time": 66.83480519,
             "test": [
              0.5171899323
             ]
            },
            {
             "iteration": 1226,
             "learn": [
              0.5147483696
             ],
             "passed_time": 105.9547487,
             "remaining_time": 66.75062812,
             "test": [
              0.5171796929
             ]
            },
            {
             "iteration": 1227,
             "learn": [
              0.5147457271
             ],
             "passed_time": 106.0372946,
             "remaining_time": 66.66188226,
             "test": [
              0.5171748396
             ]
            },
            {
             "iteration": 1228,
             "learn": [
              0.5147363994
             ],
             "passed_time": 106.1565805,
             "remaining_time": 66.59619491,
             "test": [
              0.5171646203
             ]
            },
            {
             "iteration": 1229,
             "learn": [
              0.5147355922
             ],
             "passed_time": 106.2375971,
             "remaining_time": 66.50646322,
             "test": [
              0.5171641205
             ]
            },
            {
             "iteration": 1230,
             "learn": [
              0.5147341295
             ],
             "passed_time": 106.3038588,
             "remaining_time": 66.40752838,
             "test": [
              0.5171615098
             ]
            },
            {
             "iteration": 1231,
             "learn": [
              0.5147234356
             ],
             "passed_time": 106.399566,
             "remaining_time": 66.32700219,
             "test": [
              0.5171501908
             ]
            },
            {
             "iteration": 1232,
             "learn": [
              0.5147228764
             ],
             "passed_time": 106.4744347,
             "remaining_time": 66.23348855,
             "test": [
              0.5171496535
             ]
            },
            {
             "iteration": 1233,
             "learn": [
              0.5147170403
             ],
             "passed_time": 106.5495252,
             "remaining_time": 66.14014286,
             "test": [
              0.5171460559
             ]
            },
            {
             "iteration": 1234,
             "learn": [
              0.5147138902
             ],
             "passed_time": 106.6426151,
             "remaining_time": 66.05797617,
             "test": [
              0.5171438328
             ]
            },
            {
             "iteration": 1235,
             "learn": [
              0.5147125597
             ],
             "passed_time": 106.7123865,
             "remaining_time": 65.96137808,
             "test": [
              0.5171398265
             ]
            },
            {
             "iteration": 1236,
             "learn": [
              0.5147117691
             ],
             "passed_time": 106.7753062,
             "remaining_time": 65.86059709,
             "test": [
              0.517139491
             ]
            },
            {
             "iteration": 1237,
             "learn": [
              0.5147053354
             ],
             "passed_time": 106.8670398,
             "remaining_time": 65.77761254,
             "test": [
              0.5171332889
             ]
            },
            {
             "iteration": 1238,
             "learn": [
              0.5146946998
             ],
             "passed_time": 106.9437551,
             "remaining_time": 65.6853895,
             "test": [
              0.5171222017
             ]
            },
            {
             "iteration": 1239,
             "learn": [
              0.5146926554
             ],
             "passed_time": 107.0459229,
             "remaining_time": 65.60879147,
             "test": [
              0.5171224466
             ]
            },
            {
             "iteration": 1240,
             "learn": [
              0.51467749
             ],
             "passed_time": 107.1320667,
             "remaining_time": 65.52235185,
             "test": [
              0.5171054274
             ]
            },
            {
             "iteration": 1241,
             "learn": [
              0.5146754722
             ],
             "passed_time": 107.2445463,
             "remaining_time": 65.45198557,
             "test": [
              0.5171057888
             ]
            },
            {
             "iteration": 1242,
             "learn": [
              0.5146736093
             ],
             "passed_time": 107.3222192,
             "remaining_time": 65.36035391,
             "test": [
              0.5171061759
             ]
            },
            {
             "iteration": 1243,
             "learn": [
              0.5146661328
             ],
             "passed_time": 107.4081427,
             "remaining_time": 65.27375873,
             "test": [
              0.5170952096
             ]
            },
            {
             "iteration": 1244,
             "learn": [
              0.5146550793
             ],
             "passed_time": 107.5080143,
             "remaining_time": 65.19562312,
             "test": [
              0.5170871091
             ]
            },
            {
             "iteration": 1245,
             "learn": [
              0.5146532255
             ],
             "passed_time": 107.582004,
             "remaining_time": 65.10179052,
             "test": [
              0.5170845638
             ]
            },
            {
             "iteration": 1246,
             "learn": [
              0.5146471546
             ],
             "passed_time": 107.6784117,
             "remaining_time": 65.02152688,
             "test": [
              0.5170783811
             ]
            },
            {
             "iteration": 1247,
             "learn": [
              0.5146452783
             ],
             "passed_time": 107.7543323,
             "remaining_time": 64.92889256,
             "test": [
              0.5170784042
             ]
            },
            {
             "iteration": 1248,
             "learn": [
              0.5146430598
             ],
             "passed_time": 107.835664,
             "remaining_time": 64.83953858,
             "test": [
              0.5170775786
             ]
            },
            {
             "iteration": 1249,
             "learn": [
              0.5146418912
             ],
             "passed_time": 107.9102798,
             "remaining_time": 64.74616789,
             "test": [
              0.5170775527
             ]
            },
            {
             "iteration": 1250,
             "learn": [
              0.5146321486
             ],
             "passed_time": 107.9866385,
             "remaining_time": 64.65387069,
             "test": [
              0.5170672331
             ]
            },
            {
             "iteration": 1251,
             "learn": [
              0.5146232866
             ],
             "passed_time": 108.0680578,
             "remaining_time": 64.56462239,
             "test": [
              0.5170596332
             ]
            },
            {
             "iteration": 1252,
             "learn": [
              0.5146063059
             ],
             "passed_time": 108.1690843,
             "remaining_time": 64.48707578,
             "test": [
              0.5170457868
             ]
            },
            {
             "iteration": 1253,
             "learn": [
              0.5145842624
             ],
             "passed_time": 108.2950872,
             "remaining_time": 64.42435014,
             "test": [
              0.5170226755
             ]
            },
            {
             "iteration": 1254,
             "learn": [
              0.5145784471
             ],
             "passed_time": 108.3845417,
             "remaining_time": 64.33982756,
             "test": [
              0.5170180038
             ]
            },
            {
             "iteration": 1255,
             "learn": [
              0.5145700414
             ],
             "passed_time": 108.4853232,
             "remaining_time": 64.26200671,
             "test": [
              0.5170098572
             ]
            },
            {
             "iteration": 1256,
             "learn": [
              0.514569818
             ],
             "passed_time": 108.571428,
             "remaining_time": 64.17547416,
             "test": [
              0.5170099128
             ]
            },
            {
             "iteration": 1257,
             "learn": [
              0.5145628603
             ],
             "passed_time": 108.714793,
             "remaining_time": 64.12271573,
             "test": [
              0.5170029551
             ]
            },
            {
             "iteration": 1258,
             "learn": [
              0.5145595891
             ],
             "passed_time": 108.8737395,
             "remaining_time": 64.07898407,
             "test": [
              0.5170020759
             ]
            },
            {
             "iteration": 1259,
             "learn": [
              0.5145590209
             ],
             "passed_time": 108.9889426,
             "remaining_time": 64.00937898,
             "test": [
              0.5170016947
             ]
            },
            {
             "iteration": 1260,
             "learn": [
              0.5145573138
             ],
             "passed_time": 109.1267603,
             "remaining_time": 63.95295467,
             "test": [
              0.517004975
             ]
            },
            {
             "iteration": 1261,
             "learn": [
              0.5145536509
             ],
             "passed_time": 109.2865877,
             "remaining_time": 63.90927237,
             "test": [
              0.5169985937
             ]
            },
            {
             "iteration": 1262,
             "learn": [
              0.5145492031
             ],
             "passed_time": 109.4202929,
             "remaining_time": 63.85016298,
             "test": [
              0.516996365
             ]
            },
            {
             "iteration": 1263,
             "learn": [
              0.5145483958
             ],
             "passed_time": 109.5075493,
             "remaining_time": 63.76388949,
             "test": [
              0.5169959688
             ]
            },
            {
             "iteration": 1264,
             "learn": [
              0.5145394749
             ],
             "passed_time": 109.6327539,
             "remaining_time": 63.69966333,
             "test": [
              0.5169906263
             ]
            },
            {
             "iteration": 1265,
             "learn": [
              0.5145360766
             ],
             "passed_time": 109.7224427,
             "remaining_time": 63.61474956,
             "test": [
              0.5169877773
             ]
            },
            {
             "iteration": 1266,
             "learn": [
              0.5145281355
             ],
             "passed_time": 109.8568838,
             "remaining_time": 63.55571889,
             "test": [
              0.5169775619
             ]
            },
            {
             "iteration": 1267,
             "learn": [
              0.5145281352
             ],
             "passed_time": 109.914232,
             "remaining_time": 63.45206453,
             "test": [
              0.5169775572
             ]
            },
            {
             "iteration": 1268,
             "learn": [
              0.5145248728
             ],
             "passed_time": 110.0088038,
             "remaining_time": 63.3699256,
             "test": [
              0.516974549
             ]
            },
            {
             "iteration": 1269,
             "learn": [
              0.514522941
             ],
             "passed_time": 110.1361675,
             "remaining_time": 63.30661595,
             "test": [
              0.5169738865
             ]
            },
            {
             "iteration": 1270,
             "learn": [
              0.5145204802
             ],
             "passed_time": 110.2498119,
             "remaining_time": 63.23533665,
             "test": [
              0.5169725628
             ]
            },
            {
             "iteration": 1271,
             "learn": [
              0.5145197137
             ],
             "passed_time": 110.3718361,
             "remaining_time": 63.16878669,
             "test": [
              0.5169725254
             ]
            },
            {
             "iteration": 1272,
             "learn": [
              0.514517993
             ],
             "passed_time": 110.518003,
             "remaining_time": 63.11593729,
             "test": [
              0.5169722479
             ]
            },
            {
             "iteration": 1273,
             "learn": [
              0.5145160985
             ],
             "passed_time": 110.611624,
             "remaining_time": 63.03299767,
             "test": [
              0.5169685089
             ]
            },
            {
             "iteration": 1274,
             "learn": [
              0.5145055468
             ],
             "passed_time": 110.7164853,
             "remaining_time": 62.95643279,
             "test": [
              0.5169517207
             ]
            },
            {
             "iteration": 1275,
             "learn": [
              0.5144987839
             ],
             "passed_time": 110.8108704,
             "remaining_time": 62.87387944,
             "test": [
              0.5169449083
             ]
            },
            {
             "iteration": 1276,
             "learn": [
              0.5144966186
             ],
             "passed_time": 110.9122293,
             "remaining_time": 62.79525593,
             "test": [
              0.5169450987
             ]
            },
            {
             "iteration": 1277,
             "learn": [
              0.5144966179
             ],
             "passed_time": 110.9534785,
             "remaining_time": 62.68263809,
             "test": [
              0.5169450858
             ]
            },
            {
             "iteration": 1278,
             "learn": [
              0.5144955672
             ],
             "passed_time": 111.0407124,
             "remaining_time": 62.59605446,
             "test": [
              0.5169447682
             ]
            },
            {
             "iteration": 1279,
             "learn": [
              0.5144887315
             ],
             "passed_time": 111.1273343,
             "remaining_time": 62.50912557,
             "test": [
              0.5169424379
             ]
            },
            {
             "iteration": 1280,
             "learn": [
              0.514487911
             ],
             "passed_time": 111.2068957,
             "remaining_time": 62.41823417,
             "test": [
              0.516942327
             ]
            },
            {
             "iteration": 1281,
             "learn": [
              0.5144815157
             ],
             "passed_time": 111.3085327,
             "remaining_time": 62.33972423,
             "test": [
              0.5169349131
             ]
            },
            {
             "iteration": 1282,
             "learn": [
              0.5144739078
             ],
             "passed_time": 111.4382927,
             "remaining_time": 62.27689466,
             "test": [
              0.516924824
             ]
            },
            {
             "iteration": 1283,
             "learn": [
              0.5144698351
             ],
             "passed_time": 111.5321124,
             "remaining_time": 62.1939194,
             "test": [
              0.5169248722
             ]
            },
            {
             "iteration": 1284,
             "learn": [
              0.5144678649
             ],
             "passed_time": 111.6055299,
             "remaining_time": 62.099575,
             "test": [
              0.5169238758
             ]
            },
            {
             "iteration": 1285,
             "learn": [
              0.5144665403
             ],
             "passed_time": 111.6742436,
             "remaining_time": 62.00265156,
             "test": [
              0.5169233913
             ]
            },
            {
             "iteration": 1286,
             "learn": [
              0.5144648844
             ],
             "passed_time": 111.7558867,
             "remaining_time": 61.91293493,
             "test": [
              0.5169221763
             ]
            },
            {
             "iteration": 1287,
             "learn": [
              0.5144628712
             ],
             "passed_time": 111.8277371,
             "remaining_time": 61.81781739,
             "test": [
              0.5169220387
             ]
            },
            {
             "iteration": 1288,
             "learn": [
              0.5144599443
             ],
             "passed_time": 111.9000876,
             "remaining_time": 61.72301187,
             "test": [
              0.5169216722
             ]
            },
            {
             "iteration": 1289,
             "learn": [
              0.5144493458
             ],
             "passed_time": 112.0016262,
             "remaining_time": 61.6443059,
             "test": [
              0.5169081069
             ]
            },
            {
             "iteration": 1290,
             "learn": [
              0.5144487681
             ],
             "passed_time": 112.0887511,
             "remaining_time": 61.55764875,
             "test": [
              0.5169079505
             ]
            },
            {
             "iteration": 1291,
             "learn": [
              0.514447289
             ],
             "passed_time": 112.1649622,
             "remaining_time": 61.46501022,
             "test": [
              0.5169079185
             ]
            },
            {
             "iteration": 1292,
             "learn": [
              0.5144445828
             ],
             "passed_time": 112.2397706,
             "remaining_time": 61.37163017,
             "test": [
              0.5169077765
             ]
            },
            {
             "iteration": 1293,
             "learn": [
              0.514436969
             ],
             "passed_time": 112.3317323,
             "remaining_time": 61.28763759,
             "test": [
              0.5169011623
             ]
            },
            {
             "iteration": 1294,
             "learn": [
              0.5144355197
             ],
             "passed_time": 112.5615491,
             "remaining_time": 61.27868116,
             "test": [
              0.5169011104
             ]
            },
            {
             "iteration": 1295,
             "learn": [
              0.5144336936
             ],
             "passed_time": 112.6572932,
             "remaining_time": 61.19655433,
             "test": [
              0.5168994448
             ]
            },
            {
             "iteration": 1296,
             "learn": [
              0.5144285728
             ],
             "passed_time": 112.7526872,
             "remaining_time": 61.11421671,
             "test": [
              0.516894763
             ]
            },
            {
             "iteration": 1297,
             "learn": [
              0.5144177953
             ],
             "passed_time": 112.847402,
             "remaining_time": 61.03149168,
             "test": [
              0.5168836769
             ]
            },
            {
             "iteration": 1298,
             "learn": [
              0.5144150563
             ],
             "passed_time": 112.9160551,
             "remaining_time": 60.93468411,
             "test": [
              0.516883411
             ]
            },
            {
             "iteration": 1299,
             "learn": [
              0.5144097525
             ],
             "passed_time": 113.002788,
             "remaining_time": 60.8476551,
             "test": [
              0.5168778981
             ]
            },
            {
             "iteration": 1300,
             "learn": [
              0.5144078181
             ],
             "passed_time": 113.1001096,
             "remaining_time": 60.76631559,
             "test": [
              0.5168755357
             ]
            },
            {
             "iteration": 1301,
             "learn": [
              0.5144071337
             ],
             "passed_time": 113.174327,
             "remaining_time": 60.67256545,
             "test": [
              0.5168770147
             ]
            },
            {
             "iteration": 1302,
             "learn": [
              0.5144032712
             ],
             "passed_time": 113.2499072,
             "remaining_time": 60.5795743,
             "test": [
              0.516875636
             ]
            },
            {
             "iteration": 1303,
             "learn": [
              0.5144027041
             ],
             "passed_time": 113.3288151,
             "remaining_time": 60.48838598,
             "test": [
              0.5168750139
             ]
            },
            {
             "iteration": 1304,
             "learn": [
              0.5143991352
             ],
             "passed_time": 113.4046621,
             "remaining_time": 60.39558635,
             "test": [
              0.5168731951
             ]
            },
            {
             "iteration": 1305,
             "learn": [
              0.5143935053
             ],
             "passed_time": 113.4963816,
             "remaining_time": 60.31124719,
             "test": [
              0.5168638944
             ]
            },
            {
             "iteration": 1306,
             "learn": [
              0.5143926644
             ],
             "passed_time": 113.5761484,
             "remaining_time": 60.2205592,
             "test": [
              0.5168640122
             ]
            },
            {
             "iteration": 1307,
             "learn": [
              0.5143845716
             ],
             "passed_time": 113.6921557,
             "remaining_time": 60.14906097,
             "test": [
              0.516854623
             ]
            },
            {
             "iteration": 1308,
             "learn": [
              0.5143821321
             ],
             "passed_time": 113.7925682,
             "remaining_time": 60.06926252,
             "test": [
              0.5168547298
             ]
            },
            {
             "iteration": 1309,
             "learn": [
              0.5143808307
             ],
             "passed_time": 113.8876125,
             "remaining_time": 59.98660507,
             "test": [
              0.5168544482
             ]
            },
            {
             "iteration": 1310,
             "learn": [
              0.5143794978
             ],
             "passed_time": 113.958289,
             "remaining_time": 59.89112216,
             "test": [
              0.5168540483
             ]
            },
            {
             "iteration": 1311,
             "learn": [
              0.5143738156
             ],
             "passed_time": 114.054097,
             "remaining_time": 59.80885576,
             "test": [
              0.5168459831
             ]
            },
            {
             "iteration": 1312,
             "learn": [
              0.5143726142
             ],
             "passed_time": 114.1261621,
             "remaining_time": 59.71414576,
             "test": [
              0.5168453763
             ]
            },
            {
             "iteration": 1313,
             "learn": [
              0.5143518712
             ],
             "passed_time": 114.2291767,
             "remaining_time": 59.63562804,
             "test": [
              0.5168239924
             ]
            },
            {
             "iteration": 1314,
             "learn": [
              0.5143446404
             ],
             "passed_time": 114.3145935,
             "remaining_time": 59.54790614,
             "test": [
              0.516813937
             ]
            },
            {
             "iteration": 1315,
             "learn": [
              0.5143378922
             ],
             "passed_time": 114.3997069,
             "remaining_time": 59.46003001,
             "test": [
              0.5168061721
             ]
            },
            {
             "iteration": 1316,
             "learn": [
              0.5143322229
             ],
             "passed_time": 114.4965522,
             "remaining_time": 59.37824233,
             "test": [
              0.5167979137
             ]
            },
            {
             "iteration": 1317,
             "learn": [
              0.5143284083
             ],
             "passed_time": 114.590105,
             "remaining_time": 59.29472809,
             "test": [
              0.5167928001
             ]
            },
            {
             "iteration": 1318,
             "learn": [
              0.5143267967
             ],
             "passed_time": 114.6835641,
             "remaining_time": 59.21115024,
             "test": [
              0.5167923587
             ]
            },
            {
             "iteration": 1319,
             "learn": [
              0.5143153223
             ],
             "passed_time": 114.7941214,
             "remaining_time": 59.13636557,
             "test": [
              0.5167799871
             ]
            },
            {
             "iteration": 1320,
             "learn": [
              0.5143090467
             ],
             "passed_time": 114.9089477,
             "remaining_time": 59.06372105,
             "test": [
              0.5167717595
             ]
            },
            {
             "iteration": 1321,
             "learn": [
              0.5143053789
             ],
             "passed_time": 114.9891148,
             "remaining_time": 58.97323737,
             "test": [
              0.5167705037
             ]
            },
            {
             "iteration": 1322,
             "learn": [
              0.514298338
             ],
             "passed_time": 115.1138817,
             "remaining_time": 58.90559175,
             "test": [
              0.5167635895
             ]
            },
            {
             "iteration": 1323,
             "learn": [
              0.5142957427
             ],
             "passed_time": 115.2047855,
             "remaining_time": 58.82057025,
             "test": [
              0.5167624871
             ]
            },
            {
             "iteration": 1324,
             "learn": [
              0.5142945275
             ],
             "passed_time": 115.2838046,
             "remaining_time": 58.72948537,
             "test": [
              0.5167619466
             ]
            },
            {
             "iteration": 1325,
             "learn": [
              0.5142893811
             ],
             "passed_time": 115.3589578,
             "remaining_time": 58.63645367,
             "test": [
              0.516757465
             ]
            },
            {
             "iteration": 1326,
             "learn": [
              0.5142857562
             ],
             "passed_time": 115.4384292,
             "remaining_time": 58.54563895,
             "test": [
              0.5167529941
             ]
            },
            {
             "iteration": 1327,
             "learn": [
              0.514265658
             ],
             "passed_time": 115.5370677,
             "remaining_time": 58.46454027,
             "test": [
              0.5167322914
             ]
            },
            {
             "iteration": 1328,
             "learn": [
              0.5142648549
             ],
             "passed_time": 115.6101148,
             "remaining_time": 58.3704944,
             "test": [
              0.5167323387
             ]
            },
            {
             "iteration": 1329,
             "learn": [
              0.51424518
             ],
             "passed_time": 115.6874834,
             "remaining_time": 58.27865707,
             "test": [
              0.516712087
             ]
            },
            {
             "iteration": 1330,
             "learn": [
              0.5142449342
             ],
             "passed_time": 115.7844921,
             "remaining_time": 58.19671317,
             "test": [
              0.5167119849
             ]
            },
            {
             "iteration": 1331,
             "learn": [
              0.5142446097
             ],
             "passed_time": 115.8506824,
             "remaining_time": 58.0992912,
             "test": [
              0.5167118344
             ]
            },
            {
             "iteration": 1332,
             "learn": [
              0.514242852
             ],
             "passed_time": 115.9357024,
             "remaining_time": 58.01133794,
             "test": [
              0.5167116519
             ]
            },
            {
             "iteration": 1333,
             "learn": [
              0.5142422965
             ],
             "passed_time": 116.0130828,
             "remaining_time": 57.91957506,
             "test": [
              0.5167113544
             ]
            },
            {
             "iteration": 1334,
             "learn": [
              0.5142390206
             ],
             "passed_time": 116.0937847,
             "remaining_time": 57.82948826,
             "test": [
              0.5167058996
             ]
            },
            {
             "iteration": 1335,
             "learn": [
              0.5142379385
             ],
             "passed_time": 116.1612405,
             "remaining_time": 57.73283209,
             "test": [
              0.5167047542
             ]
            },
            {
             "iteration": 1336,
             "learn": [
              0.5142362322
             ],
             "passed_time": 116.2588956,
             "remaining_time": 57.65119506,
             "test": [
              0.5167048441
             ]
            },
            {
             "iteration": 1337,
             "learn": [
              0.5142351647
             ],
             "passed_time": 116.3535012,
             "remaining_time": 57.56802524,
             "test": [
              0.5167037812
             ]
            },
            {
             "iteration": 1338,
             "learn": [
              0.5142320088
             ],
             "passed_time": 116.4224215,
             "remaining_time": 57.47215879,
             "test": [
              0.516703304
             ]
            },
            {
             "iteration": 1339,
             "learn": [
              0.5142279554
             ],
             "passed_time": 116.509587,
             "remaining_time": 57.38531897,
             "test": [
              0.5167007773
             ]
            },
            {
             "iteration": 1340,
             "learn": [
              0.5142268021
             ],
             "passed_time": 116.5765619,
             "remaining_time": 57.28855652,
             "test": [
              0.5167007293
             ]
            },
            {
             "iteration": 1341,
             "learn": [
              0.5142264824
             ],
             "passed_time": 116.643256,
             "remaining_time": 57.19170077,
             "test": [
              0.5167007922
             ]
            },
            {
             "iteration": 1342,
             "learn": [
              0.5142072203
             ],
             "passed_time": 116.7442379,
             "remaining_time": 57.11166369,
             "test": [
              0.5166809927
             ]
            },
            {
             "iteration": 1343,
             "learn": [
              0.5142043705
             ],
             "passed_time": 116.8567984,
             "remaining_time": 57.03724683,
             "test": [
              0.5166807715
             ]
            },
            {
             "iteration": 1344,
             "learn": [
              0.5142040824
             ],
             "passed_time": 116.9281281,
             "remaining_time": 56.94269436,
             "test": [
              0.5166806725
             ]
            },
            {
             "iteration": 1345,
             "learn": [
              0.514199068
             ],
             "passed_time": 117.0038334,
             "remaining_time": 56.85030242,
             "test": [
              0.5166788912
             ]
            },
            {
             "iteration": 1346,
             "learn": [
              0.514192254
             ],
             "passed_time": 117.1052955,
             "remaining_time": 56.77042165,
             "test": [
              0.5166743213
             ]
            },
            {
             "iteration": 1347,
             "learn": [
              0.514189559
             ],
             "passed_time": 117.1879935,
             "remaining_time": 56.68143306,
             "test": [
              0.5166686891
             ]
            },
            {
             "iteration": 1348,
             "learn": [
              0.5141895289
             ],
             "passed_time": 117.2740542,
             "remaining_time": 56.59407656,
             "test": [
              0.5166686297
             ]
            },
            {
             "iteration": 1349,
             "learn": [
              0.5141706003
             ],
             "passed_time": 117.3664355,
             "remaining_time": 56.50976523,
             "test": [
              0.5166484061
             ]
            },
            {
             "iteration": 1350,
             "learn": [
              0.5141641235
             ],
             "passed_time": 117.4592692,
             "remaining_time": 56.42565929,
             "test": [
              0.5166429143
             ]
            },
            {
             "iteration": 1351,
             "learn": [
              0.5141560796
             ],
             "passed_time": 117.562877,
             "remaining_time": 56.34670435,
             "test": [
              0.51663443
             ]
            },
            {
             "iteration": 1352,
             "learn": [
              0.51414803
             ],
             "passed_time": 117.6615197,
             "remaining_time": 56.26533868,
             "test": [
              0.5166251932
             ]
            },
            {
             "iteration": 1353,
             "learn": [
              0.5141295343
             ],
             "passed_time": 117.7613944,
             "remaining_time": 56.18453527,
             "test": [
              0.5166054486
             ]
            },
            {
             "iteration": 1354,
             "learn": [
              0.5141258702
             ],
             "passed_time": 117.8669529,
             "remaining_time": 56.10640931,
             "test": [
              0.5166031068
             ]
            },
            {
             "iteration": 1355,
             "learn": [
              0.514125586
             ],
             "passed_time": 117.9408261,
             "remaining_time": 56.01319469,
             "test": [
              0.5166030083
             ]
            },
            {
             "iteration": 1356,
             "learn": [
              0.5141224828
             ],
             "passed_time": 118.0240907,
             "remaining_time": 55.92445859,
             "test": [
              0.5166007611
             ]
            },
            {
             "iteration": 1357,
             "learn": [
              0.5141202177
             ],
             "passed_time": 118.1124323,
             "remaining_time": 55.83813071,
             "test": [
              0.5165998648
             ]
            },
            {
             "iteration": 1358,
             "learn": [
              0.5141197645
             ],
             "passed_time": 118.1780581,
             "remaining_time": 55.74108551,
             "test": [
              0.5165996201
             ]
            },
            {
             "iteration": 1359,
             "learn": [
              0.5141176256
             ],
             "passed_time": 118.2449252,
             "remaining_time": 55.6446707,
             "test": [
              0.5165990246
             ]
            },
            {
             "iteration": 1360,
             "learn": [
              0.5141126987
             ],
             "passed_time": 118.3394128,
             "remaining_time": 55.5612673,
             "test": [
              0.5165930575
             ]
            },
            {
             "iteration": 1361,
             "learn": [
              0.5141026399
             ],
             "passed_time": 118.4301373,
             "remaining_time": 55.47608487,
             "test": [
              0.5165834939
             ]
            },
            {
             "iteration": 1362,
             "learn": [
              0.5141023684
             ],
             "passed_time": 118.4959553,
             "remaining_time": 55.37925426,
             "test": [
              0.5165834171
             ]
            },
            {
             "iteration": 1363,
             "learn": [
              0.5141001431
             ],
             "passed_time": 118.5652158,
             "remaining_time": 55.28407423,
             "test": [
              0.5165806348
             ]
            },
            {
             "iteration": 1364,
             "learn": [
              0.5140965859
             ],
             "passed_time": 118.6476169,
             "remaining_time": 55.19504524,
             "test": [
              0.5165778125
             ]
            },
            {
             "iteration": 1365,
             "learn": [
              0.5140785157
             ],
             "passed_time": 118.7207841,
             "remaining_time": 55.10174022,
             "test": [
              0.5165585182
             ]
            },
            {
             "iteration": 1366,
             "learn": [
              0.5140779666
             ],
             "passed_time": 118.7908871,
             "remaining_time": 55.00704575,
             "test": [
              0.5165581375
             ]
            },
            {
             "iteration": 1367,
             "learn": [
              0.5140715094
             ],
             "passed_time": 118.9028409,
             "remaining_time": 54.93172181,
             "test": [
              0.5165509376
             ]
            },
            {
             "iteration": 1368,
             "learn": [
              0.5140640362
             ],
             "passed_time": 118.9787794,
             "remaining_time": 54.83974418,
             "test": [
              0.5165460314
             ]
            },
            {
             "iteration": 1369,
             "learn": [
              0.5140460019
             ],
             "passed_time": 119.0523917,
             "remaining_time": 54.74672029,
             "test": [
              0.5165272733
             ]
            },
            {
             "iteration": 1370,
             "learn": [
              0.514045782
             ],
             "passed_time": 119.1150531,
             "remaining_time": 54.64870052,
             "test": [
              0.5165271925
             ]
            },
            {
             "iteration": 1371,
             "learn": [
              0.5140447345
             ],
             "passed_time": 119.1835905,
             "remaining_time": 54.55342189,
             "test": [
              0.5165263362
             ]
            },
            {
             "iteration": 1372,
             "learn": [
              0.5140404278
             ],
             "passed_time": 119.2552072,
             "remaining_time": 54.45958845,
             "test": [
              0.5165230626
             ]
            },
            {
             "iteration": 1373,
             "learn": [
              0.5140378901
             ],
             "passed_time": 119.3375928,
             "remaining_time": 54.37069368,
             "test": [
              0.5165227763
             ]
            },
            {
             "iteration": 1374,
             "learn": [
              0.5140321171
             ],
             "passed_time": 119.4120691,
             "remaining_time": 54.27821325,
             "test": [
              0.5165164509
             ]
            },
            {
             "iteration": 1375,
             "learn": [
              0.5140309597
             ],
             "passed_time": 119.487284,
             "remaining_time": 54.1860939,
             "test": [
              0.5165166022
             ]
            },
            {
             "iteration": 1376,
             "learn": [
              0.5140209741
             ],
             "passed_time": 119.5769956,
             "remaining_time": 54.10055791,
             "test": [
              0.5165044464
             ]
            },
            {
             "iteration": 1377,
             "learn": [
              0.5140192325
             ],
             "passed_time": 119.6597282,
             "remaining_time": 54.0118657,
             "test": [
              0.5165047566
             ]
            },
            {
             "iteration": 1378,
             "learn": [
              0.5140170788
             ],
             "passed_time": 119.7336466,
             "remaining_time": 53.91921287,
             "test": [
              0.516503946
             ]
            },
            {
             "iteration": 1379,
             "learn": [
              0.5140155834
             ],
             "passed_time": 119.8103771,
             "remaining_time": 53.82785056,
             "test": [
              0.5165027514
             ]
            },
            {
             "iteration": 1380,
             "learn": [
              0.5140135633
             ],
             "passed_time": 119.9290982,
             "remaining_time": 53.75533078,
             "test": [
              0.5165045988
             ]
            },
            {
             "iteration": 1381,
             "learn": [
              0.5140085142
             ],
             "passed_time": 120.0246613,
             "remaining_time": 53.67238832,
             "test": [
              0.5164986929
             ]
            },
            {
             "iteration": 1382,
             "learn": [
              0.5140074526
             ],
             "passed_time": 120.0925963,
             "remaining_time": 53.57710188,
             "test": [
              0.516497498
             ]
            },
            {
             "iteration": 1383,
             "learn": [
              0.5140070988
             ],
             "passed_time": 120.1770362,
             "remaining_time": 53.48920106,
             "test": [
              0.5164973746
             ]
            },
            {
             "iteration": 1384,
             "learn": [
              0.5139898924
             ],
             "passed_time": 120.2745789,
             "remaining_time": 53.40712347,
             "test": [
              0.5164789874
             ]
            },
            {
             "iteration": 1385,
             "learn": [
              0.5139850877
             ],
             "passed_time": 120.3530228,
             "remaining_time": 53.31656276,
             "test": [
              0.5164774093
             ]
            },
            {
             "iteration": 1386,
             "learn": [
              0.5139810779
             ],
             "passed_time": 120.4454489,
             "remaining_time": 53.2321991,
             "test": [
              0.516472801
             ]
            },
            {
             "iteration": 1387,
             "learn": [
              0.5139769422
             ],
             "passed_time": 120.5167642,
             "remaining_time": 53.13851563,
             "test": [
              0.5164696399
             ]
            },
            {
             "iteration": 1388,
             "learn": [
              0.5139728035
             ],
             "passed_time": 120.6132617,
             "remaining_time": 53.05594162,
             "test": [
              0.5164620304
             ]
            },
            {
             "iteration": 1389,
             "learn": [
              0.5139701316
             ],
             "passed_time": 120.7170409,
             "remaining_time": 52.97654311,
             "test": [
              0.5164625856
             ]
            },
            {
             "iteration": 1390,
             "learn": [
              0.5139566708
             ],
             "passed_time": 120.8066617,
             "remaining_time": 52.89091084,
             "test": [
              0.5164517575
             ]
            },
            {
             "iteration": 1391,
             "learn": [
              0.5139495406
             ],
             "passed_time": 120.9037388,
             "remaining_time": 52.80852958,
             "test": [
              0.5164455866
             ]
            },
            {
             "iteration": 1392,
             "learn": [
              0.513949034
             ],
             "passed_time": 121.0244524,
             "remaining_time": 52.73642685,
             "test": [
              0.5164456742
             ]
            },
            {
             "iteration": 1393,
             "learn": [
              0.5139472727
             ],
             "passed_time": 121.1117753,
             "remaining_time": 52.64973875,
             "test": [
              0.5164449351
             ]
            },
            {
             "iteration": 1394,
             "learn": [
              0.5139453854
             ],
             "passed_time": 121.1798262,
             "remaining_time": 52.55469163,
             "test": [
              0.5164454623
             ]
            },
            {
             "iteration": 1395,
             "learn": [
              0.5139447678
             ],
             "passed_time": 121.2499459,
             "remaining_time": 52.46057829,
             "test": [
              0.5164454286
             ]
            },
            {
             "iteration": 1396,
             "learn": [
              0.5139413665
             ],
             "passed_time": 121.3281819,
             "remaining_time": 52.37000265,
             "test": [
              0.5164430196
             ]
            },
            {
             "iteration": 1397,
             "learn": [
              0.5139396781
             ],
             "passed_time": 121.42372,
             "remaining_time": 52.28689515,
             "test": [
              0.5164434886
             ]
            },
            {
             "iteration": 1398,
             "learn": [
              0.5139336728
             ],
             "passed_time": 121.5288712,
             "remaining_time": 52.20789964,
             "test": [
              0.5164367058
             ]
            },
            {
             "iteration": 1399,
             "learn": [
              0.5139322786
             ],
             "passed_time": 121.6069389,
             "remaining_time": 52.11725952,
             "test": [
              0.5164369368
             ]
            },
            {
             "iteration": 1400,
             "learn": [
              0.5139265068
             ],
             "passed_time": 121.6880059,
             "remaining_time": 52.02791972,
             "test": [
              0.5164288768
             ]
            },
            {
             "iteration": 1401,
             "learn": [
              0.5139242581
             ],
             "passed_time": 121.7793675,
             "remaining_time": 51.9429827,
             "test": [
              0.5164289878
             ]
            },
            {
             "iteration": 1402,
             "learn": [
              0.5139228671
             ],
             "passed_time": 121.8596243,
             "remaining_time": 51.85331126,
             "test": [
              0.5164298175
             ]
            },
            {
             "iteration": 1403,
             "learn": [
              0.5139195933
             ],
             "passed_time": 121.9474277,
             "remaining_time": 51.76685675,
             "test": [
              0.5164278013
             ]
            },
            {
             "iteration": 1404,
             "learn": [
              0.5139184781
             ],
             "passed_time": 122.0481658,
             "remaining_time": 51.68587805,
             "test": [
              0.5164278115
             ]
            },
            {
             "iteration": 1405,
             "learn": [
              0.5139174566
             ],
             "passed_time": 122.118307,
             "remaining_time": 51.59194476,
             "test": [
              0.5164268804
             ]
            },
            {
             "iteration": 1406,
             "learn": [
              0.5139153194
             ],
             "passed_time": 122.1913997,
             "remaining_time": 51.49928927,
             "test": [
              0.5164261515
             ]
            },
            {
             "iteration": 1407,
             "learn": [
              0.5139153109
             ],
             "passed_time": 122.2467868,
             "remaining_time": 51.39921718,
             "test": [
              0.5164259935
             ]
            },
            {
             "iteration": 1408,
             "learn": [
              0.5139144784
             ],
             "passed_time": 122.3160261,
             "remaining_time": 51.30501875,
             "test": [
              0.5164258641
             ]
            },
            {
             "iteration": 1409,
             "learn": [
              0.5139131843
             ],
             "passed_time": 122.3861338,
             "remaining_time": 51.2112191,
             "test": [
              0.5164258675
             ]
            },
            {
             "iteration": 1410,
             "learn": [
              0.5139107229
             ],
             "passed_time": 122.4601808,
             "remaining_time": 51.11909746,
             "test": [
              0.5164251042
             ]
            },
            {
             "iteration": 1411,
             "learn": [
              0.5139055205
             ],
             "passed_time": 122.5475565,
             "remaining_time": 51.03255184,
             "test": [
              0.5164195728
             ]
            },
            {
             "iteration": 1412,
             "learn": [
              0.5138976164
             ],
             "passed_time": 122.6440667,
             "remaining_time": 50.94979984,
             "test": [
              0.5164091194
             ]
            },
            {
             "iteration": 1413,
             "learn": [
              0.5138960998
             ],
             "passed_time": 122.7262384,
             "remaining_time": 50.86108607,
             "test": [
              0.5164093979
             ]
            },
            {
             "iteration": 1414,
             "learn": [
              0.5138941813
             ],
             "passed_time": 122.8028814,
             "remaining_time": 50.77009584,
             "test": [
              0.5164090586
             ]
            },
            {
             "iteration": 1415,
             "learn": [
              0.5138883836
             ],
             "passed_time": 122.8833341,
             "remaining_time": 50.68069713,
             "test": [
              0.516402629
             ]
            },
            {
             "iteration": 1416,
             "learn": [
              0.5138879402
             ],
             "passed_time": 122.9606168,
             "remaining_time": 50.59000678,
             "test": [
              0.5164026006
             ]
            },
            {
             "iteration": 1417,
             "learn": [
              0.5138868722
             ],
             "passed_time": 123.0908763,
             "remaining_time": 50.52107898,
             "test": [
              0.5164023443
             ]
            },
            {
             "iteration": 1418,
             "learn": [
              0.5138796021
             ],
             "passed_time": 123.193734,
             "remaining_time": 50.44084526,
             "test": [
              0.5163947238
             ]
            },
            {
             "iteration": 1419,
             "learn": [
              0.5138783543
             ],
             "passed_time": 123.2873458,
             "remaining_time": 50.35680321,
             "test": [
              0.5163936161
             ]
            },
            {
             "iteration": 1420,
             "learn": [
              0.5138772918
             ],
             "passed_time": 123.362356,
             "remaining_time": 50.26516826,
             "test": [
              0.5163938936
             ]
            },
            {
             "iteration": 1421,
             "learn": [
              0.5138744634
             ],
             "passed_time": 123.4437633,
             "remaining_time": 50.17615697,
             "test": [
              0.5163931845
             ]
            },
            {
             "iteration": 1422,
             "learn": [
              0.5138652715
             ],
             "passed_time": 123.5479373,
             "remaining_time": 50.09638778,
             "test": [
              0.5163834408
             ]
            },
            {
             "iteration": 1423,
             "learn": [
              0.5138630955
             ],
             "passed_time": 123.6442508,
             "remaining_time": 50.01340483,
             "test": [
              0.5163810508
             ]
            },
            {
             "iteration": 1424,
             "learn": [
              0.5138588306
             ],
             "passed_time": 123.7451083,
             "remaining_time": 49.93223669,
             "test": [
              0.51637781
             ]
            },
            {
             "iteration": 1425,
             "learn": [
              0.5138580688
             ],
             "passed_time": 123.8329191,
             "remaining_time": 49.84578932,
             "test": [
              0.5163775324
             ]
            },
            {
             "iteration": 1426,
             "learn": [
              0.5138571387
             ],
             "passed_time": 123.9082912,
             "remaining_time": 49.75434539,
             "test": [
              0.5163764324
             ]
            },
            {
             "iteration": 1427,
             "learn": [
              0.5138551574
             ],
             "passed_time": 123.9964487,
             "remaining_time": 49.66804529,
             "test": [
              0.5163754753
             ]
            },
            {
             "iteration": 1428,
             "learn": [
              0.5138475501
             ],
             "passed_time": 124.1250984,
             "remaining_time": 49.59792244,
             "test": [
              0.5163636757
             ]
            },
            {
             "iteration": 1429,
             "learn": [
              0.5138469578
             ],
             "passed_time": 124.2176451,
             "remaining_time": 49.51332708,
             "test": [
              0.5163637707
             ]
            },
            {
             "iteration": 1430,
             "learn": [
              0.513841276
             ],
             "passed_time": 124.3035124,
             "remaining_time": 49.42606468,
             "test": [
              0.5163574799
             ]
            },
            {
             "iteration": 1431,
             "learn": [
              0.5138381012
             ],
             "passed_time": 124.3847097,
             "remaining_time": 49.33695189,
             "test": [
              0.5163532252
             ]
            },
            {
             "iteration": 1432,
             "learn": [
              0.5138359238
             ],
             "passed_time": 124.4661739,
             "remaining_time": 49.24795574,
             "test": [
              0.516352993
             ]
            },
            {
             "iteration": 1433,
             "learn": [
              0.5138345637
             ],
             "passed_time": 124.5393298,
             "remaining_time": 49.15569084,
             "test": [
              0.5163527701
             ]
            },
            {
             "iteration": 1434,
             "learn": [
              0.5138330607
             ],
             "passed_time": 124.6276255,
             "remaining_time": 49.06941351,
             "test": [
              0.5163507915
             ]
            },
            {
             "iteration": 1435,
             "learn": [
              0.5138291075
             ],
             "passed_time": 124.7344673,
             "remaining_time": 48.99041752,
             "test": [
              0.5163400001
             ]
            },
            {
             "iteration": 1436,
             "learn": [
              0.5138273222
             ],
             "passed_time": 124.8140498,
             "remaining_time": 48.9007029,
             "test": [
              0.5163399757
             ]
            },
            {
             "iteration": 1437,
             "learn": [
              0.5138259004
             ],
             "passed_time": 124.8935429,
             "remaining_time": 48.81096738,
             "test": [
              0.5163393678
             ]
            },
            {
             "iteration": 1438,
             "learn": [
              0.5138196243
             ],
             "passed_time": 124.9995147,
             "remaining_time": 48.73156897,
             "test": [
              0.5163325556
             ]
            },
            {
             "iteration": 1439,
             "learn": [
              0.5138155302
             ],
             "passed_time": 125.1352364,
             "remaining_time": 48.66370306,
             "test": [
              0.5163328461
             ]
            },
            {
             "iteration": 1440,
             "learn": [
              0.5138073582
             ],
             "passed_time": 125.2313669,
             "remaining_time": 48.58038454,
             "test": [
              0.5163243022
             ]
            },
            {
             "iteration": 1441,
             "learn": [
              0.5138025955
             ],
             "passed_time": 125.3280834,
             "remaining_time": 48.49727499,
             "test": [
              0.5163166461
             ]
            },
            {
             "iteration": 1442,
             "learn": [
              0.5137864317
             ],
             "passed_time": 125.4280471,
             "remaining_time": 48.41540002,
             "test": [
              0.5163001781
             ]
            },
            {
             "iteration": 1443,
             "learn": [
              0.5137800702
             ],
             "passed_time": 125.5289785,
             "remaining_time": 48.33387261,
             "test": [
              0.5162917447
             ]
            },
            {
             "iteration": 1444,
             "learn": [
              0.5137783499
             ],
             "passed_time": 125.6273551,
             "remaining_time": 48.25133709,
             "test": [
              0.5162917477
             ]
            },
            {
             "iteration": 1445,
             "learn": [
              0.5137743384
             ],
             "passed_time": 125.6975542,
             "remaining_time": 48.15798412,
             "test": [
              0.5162920641
             ]
            },
            {
             "iteration": 1446,
             "learn": [
              0.5137584287
             ],
             "passed_time": 125.7955479,
             "remaining_time": 48.07528542,
             "test": [
              0.5162751091
             ]
            },
            {
             "iteration": 1447,
             "learn": [
              0.5137549954
             ],
             "passed_time": 125.8968635,
             "remaining_time": 47.99383193,
             "test": [
              0.5162731612
             ]
            },
            {
             "iteration": 1448,
             "learn": [
              0.5137394243
             ],
             "passed_time": 125.9941416,
             "remaining_time": 47.91081574,
             "test": [
              0.5162565591
             ]
            },
            {
             "iteration": 1449,
             "learn": [
              0.5137383144
             ],
             "passed_time": 126.0633065,
             "remaining_time": 47.81711626,
             "test": [
              0.5162559695
             ]
            },
            {
             "iteration": 1450,
             "learn": [
              0.5137376243
             ],
             "passed_time": 126.1329287,
             "remaining_time": 47.7236236,
             "test": [
              0.5162559312
             ]
            },
            {
             "iteration": 1451,
             "learn": [
              0.5137343995
             ],
             "passed_time": 126.2380299,
             "remaining_time": 47.64355397,
             "test": [
              0.5162531385
             ]
            },
            {
             "iteration": 1452,
             "learn": [
              0.5137325626
             ],
             "passed_time": 126.3499572,
             "remaining_time": 47.56601967,
             "test": [
              0.5162530606
             ]
            },
            {
             "iteration": 1453,
             "learn": [
              0.5137315049
             ],
             "passed_time": 126.4272809,
             "remaining_time": 47.47544385,
             "test": [
              0.5162515385
             ]
            },
            {
             "iteration": 1454,
             "learn": [
              0.5137295954
             ],
             "passed_time": 126.5136531,
             "remaining_time": 47.38827558,
             "test": [
              0.5162491763
             ]
            },
            {
             "iteration": 1455,
             "learn": [
              0.5137281699
             ],
             "passed_time": 126.5816211,
             "remaining_time": 47.29423206,
             "test": [
              0.5162493081
             ]
            },
            {
             "iteration": 1456,
             "learn": [
              0.5137267798
             ],
             "passed_time": 126.6525372,
             "remaining_time": 47.20132308,
             "test": [
              0.516249182
             ]
            },
            {
             "iteration": 1457,
             "learn": [
              0.5137256977
             ],
             "passed_time": 126.7209885,
             "remaining_time": 47.10752797,
             "test": [
              0.516248147
             ]
            },
            {
             "iteration": 1458,
             "learn": [
              0.5137244401
             ],
             "passed_time": 126.7874565,
             "remaining_time": 47.0130322,
             "test": [
              0.5162479303
             ]
            },
            {
             "iteration": 1459,
             "learn": [
              0.513715618
             ],
             "passed_time": 126.8774846,
             "remaining_time": 46.92728881,
             "test": [
              0.5162370661
             ]
            },
            {
             "iteration": 1460,
             "learn": [
              0.5137076322
             ],
             "passed_time": 126.9765035,
             "remaining_time": 46.84485651,
             "test": [
              0.5162300814
             ]
            },
            {
             "iteration": 1461,
             "learn": [
              0.513705812
             ],
             "passed_time": 127.0493468,
             "remaining_time": 46.75276921,
             "test": [
              0.5162320743
             ]
            },
            {
             "iteration": 1462,
             "learn": [
              0.5137041371
             ],
             "passed_time": 127.1445523,
             "remaining_time": 46.66891632,
             "test": [
              0.5162320809
             ]
            },
            {
             "iteration": 1463,
             "learn": [
              0.5136988606
             ],
             "passed_time": 127.2606901,
             "remaining_time": 46.59271168,
             "test": [
              0.5162262014
             ]
            },
            {
             "iteration": 1464,
             "learn": [
              0.5136986592
             ],
             "passed_time": 127.3316049,
             "remaining_time": 46.49993762,
             "test": [
              0.5162261369
             ]
            },
            {
             "iteration": 1465,
             "learn": [
              0.5136963855
             ],
             "passed_time": 127.3992385,
             "remaining_time": 46.40599822,
             "test": [
              0.5162252665
             ]
            },
            {
             "iteration": 1466,
             "learn": [
              0.5136906857
             ],
             "passed_time": 127.4984768,
             "remaining_time": 46.32357748,
             "test": [
              0.51621832
             ]
            },
            {
             "iteration": 1467,
             "learn": [
              0.5136899784
             ],
             "passed_time": 127.590874,
             "remaining_time": 46.23865462,
             "test": [
              0.516218337
             ]
            },
            {
             "iteration": 1468,
             "learn": [
              0.5136889184
             ],
             "passed_time": 127.6597522,
             "remaining_time": 46.14522015,
             "test": [
              0.5162173208
             ]
            },
            {
             "iteration": 1469,
             "learn": [
              0.5136867228
             ],
             "passed_time": 127.7390862,
             "remaining_time": 46.0555889,
             "test": [
              0.5162176562
             ]
            },
            {
             "iteration": 1470,
             "learn": [
              0.513684948
             ],
             "passed_time": 127.8070473,
             "remaining_time": 45.96188173,
             "test": [
              0.5162182546
             ]
            },
            {
             "iteration": 1471,
             "learn": [
              0.5136821288
             ],
             "passed_time": 127.8776987,
             "remaining_time": 45.86917452,
             "test": [
              0.5162165879
             ]
            },
            {
             "iteration": 1472,
             "learn": [
              0.5136778081
             ],
             "passed_time": 127.9885055,
             "remaining_time": 45.7908638,
             "test": [
              0.5162125461
             ]
            },
            {
             "iteration": 1473,
             "learn": [
              0.5136757202
             ],
             "passed_time": 128.0630668,
             "remaining_time": 45.69957473,
             "test": [
              0.5162118489
             ]
            },
            {
             "iteration": 1474,
             "learn": [
              0.5136726295
             ],
             "passed_time": 128.1371824,
             "remaining_time": 45.60814966,
             "test": [
              0.5162103462
             ]
            },
            {
             "iteration": 1475,
             "learn": [
              0.5136685285
             ],
             "passed_time": 128.2329599,
             "remaining_time": 45.52443834,
             "test": [
              0.516205298
             ]
            },
            {
             "iteration": 1476,
             "learn": [
              0.5136670419
             ],
             "passed_time": 128.3324955,
             "remaining_time": 45.44204141,
             "test": [
              0.516205576
             ]
            },
            {
             "iteration": 1477,
             "learn": [
              0.5136661492
             ],
             "passed_time": 128.3999176,
             "remaining_time": 45.34827943,
             "test": [
              0.5162049428
             ]
            },
            {
             "iteration": 1478,
             "learn": [
              0.5136654883
             ],
             "passed_time": 128.4678424,
             "remaining_time": 45.25473016,
             "test": [
              0.5162052128
             ]
            },
            {
             "iteration": 1479,
             "learn": [
              0.5136648401
             ],
             "passed_time": 128.5328512,
             "remaining_time": 45.16019097,
             "test": [
              0.5162036756
             ]
            },
            {
             "iteration": 1480,
             "learn": [
              0.5136641518
             ],
             "passed_time": 128.6046123,
             "remaining_time": 45.06805792,
             "test": [
              0.5162036959
             ]
            },
            {
             "iteration": 1481,
             "learn": [
              0.5136631044
             ],
             "passed_time": 128.6857709,
             "remaining_time": 44.97923706,
             "test": [
              0.516203016
             ]
            },
            {
             "iteration": 1482,
             "learn": [
              0.5136616673
             ],
             "passed_time": 128.7665168,
             "remaining_time": 44.89028267,
             "test": [
              0.5162030415
             ]
            },
            {
             "iteration": 1483,
             "learn": [
              0.513661475
             ],
             "passed_time": 128.8390752,
             "remaining_time": 44.79849244,
             "test": [
              0.5162029886
             ]
            },
            {
             "iteration": 1484,
             "learn": [
              0.5136576734
             ],
             "passed_time": 128.926968,
             "remaining_time": 44.71204613,
             "test": [
              0.5161979652
             ]
            },
            {
             "iteration": 1485,
             "learn": [
              0.5136567882
             ],
             "passed_time": 128.9932582,
             "remaining_time": 44.61812564,
             "test": [
              0.5161984082
             ]
            },
            {
             "iteration": 1486,
             "learn": [
              0.5136564475
             ],
             "passed_time": 129.0621676,
             "remaining_time": 44.52514591,
             "test": [
              0.5161983378
             ]
            },
            {
             "iteration": 1487,
             "learn": [
              0.5136531511
             ],
             "passed_time": 129.1301671,
             "remaining_time": 44.43188545,
             "test": [
              0.5161963754
             ]
            },
            {
             "iteration": 1488,
             "learn": [
              0.5136516255
             ],
             "passed_time": 129.2292185,
             "remaining_time": 44.34931541,
             "test": [
              0.5161953178
             ]
            },
            {
             "iteration": 1489,
             "learn": [
              0.5136474056
             ],
             "passed_time": 129.3635096,
             "remaining_time": 44.27878518,
             "test": [
              0.5161913789
             ]
            },
            {
             "iteration": 1490,
             "learn": [
              0.513646606
             ],
             "passed_time": 129.4324452,
             "remaining_time": 44.18585821,
             "test": [
              0.5161913702
             ]
            },
            {
             "iteration": 1491,
             "learn": [
              0.5136432626
             ],
             "passed_time": 129.5007681,
             "remaining_time": 44.09275482,
             "test": [
              0.5161889922
             ]
            },
            {
             "iteration": 1492,
             "learn": [
              0.5136398032
             ],
             "passed_time": 129.5770593,
             "remaining_time": 44.00239053,
             "test": [
              0.5161860818
             ]
            },
            {
             "iteration": 1493,
             "learn": [
              0.5136387868
             ],
             "passed_time": 129.6566798,
             "remaining_time": 43.91317268,
             "test": [
              0.5161847497
             ]
            },
            {
             "iteration": 1494,
             "learn": [
              0.5136376089
             ],
             "passed_time": 129.7445056,
             "remaining_time": 43.82673936,
             "test": [
              0.5161850042
             ]
            },
            {
             "iteration": 1495,
             "learn": [
              0.5136358824
             ],
             "passed_time": 129.842816,
             "remaining_time": 43.7438364,
             "test": [
              0.516184983
             ]
            },
            {
             "iteration": 1496,
             "learn": [
              0.5136304625
             ],
             "passed_time": 129.9307093,
             "remaining_time": 43.65741269,
             "test": [
              0.5161797119
             ]
            },
            {
             "iteration": 1497,
             "learn": [
              0.5136289601
             ],
             "passed_time": 129.9990424,
             "remaining_time": 43.5644321,
             "test": [
              0.5161799575
             ]
            },
            {
             "iteration": 1498,
             "learn": [
              0.5136284738
             ],
             "passed_time": 130.0778182,
             "remaining_time": 43.4749746,
             "test": [
              0.5161795554
             ]
            },
            {
             "iteration": 1499,
             "learn": [
              0.5136273563
             ],
             "passed_time": 130.159412,
             "remaining_time": 43.38647067,
             "test": [
              0.5161800477
             ]
            },
            {
             "iteration": 1500,
             "learn": [
              0.5136259854
             ],
             "passed_time": 130.2502131,
             "remaining_time": 43.30103687,
             "test": [
              0.5161806249
             ]
            },
            {
             "iteration": 1501,
             "learn": [
              0.5136246575
             ],
             "passed_time": 130.3306027,
             "remaining_time": 43.2121439,
             "test": [
              0.5161797961
             ]
            },
            {
             "iteration": 1502,
             "learn": [
              0.5136231499
             ],
             "passed_time": 130.4322091,
             "remaining_time": 43.13027805,
             "test": [
              0.5161801844
             ]
            },
            {
             "iteration": 1503,
             "learn": [
              0.5136212083
             ],
             "passed_time": 130.4989786,
             "remaining_time": 43.03689719,
             "test": [
              0.5161798464
             ]
            },
            {
             "iteration": 1504,
             "learn": [
              0.5136160922
             ],
             "passed_time": 130.5890645,
             "remaining_time": 42.95122055,
             "test": [
              0.5161730483
             ]
            },
            {
             "iteration": 1505,
             "learn": [
              0.5136139479
             ],
             "passed_time": 130.6703837,
             "remaining_time": 42.86266237,
             "test": [
              0.5161732361
             ]
            },
            {
             "iteration": 1506,
             "learn": [
              0.5136123848
             ],
             "passed_time": 130.7485518,
             "remaining_time": 42.77308296,
             "test": [
              0.5161713437
             ]
            },
            {
             "iteration": 1507,
             "learn": [
              0.5136097535
             ],
             "passed_time": 130.8178492,
             "remaining_time": 42.68062455,
             "test": [
              0.5161693297
             ]
            },
            {
             "iteration": 1508,
             "learn": [
              0.5136094832
             ],
             "passed_time": 130.8823799,
             "remaining_time": 42.58664581,
             "test": [
              0.5161692187
             ]
            },
            {
             "iteration": 1509,
             "learn": [
              0.5136085384
             ],
             "passed_time": 130.9501087,
             "remaining_time": 42.49374389,
             "test": [
              0.5161692443
             ]
            },
            {
             "iteration": 1510,
             "learn": [
              0.5136069741
             ],
             "passed_time": 131.0349989,
             "remaining_time": 42.40642917,
             "test": [
              0.5161694735
             ]
            },
            {
             "iteration": 1511,
             "learn": [
              0.5136041303
             ],
             "passed_time": 131.1150928,
             "remaining_time": 42.31756964,
             "test": [
              0.5161666166
             ]
            },
            {
             "iteration": 1512,
             "learn": [
              0.5136034496
             ],
             "passed_time": 131.1835243,
             "remaining_time": 42.22496782,
             "test": [
              0.5161670715
             ]
            },
            {
             "iteration": 1513,
             "learn": [
              0.5136025891
             ],
             "passed_time": 131.2505795,
             "remaining_time": 42.13195618,
             "test": [
              0.516167321
             ]
            },
            {
             "iteration": 1514,
             "learn": [
              0.5136018567
             ],
             "passed_time": 131.3497191,
             "remaining_time": 42.04925002,
             "test": [
              0.5161655867
             ]
            },
            {
             "iteration": 1515,
             "learn": [
              0.5135964277
             ],
             "passed_time": 131.5972429,
             "remaining_time": 42.01389548,
             "test": [
              0.516159751
             ]
            },
            {
             "iteration": 1516,
             "learn": [
              0.5135947001
             ],
             "passed_time": 131.668381,
             "remaining_time": 41.92210154,
             "test": [
              0.5161610105
             ]
            },
            {
             "iteration": 1517,
             "learn": [
              0.5135944406
             ],
             "passed_time": 131.7352941,
             "remaining_time": 41.82899325,
             "test": [
              0.5161609183
             ]
            },
            {
             "iteration": 1518,
             "learn": [
              0.5135913828
             ],
             "passed_time": 131.8283254,
             "remaining_time": 41.74418994,
             "test": [
              0.5161579583
             ]
            },
            {
             "iteration": 1519,
             "learn": [
              0.5135887324
             ],
             "passed_time": 131.9012783,
             "remaining_time": 41.65303525,
             "test": [
              0.516156398
             ]
            },
            {
             "iteration": 1520,
             "learn": [
              0.5135837344
             ],
             "passed_time": 131.975493,
             "remaining_time": 41.56230189,
             "test": [
              0.5161497525
             ]
            },
            {
             "iteration": 1521,
             "learn": [
              0.5135834971
             ],
             "passed_time": 132.0414321,
             "remaining_time": 41.46899115,
             "test": [
              0.5161496587
             ]
            },
            {
             "iteration": 1522,
             "learn": [
              0.5135820121
             ],
             "passed_time": 132.1077782,
             "remaining_time": 41.37584386,
             "test": [
              0.5161497117
             ]
            },
            {
             "iteration": 1523,
             "learn": [
              0.5135817814
             ],
             "passed_time": 132.1734826,
             "remaining_time": 41.28253132,
             "test": [
              0.5161496771
             ]
            },
            {
             "iteration": 1524,
             "learn": [
              0.5135666993
             ],
             "passed_time": 132.2758569,
             "remaining_time": 41.20067673,
             "test": [
              0.5161336265
             ]
            },
            {
             "iteration": 1525,
             "learn": [
              0.5135652346
             ],
             "passed_time": 132.3507272,
             "remaining_time": 41.11025209,
             "test": [
              0.5161340184
             ]
            },
            {
             "iteration": 1526,
             "learn": [
              0.51356464
             ],
             "passed_time": 132.4461839,
             "remaining_time": 41.02622461,
             "test": [
              0.5161342795
             ]
            },
            {
             "iteration": 1527,
             "learn": [
              0.5135636563
             ],
             "passed_time": 132.5234747,
             "remaining_time": 40.93657072,
             "test": [
              0.5161345198
             ]
            },
            {
             "iteration": 1528,
             "learn": [
              0.5135606201
             ],
             "passed_time": 132.6295346,
             "remaining_time": 40.85579516,
             "test": [
              0.5161317471
             ]
            },
            {
             "iteration": 1529,
             "learn": [
              0.5135600513
             ],
             "passed_time": 132.7025351,
             "remaining_time": 40.76483105,
             "test": [
              0.516131405
             ]
            },
            {
             "iteration": 1530,
             "learn": [
              0.513557456
             ],
             "passed_time": 132.7863868,
             "remaining_time": 40.67721451,
             "test": [
              0.5161308726
             ]
            },
            {
             "iteration": 1531,
             "learn": [
              0.5135538987
             ],
             "passed_time": 132.8825095,
             "remaining_time": 40.59335148,
             "test": [
              0.5161293668
             ]
            },
            {
             "iteration": 1532,
             "learn": [
              0.5135518982
             ],
             "passed_time": 132.9626564,
             "remaining_time": 40.50460572,
             "test": [
              0.5161268891
             ]
            },
            {
             "iteration": 1533,
             "learn": [
              0.5135499108
             ],
             "passed_time": 133.0553148,
             "remaining_time": 40.41967192,
             "test": [
              0.5161276672
             ]
            },
            {
             "iteration": 1534,
             "learn": [
              0.5135476989
             ],
             "passed_time": 133.1480061,
             "remaining_time": 40.33473801,
             "test": [
              0.5161249851
             ]
            },
            {
             "iteration": 1535,
             "learn": [
              0.5135455057
             ],
             "passed_time": 133.2227665,
             "remaining_time": 40.24437739,
             "test": [
              0.5161250662
             ]
            },
            {
             "iteration": 1536,
             "learn": [
              0.5135434532
             ],
             "passed_time": 133.2969413,
             "remaining_time": 40.15386065,
             "test": [
              0.5161251704
             ]
            },
            {
             "iteration": 1537,
             "learn": [
              0.5135361519
             ],
             "passed_time": 133.3826993,
             "remaining_time": 40.06684467,
             "test": [
              0.5161193695
             ]
            },
            {
             "iteration": 1538,
             "learn": [
              0.5135279318
             ],
             "passed_time": 133.4845889,
             "remaining_time": 39.98466244,
             "test": [
              0.5161101682
             ]
            },
            {
             "iteration": 1539,
             "learn": [
              0.5135229435
             ],
             "passed_time": 133.5850821,
             "remaining_time": 39.90203751,
             "test": [
              0.5161052323
             ]
            },
            {
             "iteration": 1540,
             "learn": [
              0.513522582
             ],
             "passed_time": 133.7039334,
             "remaining_time": 39.82485753,
             "test": [
              0.5161052115
             ]
            },
            {
             "iteration": 1541,
             "learn": [
              0.5135166119
             ],
             "passed_time": 133.8047239,
             "remaining_time": 39.74225912,
             "test": [
              0.5161008617
             ]
            },
            {
             "iteration": 1542,
             "learn": [
              0.5135018971
             ],
             "passed_time": 133.9017953,
             "remaining_time": 39.6585356,
             "test": [
              0.5160852084
             ]
            },
            {
             "iteration": 1543,
             "learn": [
              0.5134998994
             ],
             "passed_time": 133.9848556,
             "remaining_time": 39.57065684,
             "test": [
              0.516085174
             ]
            },
            {
             "iteration": 1544,
             "learn": [
              0.5134934162
             ],
             "passed_time": 134.0693782,
             "remaining_time": 39.48321495,
             "test": [
              0.5160775027
             ]
            },
            {
             "iteration": 1545,
             "learn": [
              0.5134903478
             ],
             "passed_time": 134.1576985,
             "remaining_time": 39.39689205,
             "test": [
              0.516075881
             ]
            },
            {
             "iteration": 1546,
             "learn": [
              0.5134881883
             ],
             "passed_time": 134.237234,
             "remaining_time": 39.30799419,
             "test": [
              0.5160725183
             ]
            },
            {
             "iteration": 1547,
             "learn": [
              0.513487503
             ],
             "passed_time": 134.3357651,
             "remaining_time": 39.22465491,
             "test": [
              0.5160728266
             ]
            },
            {
             "iteration": 1548,
             "learn": [
              0.5134857498
             ],
             "passed_time": 134.4220039,
             "remaining_time": 39.13771708,
             "test": [
              0.5160713048
             ]
            },
            {
             "iteration": 1549,
             "learn": [
              0.5134855425
             ],
             "passed_time": 134.4859404,
             "remaining_time": 39.04430529,
             "test": [
              0.5160712673
             ]
            },
            {
             "iteration": 1550,
             "learn": [
              0.5134850897
             ],
             "passed_time": 134.5579807,
             "remaining_time": 38.95327746,
             "test": [
              0.5160708389
             ]
            },
            {
             "iteration": 1551,
             "learn": [
              0.5134849192
             ],
             "passed_time": 134.6432406,
             "remaining_time": 38.86609008,
             "test": [
              0.5160705234
             ]
            },
            {
             "iteration": 1552,
             "learn": [
              0.513484526
             ],
             "passed_time": 134.7402005,
             "remaining_time": 38.78227277,
             "test": [
              0.5160701847
             ]
            },
            {
             "iteration": 1553,
             "learn": [
              0.5134843588
             ],
             "passed_time": 134.8104891,
             "remaining_time": 38.69078387,
             "test": [
              0.5160701773
             ]
            },
            {
             "iteration": 1554,
             "learn": [
              0.5134835201
             ],
             "passed_time": 134.8868308,
             "remaining_time": 38.60105448,
             "test": [
              0.5160692231
             ]
            },
            {
             "iteration": 1555,
             "learn": [
              0.5134831235
             ],
             "passed_time": 134.969988,
             "remaining_time": 38.51328705,
             "test": [
              0.5160691365
             ]
            },
            {
             "iteration": 1556,
             "learn": [
              0.5134808377
             ],
             "passed_time": 135.0584496,
             "remaining_time": 38.42703479,
             "test": [
              0.5160693256
             ]
            },
            {
             "iteration": 1557,
             "learn": [
              0.5134805695
             ],
             "passed_time": 135.1353517,
             "remaining_time": 38.33750029,
             "test": [
              0.5160692417
             ]
            },
            {
             "iteration": 1558,
             "learn": [
              0.513480013
             ],
             "passed_time": 135.2007735,
             "remaining_time": 38.2447345,
             "test": [
              0.5160683921
             ]
            },
            {
             "iteration": 1559,
             "learn": [
              0.5134795174
             ],
             "passed_time": 135.267383,
             "remaining_time": 38.15233879,
             "test": [
              0.5160690804
             ]
            },
            {
             "iteration": 1560,
             "learn": [
              0.5134769455
             ],
             "passed_time": 135.343698,
             "remaining_time": 38.0627056,
             "test": [
              0.5160675983
             ]
            },
            {
             "iteration": 1561,
             "learn": [
              0.5134739669
             ],
             "passed_time": 135.4126122,
             "remaining_time": 37.97101418,
             "test": [
              0.5160651033
             ]
            },
            {
             "iteration": 1562,
             "learn": [
              0.5134724312
             ],
             "passed_time": 135.480514,
             "remaining_time": 37.87906884,
             "test": [
              0.5160647185
             ]
            },
            {
             "iteration": 1563,
             "learn": [
              0.5134669894
             ],
             "passed_time": 135.582274,
             "remaining_time": 37.796593,
             "test": [
              0.5160586534
             ]
            },
            {
             "iteration": 1564,
             "learn": [
              0.5134659401
             ],
             "passed_time": 135.6521633,
             "remaining_time": 37.70523388,
             "test": [
              0.5160585281
             ]
            },
            {
             "iteration": 1565,
             "learn": [
              0.5134516882
             ],
             "passed_time": 135.7595584,
             "remaining_time": 37.62429652,
             "test": [
              0.5160433718
             ]
            },
            {
             "iteration": 1566,
             "learn": [
              0.5134499237
             ],
             "passed_time": 135.8561109,
             "remaining_time": 37.54032931,
             "test": [
              0.5160414432
             ]
            },
            {
             "iteration": 1567,
             "learn": [
              0.5134479577
             ],
             "passed_time": 135.9387736,
             "remaining_time": 37.45251925,
             "test": [
              0.5160407785
             ]
            },
            {
             "iteration": 1568,
             "learn": [
              0.5134477435
             ],
             "passed_time": 136.0137553,
             "remaining_time": 37.36260582,
             "test": [
              0.5160407707
             ]
            },
            {
             "iteration": 1569,
             "learn": [
              0.5134462459
             ],
             "passed_time": 136.110515,
             "remaining_time": 37.27867609,
             "test": [
              0.5160404548
             ]
            },
            {
             "iteration": 1570,
             "learn": [
              0.5134460732
             ],
             "passed_time": 136.1843935,
             "remaining_time": 37.18848173,
             "test": [
              0.5160404202
             ]
            },
            {
             "iteration": 1571,
             "learn": [
              0.5134418087
             ],
             "passed_time": 136.2716098,
             "remaining_time": 37.10193957,
             "test": [
              0.5160391573
             ]
            },
            {
             "iteration": 1572,
             "learn": [
              0.5134416481
             ],
             "passed_time": 136.3627064,
             "remaining_time": 37.01644987,
             "test": [
              0.5160388608
             ]
            },
            {
             "iteration": 1573,
             "learn": [
              0.5134403411
             ],
             "passed_time": 136.4580378,
             "remaining_time": 36.93209918,
             "test": [
              0.5160394315
             ]
            },
            {
             "iteration": 1574,
             "learn": [
              0.513438958
             ],
             "passed_time": 136.5457264,
             "remaining_time": 36.84567221,
             "test": [
              0.5160393022
             ]
            },
            {
             "iteration": 1575,
             "learn": [
              0.5134374959
             ],
             "passed_time": 136.627121,
             "remaining_time": 36.75755032,
             "test": [
              0.5160371004
             ]
            },
            {
             "iteration": 1576,
             "learn": [
              0.513436518
             ],
             "passed_time": 136.6988331,
             "remaining_time": 36.66683981,
             "test": [
              0.5160370591
             ]
            },
            {
             "iteration": 1577,
             "learn": [
              0.5134361199
             ],
             "passed_time": 136.7723768,
             "remaining_time": 36.57664322,
             "test": [
              0.5160371757
             ]
            },
            {
             "iteration": 1578,
             "learn": [
              0.5134358502
             ],
             "passed_time": 136.8921281,
             "remaining_time": 36.49878779,
             "test": [
              0.516036756
             ]
            },
            {
             "iteration": 1579,
             "learn": [
              0.5134309217
             ],
             "passed_time": 136.9817412,
             "remaining_time": 36.4128679,
             "test": [
              0.5160312393
             ]
            },
            {
             "iteration": 1580,
             "learn": [
              0.5134301977
             ],
             "passed_time": 137.0508326,
             "remaining_time": 36.32150467,
             "test": [
              0.5160322072
             ]
            },
            {
             "iteration": 1581,
             "learn": [
              0.5134293289
             ],
             "passed_time": 137.1216828,
             "remaining_time": 36.23063428,
             "test": [
              0.516032355
             ]
            },
            {
             "iteration": 1582,
             "learn": [
              0.5134276101
             ],
             "passed_time": 137.2144154,
             "remaining_time": 36.14555352,
             "test": [
              0.516032602
             ]
            },
            {
             "iteration": 1583,
             "learn": [
              0.5134262962
             ],
             "passed_time": 137.2893401,
             "remaining_time": 36.0557863,
             "test": [
              0.5160344225
             ]
            },
            {
             "iteration": 1584,
             "learn": [
              0.5134247178
             ],
             "passed_time": 137.3644917,
             "remaining_time": 35.9660972,
             "test": [
              0.5160350697
             ]
            },
            {
             "iteration": 1585,
             "learn": [
              0.5134222634
             ],
             "passed_time": 137.4358359,
             "remaining_time": 35.87543258,
             "test": [
              0.5160345105
             ]
            },
            {
             "iteration": 1586,
             "learn": [
              0.513420343
             ],
             "passed_time": 137.5201122,
             "remaining_time": 35.78815775,
             "test": [
              0.5160338841
             ]
            },
            {
             "iteration": 1587,
             "learn": [
              0.5134201403
             ],
             "passed_time": 137.5851977,
             "remaining_time": 35.69590771,
             "test": [
              0.5160337599
             ]
            },
            {
             "iteration": 1588,
             "learn": [
              0.5134199783
             ],
             "passed_time": 137.6492267,
             "remaining_time": 35.60341861,
             "test": [
              0.516033732
             ]
            },
            {
             "iteration": 1589,
             "learn": [
              0.5134182352
             ],
             "passed_time": 137.7375332,
             "remaining_time": 35.51722554,
             "test": [
              0.5160340136
             ]
            },
            {
             "iteration": 1590,
             "learn": [
              0.5134164165
             ],
             "passed_time": 137.8239672,
             "remaining_time": 35.43054845,
             "test": [
              0.5160318106
             ]
            },
            {
             "iteration": 1591,
             "learn": [
              0.5134025401
             ],
             "passed_time": 137.9376776,
             "remaining_time": 35.3508621,
             "test": [
              0.5160170604
             ]
            },
            {
             "iteration": 1592,
             "learn": [
              0.5134021748
             ],
             "passed_time": 138.0219273,
             "remaining_time": 35.26360604,
             "test": [
              0.5160164732
             ]
            },
            {
             "iteration": 1593,
             "learn": [
              0.5133967566
             ],
             "passed_time": 138.1220071,
             "remaining_time": 35.18038574,
             "test": [
              0.5160087166
             ]
            },
            {
             "iteration": 1594,
             "learn": [
              0.513395831
             ],
             "passed_time": 138.2023841,
             "remaining_time": 35.09214142,
             "test": [
              0.516008949
             ]
            },
            {
             "iteration": 1595,
             "learn": [
              0.5133939426
             ],
             "passed_time": 138.2982599,
             "remaining_time": 35.00783019,
             "test": [
              0.5160097236
             ]
            },
            {
             "iteration": 1596,
             "learn": [
              0.5133901969
             ],
             "passed_time": 138.3891913,
             "remaining_time": 34.92225678,
             "test": [
              0.5160069994
             ]
            },
            {
             "iteration": 1597,
             "learn": [
              0.5133878887
             ],
             "passed_time": 138.4729648,
             "remaining_time": 34.834876,
             "test": [
              0.5160096984
             ]
            },
            {
             "iteration": 1598,
             "learn": [
              0.5133742917
             ],
             "passed_time": 138.5716116,
             "remaining_time": 34.75122968,
             "test": [
              0.5159952522
             ]
            },
            {
             "iteration": 1599,
             "learn": [
              0.5133729055
             ],
             "passed_time": 138.6568225,
             "remaining_time": 34.66420564,
             "test": [
              0.5159952664
             ]
            },
            {
             "iteration": 1600,
             "learn": [
              0.513371314
             ],
             "passed_time": 138.7330581,
             "remaining_time": 34.57494702,
             "test": [
              0.5159956986
             ]
            },
            {
             "iteration": 1601,
             "learn": [
              0.5133706343
             ],
             "passed_time": 138.8109753,
             "remaining_time": 34.48612246,
             "test": [
              0.5159959802
             ]
            },
            {
             "iteration": 1602,
             "learn": [
              0.5133659856
             ],
             "passed_time": 138.9522066,
             "remaining_time": 34.4129919,
             "test": [
              0.5159912716
             ]
            },
            {
             "iteration": 1603,
             "learn": [
              0.5133659856
             ],
             "passed_time": 139.0143866,
             "remaining_time": 34.32026003,
             "test": [
              0.5159912713
             ]
            },
            {
             "iteration": 1604,
             "learn": [
              0.5133600479
             ],
             "passed_time": 139.1001471,
             "remaining_time": 34.23336953,
             "test": [
              0.5159841965
             ]
            },
            {
             "iteration": 1605,
             "learn": [
              0.5133563358
             ],
             "passed_time": 139.1940077,
             "remaining_time": 34.14846765,
             "test": [
              0.5159796218
             ]
            },
            {
             "iteration": 1606,
             "learn": [
              0.5133561217
             ],
             "passed_time": 139.2604832,
             "remaining_time": 34.05685743,
             "test": [
              0.5159795451
             ]
            },
            {
             "iteration": 1607,
             "learn": [
              0.5133559577
             ],
             "passed_time": 139.3263348,
             "remaining_time": 33.96512638,
             "test": [
              0.5159795165
             ]
            },
            {
             "iteration": 1608,
             "learn": [
              0.5133501521
             ],
             "passed_time": 139.4219522,
             "remaining_time": 33.88066086,
             "test": [
              0.5159740441
             ]
            },
            {
             "iteration": 1609,
             "learn": [
              0.5133477808
             ],
             "passed_time": 139.5045949,
             "remaining_time": 33.79303851,
             "test": [
              0.5159736502
             ]
            },
            {
             "iteration": 1610,
             "learn": [
              0.513345852
             ],
             "passed_time": 139.5732521,
             "remaining_time": 33.70204536,
             "test": [
              0.51597336
             ]
            },
            {
             "iteration": 1611,
             "learn": [
              0.5133443122
             ],
             "passed_time": 139.6745592,
             "remaining_time": 33.61893856,
             "test": [
              0.515972894
             ]
            },
            {
             "iteration": 1612,
             "learn": [
              0.5133413451
             ],
             "passed_time": 139.7432566,
             "remaining_time": 33.52798532,
             "test": [
              0.5159728389
             ]
            },
            {
             "iteration": 1613,
             "learn": [
              0.5133400594
             ],
             "passed_time": 139.8178886,
             "remaining_time": 33.43847894,
             "test": [
              0.5159724924
             ]
            },
            {
             "iteration": 1614,
             "learn": [
              0.5133355324
             ],
             "passed_time": 139.9072352,
             "remaining_time": 33.3524988,
             "test": [
              0.5159658509
             ]
            },
            {
             "iteration": 1615,
             "learn": [
              0.5133352816
             ],
             "passed_time": 140.0271954,
             "remaining_time": 33.273789,
             "test": [
              0.5159657759
             ]
            },
            {
             "iteration": 1616,
             "learn": [
              0.5133350159
             ],
             "passed_time": 140.0929839,
             "remaining_time": 33.18219718,
             "test": [
              0.5159657059
             ]
            },
            {
             "iteration": 1617,
             "learn": [
              0.5133320166
             ],
             "passed_time": 140.1780788,
             "remaining_time": 33.09519538,
             "test": [
              0.5159656167
             ]
            },
            {
             "iteration": 1618,
             "learn": [
              0.5133261837
             ],
             "passed_time": 140.2724984,
             "remaining_time": 33.01039029,
             "test": [
              0.5159607941
             ]
            },
            {
             "iteration": 1619,
             "learn": [
              0.5133254471
             ],
             "passed_time": 140.3474741,
             "remaining_time": 32.92101244,
             "test": [
              0.5159602517
             ]
            },
            {
             "iteration": 1620,
             "learn": [
              0.5133246513
             ],
             "passed_time": 140.4227674,
             "remaining_time": 32.83172661,
             "test": [
              0.5159602979
             ]
            },
            {
             "iteration": 1621,
             "learn": [
              0.513319495
             ],
             "passed_time": 140.5228604,
             "remaining_time": 32.74823751,
             "test": [
              0.5159550524
             ]
            },
            {
             "iteration": 1622,
             "learn": [
              0.5133160595
             ],
             "passed_time": 140.6181035,
             "remaining_time": 32.66360137,
             "test": [
              0.5159536214
             ]
            },
            {
             "iteration": 1623,
             "learn": [
              0.5133102511
             ],
             "passed_time": 140.7085302,
             "remaining_time": 32.57783704,
             "test": [
              0.51594576
             ]
            },
            {
             "iteration": 1624,
             "learn": [
              0.5133082878
             ],
             "passed_time": 140.7813327,
             "remaining_time": 32.48799985,
             "test": [
              0.5159463104
             ]
            },
            {
             "iteration": 1625,
             "learn": [
              0.5133044494
             ],
             "passed_time": 140.9133184,
             "remaining_time": 32.41179649,
             "test": [
              0.5159420191
             ]
            },
            {
             "iteration": 1626,
             "learn": [
              0.513296937
             ],
             "passed_time": 141.0868109,
             "remaining_time": 32.34504023,
             "test": [
              0.5159374561
             ]
            },
            {
             "iteration": 1627,
             "learn": [
              0.5132962456
             ],
             "passed_time": 141.2253127,
             "remaining_time": 32.27015745,
             "test": [
              0.5159379345
             ]
            },
            {
             "iteration": 1628,
             "learn": [
              0.5132910418
             ],
             "passed_time": 141.3383104,
             "remaining_time": 32.18938806,
             "test": [
              0.515931753
             ]
            },
            {
             "iteration": 1629,
             "learn": [
              0.5132895662
             ],
             "passed_time": 141.4848512,
             "remaining_time": 32.11619321,
             "test": [
              0.5159319126
             ]
            },
            {
             "iteration": 1630,
             "learn": [
              0.5132878316
             ],
             "passed_time": 141.5977472,
             "remaining_time": 32.03529658,
             "test": [
              0.5159307539
             ]
            },
            {
             "iteration": 1631,
             "learn": [
              0.5132855291
             ],
             "passed_time": 141.7082725,
             "remaining_time": 31.95382615,
             "test": [
              0.5159303934
             ]
            },
            {
             "iteration": 1632,
             "learn": [
              0.5132779274
             ],
             "passed_time": 141.8368834,
             "remaining_time": 31.8763847,
             "test": [
              0.5159209578
             ]
            },
            {
             "iteration": 1633,
             "learn": [
              0.5132759874
             ],
             "passed_time": 141.9518193,
             "remaining_time": 31.79581754,
             "test": [
              0.5159210466
             ]
            },
            {
             "iteration": 1634,
             "learn": [
              0.5132742735
             ],
             "passed_time": 142.1058828,
             "remaining_time": 31.72394325,
             "test": [
              0.5159205845
             ]
            },
            {
             "iteration": 1635,
             "learn": [
              0.5132693237
             ],
             "passed_time": 142.2220644,
             "remaining_time": 31.64354,
             "test": [
              0.5159179226
             ]
            },
            {
             "iteration": 1636,
             "learn": [
              0.5132666229
             ],
             "passed_time": 142.3598347,
             "remaining_time": 31.56788026,
             "test": [
              0.515915459
             ]
            },
            {
             "iteration": 1637,
             "learn": [
              0.5132658201
             ],
             "passed_time": 142.465801,
             "remaining_time": 31.48511597,
             "test": [
              0.5159157092
             ]
            },
            {
             "iteration": 1638,
             "learn": [
              0.5132528293
             ],
             "passed_time": 142.599174,
             "remaining_time": 31.40835986,
             "test": [
              0.5159019025
             ]
            },
            {
             "iteration": 1639,
             "learn": [
              0.5132507638
             ],
             "passed_time": 142.7183204,
             "remaining_time": 31.3284118,
             "test": [
              0.515901979
             ]
            },
            {
             "iteration": 1640,
             "learn": [
              0.5132433718
             ],
             "passed_time": 142.8500795,
             "remaining_time": 31.25117523,
             "test": [
              0.5158927551
             ]
            },
            {
             "iteration": 1641,
             "learn": [
              0.5132412046
             ],
             "passed_time": 142.9706822,
             "remaining_time": 31.17143984,
             "test": [
              0.5158929628
             ]
            },
            {
             "iteration": 1642,
             "learn": [
              0.5132380995
             ],
             "passed_time": 143.0580632,
             "remaining_time": 31.08443614,
             "test": [
              0.5158886223
             ]
            },
            {
             "iteration": 1643,
             "learn": [
              0.5132328176
             ],
             "passed_time": 143.1914893,
             "remaining_time": 31.00740279,
             "test": [
              0.5158829707
             ]
            },
            {
             "iteration": 1644,
             "learn": [
              0.5132289097
             ],
             "passed_time": 143.2949112,
             "remaining_time": 30.92382582,
             "test": [
              0.5158782623
             ]
            },
            {
             "iteration": 1645,
             "learn": [
              0.513223316
             ],
             "passed_time": 143.3981372,
             "remaining_time": 30.8401826,
             "test": [
              0.5158737083
             ]
            },
            {
             "iteration": 1646,
             "learn": [
              0.5132232442
             ],
             "passed_time": 143.4646021,
             "remaining_time": 30.74863663,
             "test": [
              0.5158734859
             ]
            },
            {
             "iteration": 1647,
             "learn": [
              0.5132216696
             ],
             "passed_time": 143.5371615,
             "remaining_time": 30.65842284,
             "test": [
              0.515872765
             ]
            },
            {
             "iteration": 1648,
             "learn": [
              0.5132203096
             ],
             "passed_time": 143.6397961,
             "remaining_time": 30.57463216,
             "test": [
              0.515870745
             ]
            },
            {
             "iteration": 1649,
             "learn": [
              0.5132190206
             ],
             "passed_time": 143.715962,
             "remaining_time": 30.48520407,
             "test": [
              0.5158701944
             ]
            },
            {
             "iteration": 1650,
             "learn": [
              0.5132133798
             ],
             "passed_time": 143.8207892,
             "remaining_time": 30.40185065,
             "test": [
              0.5158634435
             ]
            },
            {
             "iteration": 1651,
             "learn": [
              0.5132095661
             ],
             "passed_time": 143.9234678,
             "remaining_time": 30.31801864,
             "test": [
              0.5158588437
             ]
            },
            {
             "iteration": 1652,
             "learn": [
              0.5132053265
             ],
             "passed_time": 144.0092706,
             "remaining_time": 30.23062123,
             "test": [
              0.5158597191
             ]
            },
            {
             "iteration": 1653,
             "learn": [
              0.5132031345
             ],
             "passed_time": 144.0960606,
             "remaining_time": 30.14343226,
             "test": [
              0.5158590557
             ]
            },
            {
             "iteration": 1654,
             "learn": [
              0.5132017124
             ],
             "passed_time": 144.1637673,
             "remaining_time": 30.05226569,
             "test": [
              0.5158594492
             ]
            },
            {
             "iteration": 1655,
             "learn": [
              0.5131962524
             ],
             "passed_time": 144.2942562,
             "remaining_time": 29.97416916,
             "test": [
              0.5158549788
             ]
            },
            {
             "iteration": 1656,
             "learn": [
              0.5131935194
             ],
             "passed_time": 144.3669594,
             "remaining_time": 29.88404773,
             "test": [
              0.5158530641
             ]
            },
            {
             "iteration": 1657,
             "learn": [
              0.5131912304
             ],
             "passed_time": 144.4456526,
             "remaining_time": 29.79518286,
             "test": [
              0.5158522821
             ]
            },
            {
             "iteration": 1658,
             "learn": [
              0.5131896987
             ],
             "passed_time": 144.5256804,
             "remaining_time": 29.70660458,
             "test": [
              0.5158510253
             ]
            },
            {
             "iteration": 1659,
             "learn": [
              0.51318583
             ],
             "passed_time": 144.6099504,
             "remaining_time": 29.6189055,
             "test": [
              0.5158425501
             ]
            },
            {
             "iteration": 1660,
             "learn": [
              0.5131832594
             ],
             "passed_time": 144.7079942,
             "remaining_time": 29.5340217,
             "test": [
              0.5158381788
             ]
            },
            {
             "iteration": 1661,
             "learn": [
              0.5131739344
             ],
             "passed_time": 144.8121055,
             "remaining_time": 29.45035598,
             "test": [
              0.5158282511
             ]
            },
            {
             "iteration": 1662,
             "learn": [
              0.5131718485
             ],
             "passed_time": 144.9163145,
             "remaining_time": 29.36668551,
             "test": [
              0.5158282358
             ]
            },
            {
             "iteration": 1663,
             "learn": [
              0.5131668507
             ],
             "passed_time": 145.0293505,
             "remaining_time": 29.2847727,
             "test": [
              0.5158223168
             ]
            },
            {
             "iteration": 1664,
             "learn": [
              0.5131600701
             ],
             "passed_time": 145.1425837,
             "remaining_time": 29.20286219,
             "test": [
              0.5158177155
             ]
            },
            {
             "iteration": 1665,
             "learn": [
              0.5131588135
             ],
             "passed_time": 145.2340321,
             "remaining_time": 29.11654666,
             "test": [
              0.5158165084
             ]
            },
            {
             "iteration": 1666,
             "learn": [
              0.5131463155
             ],
             "passed_time": 145.354506,
             "remaining_time": 29.0360231,
             "test": [
              0.5158032563
             ]
            },
            {
             "iteration": 1667,
             "learn": [
              0.5131415326
             ],
             "passed_time": 145.4326085,
             "remaining_time": 28.947018,
             "test": [
              0.5157975864
             ]
            },
            {
             "iteration": 1668,
             "learn": [
              0.5131403619
             ],
             "passed_time": 145.5100654,
             "remaining_time": 28.85789793,
             "test": [
              0.515797901
             ]
            },
            {
             "iteration": 1669,
             "learn": [
              0.5131356783
             ],
             "passed_time": 145.580707,
             "remaining_time": 28.76744509,
             "test": [
              0.5157923428
             ]
            },
            {
             "iteration": 1670,
             "learn": [
              0.513134151
             ],
             "passed_time": 145.6545606,
             "remaining_time": 28.67764839,
             "test": [
              0.5157913099
             ]
            },
            {
             "iteration": 1671,
             "learn": [
              0.5131300322
             ],
             "passed_time": 145.7400674,
             "remaining_time": 28.59015676,
             "test": [
              0.5157922333
             ]
            },
            {
             "iteration": 1672,
             "learn": [
              0.5131289864
             ],
             "passed_time": 145.8210502,
             "remaining_time": 28.50178328,
             "test": [
              0.5157920592
             ]
            },
            {
             "iteration": 1673,
             "learn": [
              0.5131276985
             ],
             "passed_time": 145.8890814,
             "remaining_time": 28.41089638,
             "test": [
              0.515791505
             ]
            },
            {
             "iteration": 1674,
             "learn": [
              0.5131256535
             ],
             "passed_time": 145.964447,
             "remaining_time": 28.32145986,
             "test": [
              0.5157915984
             ]
            },
            {
             "iteration": 1675,
             "learn": [
              0.5131254494
             ],
             "passed_time": 146.0322741,
             "remaining_time": 28.23058282,
             "test": [
              0.5157915878
             ]
            },
            {
             "iteration": 1676,
             "learn": [
              0.5131216934
             ],
             "passed_time": 146.1126218,
             "remaining_time": 28.14214481,
             "test": [
              0.5157892578
             ]
            },
            {
             "iteration": 1677,
             "learn": [
              0.5131154316
             ],
             "passed_time": 146.1850818,
             "remaining_time": 28.05220283,
             "test": [
              0.5157818344
             ]
            },
            {
             "iteration": 1678,
             "learn": [
              0.5131137761
             ],
             "passed_time": 146.2535069,
             "remaining_time": 27.96151026,
             "test": [
              0.5157811046
             ]
            },
            {
             "iteration": 1679,
             "learn": [
              0.5131120815
             ],
             "passed_time": 146.3956601,
             "remaining_time": 27.88488765,
             "test": [
              0.5157811026
             ]
            },
            {
             "iteration": 1680,
             "learn": [
              0.513109999
             ],
             "passed_time": 146.4856254,
             "remaining_time": 27.79828346,
             "test": [
              0.5157789116
             ]
            },
            {
             "iteration": 1681,
             "learn": [
              0.5131084882
             ],
             "passed_time": 146.5646903,
             "remaining_time": 27.70961446,
             "test": [
              0.5157782232
             ]
            },
            {
             "iteration": 1682,
             "learn": [
              0.5131067297
             ],
             "passed_time": 146.6379554,
             "remaining_time": 27.61986444,
             "test": [
              0.5157771021
             ]
            },
            {
             "iteration": 1683,
             "learn": [
              0.5131046943
             ],
             "passed_time": 146.7384326,
             "remaining_time": 27.53524032,
             "test": [
              0.51577708
             ]
            },
            {
             "iteration": 1684,
             "learn": [
              0.5131036579
             ],
             "passed_time": 146.812587,
             "remaining_time": 27.44567651,
             "test": [
              0.5157765032
             ]
            },
            {
             "iteration": 1685,
             "learn": [
              0.5130914751
             ],
             "passed_time": 146.9084829,
             "remaining_time": 27.3601801,
             "test": [
              0.5157635871
             ]
            },
            {
             "iteration": 1686,
             "learn": [
              0.5130889624
             ],
             "passed_time": 147.0004807,
             "remaining_time": 27.27394811,
             "test": [
              0.5157633794
             ]
            },
            {
             "iteration": 1687,
             "learn": [
              0.5130885531
             ],
             "passed_time": 147.0859369,
             "remaining_time": 27.18650019,
             "test": [
              0.5157630032
             ]
            },
            {
             "iteration": 1688,
             "learn": [
              0.5130818785
             ],
             "passed_time": 147.1749442,
             "remaining_time": 27.0997085,
             "test": [
              0.5157578192
             ]
            },
            {
             "iteration": 1689,
             "learn": [
              0.5130699744
             ],
             "passed_time": 147.2509792,
             "remaining_time": 27.01053465,
             "test": [
              0.5157451966
             ]
            },
            {
             "iteration": 1690,
             "learn": [
              0.5130671867
             ],
             "passed_time": 147.4921616,
             "remaining_time": 26.95155408,
             "test": [
              0.5157408687
             ]
            },
            {
             "iteration": 1691,
             "learn": [
              0.5130650495
             ],
             "passed_time": 147.6087047,
             "remaining_time": 26.86966965,
             "test": [
              0.5157406161
             ]
            },
            {
             "iteration": 1692,
             "learn": [
              0.5130640124
             ],
             "passed_time": 147.6848271,
             "remaining_time": 26.78041461,
             "test": [
              0.5157405161
             ]
            },
            {
             "iteration": 1693,
             "learn": [
              0.5130619415
             ],
             "passed_time": 147.7591088,
             "remaining_time": 26.69084256,
             "test": [
              0.5157393326
             ]
            },
            {
             "iteration": 1694,
             "learn": [
              0.5130617664
             ],
             "passed_time": 147.8269937,
             "remaining_time": 26.60013751,
             "test": [
              0.5157392708
             ]
            },
            {
             "iteration": 1695,
             "learn": [
              0.5130527824
             ],
             "passed_time": 147.9161845,
             "remaining_time": 26.51327836,
             "test": [
              0.5157329121
             ]
            },
            {
             "iteration": 1696,
             "learn": [
              0.5130482615
             ],
             "passed_time": 148.0016875,
             "remaining_time": 26.425758,
             "test": [
              0.5157268044
             ]
            },
            {
             "iteration": 1697,
             "learn": [
              0.5130467986
             ],
             "passed_time": 148.0718124,
             "remaining_time": 26.33550491,
             "test": [
              0.5157261516
             ]
            },
            {
             "iteration": 1698,
             "learn": [
              0.5130456587
             ],
             "passed_time": 148.137682,
             "remaining_time": 26.24452166,
             "test": [
              0.5157262694
             ]
            },
            {
             "iteration": 1699,
             "learn": [
              0.5130411902
             ],
             "passed_time": 148.2145197,
             "remaining_time": 26.15550348,
             "test": [
              0.5157242965
             ]
            },
            {
             "iteration": 1700,
             "learn": [
              0.5130403261
             ],
             "passed_time": 148.3013196,
             "remaining_time": 26.06825077,
             "test": [
              0.5157240377
             ]
            },
            {
             "iteration": 1701,
             "learn": [
              0.513038247
             ],
             "passed_time": 148.3767791,
             "remaining_time": 25.97901302,
             "test": [
              0.5157238053
             ]
            },
            {
             "iteration": 1702,
             "learn": [
              0.5130330723
             ],
             "passed_time": 148.4605064,
             "remaining_time": 25.89123336,
             "test": [
              0.5157175862
             ]
            },
            {
             "iteration": 1703,
             "learn": [
              0.5130316413
             ],
             "passed_time": 148.5275504,
             "remaining_time": 25.8005604,
             "test": [
              0.5157169503
             ]
            },
            {
             "iteration": 1704,
             "learn": [
              0.5130295387
             ],
             "passed_time": 148.6429208,
             "remaining_time": 25.71827662,
             "test": [
              0.515717156
             ]
            },
            {
             "iteration": 1705,
             "learn": [
              0.5130284269
             ],
             "passed_time": 148.7078631,
             "remaining_time": 25.62726362,
             "test": [
              0.5157172904
             ]
            },
            {
             "iteration": 1706,
             "learn": [
              0.513027044
             ],
             "passed_time": 148.7876998,
             "remaining_time": 25.53883775,
             "test": [
              0.5157174763
             ]
            },
            {
             "iteration": 1707,
             "learn": [
              0.5130256977
             ],
             "passed_time": 148.8789398,
             "remaining_time": 25.45237144,
             "test": [
              0.5157174872
             ]
            },
            {
             "iteration": 1708,
             "learn": [
              0.5130255031
             ],
             "passed_time": 148.9489248,
             "remaining_time": 25.36228034,
             "test": [
              0.5157173847
             ]
            },
            {
             "iteration": 1709,
             "learn": [
              0.5130234702
             ],
             "passed_time": 149.0391935,
             "remaining_time": 25.2756527,
             "test": [
              0.5157171736
             ]
            },
            {
             "iteration": 1710,
             "learn": [
              0.5130219168
             ],
             "passed_time": 149.1165289,
             "remaining_time": 25.18683626,
             "test": [
              0.5157175794
             ]
            },
            {
             "iteration": 1711,
             "learn": [
              0.5130215863
             ],
             "passed_time": 149.1824875,
             "remaining_time": 25.0961194,
             "test": [
              0.5157178523
             ]
            },
            {
             "iteration": 1712,
             "learn": [
              0.5130184815
             ],
             "passed_time": 149.2786421,
             "remaining_time": 25.01049053,
             "test": [
              0.5157158075
             ]
            },
            {
             "iteration": 1713,
             "learn": [
              0.5130173497
             ],
             "passed_time": 149.350613,
             "remaining_time": 24.92081407,
             "test": [
              0.5157163311
             ]
            },
            {
             "iteration": 1714,
             "learn": [
              0.5130124487
             ],
             "passed_time": 149.4538282,
             "remaining_time": 24.83635046,
             "test": [
              0.5157103806
             ]
            },
            {
             "iteration": 1715,
             "learn": [
              0.5130072205
             ],
             "passed_time": 149.5395047,
             "remaining_time": 24.74896232,
             "test": [
              0.5157076785
             ]
            },
            {
             "iteration": 1716,
             "learn": [
              0.5129958189
             ],
             "passed_time": 149.6133569,
             "remaining_time": 24.65962726,
             "test": [
              0.5156955689
             ]
            },
            {
             "iteration": 1717,
             "learn": [
              0.5129899056
             ],
             "passed_time": 149.7425466,
             "remaining_time": 24.57939356,
             "test": [
              0.5156893738
             ]
            },
            {
             "iteration": 1718,
             "learn": [
              0.5129875764
             ],
             "passed_time": 149.822548,
             "remaining_time": 24.49106223,
             "test": [
              0.5156901748
             ]
            },
            {
             "iteration": 1719,
             "learn": [
              0.5129859928
             ],
             "passed_time": 149.9315411,
             "remaining_time": 24.40746019,
             "test": [
              0.5156901602
             ]
            },
            {
             "iteration": 1720,
             "learn": [
              0.5129810104
             ],
             "passed_time": 150.0263625,
             "remaining_time": 24.32153117,
             "test": [
              0.515684596
             ]
            },
            {
             "iteration": 1721,
             "learn": [
              0.512979268
             ],
             "passed_time": 150.1275906,
             "remaining_time": 24.23662612,
             "test": [
              0.5156840222
             ]
            },
            {
             "iteration": 1722,
             "learn": [
              0.5129761577
             ],
             "passed_time": 150.2208743,
             "remaining_time": 24.15042494,
             "test": [
              0.5156808044
             ]
            },
            {
             "iteration": 1723,
             "learn": [
              0.5129727828
             ],
             "passed_time": 150.3030391,
             "remaining_time": 24.0624355,
             "test": [
              0.5156784277
             ]
            },
            {
             "iteration": 1724,
             "learn": [
              0.5129700524
             ],
             "passed_time": 150.3813881,
             "remaining_time": 23.97384447,
             "test": [
              0.5156762662
             ]
            },
            {
             "iteration": 1725,
             "learn": [
              0.5129686918
             ],
             "passed_time": 150.4556789,
             "remaining_time": 23.8846211,
             "test": [
              0.5156756917
             ]
            },
            {
             "iteration": 1726,
             "learn": [
              0.5129674587
             ],
             "passed_time": 150.5304449,
             "remaining_time": 23.79549013,
             "test": [
              0.51567486
             ]
            },
            {
             "iteration": 1727,
             "learn": [
              0.5129662993
             ],
             "passed_time": 150.6059537,
             "remaining_time": 23.70649271,
             "test": [
              0.5156741135
             ]
            },
            {
             "iteration": 1728,
             "learn": [
              0.5129600056
             ],
             "passed_time": 150.7329062,
             "remaining_time": 23.62557408,
             "test": [
              0.5156679389
             ]
            },
            {
             "iteration": 1729,
             "learn": [
              0.5129598078
             ],
             "passed_time": 150.8436767,
             "remaining_time": 23.54207672,
             "test": [
              0.5156678013
             ]
            },
            {
             "iteration": 1730,
             "learn": [
              0.5129545887
             ],
             "passed_time": 150.9352727,
             "remaining_time": 23.45556809,
             "test": [
              0.5156635648
             ]
            },
            {
             "iteration": 1731,
             "learn": [
              0.5129536898
             ],
             "passed_time": 151.0211868,
             "remaining_time": 23.3681744,
             "test": [
              0.5156632329
             ]
            },
            {
             "iteration": 1732,
             "learn": [
              0.5129535377
             ],
             "passed_time": 151.0956248,
             "remaining_time": 23.27901432,
             "test": [
              0.5156632367
             ]
            },
            {
             "iteration": 1733,
             "learn": [
              0.5129528692
             ],
             "passed_time": 151.1689855,
             "remaining_time": 23.18970596,
             "test": [
              0.5156630016
             ]
            },
            {
             "iteration": 1734,
             "learn": [
              0.5129502483
             ],
             "passed_time": 151.2509099,
             "remaining_time": 23.101724,
             "test": [
              0.5156614977
             ]
            },
            {
             "iteration": 1735,
             "learn": [
              0.5129463125
             ],
             "passed_time": 151.3520888,
             "remaining_time": 23.0166771,
             "test": [
              0.515657
             ]
            },
            {
             "iteration": 1736,
             "learn": [
              0.512945235
             ],
             "passed_time": 151.4175341,
             "remaining_time": 22.92620119,
             "test": [
              0.5156571528
             ]
            },
            {
             "iteration": 1737,
             "learn": [
              0.5129394868
             ],
             "passed_time": 151.5140433,
             "remaining_time": 22.84043691,
             "test": [
              0.5156511254
             ]
            },
            {
             "iteration": 1738,
             "learn": [
              0.5129374489
             ],
             "passed_time": 151.5952311,
             "remaining_time": 22.75236074,
             "test": [
              0.5156513548
             ]
            },
            {
             "iteration": 1739,
             "learn": [
              0.5129347542
             ],
             "passed_time": 151.66313,
             "remaining_time": 22.66230678,
             "test": [
              0.5156501965
             ]
            },
            {
             "iteration": 1740,
             "learn": [
              0.5129286241
             ],
             "passed_time": 151.7500117,
             "remaining_time": 22.57510225,
             "test": [
              0.5156442082
             ]
            },
            {
             "iteration": 1741,
             "learn": [
              0.5129246049
             ],
             "passed_time": 151.8667659,
             "remaining_time": 22.49232238,
             "test": [
              0.5156384876
             ]
            },
            {
             "iteration": 1742,
             "learn": [
              0.512923245
             ],
             "passed_time": 151.9375616,
             "remaining_time": 22.4027271,
             "test": [
              0.5156388631
             ]
            },
            {
             "iteration": 1743,
             "learn": [
              0.5129121677
             ],
             "passed_time": 152.0381989,
             "remaining_time": 22.31753378,
             "test": [
              0.51562711
             ]
            },
            {
             "iteration": 1744,
             "learn": [
              0.5129102693
             ],
             "passed_time": 152.1352867,
             "remaining_time": 22.23180407,
             "test": [
              0.5156269447
             ]
            },
            {
             "iteration": 1745,
             "learn": [
              0.5129057526
             ],
             "passed_time": 152.2176622,
             "remaining_time": 22.14392108,
             "test": [
              0.5156246712
             ]
            },
            {
             "iteration": 1746,
             "learn": [
              0.5129027611
             ],
             "passed_time": 152.3000201,
             "remaining_time": 22.05604184,
             "test": [
              0.5156229024
             ]
            },
            {
             "iteration": 1747,
             "learn": [
              0.512896354
             ],
             "passed_time": 152.3969392,
             "remaining_time": 21.97026812,
             "test": [
              0.5156180049
             ]
            },
            {
             "iteration": 1748,
             "learn": [
              0.5128949122
             ],
             "passed_time": 152.4717567,
             "remaining_time": 21.88130985,
             "test": [
              0.5156182367
             ]
            },
            {
             "iteration": 1749,
             "learn": [
              0.5128934578
             ],
             "passed_time": 152.5839254,
             "remaining_time": 21.79770363,
             "test": [
              0.5156178569
             ]
            },
            {
             "iteration": 1750,
             "learn": [
              0.5128826428
             ],
             "passed_time": 152.6745534,
             "remaining_time": 21.71100159,
             "test": [
              0.5156063683
             ]
            },
            {
             "iteration": 1751,
             "learn": [
              0.5128824278
             ],
             "passed_time": 152.7461102,
             "remaining_time": 21.62159551,
             "test": [
              0.5156063124
             ]
            },
            {
             "iteration": 1752,
             "learn": [
              0.5128806397
             ],
             "passed_time": 152.874711,
             "remaining_time": 21.54024736,
             "test": [
              0.5156049537
             ]
            },
            {
             "iteration": 1753,
             "learn": [
              0.5128788188
             ],
             "passed_time": 152.9691785,
             "remaining_time": 21.45405811,
             "test": [
              0.5156050189
             ]
            },
            {
             "iteration": 1754,
             "learn": [
              0.5128783582
             ],
             "passed_time": 153.0556898,
             "remaining_time": 21.36674872,
             "test": [
              0.5156048254
             ]
            },
            {
             "iteration": 1755,
             "learn": [
              0.5128758909
             ],
             "passed_time": 153.1391534,
             "remaining_time": 21.27901676,
             "test": [
              0.515603238
             ]
            },
            {
             "iteration": 1756,
             "learn": [
              0.5128738313
             ],
             "passed_time": 153.2246032,
             "remaining_time": 21.19156436,
             "test": [
              0.5156004884
             ]
            },
            {
             "iteration": 1757,
             "learn": [
              0.5128725768
             ],
             "passed_time": 153.3068447,
             "remaining_time": 21.1036726,
             "test": [
              0.515599962
             ]
            },
            {
             "iteration": 1758,
             "learn": [
              0.5128705761
             ],
             "passed_time": 153.3925243,
             "remaining_time": 21.01625831,
             "test": [
              0.5156000121
             ]
            },
            {
             "iteration": 1759,
             "learn": [
              0.512869552
             ],
             "passed_time": 153.4834579,
             "remaining_time": 20.92956245,
             "test": [
              0.5155999164
             ]
            },
            {
             "iteration": 1760,
             "learn": [
              0.5128670437
             ],
             "passed_time": 153.5554573,
             "remaining_time": 20.84029205,
             "test": [
              0.5156009825
             ]
            },
            {
             "iteration": 1761,
             "learn": [
              0.5128656603
             ],
             "passed_time": 153.6306559,
             "remaining_time": 20.75147339,
             "test": [
              0.5156018709
             ]
            },
            {
             "iteration": 1762,
             "learn": [
              0.5128641093
             ],
             "passed_time": 153.7120366,
             "remaining_time": 20.66350123,
             "test": [
              0.5156038773
             ]
            },
            {
             "iteration": 1763,
             "learn": [
              0.5128592188
             ],
             "passed_time": 153.803618,
             "remaining_time": 20.57690128,
             "test": [
              0.5156014298
             ]
            },
            {
             "iteration": 1764,
             "learn": [
              0.5128571179
             ],
             "passed_time": 153.9094207,
             "remaining_time": 20.49218916,
             "test": [
              0.5156008564
             ]
            },
            {
             "iteration": 1765,
             "learn": [
              0.512856317
             ],
             "passed_time": 154.0027973,
             "remaining_time": 20.40580666,
             "test": [
              0.5156006327
             ]
            },
            {
             "iteration": 1766,
             "learn": [
              0.5128556534
             ],
             "passed_time": 154.0861137,
             "remaining_time": 20.31808969,
             "test": [
              0.5156001478
             ]
            },
            {
             "iteration": 1767,
             "learn": [
              0.51285554
             ],
             "passed_time": 154.1513307,
             "remaining_time": 20.22800267,
             "test": [
              0.5156001397
             ]
            },
            {
             "iteration": 1768,
             "learn": [
              0.5128543274
             ],
             "passed_time": 154.2187481,
             "remaining_time": 20.13823109,
             "test": [
              0.5156004586
             ]
            },
            {
             "iteration": 1769,
             "learn": [
              0.5128535593
             ],
             "passed_time": 154.2896254,
             "remaining_time": 20.04893438,
             "test": [
              0.5155988103
             ]
            },
            {
             "iteration": 1770,
             "learn": [
              0.5128520067
             ],
             "passed_time": 154.35807,
             "remaining_time": 19.95934388,
             "test": [
              0.5155990685
             ]
            },
            {
             "iteration": 1771,
             "learn": [
              0.51284951
             ],
             "passed_time": 154.4335127,
             "remaining_time": 19.87067771,
             "test": [
              0.5155965235
             ]
            },
            {
             "iteration": 1772,
             "learn": [
              0.5128456027
             ],
             "passed_time": 154.517442,
             "remaining_time": 19.783113,
             "test": [
              0.515591559
             ]
            },
            {
             "iteration": 1773,
             "learn": [
              0.5128452404
             ],
             "passed_time": 154.5819882,
             "remaining_time": 19.69308305,
             "test": [
              0.5155913413
             ]
            },
            {
             "iteration": 1774,
             "learn": [
              0.5128431389
             ],
             "passed_time": 154.6530257,
             "remaining_time": 19.60390466,
             "test": [
              0.5155923504
             ]
            },
            {
             "iteration": 1775,
             "learn": [
              0.5128421003
             ],
             "passed_time": 154.7182612,
             "remaining_time": 19.51401493,
             "test": [
              0.5155925072
             ]
            },
            {
             "iteration": 1776,
             "learn": [
              0.5128418829
             ],
             "passed_time": 154.7893583,
             "remaining_time": 19.42488852,
             "test": [
              0.5155924726
             ]
            },
            {
             "iteration": 1777,
             "learn": [
              0.512839478
             ],
             "passed_time": 154.8755775,
             "remaining_time": 19.33767053,
             "test": [
              0.5155924637
             ]
            },
            {
             "iteration": 1778,
             "learn": [
              0.5128370125
             ],
             "passed_time": 155.0205219,
             "remaining_time": 19.25774893,
             "test": [
              0.5155910592
             ]
            },
            {
             "iteration": 1779,
             "learn": [
              0.5128348044
             ],
             "passed_time": 155.1221442,
             "remaining_time": 19.17239985,
             "test": [
              0.5155918244
             ]
            },
            {
             "iteration": 1780,
             "learn": [
              0.5128321957
             ],
             "passed_time": 155.2073799,
             "remaining_time": 19.08501752,
             "test": [
              0.515588596
             ]
            },
            {
             "iteration": 1781,
             "learn": [
              0.5128281918
             ],
             "passed_time": 155.292261,
             "remaining_time": 18.99759422,
             "test": [
              0.5155839946
             ]
            },
            {
             "iteration": 1782,
             "learn": [
              0.5128280793
             ],
             "passed_time": 155.3617497,
             "remaining_time": 18.90830044,
             "test": [
              0.5155839822
             ]
            },
            {
             "iteration": 1783,
             "learn": [
              0.5128275684
             ],
             "passed_time": 155.4394537,
             "remaining_time": 18.82002354,
             "test": [
              0.5155838761
             ]
            },
            {
             "iteration": 1784,
             "learn": [
              0.5128251548
             ],
             "passed_time": 155.5179221,
             "remaining_time": 18.73185056,
             "test": [
              0.515582519
             ]
            },
            {
             "iteration": 1785,
             "learn": [
              0.5128206761
             ],
             "passed_time": 155.6157732,
             "remaining_time": 18.6460109,
             "test": [
              0.515576452
             ]
            },
            {
             "iteration": 1786,
             "learn": [
              0.5128159967
             ],
             "passed_time": 155.7046273,
             "remaining_time": 18.5590854,
             "test": [
              0.5155741767
             ]
            },
            {
             "iteration": 1787,
             "learn": [
              0.512814564
             ],
             "passed_time": 155.821504,
             "remaining_time": 18.47548034,
             "test": [
              0.5155736156
             ]
            },
            {
             "iteration": 1788,
             "learn": [
              0.512814192
             ],
             "passed_time": 155.8988791,
             "remaining_time": 18.38717914,
             "test": [
              0.5155732642
             ]
            },
            {
             "iteration": 1789,
             "learn": [
              0.5128130469
             ],
             "passed_time": 155.9837314,
             "remaining_time": 18.29976737,
             "test": [
              0.5155729155
             ]
            },
            {
             "iteration": 1790,
             "learn": [
              0.5128113259
             ],
             "passed_time": 156.1064156,
             "remaining_time": 18.21677323,
             "test": [
              0.5155727121
             ]
            },
            {
             "iteration": 1791,
             "learn": [
              0.5128092356
             ],
             "passed_time": 156.1874137,
             "remaining_time": 18.12889623,
             "test": [
              0.5155753762
             ]
            },
            {
             "iteration": 1792,
             "learn": [
              0.5128068914
             ],
             "passed_time": 156.2778742,
             "remaining_time": 18.04211934,
             "test": [
              0.5155733028
             ]
            },
            {
             "iteration": 1793,
             "learn": [
              0.5128026467
             ],
             "passed_time": 156.3644786,
             "remaining_time": 17.95489554,
             "test": [
              0.515567624
             ]
            },
            {
             "iteration": 1794,
             "learn": [
              0.512802456
             ],
             "passed_time": 156.4703342,
             "remaining_time": 17.86987104,
             "test": [
              0.515567498
             ]
            },
            {
             "iteration": 1795,
             "learn": [
              0.5128014555
             ],
             "passed_time": 156.5430992,
             "remaining_time": 17.78106472,
             "test": [
              0.5155675431
             ]
            },
            {
             "iteration": 1796,
             "learn": [
              0.5127996253
             ],
             "passed_time": 156.6192658,
             "remaining_time": 17.69266052,
             "test": [
              0.5155677738
             ]
            },
            {
             "iteration": 1797,
             "learn": [
              0.5127959087
             ],
             "passed_time": 156.7072908,
             "remaining_time": 17.60560219,
             "test": [
              0.5155653117
             ]
            },
            {
             "iteration": 1798,
             "learn": [
              0.5127948155
             ],
             "passed_time": 156.7879015,
             "remaining_time": 17.51771439,
             "test": [
              0.515565538
             ]
            },
            {
             "iteration": 1799,
             "learn": [
              0.5127943369
             ],
             "passed_time": 156.8749931,
             "remaining_time": 17.43055478,
             "test": [
              0.5155661528
             ]
            },
            {
             "iteration": 1800,
             "learn": [
              0.5127885234
             ],
             "passed_time": 156.9683757,
             "remaining_time": 17.34409037,
             "test": [
              0.5155605148
             ]
            },
            {
             "iteration": 1801,
             "learn": [
              0.5127849351
             ],
             "passed_time": 157.1025581,
             "remaining_time": 17.26210128,
             "test": [
              0.5155542935
             ]
            },
            {
             "iteration": 1802,
             "learn": [
              0.5127838943
             ],
             "passed_time": 157.1834152,
             "remaining_time": 17.17422784,
             "test": [
              0.5155541575
             ]
            },
            {
             "iteration": 1803,
             "learn": [
              0.5127830745
             ],
             "passed_time": 157.271248,
             "remaining_time": 17.08712007,
             "test": [
              0.5155529435
             ]
            },
            {
             "iteration": 1804,
             "learn": [
              0.5127823341
             ],
             "passed_time": 157.3436246,
             "remaining_time": 16.99834171,
             "test": [
              0.5155531338
             ]
            },
            {
             "iteration": 1805,
             "learn": [
              0.5127808257
             ],
             "passed_time": 157.4143382,
             "remaining_time": 16.90940289,
             "test": [
              0.5155538617
             ]
            },
            {
             "iteration": 1806,
             "learn": [
              0.5127772412
             ],
             "passed_time": 157.5061226,
             "remaining_time": 16.82273473,
             "test": [
              0.5155550284
             ]
            },
            {
             "iteration": 1807,
             "learn": [
              0.5127744195
             ],
             "passed_time": 157.5841749,
             "remaining_time": 16.73460264,
             "test": [
              0.5155541424
             ]
            },
            {
             "iteration": 1808,
             "learn": [
              0.5127727514
             ],
             "passed_time": 157.6806019,
             "remaining_time": 16.64842176,
             "test": [
              0.5155536432
             ]
            },
            {
             "iteration": 1809,
             "learn": [
              0.5127707989
             ],
             "passed_time": 157.7709257,
             "remaining_time": 16.56158889,
             "test": [
              0.5155517238
             ]
            },
            {
             "iteration": 1810,
             "learn": [
              0.5127681065
             ],
             "passed_time": 157.8683458,
             "remaining_time": 16.47549275,
             "test": [
              0.5155487667
             ]
            },
            {
             "iteration": 1811,
             "learn": [
              0.5127654697
             ],
             "passed_time": 157.9467273,
             "remaining_time": 16.3874088,
             "test": [
              0.5155467114
             ]
            },
            {
             "iteration": 1812,
             "learn": [
              0.5127614759
             ],
             "passed_time": 158.0382767,
             "remaining_time": 16.30069374,
             "test": [
              0.5155420197
             ]
            },
            {
             "iteration": 1813,
             "learn": [
              0.5127591423
             ],
             "passed_time": 158.166598,
             "remaining_time": 16.21774379,
             "test": [
              0.5155367886
             ]
            },
            {
             "iteration": 1814,
             "learn": [
              0.5127587486
             ],
             "passed_time": 158.2628362,
             "remaining_time": 16.13147366,
             "test": [
              0.5155364235
             ]
            },
            {
             "iteration": 1815,
             "learn": [
              0.5127550304
             ],
             "passed_time": 158.3517143,
             "remaining_time": 16.04444682,
             "test": [
              0.5155302405
             ]
            },
            {
             "iteration": 1816,
             "learn": [
              0.5127536342
             ],
             "passed_time": 158.4458478,
             "remaining_time": 15.95794725,
             "test": [
              0.5155299594
             ]
            },
            {
             "iteration": 1817,
             "learn": [
              0.5127529118
             ],
             "passed_time": 158.5222912,
             "remaining_time": 15.86966832,
             "test": [
              0.5155299823
             ]
            },
            {
             "iteration": 1818,
             "learn": [
              0.5127511614
             ],
             "passed_time": 158.6053681,
             "remaining_time": 15.78206247,
             "test": [
              0.5155295019
             ]
            },
            {
             "iteration": 1819,
             "learn": [
              0.5127499214
             ],
             "passed_time": 158.703081,
             "remaining_time": 15.69590911,
             "test": [
              0.5155293025
             ]
            },
            {
             "iteration": 1820,
             "learn": [
              0.5127468095
             ],
             "passed_time": 158.7796429,
             "remaining_time": 15.60766396,
             "test": [
              0.5155274953
             ]
            },
            {
             "iteration": 1821,
             "learn": [
              0.5127441927
             ],
             "passed_time": 158.8533349,
             "remaining_time": 15.51915127,
             "test": [
              0.5155246147
             ]
            },
            {
             "iteration": 1822,
             "learn": [
              0.5127434632
             ],
             "passed_time": 158.9212568,
             "remaining_time": 15.4300946,
             "test": [
              0.5155253338
             ]
            },
            {
             "iteration": 1823,
             "learn": [
              0.5127413543
             ],
             "passed_time": 159.0065459,
             "remaining_time": 15.34273688,
             "test": [
              0.5155248047
             ]
            },
            {
             "iteration": 1824,
             "learn": [
              0.5127407645
             ],
             "passed_time": 159.0758809,
             "remaining_time": 15.2538516,
             "test": [
              0.5155245198
             ]
            },
            {
             "iteration": 1825,
             "learn": [
              0.5127397892
             ],
             "passed_time": 159.1481766,
             "remaining_time": 15.16526984,
             "test": [
              0.5155242453
             ]
            },
            {
             "iteration": 1826,
             "learn": [
              0.5127353425
             ],
             "passed_time": 159.2859559,
             "remaining_time": 15.08290661,
             "test": [
              0.5155180511
             ]
            },
            {
             "iteration": 1827,
             "learn": [
              0.5127248043
             ],
             "passed_time": 159.3900142,
             "remaining_time": 14.99730987,
             "test": [
              0.5155068868
             ]
            },
            {
             "iteration": 1828,
             "learn": [
              0.5127212022
             ],
             "passed_time": 159.4848912,
             "remaining_time": 14.91083455,
             "test": [
              0.5155068472
             ]
            },
            {
             "iteration": 1829,
             "learn": [
              0.512720648
             ],
             "passed_time": 159.5643462,
             "remaining_time": 14.8229174,
             "test": [
              0.5155069584
             ]
            },
            {
             "iteration": 1830,
             "learn": [
              0.5127204619
             ],
             "passed_time": 159.6305452,
             "remaining_time": 14.73378599,
             "test": [
              0.5155068485
             ]
            },
            {
             "iteration": 1831,
             "learn": [
              0.5127193923
             ],
             "passed_time": 159.7222356,
             "remaining_time": 14.64701724,
             "test": [
              0.5155066447
             ]
            },
            {
             "iteration": 1832,
             "learn": [
              0.5127154549
             ],
             "passed_time": 159.7925514,
             "remaining_time": 14.55829573,
             "test": [
              0.5155021187
             ]
            },
            {
             "iteration": 1833,
             "learn": [
              0.5127145343
             ],
             "passed_time": 159.861248,
             "remaining_time": 14.46944775,
             "test": [
              0.5155029469
             ]
            },
            {
             "iteration": 1834,
             "learn": [
              0.5127081308
             ],
             "passed_time": 159.9552876,
             "remaining_time": 14.38290052,
             "test": [
              0.515495693
             ]
            },
            {
             "iteration": 1835,
             "learn": [
              0.5127070819
             ],
             "passed_time": 160.043908,
             "remaining_time": 14.29586107,
             "test": [
              0.5154947181
             ]
            },
            {
             "iteration": 1836,
             "learn": [
              0.5127058496
             ],
             "passed_time": 160.1247495,
             "remaining_time": 14.20812965,
             "test": [
              0.515495465
             ]
            },
            {
             "iteration": 1837,
             "learn": [
              0.5127053371
             ],
             "passed_time": 160.1934346,
             "remaining_time": 14.11933428,
             "test": [
              0.5154954421
             ]
            },
            {
             "iteration": 1838,
             "learn": [
              0.5127011001
             ],
             "passed_time": 160.4596654,
             "remaining_time": 14.04785543,
             "test": [
              0.5154907668
             ]
            },
            {
             "iteration": 1839,
             "learn": [
              0.5126981319
             ],
             "passed_time": 160.5461109,
             "remaining_time": 13.96053138,
             "test": [
              0.5154899197
             ]
            },
            {
             "iteration": 1840,
             "learn": [
              0.5126974837
             ],
             "passed_time": 160.6418599,
             "remaining_time": 13.8740118,
             "test": [
              0.5154900115
             ]
            },
            {
             "iteration": 1841,
             "learn": [
              0.512696134
             ],
             "passed_time": 160.7077862,
             "remaining_time": 13.78492412,
             "test": [
              0.5154901577
             ]
            },
            {
             "iteration": 1842,
             "learn": [
              0.5126950817
             ],
             "passed_time": 160.7731235,
             "remaining_time": 13.69581139,
             "test": [
              0.5154890088
             ]
            },
            {
             "iteration": 1843,
             "learn": [
              0.5126926963
             ],
             "passed_time": 160.8581448,
             "remaining_time": 13.60838969,
             "test": [
              0.5154852795
             ]
            },
            {
             "iteration": 1844,
             "learn": [
              0.5126882729
             ],
             "passed_time": 160.9291422,
             "remaining_time": 13.51979243,
             "test": [
              0.5154846421
             ]
            },
            {
             "iteration": 1845,
             "learn": [
              0.5126870764
             ],
             "passed_time": 161.0003659,
             "remaining_time": 13.43123312,
             "test": [
              0.5154856523
             ]
            },
            {
             "iteration": 1846,
             "learn": [
              0.512685187
             ],
             "passed_time": 161.0864079,
             "remaining_time": 13.34392009,
             "test": [
              0.5154825605
             ]
            },
            {
             "iteration": 1847,
             "learn": [
              0.5126844456
             ],
             "passed_time": 161.1599548,
             "remaining_time": 13.2555807,
             "test": [
              0.5154809896
             ]
            },
            {
             "iteration": 1848,
             "learn": [
              0.512682286
             ],
             "passed_time": 161.2294615,
             "remaining_time": 13.16692736,
             "test": [
              0.5154818557
             ]
            },
            {
             "iteration": 1849,
             "learn": [
              0.5126810156
             ],
             "passed_time": 161.3031285,
             "remaining_time": 13.07863204,
             "test": [
              0.5154820408
             ]
            },
            {
             "iteration": 1850,
             "learn": [
              0.5126796153
             ],
             "passed_time": 161.3730979,
             "remaining_time": 12.99005488,
             "test": [
              0.5154821169
             ]
            },
            {
             "iteration": 1851,
             "learn": [
              0.5126792594
             ],
             "passed_time": 161.4554413,
             "remaining_time": 12.90248667,
             "test": [
              0.5154823957
             ]
            },
            {
             "iteration": 1852,
             "learn": [
              0.5126757068
             ],
             "passed_time": 161.5708523,
             "remaining_time": 12.81754738,
             "test": [
              0.5154764452
             ]
            },
            {
             "iteration": 1853,
             "learn": [
              0.5126723111
             ],
             "passed_time": 161.6624672,
             "remaining_time": 12.7307013,
             "test": [
              0.5154723818
             ]
            },
            {
             "iteration": 1854,
             "learn": [
              0.5126702847
             ],
             "passed_time": 161.7416429,
             "remaining_time": 12.64287775,
             "test": [
              0.5154750477
             ]
            },
            {
             "iteration": 1855,
             "learn": [
              0.5126678948
             ],
             "passed_time": 161.8206555,
             "remaining_time": 12.55505086,
             "test": [
              0.5154726834
             ]
            },
            {
             "iteration": 1856,
             "learn": [
              0.5126661207
             ],
             "passed_time": 161.9020474,
             "remaining_time": 12.46741668,
             "test": [
              0.5154729389
             ]
            },
            {
             "iteration": 1857,
             "learn": [
              0.5126606543
             ],
             "passed_time": 161.9778285,
             "remaining_time": 12.37936041,
             "test": [
              0.5154677223
             ]
            },
            {
             "iteration": 1858,
             "learn": [
              0.5126559417
             ],
             "passed_time": 162.0749061,
             "remaining_time": 12.29293263,
             "test": [
              0.5154644239
             ]
            },
            {
             "iteration": 1859,
             "learn": [
              0.5126550146
             ],
             "passed_time": 162.1503469,
             "remaining_time": 12.20486482,
             "test": [
              0.5154654935
             ]
            },
            {
             "iteration": 1860,
             "learn": [
              0.5126494864
             ],
             "passed_time": 162.2384326,
             "remaining_time": 12.11775504,
             "test": [
              0.5154590117
             ]
            },
            {
             "iteration": 1861,
             "learn": [
              0.5126484868
             ],
             "passed_time": 162.3064215,
             "remaining_time": 12.02915476,
             "test": [
              0.5154591902
             ]
            },
            {
             "iteration": 1862,
             "learn": [
              0.5126474866
             ],
             "passed_time": 162.3724368,
             "remaining_time": 11.94043148,
             "test": [
              0.515459303
             ]
            },
            {
             "iteration": 1863,
             "learn": [
              0.5126467563
             ],
             "passed_time": 162.4644201,
             "remaining_time": 11.85362722,
             "test": [
              0.5154595786
             ]
            },
            {
             "iteration": 1864,
             "learn": [
              0.512645948
             ],
             "passed_time": 162.5743913,
             "remaining_time": 11.76811948,
             "test": [
              0.5154597212
             ]
            },
            {
             "iteration": 1865,
             "learn": [
              0.5126421815
             ],
             "passed_time": 162.6761385,
             "remaining_time": 11.68199494,
             "test": [
              0.5154556947
             ]
            },
            {
             "iteration": 1866,
             "learn": [
              0.5126409681
             ],
             "passed_time": 162.7539749,
             "remaining_time": 11.59415033,
             "test": [
              0.5154549755
             ]
            },
            {
             "iteration": 1867,
             "learn": [
              0.5126402523
             ],
             "passed_time": 162.8451817,
             "remaining_time": 11.50726124,
             "test": [
              0.5154552512
             ]
            },
            {
             "iteration": 1868,
             "learn": [
              0.512638923
             ],
             "passed_time": 162.9365288,
             "remaining_time": 11.42037735,
             "test": [
              0.5154549898
             ]
            },
            {
             "iteration": 1869,
             "learn": [
              0.5126378872
             ],
             "passed_time": 163.017309,
             "remaining_time": 11.3327541,
             "test": [
              0.5154547328
             ]
            },
            {
             "iteration": 1870,
             "learn": [
              0.5126350599
             ],
             "passed_time": 163.0957319,
             "remaining_time": 11.24497564,
             "test": [
              0.5154529727
             ]
            },
            {
             "iteration": 1871,
             "learn": [
              0.5126346816
             ],
             "passed_time": 163.1697943,
             "remaining_time": 11.15690901,
             "test": [
              0.5154530792
             ]
            },
            {
             "iteration": 1872,
             "learn": [
              0.5126269061
             ],
             "passed_time": 163.271593,
             "remaining_time": 11.07073802,
             "test": [
              0.5154478138
             ]
            },
            {
             "iteration": 1873,
             "learn": [
              0.5126181532
             ],
             "passed_time": 163.3604249,
             "remaining_time": 10.98367852,
             "test": [
              0.5154387156
             ]
            },
            {
             "iteration": 1874,
             "learn": [
              0.5126175823
             ],
             "passed_time": 163.4336542,
             "remaining_time": 10.89557695,
             "test": [
              0.5154386662
             ]
            },
            {
             "iteration": 1875,
             "learn": [
              0.5126155598
             ],
             "passed_time": 163.5025902,
             "remaining_time": 10.80720745,
             "test": [
              0.515438163
             ]
            },
            {
             "iteration": 1876,
             "learn": [
              0.5126139486
             ],
             "passed_time": 163.5766909,
             "remaining_time": 10.71919711,
             "test": [
              0.5154374654
             ]
            },
            {
             "iteration": 1877,
             "learn": [
              0.5126124602
             ],
             "passed_time": 163.6941054,
             "remaining_time": 10.63401537,
             "test": [
              0.5154369164
             ]
            },
            {
             "iteration": 1878,
             "learn": [
              0.5126112619
             ],
             "passed_time": 163.79206,
             "remaining_time": 10.54754617,
             "test": [
              0.5154367812
             ]
            },
            {
             "iteration": 1879,
             "learn": [
              0.5126109917
             ],
             "passed_time": 163.8784217,
             "remaining_time": 10.46032479,
             "test": [
              0.5154366621
             ]
            },
            {
             "iteration": 1880,
             "learn": [
              0.5126099941
             ],
             "passed_time": 163.9507427,
             "remaining_time": 10.37221604,
             "test": [
              0.5154363097
             ]
            },
            {
             "iteration": 1881,
             "learn": [
              0.5126093191
             ],
             "passed_time": 164.0199139,
             "remaining_time": 10.28392659,
             "test": [
              0.5154358358
             ]
            },
            {
             "iteration": 1882,
             "learn": [
              0.5125992745
             ],
             "passed_time": 164.1038637,
             "remaining_time": 10.19657571,
             "test": [
              0.5154252074
             ]
            },
            {
             "iteration": 1883,
             "learn": [
              0.5125944318
             ],
             "passed_time": 164.1905455,
             "remaining_time": 10.10939664,
             "test": [
              0.5154209232
             ]
            },
            {
             "iteration": 1884,
             "learn": [
              0.5125940982
             ],
             "passed_time": 164.259337,
             "remaining_time": 10.02112666,
             "test": [
              0.5154217162
             ]
            },
            {
             "iteration": 1885,
             "learn": [
              0.5125844729
             ],
             "passed_time": 164.360599,
             "remaining_time": 9.934840023,
             "test": [
              0.5154102975
             ]
            },
            {
             "iteration": 1886,
             "learn": [
              0.5125843142
             ],
             "passed_time": 164.4269044,
             "remaining_time": 9.846444194,
             "test": [
              0.5154102425
             ]
            },
            {
             "iteration": 1887,
             "learn": [
              0.5125816188
             ],
             "passed_time": 164.5082881,
             "remaining_time": 9.758966245,
             "test": [
              0.5154103264
             ]
            },
            {
             "iteration": 1888,
             "learn": [
              0.5125801517
             ],
             "passed_time": 164.5905761,
             "remaining_time": 9.671547882,
             "test": [
              0.5154122906
             ]
            },
            {
             "iteration": 1889,
             "learn": [
              0.5125790307
             ],
             "passed_time": 164.6983265,
             "remaining_time": 9.585616884,
             "test": [
              0.5154133151
             ]
            },
            {
             "iteration": 1890,
             "learn": [
              0.512577576
             ],
             "passed_time": 164.8160407,
             "remaining_time": 9.500237141,
             "test": [
              0.5154110176
             ]
            },
            {
             "iteration": 1891,
             "learn": [
              0.5125769198
             ],
             "passed_time": 164.8945934,
             "remaining_time": 9.412587781,
             "test": [
              0.5154110859
             ]
            },
            {
             "iteration": 1892,
             "learn": [
              0.51257673
             ],
             "passed_time": 164.9982855,
             "remaining_time": 9.326369015,
             "test": [
              0.5154110965
             ]
            },
            {
             "iteration": 1893,
             "learn": [
              0.5125756542
             ],
             "passed_time": 165.1024359,
             "remaining_time": 9.24015745,
             "test": [
              0.5154103978
             ]
            },
            {
             "iteration": 1894,
             "learn": [
              0.512573948
             ],
             "passed_time": 165.1853205,
             "remaining_time": 9.15274863,
             "test": [
              0.5154103771
             ]
            },
            {
             "iteration": 1895,
             "learn": [
              0.5125712569
             ],
             "passed_time": 165.2591923,
             "remaining_time": 9.064850212,
             "test": [
              0.5154102305
             ]
            },
            {
             "iteration": 1896,
             "learn": [
              0.5125705839
             ],
             "passed_time": 165.3351416,
             "remaining_time": 8.97707938,
             "test": [
              0.5154106744
             ]
            },
            {
             "iteration": 1897,
             "learn": [
              0.5125682956
             ],
             "passed_time": 165.4246146,
             "remaining_time": 8.890047784,
             "test": [
              0.5154064654
             ]
            },
            {
             "iteration": 1898,
             "learn": [
              0.5125646161
             ],
             "passed_time": 165.5249686,
             "remaining_time": 8.803592325,
             "test": [
              0.5154038176
             ]
            },
            {
             "iteration": 1899,
             "learn": [
              0.5125637731
             ],
             "passed_time": 165.5944041,
             "remaining_time": 8.71549495,
             "test": [
              0.5154042613
             ]
            },
            {
             "iteration": 1900,
             "learn": [
              0.5125621421
             ],
             "passed_time": 165.6673123,
             "remaining_time": 8.627598064,
             "test": [
              0.5154032599
             ]
            },
            {
             "iteration": 1901,
             "learn": [
              0.5125523939
             ],
             "passed_time": 165.7603591,
             "remaining_time": 8.540754569,
             "test": [
              0.5153929346
             ]
            },
            {
             "iteration": 1902,
             "learn": [
              0.5125512579
             ],
             "passed_time": 165.8592787,
             "remaining_time": 8.454203905,
             "test": [
              0.5153925525
             ]
            },
            {
             "iteration": 1903,
             "learn": [
              0.5125507228
             ],
             "passed_time": 165.9282184,
             "remaining_time": 8.366128657,
             "test": [
              0.5153929838
             ]
            },
            {
             "iteration": 1904,
             "learn": [
              0.5125497889
             ],
             "passed_time": 165.9978177,
             "remaining_time": 8.278106394,
             "test": [
              0.5153921277
             ]
            },
            {
             "iteration": 1905,
             "learn": [
              0.5125481951
             ],
             "passed_time": 166.083105,
             "remaining_time": 8.190877163,
             "test": [
              0.5153916767
             ]
            },
            {
             "iteration": 1906,
             "learn": [
              0.5125450292
             ],
             "passed_time": 166.17232,
             "remaining_time": 8.103841511,
             "test": [
              0.5153907759
             ]
            },
            {
             "iteration": 1907,
             "learn": [
              0.5125412847
             ],
             "passed_time": 166.2766109,
             "remaining_time": 8.017530504,
             "test": [
              0.5153888891
             ]
            },
            {
             "iteration": 1908,
             "learn": [
              0.5125407613
             ],
             "passed_time": 166.3600305,
             "remaining_time": 7.93020575,
             "test": [
              0.5153884463
             ]
            },
            {
             "iteration": 1909,
             "learn": [
              0.5125375474
             ],
             "passed_time": 166.4519124,
             "remaining_time": 7.843283831,
             "test": [
              0.5153860224
             ]
            },
            {
             "iteration": 1910,
             "learn": [
              0.5125364207
             ],
             "passed_time": 166.5332924,
             "remaining_time": 7.755867621,
             "test": [
              0.5153857902
             ]
            },
            {
             "iteration": 1911,
             "learn": [
              0.5125355117
             ],
             "passed_time": 166.6073877,
             "remaining_time": 7.668122445,
             "test": [
              0.5153860478
             ]
            },
            {
             "iteration": 1912,
             "learn": [
              0.512535135
             ],
             "passed_time": 166.6813073,
             "remaining_time": 7.580383552,
             "test": [
              0.5153861738
             ]
            },
            {
             "iteration": 1913,
             "learn": [
              0.5125332758
             ],
             "passed_time": 166.7651827,
             "remaining_time": 7.493106431,
             "test": [
              0.5153867995
             ]
            },
            {
             "iteration": 1914,
             "learn": [
              0.5125309954
             ],
             "passed_time": 166.893518,
             "remaining_time": 7.407806281,
             "test": [
              0.5153839601
             ]
            },
            {
             "iteration": 1915,
             "learn": [
              0.5125289829
             ],
             "passed_time": 166.992415,
             "remaining_time": 7.321170595,
             "test": [
              0.5153789919
             ]
            },
            {
             "iteration": 1916,
             "learn": [
              0.5125280099
             ],
             "passed_time": 167.0730125,
             "remaining_time": 7.233729808,
             "test": [
              0.5153785978
             ]
            },
            {
             "iteration": 1917,
             "learn": [
              0.5125260499
             ],
             "passed_time": 167.1512709,
             "remaining_time": 7.146196149,
             "test": [
              0.5153812466
             ]
            },
            {
             "iteration": 1918,
             "learn": [
              0.5125225819
             ],
             "passed_time": 167.2302143,
             "remaining_time": 7.058701073,
             "test": [
              0.5153762569
             ]
            },
            {
             "iteration": 1919,
             "learn": [
              0.5125201162
             ],
             "passed_time": 167.3233618,
             "remaining_time": 6.971806741,
             "test": [
              0.5153748901
             ]
            },
            {
             "iteration": 1920,
             "learn": [
              0.5125141967
             ],
             "passed_time": 167.4020055,
             "remaining_time": 6.884309441,
             "test": [
              0.5153704833
             ]
            },
            {
             "iteration": 1921,
             "learn": [
              0.5125138722
             ],
             "passed_time": 167.472884,
             "remaining_time": 6.796506219,
             "test": [
              0.5153712686
             ]
            },
            {
             "iteration": 1922,
             "learn": [
              0.5125121565
             ],
             "passed_time": 167.5476022,
             "remaining_time": 6.708874346,
             "test": [
              0.5153715517
             ]
            },
            {
             "iteration": 1923,
             "learn": [
              0.5125109057
             ],
             "passed_time": 167.6510363,
             "remaining_time": 6.622390207,
             "test": [
              0.5153708253
             ]
            },
            {
             "iteration": 1924,
             "learn": [
              0.5125059673
             ],
             "passed_time": 167.7541965,
             "remaining_time": 6.535877787,
             "test": [
              0.5153652774
             ]
            },
            {
             "iteration": 1925,
             "learn": [
              0.5125039124
             ],
             "passed_time": 167.8521396,
             "remaining_time": 6.449147627,
             "test": [
              0.515365705
             ]
            },
            {
             "iteration": 1926,
             "learn": [
              0.5125019281
             ],
             "passed_time": 167.9692456,
             "remaining_time": 6.363131775,
             "test": [
              0.5153664741
             ]
            },
            {
             "iteration": 1927,
             "learn": [
              0.5125005883
             ],
             "passed_time": 168.0387314,
             "remaining_time": 6.275305322,
             "test": [
              0.5153653417
             ]
            },
            {
             "iteration": 1928,
             "learn": [
              0.5124990579
             ],
             "passed_time": 168.1224993,
             "remaining_time": 6.188023561,
             "test": [
              0.5153640959
             ]
            },
            {
             "iteration": 1929,
             "learn": [
              0.5124982859
             ],
             "passed_time": 168.2002728,
             "remaining_time": 6.100528027,
             "test": [
              0.515364101
             ]
            },
            {
             "iteration": 1930,
             "learn": [
              0.5124947548
             ],
             "passed_time": 168.2872967,
             "remaining_time": 6.013373108,
             "test": [
              0.515360313
             ]
            },
            {
             "iteration": 1931,
             "learn": [
              0.5124937843
             ],
             "passed_time": 168.3562252,
             "remaining_time": 5.925581427,
             "test": [
              0.5153605411
             ]
            },
            {
             "iteration": 1932,
             "learn": [
              0.5124931319
             ],
             "passed_time": 168.4360045,
             "remaining_time": 5.838185359,
             "test": [
              0.5153609845
             ]
            },
            {
             "iteration": 1933,
             "learn": [
              0.5124892751
             ],
             "passed_time": 168.5316564,
             "remaining_time": 5.751338843,
             "test": [
              0.5153560754
             ]
            },
            {
             "iteration": 1934,
             "learn": [
              0.5124857517
             ],
             "passed_time": 168.6187367,
             "remaining_time": 5.66419529,
             "test": [
              0.5153519827
             ]
            },
            {
             "iteration": 1935,
             "learn": [
              0.5124851596
             ],
             "passed_time": 168.7009701,
             "remaining_time": 5.576891574,
             "test": [
              0.5153518396
             ]
            },
            {
             "iteration": 1936,
             "learn": [
              0.5124846339
             ],
             "passed_time": 168.7761933,
             "remaining_time": 5.489365089,
             "test": [
              0.5153514474
             ]
            },
            {
             "iteration": 1937,
             "learn": [
              0.5124843713
             ],
             "passed_time": 168.8661676,
             "remaining_time": 5.402323214,
             "test": [
              0.5153512931
             ]
            },
            {
             "iteration": 1938,
             "learn": [
              0.5124836923
             ],
             "passed_time": 168.9412176,
             "remaining_time": 5.314808804,
             "test": [
              0.5153512115
             ]
            },
            {
             "iteration": 1939,
             "learn": [
              0.5124813503
             ],
             "passed_time": 169.0484771,
             "remaining_time": 5.228303415,
             "test": [
              0.5153497031
             ]
            },
            {
             "iteration": 1940,
             "learn": [
              0.512480338
             ],
             "passed_time": 169.1501266,
             "remaining_time": 5.141606116,
             "test": [
              0.5153494244
             ]
            },
            {
             "iteration": 1941,
             "learn": [
              0.5124781648
             ],
             "passed_time": 169.2265843,
             "remaining_time": 5.054141033,
             "test": [
              0.5153471236
             ]
            },
            {
             "iteration": 1942,
             "learn": [
              0.512477832
             ],
             "passed_time": 169.2965063,
             "remaining_time": 4.966495554,
             "test": [
              0.5153468048
             ]
            },
            {
             "iteration": 1943,
             "learn": [
              0.5124773977
             ],
             "passed_time": 169.3765407,
             "remaining_time": 4.879159608,
             "test": [
              0.5153465732
             ]
            },
            {
             "iteration": 1944,
             "learn": [
              0.512472819
             ],
             "passed_time": 169.4496275,
             "remaining_time": 4.791634712,
             "test": [
              0.5153404502
             ]
            },
            {
             "iteration": 1945,
             "learn": [
              0.5124720677
             ],
             "passed_time": 169.5173134,
             "remaining_time": 4.703974781,
             "test": [
              0.5153404538
             ]
            },
            {
             "iteration": 1946,
             "learn": [
              0.5124703287
             ],
             "passed_time": 169.5960461,
             "remaining_time": 4.616636079,
             "test": [
              0.5153396423
             ]
            },
            {
             "iteration": 1947,
             "learn": [
              0.5124683085
             ],
             "passed_time": 169.67728,
             "remaining_time": 4.529372978,
             "test": [
              0.5153363357
             ]
            },
            {
             "iteration": 1948,
             "learn": [
              0.5124669794
             ],
             "passed_time": 169.7534023,
             "remaining_time": 4.441982307,
             "test": [
              0.515336655
             ]
            },
            {
             "iteration": 1949,
             "learn": [
              0.5124662413
             ],
             "passed_time": 169.8254065,
             "remaining_time": 4.354497602,
             "test": [
              0.5153366596
             ]
            },
            {
             "iteration": 1950,
             "learn": [
              0.512464738
             ],
             "passed_time": 169.8938381,
             "remaining_time": 4.26693904,
             "test": [
              0.5153368016
             ]
            },
            {
             "iteration": 1951,
             "learn": [
              0.5124633777
             ],
             "passed_time": 169.9647397,
             "remaining_time": 4.179460811,
             "test": [
              0.5153370082
             ]
            },
            {
             "iteration": 1952,
             "learn": [
              0.5124615569
             ],
             "passed_time": 170.0664531,
             "remaining_time": 4.092741062,
             "test": [
              0.5153360365
             ]
            },
            {
             "iteration": 1953,
             "learn": [
              0.5124602886
             ],
             "passed_time": 170.1700645,
             "remaining_time": 4.006050649,
             "test": [
              0.5153346434
             ]
            },
            {
             "iteration": 1954,
             "learn": [
              0.5124593867
             ],
             "passed_time": 170.2361157,
             "remaining_time": 3.918478367,
             "test": [
              0.515334632
             ]
            },
            {
             "iteration": 1955,
             "learn": [
              0.5124561033
             ],
             "passed_time": 170.3266794,
             "remaining_time": 3.831479495,
             "test": [
              0.5153359325
             ]
            },
            {
             "iteration": 1956,
             "learn": [
              0.5124555717
             ],
             "passed_time": 170.4041719,
             "remaining_time": 3.744189775,
             "test": [
              0.515337092
             ]
            },
            {
             "iteration": 1957,
             "learn": [
              0.5124549705
             ],
             "passed_time": 170.4798102,
             "remaining_time": 3.65687029,
             "test": [
              0.5153368971
             ]
            },
            {
             "iteration": 1958,
             "learn": [
              0.5124548489
             ],
             "passed_time": 170.5441343,
             "remaining_time": 3.569325936,
             "test": [
              0.5153368762
             ]
            },
            {
             "iteration": 1959,
             "learn": [
              0.5124536715
             ],
             "passed_time": 170.6173038,
             "remaining_time": 3.481985793,
             "test": [
              0.5153370924
             ]
            },
            {
             "iteration": 1960,
             "learn": [
              0.5124528987
             ],
             "passed_time": 170.6861483,
             "remaining_time": 3.394574087,
             "test": [
              0.5153373964
             ]
            },
            {
             "iteration": 1961,
             "learn": [
              0.5124450437
             ],
             "passed_time": 170.785465,
             "remaining_time": 3.307771494,
             "test": [
              0.515331042
             ]
            },
            {
             "iteration": 1962,
             "learn": [
              0.5124368282
             ],
             "passed_time": 170.8745144,
             "remaining_time": 3.220762626,
             "test": [
              0.5153225825
             ]
            },
            {
             "iteration": 1963,
             "learn": [
              0.5124364484
             ],
             "passed_time": 170.943945,
             "remaining_time": 3.133392068,
             "test": [
              0.5153230004
             ]
            },
            {
             "iteration": 1964,
             "learn": [
              0.5124354237
             ],
             "passed_time": 171.0207877,
             "remaining_time": 3.046171791,
             "test": [
              0.515322983
             ]
            },
            {
             "iteration": 1965,
             "learn": [
              0.5124344081
             ],
             "passed_time": 171.1391862,
             "remaining_time": 2.959680738,
             "test": [
              0.5153234819
             ]
            },
            {
             "iteration": 1966,
             "learn": [
              0.5124306424
             ],
             "passed_time": 171.2439525,
             "remaining_time": 2.872928537,
             "test": [
              0.5153194525
             ]
            },
            {
             "iteration": 1967,
             "learn": [
              0.5124272654
             ],
             "passed_time": 171.333217,
             "remaining_time": 2.785905968,
             "test": [
              0.515315778
             ]
            },
            {
             "iteration": 1968,
             "learn": [
              0.5124267408
             ],
             "passed_time": 171.4063302,
             "remaining_time": 2.698626835,
             "test": [
              0.5153155477
             ]
            },
            {
             "iteration": 1969,
             "learn": [
              0.5124252441
             ],
             "passed_time": 171.4855353,
             "remaining_time": 2.611454853,
             "test": [
              0.5153143324
             ]
            },
            {
             "iteration": 1970,
             "learn": [
              0.5124241138
             ],
             "passed_time": 171.5572197,
             "remaining_time": 2.5241803,
             "test": [
              0.5153145626
             ]
            },
            {
             "iteration": 1971,
             "learn": [
              0.5124223004
             ],
             "passed_time": 171.6376596,
             "remaining_time": 2.437045876,
             "test": [
              0.5153148198
             ]
            },
            {
             "iteration": 1972,
             "learn": [
              0.5124186351
             ],
             "passed_time": 171.720276,
             "remaining_time": 2.349948024,
             "test": [
              0.5153145909
             ]
            },
            {
             "iteration": 1973,
             "learn": [
              0.5124161227
             ],
             "passed_time": 171.7975589,
             "remaining_time": 2.262784463,
             "test": [
              0.5153130403
             ]
            },
            {
             "iteration": 1974,
             "learn": [
              0.5124128942
             ],
             "passed_time": 171.8782028,
             "remaining_time": 2.175673453,
             "test": [
              0.5153109699
             ]
            },
            {
             "iteration": 1975,
             "learn": [
              0.5124100265
             ],
             "passed_time": 171.9837064,
             "remaining_time": 2.088870928,
             "test": [
              0.5153075517
             ]
            },
            {
             "iteration": 1976,
             "learn": [
              0.5124088514
             ],
             "passed_time": 172.0630317,
             "remaining_time": 2.001744931,
             "test": [
              0.5153074576
             ]
            },
            {
             "iteration": 1977,
             "learn": [
              0.5124020216
             ],
             "passed_time": 172.3021399,
             "remaining_time": 1.916403983,
             "test": [
              0.5153030028
             ]
            },
            {
             "iteration": 1978,
             "learn": [
              0.5124011227
             ],
             "passed_time": 172.4127687,
             "remaining_time": 1.829544286,
             "test": [
              0.5153021734
             ]
            },
            {
             "iteration": 1979,
             "learn": [
              0.5123950311
             ],
             "passed_time": 172.4999319,
             "remaining_time": 1.742423554,
             "test": [
              0.515297728
             ]
            },
            {
             "iteration": 1980,
             "learn": [
              0.5123936599
             ],
             "passed_time": 172.610844,
             "remaining_time": 1.655530558,
             "test": [
              0.5152972575
             ]
            },
            {
             "iteration": 1981,
             "learn": [
              0.512389726
             ],
             "passed_time": 172.703559,
             "remaining_time": 1.568448063,
             "test": [
              0.5152918712
             ]
            },
            {
             "iteration": 1982,
             "learn": [
              0.5123804273
             ],
             "passed_time": 172.8047648,
             "remaining_time": 1.481432678,
             "test": [
              0.515282008
             ]
            },
            {
             "iteration": 1983,
             "learn": [
              0.5123791716
             ],
             "passed_time": 172.8792816,
             "remaining_time": 1.394187755,
             "test": [
              0.5152805652
             ]
            },
            {
             "iteration": 1984,
             "learn": [
              0.5123780533
             ],
             "passed_time": 172.949183,
             "remaining_time": 1.306920778,
             "test": [
              0.5152797378
             ]
            },
            {
             "iteration": 1985,
             "learn": [
              0.5123764173
             ],
             "passed_time": 173.0179137,
             "remaining_time": 1.219663037,
             "test": [
              0.5152788222
             ]
            },
            {
             "iteration": 1986,
             "learn": [
              0.5123755362
             ],
             "passed_time": 173.094463,
             "remaining_time": 1.132475098,
             "test": [
              0.515279198
             ]
            },
            {
             "iteration": 1987,
             "learn": [
              0.5123749051
             ],
             "passed_time": 173.1721977,
             "remaining_time": 1.045305016,
             "test": [
              0.5152794068
             ]
            },
            {
             "iteration": 1988,
             "learn": [
              0.5123746347
             ],
             "passed_time": 173.2911943,
             "remaining_time": 0.958372618,
             "test": [
              0.5152799002
             ]
            },
            {
             "iteration": 1989,
             "learn": [
              0.5123737653
             ],
             "passed_time": 173.4081277,
             "remaining_time": 0.8713976264,
             "test": [
              0.5152791049
             ]
            },
            {
             "iteration": 1990,
             "learn": [
              0.5123730121
             ],
             "passed_time": 173.5588055,
             "remaining_time": 0.7845450775,
             "test": [
              0.5152791034
             ]
            },
            {
             "iteration": 1991,
             "learn": [
              0.5123718707
             ],
             "passed_time": 173.6538852,
             "remaining_time": 0.6974051614,
             "test": [
              0.5152786267
             ]
            },
            {
             "iteration": 1992,
             "learn": [
              0.5123701791
             ],
             "passed_time": 173.7910743,
             "remaining_time": 0.6104051782,
             "test": [
              0.5152783802
             ]
            },
            {
             "iteration": 1993,
             "learn": [
              0.5123680237
             ],
             "passed_time": 173.9034006,
             "remaining_time": 0.523280042,
             "test": [
              0.5152772554
             ]
            },
            {
             "iteration": 1994,
             "learn": [
              0.5123667801
             ],
             "passed_time": 174.0228707,
             "remaining_time": 0.4361475455,
             "test": [
              0.5152758831
             ]
            },
            {
             "iteration": 1995,
             "learn": [
              0.5123637674
             ],
             "passed_time": 174.1308085,
             "remaining_time": 0.348959536,
             "test": [
              0.5152719301
             ]
            },
            {
             "iteration": 1996,
             "learn": [
              0.5123634003
             ],
             "passed_time": 174.2270227,
             "remaining_time": 0.2617331337,
             "test": [
              0.5152722976
             ]
            },
            {
             "iteration": 1997,
             "learn": [
              0.5123608054
             ],
             "passed_time": 174.3404198,
             "remaining_time": 0.1745149347,
             "test": [
              0.5152720279
             ]
            },
            {
             "iteration": 1998,
             "learn": [
              0.5123576491
             ],
             "passed_time": 174.4385082,
             "remaining_time": 0.08726288555,
             "test": [
              0.5152683742
             ]
            },
            {
             "iteration": 1999,
             "learn": [
              0.5123559742
             ],
             "passed_time": 174.5733727,
             "remaining_time": 0,
             "test": [
              0.515267964
             ]
            }
           ],
           "meta": {
            "iteration_count": 2000,
            "launch_mode": "Train",
            "learn_metrics": [
             {
              "best_value": "Min",
              "name": "Logloss"
             }
            ],
            "learn_sets": [
             "learn"
            ],
            "name": "experiment",
            "parameters": "",
            "test_metrics": [
             {
              "best_value": "Min",
              "name": "Logloss"
             }
            ],
            "test_sets": [
             "test"
            ]
           }
          },
          "passed_iterations": 1999,
          "total_iterations": 2000
         },
         "name": "catboost_info",
         "path": "catboost_info"
        }
       },
       "layout": "IPY_MODEL_73480aadc4cb4586afd220c08da1212a"
      }
     },
     "5c94634dccb14f50883625c012745bdb": {
      "model_module": "@jupyter-widgets/controls",
      "model_module_version": "1.5.0",
      "model_name": "DescriptionStyleModel",
      "state": {
       "_model_module": "@jupyter-widgets/controls",
       "_model_module_version": "1.5.0",
       "_model_name": "DescriptionStyleModel",
       "_view_count": null,
       "_view_module": "@jupyter-widgets/base",
       "_view_module_version": "1.2.0",
       "_view_name": "StyleView",
       "description_width": ""
      }
     },
     "73480aadc4cb4586afd220c08da1212a": {
      "model_module": "@jupyter-widgets/base",
      "model_module_version": "1.2.0",
      "model_name": "LayoutModel",
      "state": {
       "_model_module": "@jupyter-widgets/base",
       "_model_module_version": "1.2.0",
       "_model_name": "LayoutModel",
       "_view_count": null,
       "_view_module": "@jupyter-widgets/base",
       "_view_module_version": "1.2.0",
       "_view_name": "LayoutView",
       "align_content": null,
       "align_items": null,
       "align_self": "stretch",
       "border": null,
       "bottom": null,
       "display": null,
       "flex": null,
       "flex_flow": null,
       "grid_area": null,
       "grid_auto_columns": null,
       "grid_auto_flow": null,
       "grid_auto_rows": null,
       "grid_column": null,
       "grid_gap": null,
       "grid_row": null,
       "grid_template_areas": null,
       "grid_template_columns": null,
       "grid_template_rows": null,
       "height": "500px",
       "justify_content": null,
       "justify_items": null,
       "left": null,
       "margin": null,
       "max_height": null,
       "max_width": null,
       "min_height": null,
       "min_width": null,
       "object_fit": null,
       "object_position": null,
       "order": null,
       "overflow": null,
       "overflow_x": null,
       "overflow_y": null,
       "padding": null,
       "right": null,
       "top": null,
       "visibility": null,
       "width": null
      }
     },
     "7f6a5bfe7cfc45f1afebfa25b62a7495": {
      "model_module": "@jupyter-widgets/controls",
      "model_module_version": "1.5.0",
      "model_name": "DescriptionStyleModel",
      "state": {
       "_model_module": "@jupyter-widgets/controls",
       "_model_module_version": "1.5.0",
       "_model_name": "DescriptionStyleModel",
       "_view_count": null,
       "_view_module": "@jupyter-widgets/base",
       "_view_module_version": "1.2.0",
       "_view_name": "StyleView",
       "description_width": ""
      }
     },
     "94f4910d077747e5969441400f54a651": {
      "model_module": "@jupyter-widgets/controls",
      "model_module_version": "1.5.0",
      "model_name": "HTMLModel",
      "state": {
       "_dom_classes": [],
       "_model_module": "@jupyter-widgets/controls",
       "_model_module_version": "1.5.0",
       "_model_name": "HTMLModel",
       "_view_count": null,
       "_view_module": "@jupyter-widgets/controls",
       "_view_module_version": "1.5.0",
       "_view_name": "HTMLView",
       "description": "",
       "description_tooltip": null,
       "layout": "IPY_MODEL_a3b63f5ddeb54001bfb085736b8b7796",
       "placeholder": "​",
       "style": "IPY_MODEL_7f6a5bfe7cfc45f1afebfa25b62a7495",
       "value": "100%"
      }
     },
     "a0423c4ec6d64030b850a761158348a6": {
      "model_module": "@jupyter-widgets/base",
      "model_module_version": "1.2.0",
      "model_name": "LayoutModel",
      "state": {
       "_model_module": "@jupyter-widgets/base",
       "_model_module_version": "1.2.0",
       "_model_name": "LayoutModel",
       "_view_count": null,
       "_view_module": "@jupyter-widgets/base",
       "_view_module_version": "1.2.0",
       "_view_name": "LayoutView",
       "align_content": null,
       "align_items": null,
       "align_self": null,
       "border": null,
       "bottom": null,
       "display": null,
       "flex": null,
       "flex_flow": null,
       "grid_area": null,
       "grid_auto_columns": null,
       "grid_auto_flow": null,
       "grid_auto_rows": null,
       "grid_column": null,
       "grid_gap": null,
       "grid_row": null,
       "grid_template_areas": null,
       "grid_template_columns": null,
       "grid_template_rows": null,
       "height": null,
       "justify_content": null,
       "justify_items": null,
       "left": null,
       "margin": null,
       "max_height": null,
       "max_width": null,
       "min_height": null,
       "min_width": null,
       "object_fit": null,
       "object_position": null,
       "order": null,
       "overflow": null,
       "overflow_x": null,
       "overflow_y": null,
       "padding": null,
       "right": null,
       "top": null,
       "visibility": null,
       "width": null
      }
     },
     "a32535a7b7c24aa2a9b5f44e6d0613be": {
      "model_module": "@jupyter-widgets/controls",
      "model_module_version": "1.5.0",
      "model_name": "ProgressStyleModel",
      "state": {
       "_model_module": "@jupyter-widgets/controls",
       "_model_module_version": "1.5.0",
       "_model_name": "ProgressStyleModel",
       "_view_count": null,
       "_view_module": "@jupyter-widgets/base",
       "_view_module_version": "1.2.0",
       "_view_name": "StyleView",
       "bar_color": null,
       "description_width": ""
      }
     },
     "a3b63f5ddeb54001bfb085736b8b7796": {
      "model_module": "@jupyter-widgets/base",
      "model_module_version": "1.2.0",
      "model_name": "LayoutModel",
      "state": {
       "_model_module": "@jupyter-widgets/base",
       "_model_module_version": "1.2.0",
       "_model_name": "LayoutModel",
       "_view_count": null,
       "_view_module": "@jupyter-widgets/base",
       "_view_module_version": "1.2.0",
       "_view_name": "LayoutView",
       "align_content": null,
       "align_items": null,
       "align_self": null,
       "border": null,
       "bottom": null,
       "display": null,
       "flex": null,
       "flex_flow": null,
       "grid_area": null,
       "grid_auto_columns": null,
       "grid_auto_flow": null,
       "grid_auto_rows": null,
       "grid_column": null,
       "grid_gap": null,
       "grid_row": null,
       "grid_template_areas": null,
       "grid_template_columns": null,
       "grid_template_rows": null,
       "height": null,
       "justify_content": null,
       "justify_items": null,
       "left": null,
       "margin": null,
       "max_height": null,
       "max_width": null,
       "min_height": null,
       "min_width": null,
       "object_fit": null,
       "object_position": null,
       "order": null,
       "overflow": null,
       "overflow_x": null,
       "overflow_y": null,
       "padding": null,
       "right": null,
       "top": null,
       "visibility": null,
       "width": null
      }
     },
     "bfaa89a2055a40ce930da0e7f38d6c4c": {
      "model_module": "@jupyter-widgets/base",
      "model_module_version": "1.2.0",
      "model_name": "LayoutModel",
      "state": {
       "_model_module": "@jupyter-widgets/base",
       "_model_module_version": "1.2.0",
       "_model_name": "LayoutModel",
       "_view_count": null,
       "_view_module": "@jupyter-widgets/base",
       "_view_module_version": "1.2.0",
       "_view_name": "LayoutView",
       "align_content": null,
       "align_items": null,
       "align_self": null,
       "border": null,
       "bottom": null,
       "display": null,
       "flex": null,
       "flex_flow": null,
       "grid_area": null,
       "grid_auto_columns": null,
       "grid_auto_flow": null,
       "grid_auto_rows": null,
       "grid_column": null,
       "grid_gap": null,
       "grid_row": null,
       "grid_template_areas": null,
       "grid_template_columns": null,
       "grid_template_rows": null,
       "height": null,
       "justify_content": null,
       "justify_items": null,
       "left": null,
       "margin": null,
       "max_height": null,
       "max_width": null,
       "min_height": null,
       "min_width": null,
       "object_fit": null,
       "object_position": null,
       "order": null,
       "overflow": null,
       "overflow_x": null,
       "overflow_y": null,
       "padding": null,
       "right": null,
       "top": null,
       "visibility": null,
       "width": null
      }
     },
     "f0e4c9dd3c5f45fc9634edc1b0b94972": {
      "model_module": "@jupyter-widgets/base",
      "model_module_version": "1.2.0",
      "model_name": "LayoutModel",
      "state": {
       "_model_module": "@jupyter-widgets/base",
       "_model_module_version": "1.2.0",
       "_model_name": "LayoutModel",
       "_view_count": null,
       "_view_module": "@jupyter-widgets/base",
       "_view_module_version": "1.2.0",
       "_view_name": "LayoutView",
       "align_content": null,
       "align_items": null,
       "align_self": null,
       "border": null,
       "bottom": null,
       "display": null,
       "flex": null,
       "flex_flow": null,
       "grid_area": null,
       "grid_auto_columns": null,
       "grid_auto_flow": null,
       "grid_auto_rows": null,
       "grid_column": null,
       "grid_gap": null,
       "grid_row": null,
       "grid_template_areas": null,
       "grid_template_columns": null,
       "grid_template_rows": null,
       "height": null,
       "justify_content": null,
       "justify_items": null,
       "left": null,
       "margin": null,
       "max_height": null,
       "max_width": null,
       "min_height": null,
       "min_width": null,
       "object_fit": null,
       "object_position": null,
       "order": null,
       "overflow": null,
       "overflow_x": null,
       "overflow_y": null,
       "padding": null,
       "right": null,
       "top": null,
       "visibility": null,
       "width": null
      }
     }
    },
    "version_major": 2,
    "version_minor": 0
   }
  }
 },
 "nbformat": 4,
 "nbformat_minor": 5
}